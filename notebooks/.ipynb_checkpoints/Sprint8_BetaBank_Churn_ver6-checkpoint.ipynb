{
 "cells": [
  {
   "cell_type": "markdown",
   "metadata": {},
   "source": [
    "Please find my comments below - **I kindly ask that you do not move, modify, or delete them**.\n",
    "\n",
    "You can find my comments in green, yellow or red boxes like this:\n",
    "\n",
    "<div class=\"alert alert-block alert-success\">\n",
    "<b>Reviewer's comment</b> <a class=\"tocSkip\"></a>\n",
    "\n",
    "Success. Everything is done succesfully.\n",
    "</div>\n",
    "\n",
    "<div class=\"alert alert-block alert-warning\">\n",
    "<b>Reviewer's comment</b> <a class=\"tocSkip\"></a>\n",
    "\n",
    "Remarks. Some recommendations.\n",
    "</div>\n",
    "\n",
    "<div class=\"alert alert-block alert-danger\">\n",
    "\n",
    "<b>Reviewer's comment</b> <a class=\"tocSkip\"></a>\n",
    "\n",
    "Needs fixing. The block requires some corrections. Work can't be accepted with the red comments.\n",
    "</div>\n",
    "\n",
    "You can answer me by using this:\n",
    "\n",
    "<div class=\"alert alert-block alert-info\">\n",
    "<b>Student answer.</b> <a class=\"tocSkip\"></a>\n",
    "\n",
    "Text here.\n",
    "</div>"
   ]
  },
  {
   "cell_type": "markdown",
   "metadata": {},
   "source": [
    "<div class=\"alert alert-block alert-warning\">\n",
    "<b>Overall reviewer's comment</b> <a class=\"tocSkip\"></a>\n",
    "\n",
    "Hello Deborah,\n",
    "    \n",
    "You’ve submitted another project—great work! Your commitment to pushing through the challenges of this program is admirable.\n",
    "After reviewing your submission, I’ve returned it with some feedback to help you make the necessary improvements.\n",
    "\n",
    "What Was Great:\n",
    " - Outstanding data analysis!\n",
    " - Good project structure\n",
    " - Deep conclusions\n",
    "\n",
    "Areas to Improve:\n",
    " - We do not need display() in Jupyter for dataframes\n",
    " - We need to split data into train, val, test if we use hyperparameters tuning (to avoid overfitting)\n",
    " - Our recommendation is to rerun whole notebook before submitting to avoid unexpected bugs =)\n",
    "    \n",
    "    \n",
    "Please check my comments below.\n",
    "    \n",
    "Keep in mind that revisions are a normal and valuable part of the learning process. Use this feedback to refine your work and resubmit when you’re ready. I know you’re capable of great things, and I’m here to support you every step of the way. Keep going—you’re doing a great job! 🏄\n",
    "\n",
    "</div>"
   ]
  },
  {
   "cell_type": "markdown",
   "metadata": {},
   "source": [
    "<div class=\"alert alert-block alert-warning\">\n",
    "<b>Overall reviewer's comment v2</b> <a class=\"tocSkip\"></a>\n",
    "\n",
    "Thank you for correcting train val test split!\n",
    "    \n",
    "However, there are still some errors. Please check my comments.\n",
    "    \n",
    "Also, we need to check our best model on test dataset (we need to get F1 > 0.59)\n",
    "</div>"
   ]
  },
  {
   "cell_type": "markdown",
   "metadata": {},
   "source": [
    "<div class=\"alert alert-block alert-info\">\n",
    "<b>Deb's comments (ver 1):</b>\n",
    "<br>\n",
    "<b>Thanks for reviewing my project.</b>\n",
    "<br>\n",
    "<br>\n",
    "- I used display, instead of print, because if there are many columns, print will put some columns on the next line, and it makes it hard to read.\n",
    "<br>\n",
    "<br>\n",
    "- I have split the data in 3 sets for this next version.\n",
    "<br>\n",
    "<br>\n",
    "- Also, I did rerun the whole notebook, and then save, before submitting. I did not have any cells with errors. Did you?\n",
    "<a class=\"tocSkip\"></a>"
   ]
  },
  {
   "cell_type": "markdown",
   "metadata": {},
   "source": [
    "<div class=\"alert alert-block alert-info\">\n",
    "<b>Deb's comment #2:</b>\n",
    "- The TT site did not save out some of my fixes, nor my ver 1 comments to you. So, I'm cutting-n-pasting comments and fixes back in, from my ver 2 local copy.<a class=\"tocSkip\"></a>"
   ]
  },
  {
   "cell_type": "markdown",
   "metadata": {},
   "source": [
    "<div class=\"alert alert-block alert-warning\">\n",
    "<b>Overall reviewer's comment v3</b> <a class=\"tocSkip\"></a>\n",
    "\n",
    "Could you please reload correct notebook one more time? This version has an error in 108 cell (NameError: name 'target_pred_constant' is not defined).\n",
    "    \n",
    "Also, we need to check our best model on **test** dataset (F1 metric).\n",
    "</div>"
   ]
  },
  {
   "cell_type": "markdown",
   "metadata": {},
   "source": [
    "<div class=\"alert alert-block alert-info\">\n",
    "<b>Deb's comment #3:</b>\n",
    "- Yes. <a class=\"tocSkip\"></a>"
   ]
  },
  {
   "cell_type": "markdown",
   "metadata": {},
   "source": [
    "# Beta Bank Churn, by Deborah Thomas"
   ]
  },
  {
   "cell_type": "markdown",
   "metadata": {},
   "source": [
    "## <div style=\"color: red; border: 2px solid yellow; display: inline-block;\">Introduction</div>\n",
    "\n",
    "- I will develop a model, that will analyze bank customers' data, to predict whether a customer will leave Beta Bank soon.\n",
    "- I will use evaluation metrics to test the model."
   ]
  },
  {
   "cell_type": "markdown",
   "metadata": {},
   "source": [
    "## <div style=\"color: red; border: 2px solid yellow; display: inline-block;\">Import Libraries</div>"
   ]
  },
  {
   "cell_type": "code",
   "execution_count": 30,
   "metadata": {},
   "outputs": [],
   "source": [
    "import pandas as pd\n",
    "import numpy as np\n",
    "\n",
    "from sklearn.tree import DecisionTreeClassifier\n",
    "from sklearn.linear_model import LogisticRegression\n",
    "from sklearn.ensemble import RandomForestClassifier\n",
    "\n",
    "\n",
    "from sklearn.model_selection import train_test_split\n",
    "\n",
    "from sklearn.metrics import accuracy_score\n",
    "from sklearn.metrics import mean_squared_error\n",
    "from sklearn.preprocessing import LabelEncoder\n",
    "\n",
    "from sklearn.metrics import precision_score, recall_score, f1_score, confusion_matrix, roc_auc_score, roc_curve\n",
    "\n",
    "from sklearn.utils import resample\n",
    "from sklearn.preprocessing import StandardScaler\n",
    "\n",
    "import plotly.express as px"
   ]
  },
  {
   "cell_type": "markdown",
   "metadata": {},
   "source": [
    "## <div style=\"color: red; border: 2px solid yellow; display: inline-block;\">Download the Data</div>"
   ]
  },
  {
   "cell_type": "code",
   "execution_count": 33,
   "metadata": {},
   "outputs": [
    {
     "data": {
      "text/html": [
       "<div>\n",
       "<style scoped>\n",
       "    .dataframe tbody tr th:only-of-type {\n",
       "        vertical-align: middle;\n",
       "    }\n",
       "\n",
       "    .dataframe tbody tr th {\n",
       "        vertical-align: top;\n",
       "    }\n",
       "\n",
       "    .dataframe thead th {\n",
       "        text-align: right;\n",
       "    }\n",
       "</style>\n",
       "<table border=\"1\" class=\"dataframe\">\n",
       "  <thead>\n",
       "    <tr style=\"text-align: right;\">\n",
       "      <th></th>\n",
       "      <th>RowNumber</th>\n",
       "      <th>CustomerId</th>\n",
       "      <th>Surname</th>\n",
       "      <th>CreditScore</th>\n",
       "      <th>Geography</th>\n",
       "      <th>Gender</th>\n",
       "      <th>Age</th>\n",
       "      <th>Tenure</th>\n",
       "      <th>Balance</th>\n",
       "      <th>NumOfProducts</th>\n",
       "      <th>HasCrCard</th>\n",
       "      <th>IsActiveMember</th>\n",
       "      <th>EstimatedSalary</th>\n",
       "      <th>Exited</th>\n",
       "    </tr>\n",
       "  </thead>\n",
       "  <tbody>\n",
       "    <tr>\n",
       "      <th>0</th>\n",
       "      <td>1</td>\n",
       "      <td>15634602</td>\n",
       "      <td>Hargrave</td>\n",
       "      <td>619</td>\n",
       "      <td>France</td>\n",
       "      <td>Female</td>\n",
       "      <td>42</td>\n",
       "      <td>2.0</td>\n",
       "      <td>0.00</td>\n",
       "      <td>1</td>\n",
       "      <td>1</td>\n",
       "      <td>1</td>\n",
       "      <td>101348.88</td>\n",
       "      <td>1</td>\n",
       "    </tr>\n",
       "    <tr>\n",
       "      <th>1</th>\n",
       "      <td>2</td>\n",
       "      <td>15647311</td>\n",
       "      <td>Hill</td>\n",
       "      <td>608</td>\n",
       "      <td>Spain</td>\n",
       "      <td>Female</td>\n",
       "      <td>41</td>\n",
       "      <td>1.0</td>\n",
       "      <td>83807.86</td>\n",
       "      <td>1</td>\n",
       "      <td>0</td>\n",
       "      <td>1</td>\n",
       "      <td>112542.58</td>\n",
       "      <td>0</td>\n",
       "    </tr>\n",
       "    <tr>\n",
       "      <th>2</th>\n",
       "      <td>3</td>\n",
       "      <td>15619304</td>\n",
       "      <td>Onio</td>\n",
       "      <td>502</td>\n",
       "      <td>France</td>\n",
       "      <td>Female</td>\n",
       "      <td>42</td>\n",
       "      <td>8.0</td>\n",
       "      <td>159660.80</td>\n",
       "      <td>3</td>\n",
       "      <td>1</td>\n",
       "      <td>0</td>\n",
       "      <td>113931.57</td>\n",
       "      <td>1</td>\n",
       "    </tr>\n",
       "    <tr>\n",
       "      <th>3</th>\n",
       "      <td>4</td>\n",
       "      <td>15701354</td>\n",
       "      <td>Boni</td>\n",
       "      <td>699</td>\n",
       "      <td>France</td>\n",
       "      <td>Female</td>\n",
       "      <td>39</td>\n",
       "      <td>1.0</td>\n",
       "      <td>0.00</td>\n",
       "      <td>2</td>\n",
       "      <td>0</td>\n",
       "      <td>0</td>\n",
       "      <td>93826.63</td>\n",
       "      <td>0</td>\n",
       "    </tr>\n",
       "    <tr>\n",
       "      <th>4</th>\n",
       "      <td>5</td>\n",
       "      <td>15737888</td>\n",
       "      <td>Mitchell</td>\n",
       "      <td>850</td>\n",
       "      <td>Spain</td>\n",
       "      <td>Female</td>\n",
       "      <td>43</td>\n",
       "      <td>2.0</td>\n",
       "      <td>125510.82</td>\n",
       "      <td>1</td>\n",
       "      <td>1</td>\n",
       "      <td>1</td>\n",
       "      <td>79084.10</td>\n",
       "      <td>0</td>\n",
       "    </tr>\n",
       "    <tr>\n",
       "      <th>5</th>\n",
       "      <td>6</td>\n",
       "      <td>15574012</td>\n",
       "      <td>Chu</td>\n",
       "      <td>645</td>\n",
       "      <td>Spain</td>\n",
       "      <td>Male</td>\n",
       "      <td>44</td>\n",
       "      <td>8.0</td>\n",
       "      <td>113755.78</td>\n",
       "      <td>2</td>\n",
       "      <td>1</td>\n",
       "      <td>0</td>\n",
       "      <td>149756.71</td>\n",
       "      <td>1</td>\n",
       "    </tr>\n",
       "    <tr>\n",
       "      <th>6</th>\n",
       "      <td>7</td>\n",
       "      <td>15592531</td>\n",
       "      <td>Bartlett</td>\n",
       "      <td>822</td>\n",
       "      <td>France</td>\n",
       "      <td>Male</td>\n",
       "      <td>50</td>\n",
       "      <td>7.0</td>\n",
       "      <td>0.00</td>\n",
       "      <td>2</td>\n",
       "      <td>1</td>\n",
       "      <td>1</td>\n",
       "      <td>10062.80</td>\n",
       "      <td>0</td>\n",
       "    </tr>\n",
       "    <tr>\n",
       "      <th>7</th>\n",
       "      <td>8</td>\n",
       "      <td>15656148</td>\n",
       "      <td>Obinna</td>\n",
       "      <td>376</td>\n",
       "      <td>Germany</td>\n",
       "      <td>Female</td>\n",
       "      <td>29</td>\n",
       "      <td>4.0</td>\n",
       "      <td>115046.74</td>\n",
       "      <td>4</td>\n",
       "      <td>1</td>\n",
       "      <td>0</td>\n",
       "      <td>119346.88</td>\n",
       "      <td>1</td>\n",
       "    </tr>\n",
       "    <tr>\n",
       "      <th>8</th>\n",
       "      <td>9</td>\n",
       "      <td>15792365</td>\n",
       "      <td>He</td>\n",
       "      <td>501</td>\n",
       "      <td>France</td>\n",
       "      <td>Male</td>\n",
       "      <td>44</td>\n",
       "      <td>4.0</td>\n",
       "      <td>142051.07</td>\n",
       "      <td>2</td>\n",
       "      <td>0</td>\n",
       "      <td>1</td>\n",
       "      <td>74940.50</td>\n",
       "      <td>0</td>\n",
       "    </tr>\n",
       "    <tr>\n",
       "      <th>9</th>\n",
       "      <td>10</td>\n",
       "      <td>15592389</td>\n",
       "      <td>H?</td>\n",
       "      <td>684</td>\n",
       "      <td>France</td>\n",
       "      <td>Male</td>\n",
       "      <td>27</td>\n",
       "      <td>2.0</td>\n",
       "      <td>134603.88</td>\n",
       "      <td>1</td>\n",
       "      <td>1</td>\n",
       "      <td>1</td>\n",
       "      <td>71725.73</td>\n",
       "      <td>0</td>\n",
       "    </tr>\n",
       "    <tr>\n",
       "      <th>10</th>\n",
       "      <td>11</td>\n",
       "      <td>15767821</td>\n",
       "      <td>Bearce</td>\n",
       "      <td>528</td>\n",
       "      <td>France</td>\n",
       "      <td>Male</td>\n",
       "      <td>31</td>\n",
       "      <td>6.0</td>\n",
       "      <td>102016.72</td>\n",
       "      <td>2</td>\n",
       "      <td>0</td>\n",
       "      <td>0</td>\n",
       "      <td>80181.12</td>\n",
       "      <td>0</td>\n",
       "    </tr>\n",
       "    <tr>\n",
       "      <th>11</th>\n",
       "      <td>12</td>\n",
       "      <td>15737173</td>\n",
       "      <td>Andrews</td>\n",
       "      <td>497</td>\n",
       "      <td>Spain</td>\n",
       "      <td>Male</td>\n",
       "      <td>24</td>\n",
       "      <td>3.0</td>\n",
       "      <td>0.00</td>\n",
       "      <td>2</td>\n",
       "      <td>1</td>\n",
       "      <td>0</td>\n",
       "      <td>76390.01</td>\n",
       "      <td>0</td>\n",
       "    </tr>\n",
       "    <tr>\n",
       "      <th>12</th>\n",
       "      <td>13</td>\n",
       "      <td>15632264</td>\n",
       "      <td>Kay</td>\n",
       "      <td>476</td>\n",
       "      <td>France</td>\n",
       "      <td>Female</td>\n",
       "      <td>34</td>\n",
       "      <td>10.0</td>\n",
       "      <td>0.00</td>\n",
       "      <td>2</td>\n",
       "      <td>1</td>\n",
       "      <td>0</td>\n",
       "      <td>26260.98</td>\n",
       "      <td>0</td>\n",
       "    </tr>\n",
       "    <tr>\n",
       "      <th>13</th>\n",
       "      <td>14</td>\n",
       "      <td>15691483</td>\n",
       "      <td>Chin</td>\n",
       "      <td>549</td>\n",
       "      <td>France</td>\n",
       "      <td>Female</td>\n",
       "      <td>25</td>\n",
       "      <td>5.0</td>\n",
       "      <td>0.00</td>\n",
       "      <td>2</td>\n",
       "      <td>0</td>\n",
       "      <td>0</td>\n",
       "      <td>190857.79</td>\n",
       "      <td>0</td>\n",
       "    </tr>\n",
       "    <tr>\n",
       "      <th>14</th>\n",
       "      <td>15</td>\n",
       "      <td>15600882</td>\n",
       "      <td>Scott</td>\n",
       "      <td>635</td>\n",
       "      <td>Spain</td>\n",
       "      <td>Female</td>\n",
       "      <td>35</td>\n",
       "      <td>7.0</td>\n",
       "      <td>0.00</td>\n",
       "      <td>2</td>\n",
       "      <td>1</td>\n",
       "      <td>1</td>\n",
       "      <td>65951.65</td>\n",
       "      <td>0</td>\n",
       "    </tr>\n",
       "    <tr>\n",
       "      <th>15</th>\n",
       "      <td>16</td>\n",
       "      <td>15643966</td>\n",
       "      <td>Goforth</td>\n",
       "      <td>616</td>\n",
       "      <td>Germany</td>\n",
       "      <td>Male</td>\n",
       "      <td>45</td>\n",
       "      <td>3.0</td>\n",
       "      <td>143129.41</td>\n",
       "      <td>2</td>\n",
       "      <td>0</td>\n",
       "      <td>1</td>\n",
       "      <td>64327.26</td>\n",
       "      <td>0</td>\n",
       "    </tr>\n",
       "    <tr>\n",
       "      <th>16</th>\n",
       "      <td>17</td>\n",
       "      <td>15737452</td>\n",
       "      <td>Romeo</td>\n",
       "      <td>653</td>\n",
       "      <td>Germany</td>\n",
       "      <td>Male</td>\n",
       "      <td>58</td>\n",
       "      <td>1.0</td>\n",
       "      <td>132602.88</td>\n",
       "      <td>1</td>\n",
       "      <td>1</td>\n",
       "      <td>0</td>\n",
       "      <td>5097.67</td>\n",
       "      <td>1</td>\n",
       "    </tr>\n",
       "    <tr>\n",
       "      <th>17</th>\n",
       "      <td>18</td>\n",
       "      <td>15788218</td>\n",
       "      <td>Henderson</td>\n",
       "      <td>549</td>\n",
       "      <td>Spain</td>\n",
       "      <td>Female</td>\n",
       "      <td>24</td>\n",
       "      <td>9.0</td>\n",
       "      <td>0.00</td>\n",
       "      <td>2</td>\n",
       "      <td>1</td>\n",
       "      <td>1</td>\n",
       "      <td>14406.41</td>\n",
       "      <td>0</td>\n",
       "    </tr>\n",
       "    <tr>\n",
       "      <th>18</th>\n",
       "      <td>19</td>\n",
       "      <td>15661507</td>\n",
       "      <td>Muldrow</td>\n",
       "      <td>587</td>\n",
       "      <td>Spain</td>\n",
       "      <td>Male</td>\n",
       "      <td>45</td>\n",
       "      <td>6.0</td>\n",
       "      <td>0.00</td>\n",
       "      <td>1</td>\n",
       "      <td>0</td>\n",
       "      <td>0</td>\n",
       "      <td>158684.81</td>\n",
       "      <td>0</td>\n",
       "    </tr>\n",
       "    <tr>\n",
       "      <th>19</th>\n",
       "      <td>20</td>\n",
       "      <td>15568982</td>\n",
       "      <td>Hao</td>\n",
       "      <td>726</td>\n",
       "      <td>France</td>\n",
       "      <td>Female</td>\n",
       "      <td>24</td>\n",
       "      <td>6.0</td>\n",
       "      <td>0.00</td>\n",
       "      <td>2</td>\n",
       "      <td>1</td>\n",
       "      <td>1</td>\n",
       "      <td>54724.03</td>\n",
       "      <td>0</td>\n",
       "    </tr>\n",
       "  </tbody>\n",
       "</table>\n",
       "</div>"
      ],
      "text/plain": [
       "    RowNumber  CustomerId    Surname  CreditScore Geography  Gender  Age  \\\n",
       "0           1    15634602   Hargrave          619    France  Female   42   \n",
       "1           2    15647311       Hill          608     Spain  Female   41   \n",
       "2           3    15619304       Onio          502    France  Female   42   \n",
       "3           4    15701354       Boni          699    France  Female   39   \n",
       "4           5    15737888   Mitchell          850     Spain  Female   43   \n",
       "5           6    15574012        Chu          645     Spain    Male   44   \n",
       "6           7    15592531   Bartlett          822    France    Male   50   \n",
       "7           8    15656148     Obinna          376   Germany  Female   29   \n",
       "8           9    15792365         He          501    France    Male   44   \n",
       "9          10    15592389         H?          684    France    Male   27   \n",
       "10         11    15767821     Bearce          528    France    Male   31   \n",
       "11         12    15737173    Andrews          497     Spain    Male   24   \n",
       "12         13    15632264        Kay          476    France  Female   34   \n",
       "13         14    15691483       Chin          549    France  Female   25   \n",
       "14         15    15600882      Scott          635     Spain  Female   35   \n",
       "15         16    15643966    Goforth          616   Germany    Male   45   \n",
       "16         17    15737452      Romeo          653   Germany    Male   58   \n",
       "17         18    15788218  Henderson          549     Spain  Female   24   \n",
       "18         19    15661507    Muldrow          587     Spain    Male   45   \n",
       "19         20    15568982        Hao          726    France  Female   24   \n",
       "\n",
       "    Tenure    Balance  NumOfProducts  HasCrCard  IsActiveMember  \\\n",
       "0      2.0       0.00              1          1               1   \n",
       "1      1.0   83807.86              1          0               1   \n",
       "2      8.0  159660.80              3          1               0   \n",
       "3      1.0       0.00              2          0               0   \n",
       "4      2.0  125510.82              1          1               1   \n",
       "5      8.0  113755.78              2          1               0   \n",
       "6      7.0       0.00              2          1               1   \n",
       "7      4.0  115046.74              4          1               0   \n",
       "8      4.0  142051.07              2          0               1   \n",
       "9      2.0  134603.88              1          1               1   \n",
       "10     6.0  102016.72              2          0               0   \n",
       "11     3.0       0.00              2          1               0   \n",
       "12    10.0       0.00              2          1               0   \n",
       "13     5.0       0.00              2          0               0   \n",
       "14     7.0       0.00              2          1               1   \n",
       "15     3.0  143129.41              2          0               1   \n",
       "16     1.0  132602.88              1          1               0   \n",
       "17     9.0       0.00              2          1               1   \n",
       "18     6.0       0.00              1          0               0   \n",
       "19     6.0       0.00              2          1               1   \n",
       "\n",
       "    EstimatedSalary  Exited  \n",
       "0         101348.88       1  \n",
       "1         112542.58       0  \n",
       "2         113931.57       1  \n",
       "3          93826.63       0  \n",
       "4          79084.10       0  \n",
       "5         149756.71       1  \n",
       "6          10062.80       0  \n",
       "7         119346.88       1  \n",
       "8          74940.50       0  \n",
       "9          71725.73       0  \n",
       "10         80181.12       0  \n",
       "11         76390.01       0  \n",
       "12         26260.98       0  \n",
       "13        190857.79       0  \n",
       "14         65951.65       0  \n",
       "15         64327.26       0  \n",
       "16          5097.67       1  \n",
       "17         14406.41       0  \n",
       "18        158684.81       0  \n",
       "19         54724.03       0  "
      ]
     },
     "metadata": {},
     "output_type": "display_data"
    }
   ],
   "source": [
    "try:\n",
    "    churn = pd.read_csv('/datasets/Churn.csv')  # Attempt to read from the server path\n",
    "except FileNotFoundError:\n",
    "    churn = pd.read_csv('../datasets/Churn.csv')  # Fallback to the local path\n",
    "\n",
    "\n",
    "display(churn.head(20))"
   ]
  },
  {
   "cell_type": "markdown",
   "metadata": {},
   "source": [
    "## <div style=\"color: red; border: 2px solid yellow; display: inline-block;\">Clean the Data</div>"
   ]
  },
  {
   "cell_type": "markdown",
   "metadata": {},
   "source": [
    " ### <span style=\"color:red\">Rename columns to shorter names</span>"
   ]
  },
  {
   "cell_type": "code",
   "execution_count": 37,
   "metadata": {},
   "outputs": [],
   "source": [
    "churn.rename(columns={'RowNumber': 'Row#', 'CustomerId': 'CustID', 'Surname': 'Name', 'CreditScore': 'CredScore', 'Geography': 'Geo', 'NumOfProducts': 'NumProds', 'IsActiveMember': 'Active', 'EstimatedSalary': 'Salary', 'Exited': 'Churned'}, inplace=True)"
   ]
  },
  {
   "cell_type": "code",
   "execution_count": 39,
   "metadata": {},
   "outputs": [
    {
     "data": {
      "text/html": [
       "<div>\n",
       "<style scoped>\n",
       "    .dataframe tbody tr th:only-of-type {\n",
       "        vertical-align: middle;\n",
       "    }\n",
       "\n",
       "    .dataframe tbody tr th {\n",
       "        vertical-align: top;\n",
       "    }\n",
       "\n",
       "    .dataframe thead th {\n",
       "        text-align: right;\n",
       "    }\n",
       "</style>\n",
       "<table border=\"1\" class=\"dataframe\">\n",
       "  <thead>\n",
       "    <tr style=\"text-align: right;\">\n",
       "      <th></th>\n",
       "      <th>Row#</th>\n",
       "      <th>CustID</th>\n",
       "      <th>Name</th>\n",
       "      <th>CredScore</th>\n",
       "      <th>Geo</th>\n",
       "      <th>Gender</th>\n",
       "      <th>Age</th>\n",
       "      <th>Tenure</th>\n",
       "      <th>Balance</th>\n",
       "      <th>NumProds</th>\n",
       "      <th>HasCrCard</th>\n",
       "      <th>Active</th>\n",
       "      <th>Salary</th>\n",
       "      <th>Churned</th>\n",
       "    </tr>\n",
       "  </thead>\n",
       "  <tbody>\n",
       "    <tr>\n",
       "      <th>0</th>\n",
       "      <td>1</td>\n",
       "      <td>15634602</td>\n",
       "      <td>Hargrave</td>\n",
       "      <td>619</td>\n",
       "      <td>France</td>\n",
       "      <td>Female</td>\n",
       "      <td>42</td>\n",
       "      <td>2.0</td>\n",
       "      <td>0.00</td>\n",
       "      <td>1</td>\n",
       "      <td>1</td>\n",
       "      <td>1</td>\n",
       "      <td>101348.88</td>\n",
       "      <td>1</td>\n",
       "    </tr>\n",
       "    <tr>\n",
       "      <th>1</th>\n",
       "      <td>2</td>\n",
       "      <td>15647311</td>\n",
       "      <td>Hill</td>\n",
       "      <td>608</td>\n",
       "      <td>Spain</td>\n",
       "      <td>Female</td>\n",
       "      <td>41</td>\n",
       "      <td>1.0</td>\n",
       "      <td>83807.86</td>\n",
       "      <td>1</td>\n",
       "      <td>0</td>\n",
       "      <td>1</td>\n",
       "      <td>112542.58</td>\n",
       "      <td>0</td>\n",
       "    </tr>\n",
       "    <tr>\n",
       "      <th>2</th>\n",
       "      <td>3</td>\n",
       "      <td>15619304</td>\n",
       "      <td>Onio</td>\n",
       "      <td>502</td>\n",
       "      <td>France</td>\n",
       "      <td>Female</td>\n",
       "      <td>42</td>\n",
       "      <td>8.0</td>\n",
       "      <td>159660.80</td>\n",
       "      <td>3</td>\n",
       "      <td>1</td>\n",
       "      <td>0</td>\n",
       "      <td>113931.57</td>\n",
       "      <td>1</td>\n",
       "    </tr>\n",
       "  </tbody>\n",
       "</table>\n",
       "</div>"
      ],
      "text/plain": [
       "   Row#    CustID      Name  CredScore     Geo  Gender  Age  Tenure  \\\n",
       "0     1  15634602  Hargrave        619  France  Female   42     2.0   \n",
       "1     2  15647311      Hill        608   Spain  Female   41     1.0   \n",
       "2     3  15619304      Onio        502  France  Female   42     8.0   \n",
       "\n",
       "     Balance  NumProds  HasCrCard  Active     Salary  Churned  \n",
       "0       0.00         1          1       1  101348.88        1  \n",
       "1   83807.86         1          0       1  112542.58        0  \n",
       "2  159660.80         3          1       0  113931.57        1  "
      ]
     },
     "metadata": {},
     "output_type": "display_data"
    }
   ],
   "source": [
    "display(churn.head(3))"
   ]
  },
  {
   "cell_type": "markdown",
   "metadata": {},
   "source": [
    " ### <span style=\"color:red\">Active / Churned</span>"
   ]
  },
  {
   "cell_type": "code",
   "execution_count": 42,
   "metadata": {},
   "outputs": [
    {
     "name": "stdout",
     "output_type": "stream",
     "text": [
      "   Active  Churned\n",
      "0       1        1\n",
      "1       1        0\n",
      "2       0        1\n",
      "3       0        0\n",
      "4       1        0\n"
     ]
    }
   ],
   "source": [
    "print(churn[['Active', 'Churned']].head(5))"
   ]
  },
  {
   "cell_type": "markdown",
   "metadata": {},
   "source": [
    "#### This is interesting. There are some customers who have already churned, but are still active."
   ]
  },
  {
   "cell_type": "markdown",
   "metadata": {},
   "source": [
    "### <span style=\"color:red\">Name</span>"
   ]
  },
  {
   "cell_type": "code",
   "execution_count": 46,
   "metadata": {},
   "outputs": [
    {
     "data": {
      "text/html": [
       "<div>\n",
       "<style scoped>\n",
       "    .dataframe tbody tr th:only-of-type {\n",
       "        vertical-align: middle;\n",
       "    }\n",
       "\n",
       "    .dataframe tbody tr th {\n",
       "        vertical-align: top;\n",
       "    }\n",
       "\n",
       "    .dataframe thead th {\n",
       "        text-align: right;\n",
       "    }\n",
       "</style>\n",
       "<table border=\"1\" class=\"dataframe\">\n",
       "  <thead>\n",
       "    <tr style=\"text-align: right;\">\n",
       "      <th></th>\n",
       "      <th>Row#</th>\n",
       "      <th>CustID</th>\n",
       "      <th>Name</th>\n",
       "      <th>CredScore</th>\n",
       "      <th>Geo</th>\n",
       "      <th>Gender</th>\n",
       "      <th>Age</th>\n",
       "      <th>Tenure</th>\n",
       "      <th>Balance</th>\n",
       "      <th>NumProds</th>\n",
       "      <th>HasCrCard</th>\n",
       "      <th>Active</th>\n",
       "      <th>Salary</th>\n",
       "      <th>Churned</th>\n",
       "    </tr>\n",
       "  </thead>\n",
       "  <tbody>\n",
       "    <tr>\n",
       "      <th>52</th>\n",
       "      <td>53</td>\n",
       "      <td>15683553</td>\n",
       "      <td>O'Brien</td>\n",
       "      <td>788</td>\n",
       "      <td>France</td>\n",
       "      <td>Female</td>\n",
       "      <td>33</td>\n",
       "      <td>5.0</td>\n",
       "      <td>0.00</td>\n",
       "      <td>2</td>\n",
       "      <td>0</td>\n",
       "      <td>0</td>\n",
       "      <td>116978.19</td>\n",
       "      <td>0</td>\n",
       "    </tr>\n",
       "    <tr>\n",
       "      <th>58</th>\n",
       "      <td>59</td>\n",
       "      <td>15623944</td>\n",
       "      <td>T'ien</td>\n",
       "      <td>511</td>\n",
       "      <td>Spain</td>\n",
       "      <td>Female</td>\n",
       "      <td>66</td>\n",
       "      <td>4.0</td>\n",
       "      <td>0.00</td>\n",
       "      <td>1</td>\n",
       "      <td>1</td>\n",
       "      <td>0</td>\n",
       "      <td>1643.11</td>\n",
       "      <td>1</td>\n",
       "    </tr>\n",
       "    <tr>\n",
       "      <th>109</th>\n",
       "      <td>110</td>\n",
       "      <td>15744689</td>\n",
       "      <td>T'ang</td>\n",
       "      <td>479</td>\n",
       "      <td>Germany</td>\n",
       "      <td>Male</td>\n",
       "      <td>35</td>\n",
       "      <td>9.0</td>\n",
       "      <td>92833.89</td>\n",
       "      <td>1</td>\n",
       "      <td>1</td>\n",
       "      <td>0</td>\n",
       "      <td>99449.86</td>\n",
       "      <td>1</td>\n",
       "    </tr>\n",
       "    <tr>\n",
       "      <th>183</th>\n",
       "      <td>184</td>\n",
       "      <td>15810845</td>\n",
       "      <td>T'ang</td>\n",
       "      <td>636</td>\n",
       "      <td>France</td>\n",
       "      <td>Male</td>\n",
       "      <td>42</td>\n",
       "      <td>2.0</td>\n",
       "      <td>0.00</td>\n",
       "      <td>2</td>\n",
       "      <td>1</td>\n",
       "      <td>1</td>\n",
       "      <td>55470.78</td>\n",
       "      <td>0</td>\n",
       "    </tr>\n",
       "    <tr>\n",
       "      <th>186</th>\n",
       "      <td>187</td>\n",
       "      <td>15771977</td>\n",
       "      <td>T'ao</td>\n",
       "      <td>730</td>\n",
       "      <td>France</td>\n",
       "      <td>Female</td>\n",
       "      <td>39</td>\n",
       "      <td>1.0</td>\n",
       "      <td>99010.67</td>\n",
       "      <td>1</td>\n",
       "      <td>1</td>\n",
       "      <td>0</td>\n",
       "      <td>194945.80</td>\n",
       "      <td>0</td>\n",
       "    </tr>\n",
       "    <tr>\n",
       "      <th>226</th>\n",
       "      <td>227</td>\n",
       "      <td>15774393</td>\n",
       "      <td>Ch'ien</td>\n",
       "      <td>694</td>\n",
       "      <td>France</td>\n",
       "      <td>Female</td>\n",
       "      <td>30</td>\n",
       "      <td>9.0</td>\n",
       "      <td>0.00</td>\n",
       "      <td>2</td>\n",
       "      <td>1</td>\n",
       "      <td>1</td>\n",
       "      <td>26960.31</td>\n",
       "      <td>0</td>\n",
       "    </tr>\n",
       "    <tr>\n",
       "      <th>228</th>\n",
       "      <td>229</td>\n",
       "      <td>15637753</td>\n",
       "      <td>O'Sullivan</td>\n",
       "      <td>751</td>\n",
       "      <td>Germany</td>\n",
       "      <td>Male</td>\n",
       "      <td>50</td>\n",
       "      <td>2.0</td>\n",
       "      <td>96888.39</td>\n",
       "      <td>1</td>\n",
       "      <td>1</td>\n",
       "      <td>0</td>\n",
       "      <td>77206.25</td>\n",
       "      <td>1</td>\n",
       "    </tr>\n",
       "    <tr>\n",
       "      <th>265</th>\n",
       "      <td>266</td>\n",
       "      <td>15813163</td>\n",
       "      <td>Ch'iu</td>\n",
       "      <td>531</td>\n",
       "      <td>Spain</td>\n",
       "      <td>Female</td>\n",
       "      <td>36</td>\n",
       "      <td>9.0</td>\n",
       "      <td>99240.51</td>\n",
       "      <td>1</td>\n",
       "      <td>1</td>\n",
       "      <td>0</td>\n",
       "      <td>123137.01</td>\n",
       "      <td>0</td>\n",
       "    </tr>\n",
       "    <tr>\n",
       "      <th>279</th>\n",
       "      <td>280</td>\n",
       "      <td>15782210</td>\n",
       "      <td>K'ung</td>\n",
       "      <td>714</td>\n",
       "      <td>France</td>\n",
       "      <td>Male</td>\n",
       "      <td>46</td>\n",
       "      <td>1.0</td>\n",
       "      <td>0.00</td>\n",
       "      <td>1</td>\n",
       "      <td>1</td>\n",
       "      <td>0</td>\n",
       "      <td>152167.79</td>\n",
       "      <td>1</td>\n",
       "    </tr>\n",
       "    <tr>\n",
       "      <th>283</th>\n",
       "      <td>284</td>\n",
       "      <td>15699389</td>\n",
       "      <td>Ch'ien</td>\n",
       "      <td>807</td>\n",
       "      <td>France</td>\n",
       "      <td>Male</td>\n",
       "      <td>42</td>\n",
       "      <td>7.0</td>\n",
       "      <td>118274.71</td>\n",
       "      <td>1</td>\n",
       "      <td>1</td>\n",
       "      <td>1</td>\n",
       "      <td>25885.72</td>\n",
       "      <td>0</td>\n",
       "    </tr>\n",
       "    <tr>\n",
       "      <th>288</th>\n",
       "      <td>289</td>\n",
       "      <td>15727556</td>\n",
       "      <td>O'Donnell</td>\n",
       "      <td>744</td>\n",
       "      <td>Spain</td>\n",
       "      <td>Female</td>\n",
       "      <td>26</td>\n",
       "      <td>5.0</td>\n",
       "      <td>166297.89</td>\n",
       "      <td>1</td>\n",
       "      <td>1</td>\n",
       "      <td>1</td>\n",
       "      <td>181694.44</td>\n",
       "      <td>0</td>\n",
       "    </tr>\n",
       "    <tr>\n",
       "      <th>321</th>\n",
       "      <td>322</td>\n",
       "      <td>15678910</td>\n",
       "      <td>Ts'ai</td>\n",
       "      <td>680</td>\n",
       "      <td>France</td>\n",
       "      <td>Female</td>\n",
       "      <td>30</td>\n",
       "      <td>8.0</td>\n",
       "      <td>141441.75</td>\n",
       "      <td>1</td>\n",
       "      <td>1</td>\n",
       "      <td>1</td>\n",
       "      <td>16278.97</td>\n",
       "      <td>0</td>\n",
       "    </tr>\n",
       "    <tr>\n",
       "      <th>408</th>\n",
       "      <td>409</td>\n",
       "      <td>15701376</td>\n",
       "      <td>K'ung</td>\n",
       "      <td>668</td>\n",
       "      <td>Germany</td>\n",
       "      <td>Male</td>\n",
       "      <td>37</td>\n",
       "      <td>10.0</td>\n",
       "      <td>152958.29</td>\n",
       "      <td>2</td>\n",
       "      <td>1</td>\n",
       "      <td>1</td>\n",
       "      <td>159585.61</td>\n",
       "      <td>0</td>\n",
       "    </tr>\n",
       "    <tr>\n",
       "      <th>420</th>\n",
       "      <td>421</td>\n",
       "      <td>15810418</td>\n",
       "      <td>T'ang</td>\n",
       "      <td>756</td>\n",
       "      <td>Germany</td>\n",
       "      <td>Female</td>\n",
       "      <td>60</td>\n",
       "      <td>3.0</td>\n",
       "      <td>115924.89</td>\n",
       "      <td>1</td>\n",
       "      <td>1</td>\n",
       "      <td>0</td>\n",
       "      <td>93524.19</td>\n",
       "      <td>1</td>\n",
       "    </tr>\n",
       "    <tr>\n",
       "      <th>452</th>\n",
       "      <td>453</td>\n",
       "      <td>15710825</td>\n",
       "      <td>Ch'en</td>\n",
       "      <td>592</td>\n",
       "      <td>Spain</td>\n",
       "      <td>Male</td>\n",
       "      <td>31</td>\n",
       "      <td>7.0</td>\n",
       "      <td>110071.10</td>\n",
       "      <td>1</td>\n",
       "      <td>0</td>\n",
       "      <td>0</td>\n",
       "      <td>43921.36</td>\n",
       "      <td>0</td>\n",
       "    </tr>\n",
       "  </tbody>\n",
       "</table>\n",
       "</div>"
      ],
      "text/plain": [
       "     Row#    CustID        Name  CredScore      Geo  Gender  Age  Tenure  \\\n",
       "52     53  15683553     O'Brien        788   France  Female   33     5.0   \n",
       "58     59  15623944       T'ien        511    Spain  Female   66     4.0   \n",
       "109   110  15744689       T'ang        479  Germany    Male   35     9.0   \n",
       "183   184  15810845       T'ang        636   France    Male   42     2.0   \n",
       "186   187  15771977        T'ao        730   France  Female   39     1.0   \n",
       "226   227  15774393      Ch'ien        694   France  Female   30     9.0   \n",
       "228   229  15637753  O'Sullivan        751  Germany    Male   50     2.0   \n",
       "265   266  15813163       Ch'iu        531    Spain  Female   36     9.0   \n",
       "279   280  15782210       K'ung        714   France    Male   46     1.0   \n",
       "283   284  15699389      Ch'ien        807   France    Male   42     7.0   \n",
       "288   289  15727556   O'Donnell        744    Spain  Female   26     5.0   \n",
       "321   322  15678910       Ts'ai        680   France  Female   30     8.0   \n",
       "408   409  15701376       K'ung        668  Germany    Male   37    10.0   \n",
       "420   421  15810418       T'ang        756  Germany  Female   60     3.0   \n",
       "452   453  15710825       Ch'en        592    Spain    Male   31     7.0   \n",
       "\n",
       "       Balance  NumProds  HasCrCard  Active     Salary  Churned  \n",
       "52        0.00         2          0       0  116978.19        0  \n",
       "58        0.00         1          1       0    1643.11        1  \n",
       "109   92833.89         1          1       0   99449.86        1  \n",
       "183       0.00         2          1       1   55470.78        0  \n",
       "186   99010.67         1          1       0  194945.80        0  \n",
       "226       0.00         2          1       1   26960.31        0  \n",
       "228   96888.39         1          1       0   77206.25        1  \n",
       "265   99240.51         1          1       0  123137.01        0  \n",
       "279       0.00         1          1       0  152167.79        1  \n",
       "283  118274.71         1          1       1   25885.72        0  \n",
       "288  166297.89         1          1       1  181694.44        0  \n",
       "321  141441.75         1          1       1   16278.97        0  \n",
       "408  152958.29         2          1       1  159585.61        0  \n",
       "420  115924.89         1          1       0   93524.19        1  \n",
       "452  110071.10         1          0       0   43921.36        0  "
      ]
     },
     "metadata": {},
     "output_type": "display_data"
    }
   ],
   "source": [
    "# Filter names that start with \"Ch'ien\" or contain a single apostrophe, due to an error that I had fitting the model.\n",
    "filtered_names = churn[churn['Name'].str.startswith('Chi\\'en') | churn['Name'].str.contains(\"'\")]\n",
    "display(filtered_names.head(15))"
   ]
  },
  {
   "cell_type": "markdown",
   "metadata": {},
   "source": [
    "- Just looking to see if there are names with single apostrophes because I had an error fitting the data.\n",
    "- I think it's best to drop the Name column when I split the data, later on, as this column will not give meaningful information when predicting target data. "
   ]
  },
  {
   "cell_type": "code",
   "execution_count": 49,
   "metadata": {},
   "outputs": [
    {
     "name": "stdout",
     "output_type": "stream",
     "text": [
      "<class 'pandas.core.frame.DataFrame'>\n",
      "RangeIndex: 10000 entries, 0 to 9999\n",
      "Data columns (total 14 columns):\n",
      " #   Column     Non-Null Count  Dtype  \n",
      "---  ------     --------------  -----  \n",
      " 0   Row#       10000 non-null  int64  \n",
      " 1   CustID     10000 non-null  int64  \n",
      " 2   Name       10000 non-null  object \n",
      " 3   CredScore  10000 non-null  int64  \n",
      " 4   Geo        10000 non-null  object \n",
      " 5   Gender     10000 non-null  object \n",
      " 6   Age        10000 non-null  int64  \n",
      " 7   Tenure     9091 non-null   float64\n",
      " 8   Balance    10000 non-null  float64\n",
      " 9   NumProds   10000 non-null  int64  \n",
      " 10  HasCrCard  10000 non-null  int64  \n",
      " 11  Active     10000 non-null  int64  \n",
      " 12  Salary     10000 non-null  float64\n",
      " 13  Churned    10000 non-null  int64  \n",
      "dtypes: float64(3), int64(8), object(3)\n",
      "memory usage: 1.1+ MB\n"
     ]
    }
   ],
   "source": [
    "churn.info()"
   ]
  },
  {
   "cell_type": "markdown",
   "metadata": {},
   "source": [
    " ### <span style=\"color:red\">Look for missing data:</span>"
   ]
  },
  {
   "cell_type": "markdown",
   "metadata": {},
   "source": [
    "#### 'Tenure' has some missing data. 909 rows have invalid data."
   ]
  },
  {
   "cell_type": "code",
   "execution_count": 53,
   "metadata": {},
   "outputs": [
    {
     "name": "stdout",
     "output_type": "stream",
     "text": [
      "\n",
      "Rows with missing 'tenure' values:\n"
     ]
    },
    {
     "data": {
      "text/html": [
       "<div>\n",
       "<style scoped>\n",
       "    .dataframe tbody tr th:only-of-type {\n",
       "        vertical-align: middle;\n",
       "    }\n",
       "\n",
       "    .dataframe tbody tr th {\n",
       "        vertical-align: top;\n",
       "    }\n",
       "\n",
       "    .dataframe thead th {\n",
       "        text-align: right;\n",
       "    }\n",
       "</style>\n",
       "<table border=\"1\" class=\"dataframe\">\n",
       "  <thead>\n",
       "    <tr style=\"text-align: right;\">\n",
       "      <th></th>\n",
       "      <th>Row#</th>\n",
       "      <th>CustID</th>\n",
       "      <th>Name</th>\n",
       "      <th>CredScore</th>\n",
       "      <th>Geo</th>\n",
       "      <th>Gender</th>\n",
       "      <th>Age</th>\n",
       "      <th>Tenure</th>\n",
       "      <th>Balance</th>\n",
       "      <th>NumProds</th>\n",
       "      <th>HasCrCard</th>\n",
       "      <th>Active</th>\n",
       "      <th>Salary</th>\n",
       "      <th>Churned</th>\n",
       "    </tr>\n",
       "  </thead>\n",
       "  <tbody>\n",
       "    <tr>\n",
       "      <th>30</th>\n",
       "      <td>31</td>\n",
       "      <td>15589475</td>\n",
       "      <td>Azikiwe</td>\n",
       "      <td>591</td>\n",
       "      <td>Spain</td>\n",
       "      <td>Female</td>\n",
       "      <td>39</td>\n",
       "      <td>NaN</td>\n",
       "      <td>0.00</td>\n",
       "      <td>3</td>\n",
       "      <td>1</td>\n",
       "      <td>0</td>\n",
       "      <td>140469.38</td>\n",
       "      <td>1</td>\n",
       "    </tr>\n",
       "    <tr>\n",
       "      <th>48</th>\n",
       "      <td>49</td>\n",
       "      <td>15766205</td>\n",
       "      <td>Yin</td>\n",
       "      <td>550</td>\n",
       "      <td>Germany</td>\n",
       "      <td>Male</td>\n",
       "      <td>38</td>\n",
       "      <td>NaN</td>\n",
       "      <td>103391.38</td>\n",
       "      <td>1</td>\n",
       "      <td>0</td>\n",
       "      <td>1</td>\n",
       "      <td>90878.13</td>\n",
       "      <td>0</td>\n",
       "    </tr>\n",
       "    <tr>\n",
       "      <th>51</th>\n",
       "      <td>52</td>\n",
       "      <td>15768193</td>\n",
       "      <td>Trevisani</td>\n",
       "      <td>585</td>\n",
       "      <td>Germany</td>\n",
       "      <td>Male</td>\n",
       "      <td>36</td>\n",
       "      <td>NaN</td>\n",
       "      <td>146050.97</td>\n",
       "      <td>2</td>\n",
       "      <td>0</td>\n",
       "      <td>0</td>\n",
       "      <td>86424.57</td>\n",
       "      <td>0</td>\n",
       "    </tr>\n",
       "    <tr>\n",
       "      <th>53</th>\n",
       "      <td>54</td>\n",
       "      <td>15702298</td>\n",
       "      <td>Parkhill</td>\n",
       "      <td>655</td>\n",
       "      <td>Germany</td>\n",
       "      <td>Male</td>\n",
       "      <td>41</td>\n",
       "      <td>NaN</td>\n",
       "      <td>125561.97</td>\n",
       "      <td>1</td>\n",
       "      <td>0</td>\n",
       "      <td>0</td>\n",
       "      <td>164040.94</td>\n",
       "      <td>1</td>\n",
       "    </tr>\n",
       "    <tr>\n",
       "      <th>60</th>\n",
       "      <td>61</td>\n",
       "      <td>15651280</td>\n",
       "      <td>Hunter</td>\n",
       "      <td>742</td>\n",
       "      <td>Germany</td>\n",
       "      <td>Male</td>\n",
       "      <td>35</td>\n",
       "      <td>NaN</td>\n",
       "      <td>136857.00</td>\n",
       "      <td>1</td>\n",
       "      <td>0</td>\n",
       "      <td>0</td>\n",
       "      <td>84509.57</td>\n",
       "      <td>0</td>\n",
       "    </tr>\n",
       "    <tr>\n",
       "      <th>82</th>\n",
       "      <td>83</td>\n",
       "      <td>15641732</td>\n",
       "      <td>Mills</td>\n",
       "      <td>543</td>\n",
       "      <td>France</td>\n",
       "      <td>Female</td>\n",
       "      <td>36</td>\n",
       "      <td>NaN</td>\n",
       "      <td>0.00</td>\n",
       "      <td>2</td>\n",
       "      <td>0</td>\n",
       "      <td>0</td>\n",
       "      <td>26019.59</td>\n",
       "      <td>0</td>\n",
       "    </tr>\n",
       "    <tr>\n",
       "      <th>85</th>\n",
       "      <td>86</td>\n",
       "      <td>15805254</td>\n",
       "      <td>Ndukaku</td>\n",
       "      <td>652</td>\n",
       "      <td>Spain</td>\n",
       "      <td>Female</td>\n",
       "      <td>75</td>\n",
       "      <td>NaN</td>\n",
       "      <td>0.00</td>\n",
       "      <td>2</td>\n",
       "      <td>1</td>\n",
       "      <td>1</td>\n",
       "      <td>114675.75</td>\n",
       "      <td>0</td>\n",
       "    </tr>\n",
       "    <tr>\n",
       "      <th>94</th>\n",
       "      <td>95</td>\n",
       "      <td>15676966</td>\n",
       "      <td>Capon</td>\n",
       "      <td>730</td>\n",
       "      <td>Spain</td>\n",
       "      <td>Male</td>\n",
       "      <td>42</td>\n",
       "      <td>NaN</td>\n",
       "      <td>0.00</td>\n",
       "      <td>2</td>\n",
       "      <td>0</td>\n",
       "      <td>1</td>\n",
       "      <td>85982.47</td>\n",
       "      <td>0</td>\n",
       "    </tr>\n",
       "    <tr>\n",
       "      <th>99</th>\n",
       "      <td>100</td>\n",
       "      <td>15633059</td>\n",
       "      <td>Fanucci</td>\n",
       "      <td>413</td>\n",
       "      <td>France</td>\n",
       "      <td>Male</td>\n",
       "      <td>34</td>\n",
       "      <td>NaN</td>\n",
       "      <td>0.00</td>\n",
       "      <td>2</td>\n",
       "      <td>0</td>\n",
       "      <td>0</td>\n",
       "      <td>6534.18</td>\n",
       "      <td>0</td>\n",
       "    </tr>\n",
       "  </tbody>\n",
       "</table>\n",
       "</div>"
      ],
      "text/plain": [
       "    Row#    CustID       Name  CredScore      Geo  Gender  Age  Tenure  \\\n",
       "30    31  15589475    Azikiwe        591    Spain  Female   39     NaN   \n",
       "48    49  15766205        Yin        550  Germany    Male   38     NaN   \n",
       "51    52  15768193  Trevisani        585  Germany    Male   36     NaN   \n",
       "53    54  15702298   Parkhill        655  Germany    Male   41     NaN   \n",
       "60    61  15651280     Hunter        742  Germany    Male   35     NaN   \n",
       "82    83  15641732      Mills        543   France  Female   36     NaN   \n",
       "85    86  15805254    Ndukaku        652    Spain  Female   75     NaN   \n",
       "94    95  15676966      Capon        730    Spain    Male   42     NaN   \n",
       "99   100  15633059    Fanucci        413   France    Male   34     NaN   \n",
       "\n",
       "      Balance  NumProds  HasCrCard  Active     Salary  Churned  \n",
       "30       0.00         3          1       0  140469.38        1  \n",
       "48  103391.38         1          0       1   90878.13        0  \n",
       "51  146050.97         2          0       0   86424.57        0  \n",
       "53  125561.97         1          0       0  164040.94        1  \n",
       "60  136857.00         1          0       0   84509.57        0  \n",
       "82       0.00         2          0       0   26019.59        0  \n",
       "85       0.00         2          1       1  114675.75        0  \n",
       "94       0.00         2          0       1   85982.47        0  \n",
       "99       0.00         2          0       0    6534.18        0  "
      ]
     },
     "metadata": {},
     "output_type": "display_data"
    }
   ],
   "source": [
    "# Find and display the rows where 'Tenure' is missing\n",
    "missing_tenure_rows = churn[churn['Tenure'].isna()]\n",
    "\n",
    "print(\"\\nRows with missing 'tenure' values:\")\n",
    "display(missing_tenure_rows.head(9))"
   ]
  },
  {
   "cell_type": "code",
   "execution_count": 55,
   "metadata": {},
   "outputs": [],
   "source": [
    "# Fill NaN values\n",
    "churn['Tenure'].fillna(churn['Tenure'].median(), inplace=True)"
   ]
  },
  {
   "cell_type": "markdown",
   "metadata": {},
   "source": [
    "#### I am not going to drop these rows, that have NaN 'Tenure', but I will fill them with the median value of the column, as leaving in the NaN will create an error when fitting the model, later on."
   ]
  },
  {
   "cell_type": "code",
   "execution_count": 58,
   "metadata": {},
   "outputs": [
    {
     "name": "stdout",
     "output_type": "stream",
     "text": [
      "<class 'pandas.core.frame.DataFrame'>\n",
      "RangeIndex: 10000 entries, 0 to 9999\n",
      "Data columns (total 14 columns):\n",
      " #   Column     Non-Null Count  Dtype  \n",
      "---  ------     --------------  -----  \n",
      " 0   Row#       10000 non-null  int64  \n",
      " 1   CustID     10000 non-null  int64  \n",
      " 2   Name       10000 non-null  object \n",
      " 3   CredScore  10000 non-null  int64  \n",
      " 4   Geo        10000 non-null  object \n",
      " 5   Gender     10000 non-null  object \n",
      " 6   Age        10000 non-null  int64  \n",
      " 7   Tenure     10000 non-null  float64\n",
      " 8   Balance    10000 non-null  float64\n",
      " 9   NumProds   10000 non-null  int64  \n",
      " 10  HasCrCard  10000 non-null  int64  \n",
      " 11  Active     10000 non-null  int64  \n",
      " 12  Salary     10000 non-null  float64\n",
      " 13  Churned    10000 non-null  int64  \n",
      "dtypes: float64(3), int64(8), object(3)\n",
      "memory usage: 1.1+ MB\n"
     ]
    }
   ],
   "source": [
    "churn.info()"
   ]
  },
  {
   "cell_type": "markdown",
   "metadata": {},
   "source": [
    " ### <span style=\"color:red\">Data types:</span>"
   ]
  },
  {
   "cell_type": "markdown",
   "metadata": {},
   "source": [
    "#### Changing Tenure to int, because none of the values will change if whole numbers are used."
   ]
  },
  {
   "cell_type": "code",
   "execution_count": null,
   "metadata": {},
   "outputs": [],
   "source": [
    "churn['Tenure'] = churn['Tenure'].astype(int)"
   ]
  },
  {
   "cell_type": "code",
   "execution_count": null,
   "metadata": {},
   "outputs": [],
   "source": [
    "churn.info()"
   ]
  },
  {
   "cell_type": "markdown",
   "metadata": {},
   "source": [
    " ### <span style=\"color:red\">Encoding</span>"
   ]
  },
  {
   "cell_type": "markdown",
   "metadata": {},
   "source": [
    "- <span style=\"color:red\">Encode Geography column in to 2 new columns(regions), and dropping first column(France):</span>"
   ]
  },
  {
   "cell_type": "code",
   "execution_count": null,
   "metadata": {},
   "outputs": [],
   "source": [
    "churn['Geo'].value_counts()"
   ]
  },
  {
   "cell_type": "code",
   "execution_count": null,
   "metadata": {},
   "outputs": [],
   "source": [
    "# Apply One-Hot Encoding to Geo column.\n",
    "churn_ohe = pd.get_dummies(churn, columns=['Geo'], drop_first=True)\n",
    "\n",
    "print(\"\\nOne-Hot Encoded DataFrame:\")\n",
    "display(churn_ohe.head(3))"
   ]
  },
  {
   "cell_type": "markdown",
   "metadata": {},
   "source": [
    "- <span style=\"color:red\">Encode Gender in to 2 new columns</span>"
   ]
  },
  {
   "cell_type": "code",
   "execution_count": null,
   "metadata": {},
   "outputs": [],
   "source": [
    "# Apply One-Hot Encoding to Gender column.\n",
    "churn_ohe = pd.get_dummies(churn_ohe, columns=['Gender'], drop_first=False)"
   ]
  },
  {
   "cell_type": "code",
   "execution_count": null,
   "metadata": {},
   "outputs": [],
   "source": [
    "print(\"\\nOne-Hot Encoded DataFrame:\")\n",
    "display(churn_ohe.head(3))"
   ]
  },
  {
   "cell_type": "markdown",
   "metadata": {},
   "source": [
    "- <span style=\"color:red\">Encode Number of Products in to 4 new columns:</span>"
   ]
  },
  {
   "cell_type": "code",
   "execution_count": null,
   "metadata": {},
   "outputs": [],
   "source": [
    "# Apply One-Hot Encoding to Gender column.\n",
    "churn_ohe = pd.get_dummies(churn_ohe, columns=['NumProds'], drop_first=False)\n",
    "\n",
    "print(\"\\nOne-Hot Encoded DataFrame:\")\n",
    "display(churn_ohe.head(3))"
   ]
  },
  {
   "cell_type": "markdown",
   "metadata": {},
   "source": [
    "- <span style=\"color:red\">Encode HasCrCard column in to 2 new columns:</span>"
   ]
  },
  {
   "cell_type": "code",
   "execution_count": null,
   "metadata": {},
   "outputs": [],
   "source": [
    "# Apply One-Hot Encoding to Gender column.\n",
    "churn_ohe = pd.get_dummies(churn_ohe, columns=['HasCrCard'], drop_first=False)\n",
    "\n",
    "print(\"\\nOne-Hot Encoded DataFrame:\")\n",
    "display(churn_ohe.head(3))"
   ]
  },
  {
   "cell_type": "code",
   "execution_count": null,
   "metadata": {},
   "outputs": [],
   "source": [
    "churn_ohe.info()"
   ]
  },
  {
   "cell_type": "markdown",
   "metadata": {},
   "source": [
    "#### The new columns are of type uint8, which takes up the least amount of disk space. This is good."
   ]
  },
  {
   "cell_type": "markdown",
   "metadata": {},
   "source": [
    "### Data is clean now"
   ]
  },
  {
   "cell_type": "markdown",
   "metadata": {},
   "source": [
    "## <div style=\"color: red; border: 2px solid yellow; display: inline-block;\">Explore the Data</div>"
   ]
  },
  {
   "cell_type": "markdown",
   "metadata": {},
   "source": [
    "### <span style=\"color:red\">Credit Score</span>"
   ]
  },
  {
   "cell_type": "code",
   "execution_count": null,
   "metadata": {},
   "outputs": [],
   "source": [
    "churn['CredScore'].value_counts()"
   ]
  },
  {
   "cell_type": "markdown",
   "metadata": {},
   "source": [
    "### What is the comparison of credit score to churned customers?"
   ]
  },
  {
   "cell_type": "code",
   "execution_count": null,
   "metadata": {},
   "outputs": [],
   "source": [
    "churn['CredScore'].min()"
   ]
  },
  {
   "cell_type": "code",
   "execution_count": null,
   "metadata": {},
   "outputs": [],
   "source": [
    "churn['CredScore'].max()"
   ]
  },
  {
   "cell_type": "code",
   "execution_count": null,
   "metadata": {},
   "outputs": [],
   "source": [
    "# break the 'CredScore' column into different levels,  based on the distribution of credit scores.\n",
    "# Define custom bins and labels\n",
    "bins = [349, 425, 500, 575, 650, 725, float('inf')]\n",
    "labels = ['very poor', 'poor', 'okay', 'good', 'very good', 'excellent']"
   ]
  },
  {
   "cell_type": "code",
   "execution_count": null,
   "metadata": {},
   "outputs": [],
   "source": [
    "# Bin the 'CredScore' into defined levels and assign labels\n",
    "churn['CredScoreLevel'] = pd.cut(churn['CredScore'], bins=bins, labels=labels)"
   ]
  },
  {
   "cell_type": "code",
   "execution_count": null,
   "metadata": {},
   "outputs": [],
   "source": [
    "# Display the updated DataFrame\n",
    "print(churn[['CredScore', 'CredScoreLevel']].head(15))"
   ]
  },
  {
   "cell_type": "code",
   "execution_count": null,
   "metadata": {},
   "outputs": [],
   "source": [
    "# Group by 'CredScoreLevel' and 'Churned', then count occurrences\n",
    "credscore_churn_counts = churn.groupby(['CredScoreLevel', 'Churned']).size().reset_index(name='Count')"
   ]
  },
  {
   "cell_type": "code",
   "execution_count": null,
   "metadata": {},
   "outputs": [],
   "source": [
    "churn['CredScoreLevel'].value_counts()"
   ]
  },
  {
   "cell_type": "code",
   "execution_count": null,
   "metadata": {},
   "outputs": [],
   "source": [
    "fig = px.bar(\n",
    "    credscore_churn_counts,\n",
    "    x='CredScoreLevel',\n",
    "    y='Count',\n",
    "    color='Churned',\n",
    "    barmode='group',\n",
    "    title='Churn Rate by Credit Score Level',\n",
    "    labels={'CredScoreLevel': 'Credit Score Level', 'Count': 'Number of Customers'}\n",
    ")\n",
    "\n",
    "# Customize the title and axis labels\n",
    "fig.update_layout(\n",
    "    title={\n",
    "        'text': \"Churn Rate by Credit Score Level\",\n",
    "        'y': 0.9,\n",
    "        'x': 0.5,\n",
    "        'xanchor': 'center',\n",
    "        'yanchor': 'top',\n",
    "        'font': {'size': 24}  # Adjust the font size of the title\n",
    "    },\n",
    "    xaxis_title={\n",
    "        'text': 'Credit Score Level',\n",
    "        'font': {'size': 18}  # Adjust the x-axis title font size\n",
    "    },\n",
    "    yaxis_title={\n",
    "        'text': 'Number of Customers',\n",
    "        'font': {'size': 18}  # Adjust the y-axis title font size\n",
    "    }\n",
    ")\n",
    "\n",
    "# Adjust the font size of the tick labels\n",
    "fig.update_xaxes(tickfont={'size': 14})\n",
    "fig.update_yaxes(tickfont={'size': 14})\n",
    "\n",
    "fig.show()"
   ]
  },
  {
   "cell_type": "markdown",
   "metadata": {},
   "source": [
    "### Credit Score breakdown:\n",
    "The credit scores, on this dataset, go from 350-850.\n",
    "\n",
    "- very poor ... 349-424\n",
    "- poor      ... 425-499\n",
    "- okay      ... 500-574\n",
    "- good      ... 575-649\n",
    "- very good ... 650-724\n",
    "- excellent ... 725-850\n"
   ]
  },
  {
   "cell_type": "code",
   "execution_count": null,
   "metadata": {},
   "outputs": [],
   "source": [
    "print(\"Churn rate for customers with very poor credit:\")\n",
    "33 / (33 + 37) * 100"
   ]
  },
  {
   "cell_type": "code",
   "execution_count": null,
   "metadata": {},
   "outputs": [],
   "source": [
    "print(\"Churn rate for customers with poor credit:\")\n",
    "119 / (119 + 454) * 100"
   ]
  },
  {
   "cell_type": "code",
   "execution_count": null,
   "metadata": {},
   "outputs": [],
   "source": [
    "print(\"Churn rate for customers with okay credit:\")\n",
    "343/ (343 + 1256) * 100"
   ]
  },
  {
   "cell_type": "code",
   "execution_count": null,
   "metadata": {},
   "outputs": [],
   "source": [
    "print(\"Churn rate for customers with good credit:\")\n",
    "562 / (562 + 2133) * 100"
   ]
  },
  {
   "cell_type": "code",
   "execution_count": null,
   "metadata": {},
   "outputs": [],
   "source": [
    "print(\"Churn rate for customers with very good credit:\")\n",
    "518 / (518 + 2275) * 100"
   ]
  },
  {
   "cell_type": "code",
   "execution_count": null,
   "metadata": {},
   "outputs": [],
   "source": [
    "print(\"Churn rate for customers with excellent credit:\")\n",
    "462 / (462 + 1808) * 100"
   ]
  },
  {
   "cell_type": "markdown",
   "metadata": {},
   "source": [
    "- The majority of customers have very good credit. \n",
    "- All levels, except 'very poor' credit, have a churn rate approximately between 18\\% - 21\\%.\n",
    "- Customers with 'very poor' credit have a much higher churn rate than other credit levels, at 47\\%."
   ]
  },
  {
   "cell_type": "markdown",
   "metadata": {},
   "source": [
    "### <span style=\"color:red\">Geography</span>"
   ]
  },
  {
   "cell_type": "code",
   "execution_count": null,
   "metadata": {},
   "outputs": [],
   "source": [
    "churn.Geo.value_counts()"
   ]
  },
  {
   "cell_type": "markdown",
   "metadata": {},
   "source": [
    "#### The dataset only includes data from the regions of France, Germany, and Spain."
   ]
  },
  {
   "cell_type": "markdown",
   "metadata": {},
   "source": [
    "### What is the churn rate for customers from these 3 regions?"
   ]
  },
  {
   "cell_type": "code",
   "execution_count": null,
   "metadata": {},
   "outputs": [],
   "source": [
    "# Group by 'Geo' and 'Churned', then count occurrences\n",
    "geo_churn_counts = churn.groupby(['Geo', 'Churned']).size().reset_index(name='Count')"
   ]
  },
  {
   "cell_type": "code",
   "execution_count": null,
   "metadata": {},
   "outputs": [],
   "source": [
    "fig = px.bar(\n",
    "    geo_churn_counts,\n",
    "    x='Geo',\n",
    "    y='Count',\n",
    "    color='Churned',\n",
    "    barmode='group',\n",
    "    title='Churn Rate by Geographical Region',\n",
    "    labels={'Geo': 'Geographical Region', 'Count': 'Number of Customers'}\n",
    ")\n",
    "\n",
    "# Customize the title and axis labels\n",
    "fig.update_layout(\n",
    "    title={\n",
    "        'text': \"Churn Rate by Geographical Region\",\n",
    "        'y': 0.9,\n",
    "        'x': 0.5,\n",
    "        'xanchor': 'center',\n",
    "        'yanchor': 'top',\n",
    "        'font': {'size': 24}  # Adjust the font size of the title\n",
    "    },\n",
    "    xaxis_title={\n",
    "        'text': 'Geographical Region',\n",
    "        'font': {'size': 18}  # Adjust the x-axis title font size\n",
    "    },\n",
    "    yaxis_title={\n",
    "        'text': 'Number of Customers',\n",
    "        'font': {'size': 18}  # Adjust the y-axis title font size\n",
    "    }\n",
    ")\n",
    "# Adjust the font size of the tick labels\n",
    "fig.update_xaxes(tickfont={'size': 14})\n",
    "fig.update_yaxes(tickfont={'size': 14})\n",
    "\n",
    "\n",
    "fig.show()\n"
   ]
  },
  {
   "cell_type": "code",
   "execution_count": null,
   "metadata": {},
   "outputs": [],
   "source": [
    "print(\"Churn rate for customers from France:\")\n",
    "810 / 4204"
   ]
  },
  {
   "cell_type": "code",
   "execution_count": null,
   "metadata": {},
   "outputs": [],
   "source": [
    "print(\"Churn rate for customers from Germany:\")\n",
    "814 / 1695"
   ]
  },
  {
   "cell_type": "code",
   "execution_count": null,
   "metadata": {},
   "outputs": [],
   "source": [
    "print(\"Churn rate for customers from Spain:\")\n",
    "413 / 2064"
   ]
  },
  {
   "cell_type": "markdown",
   "metadata": {},
   "source": [
    "- The churn rate for customers from France and Spain are about the same, approximately 20\\%\n",
    "- The churn rate for customers from Germany is more than double that of France or Spain, at 48\\%."
   ]
  },
  {
   "cell_type": "markdown",
   "metadata": {},
   "source": [
    "### <span style=\"color:red\">Gender</span>"
   ]
  },
  {
   "cell_type": "code",
   "execution_count": null,
   "metadata": {},
   "outputs": [],
   "source": [
    "churn.Gender.value_counts()"
   ]
  },
  {
   "cell_type": "markdown",
   "metadata": {},
   "source": [
    "#### Most customers are male."
   ]
  },
  {
   "cell_type": "markdown",
   "metadata": {},
   "source": [
    "### What is the churn rate of customers, by gender?"
   ]
  },
  {
   "cell_type": "code",
   "execution_count": null,
   "metadata": {},
   "outputs": [],
   "source": [
    "# Group by 'Churned' and 'Gender', then count occurrences\n",
    "gender_churned_counts = churn.groupby(['Churned', 'Gender']).size().reset_index(name='Count')\n",
    "\n",
    "# Filter for rows where 'Churned' is True\n",
    "true_gender_churned_counts = gender_churned_counts[gender_churned_counts['Churned'] == True]\n",
    "\n",
    "print(true_gender_churned_counts)"
   ]
  },
  {
   "cell_type": "code",
   "execution_count": null,
   "metadata": {},
   "outputs": [],
   "source": [
    "print(\"Churn rate for females:\")"
   ]
  },
  {
   "cell_type": "code",
   "execution_count": null,
   "metadata": {},
   "outputs": [],
   "source": [
    "1139 / 4543 * 100"
   ]
  },
  {
   "cell_type": "code",
   "execution_count": null,
   "metadata": {},
   "outputs": [],
   "source": [
    "print(\"Churn rate for males:\")"
   ]
  },
  {
   "cell_type": "code",
   "execution_count": null,
   "metadata": {},
   "outputs": [],
   "source": [
    "898 /  5457 * 100"
   ]
  },
  {
   "cell_type": "markdown",
   "metadata": {},
   "source": [
    "- The churn rate for females is 25\\%.\n",
    "- The churn rate for males is 16\\%."
   ]
  },
  {
   "cell_type": "code",
   "execution_count": null,
   "metadata": {},
   "outputs": [],
   "source": [
    "# Create bar graph using Plotly Express\n",
    "fig = px.bar(\n",
    "    true_gender_churned_counts,\n",
    "    x='Gender',\n",
    "    y='Count',\n",
    "    title='Gender Distribution for Customers Who Have Churned',\n",
    "    labels={'Count': 'Number of Churned Customers', 'Gender': 'Gender'},\n",
    "    color='Gender',\n",
    "    text='Count'\n",
    ")\n",
    "# Center the title and make it bigger\n",
    "fig.update_layout(\n",
    "    title={\n",
    "        'text': \"Gender Distribution for Customers Who Have Churned\",\n",
    "        'y':0.9,  # Adjust the vertical position of the title\n",
    "        'x':0.5,  # Center the title\n",
    "        'xanchor': 'center',\n",
    "        'yanchor': 'top',\n",
    "        'font': {'size': 24}  # Adjust the font size of the title\n",
    "    },\n",
    "    xaxis_title={\n",
    "        'text': 'Gender',\n",
    "        'font': {'size': 18}  # Adjust the x-axis title font size\n",
    "    },\n",
    "    yaxis_title={\n",
    "        'text': 'Number of Churned Customers',\n",
    "        'font': {'size': 18}  # Adjust the y-axis title font size\n",
    "    }\n",
    ")\n",
    "# Make the tick labels on both axes bigger\n",
    "fig.update_xaxes(tickfont={'size': 14})\n",
    "fig.update_yaxes(tickfont={'size': 14})\n",
    "\n",
    "fig.show()"
   ]
  },
  {
   "cell_type": "markdown",
   "metadata": {},
   "source": [
    "#### More female customers churn than male customers."
   ]
  },
  {
   "cell_type": "markdown",
   "metadata": {},
   "source": [
    "### <span style=\"color:red\">Age</span>"
   ]
  },
  {
   "cell_type": "code",
   "execution_count": null,
   "metadata": {},
   "outputs": [],
   "source": [
    "churn['Age'].min()"
   ]
  },
  {
   "cell_type": "code",
   "execution_count": null,
   "metadata": {},
   "outputs": [],
   "source": [
    "churn['Age'].max()"
   ]
  },
  {
   "cell_type": "code",
   "execution_count": null,
   "metadata": {},
   "outputs": [],
   "source": [
    "# Group by 'Age' and 'Churned', then count occurrences\n",
    "age_churn_counts = churn.groupby(['Age', 'Churned']).size().reset_index(name='Count')"
   ]
  },
  {
   "cell_type": "code",
   "execution_count": null,
   "metadata": {},
   "outputs": [],
   "source": [
    "# Map the 0 and 1 values to 'False' and 'True'\n",
    "age_churn_counts['Churned'] = age_churn_counts['Churned'].map({0: 'False', 1: 'True'})"
   ]
  },
  {
   "cell_type": "code",
   "execution_count": null,
   "metadata": {},
   "outputs": [],
   "source": [
    "fig = px.line(\n",
    "    age_churn_counts,\n",
    "    x='Age',\n",
    "    y='Count',\n",
    "    color='Churned',\n",
    "    title='Churn Rate by Age',\n",
    "    labels={'Age': 'Age', 'Count': 'Number of Customers'}\n",
    ")\n",
    "\n",
    "# Customize the title and axis labels\n",
    "fig.update_layout(\n",
    "    title={\n",
    "        'text': \"Churn Rate by Age\",\n",
    "        'y': 0.9,\n",
    "        'x': 0.5,\n",
    "        'xanchor': 'center',\n",
    "        'yanchor': 'top',\n",
    "        'font': {'size': 24}  # Adjust the font size of the title\n",
    "    },\n",
    "    xaxis_title={\n",
    "        'text': 'Age',\n",
    "        'font': {'size': 18}  # Adjust the x-axis title font size\n",
    "    },\n",
    "    yaxis_title={\n",
    "        'text': 'Number of Customers',\n",
    "        'font': {'size': 18}  # Adjust the y-axis title font size\n",
    "    }\n",
    ")\n",
    "\n",
    "# Adjust the font size of the tick labels\n",
    "fig.update_xaxes(tickfont={'size': 14})\n",
    "fig.update_yaxes(tickfont={'size': 14})\n",
    "\n",
    "\n",
    "fig.show()\n"
   ]
  },
  {
   "cell_type": "markdown",
   "metadata": {},
   "source": [
    "- Ages 23-48 have an extremely low churn rate than other ages, with the lowest churn ages being 35-37. "
   ]
  },
  {
   "cell_type": "markdown",
   "metadata": {},
   "source": [
    "### <span style=\"color:red\">Tenure</span>"
   ]
  },
  {
   "cell_type": "code",
   "execution_count": null,
   "metadata": {},
   "outputs": [],
   "source": [
    "churn['Tenure'].value_counts()"
   ]
  },
  {
   "cell_type": "code",
   "execution_count": null,
   "metadata": {},
   "outputs": [],
   "source": [
    "# Group by 'Age' and 'Churned', then count occurrences\n",
    "tenure_churn_counts = churn.groupby(['Tenure', 'Churned']).size().reset_index(name='Count')"
   ]
  },
  {
   "cell_type": "code",
   "execution_count": null,
   "metadata": {},
   "outputs": [],
   "source": [
    "fig = px.bar(\n",
    "    tenure_churn_counts,\n",
    "    x='Tenure',\n",
    "    y='Count',\n",
    "    color='Churned',\n",
    "    barmode='group',\n",
    "    title='Churn Rate by Tenure',\n",
    "    labels={'Tenure': 'Tenure (years)', 'Count': 'Number of Customers', 'Churned': 'Churned'},\n",
    "    text='Count'\n",
    ")\n",
    "\n",
    "# Customize the title and axis labels\n",
    "fig.update_layout(\n",
    "    title={\n",
    "        'text': \"Churn Rate by Tenure\",\n",
    "        'y': 0.9,\n",
    "        'x': 0.5,\n",
    "        'xanchor': 'center',\n",
    "        'yanchor': 'top',\n",
    "        'font': {'size': 24}  # Adjust the font size of the title\n",
    "    },\n",
    "    xaxis_title={\n",
    "        'text': 'Tenure (years)',\n",
    "        'font': {'size': 18}  # Adjust the x-axis title font size\n",
    "    },\n",
    "    yaxis_title={\n",
    "        'text': 'Number of Customers',\n",
    "        'font': {'size': 18}  # Adjust the y-axis title font size\n",
    "    }\n",
    ")\n",
    "# Adjust the text position for better readability\n",
    "fig.update_traces(texttemplate='%{text}', textposition='outside')\n",
    "\n",
    "# Set the x-axis ticks to display every tenure value\n",
    "tenure_range = list(range(int(tenure_churn_counts['Tenure'].min()), int(tenure_churn_counts['Tenure'].max()) + 1))\n",
    "fig.update_xaxes(tickvals=tenure_range)\n",
    "\n",
    "fig.show()"
   ]
  },
  {
   "cell_type": "markdown",
   "metadata": {},
   "source": [
    "#### There is a higher percentage of customers who have been tenured for 5 years."
   ]
  },
  {
   "cell_type": "markdown",
   "metadata": {},
   "source": [
    "### What are the percentage rates of churned customers, by Tenure ?"
   ]
  },
  {
   "cell_type": "code",
   "execution_count": null,
   "metadata": {},
   "outputs": [],
   "source": [
    "# Group by 'Tenure' and 'Churned', then count occurrences\n",
    "tenure_churn_counts = churn.groupby(['Tenure', 'Churned']).size().reset_index(name='Count')\n",
    "\n",
    "# Pivot the data to get counts for each 'Tenure' and 'Churned' status\n",
    "pivot_df = tenure_churn_counts.pivot(index='Tenure', columns='Churned', values='Count').fillna(0)"
   ]
  },
  {
   "cell_type": "code",
   "execution_count": null,
   "metadata": {},
   "outputs": [],
   "source": [
    "# Rename columns for clarity\n",
    "pivot_df.columns = ['Not_Churned', 'Churned']\n",
    "\n",
    "# Calculate total customers per 'Tenure'\n",
    "pivot_df['Total'] = pivot_df.sum(axis=1)"
   ]
  },
  {
   "cell_type": "code",
   "execution_count": null,
   "metadata": {},
   "outputs": [],
   "source": [
    "# Calculate the churn rate percentage\n",
    "pivot_df['Churn_Rate (%)'] = (pivot_df['Churned'] / pivot_df['Total']) * 100\n",
    "\n",
    "# Reset index for printing\n",
    "pivot_df = pivot_df.reset_index()"
   ]
  },
  {
   "cell_type": "code",
   "execution_count": null,
   "metadata": {},
   "outputs": [],
   "source": [
    "# Print the result\n",
    "print(pivot_df[['Tenure', 'Churn_Rate (%)']])"
   ]
  },
  {
   "cell_type": "markdown",
   "metadata": {},
   "source": [
    "- The churn rate, by Tenure, ranges from 17.2\\% - 23.5\\%.  \n",
    "- The lowest churn rate is for those customers with a Tenure of 7 and 8 years. \n",
    "- The highest churn rate is for those customers with a Tenure of 1 year or less."
   ]
  },
  {
   "cell_type": "markdown",
   "metadata": {},
   "source": [
    "### <span style=\"color:red\">Bank Balance</span>"
   ]
  },
  {
   "cell_type": "code",
   "execution_count": null,
   "metadata": {},
   "outputs": [],
   "source": [
    "churn['Balance'].min()"
   ]
  },
  {
   "cell_type": "code",
   "execution_count": null,
   "metadata": {},
   "outputs": [],
   "source": [
    "churn['Balance'].max()"
   ]
  },
  {
   "cell_type": "code",
   "execution_count": null,
   "metadata": {},
   "outputs": [],
   "source": [
    "churn['Balance'].mean()"
   ]
  },
  {
   "cell_type": "markdown",
   "metadata": {},
   "source": [
    "#### The average bank balance is \\$76,485."
   ]
  },
  {
   "cell_type": "code",
   "execution_count": null,
   "metadata": {},
   "outputs": [],
   "source": [
    "# Create a copy of the DataFrame for visualization purposes\n",
    "churn_viz = churn.copy()"
   ]
  },
  {
   "cell_type": "code",
   "execution_count": null,
   "metadata": {},
   "outputs": [],
   "source": [
    "# Map the 0 and 1 values to 'False' and 'True' in the copy\n",
    "churn_viz['Churned'] = churn_viz['Churned'].map({0: 'False', 1: 'True'})"
   ]
  },
  {
   "cell_type": "code",
   "execution_count": null,
   "metadata": {},
   "outputs": [],
   "source": [
    "fig = px.box(churn_viz, x='Churned', y='Balance', color='Churned',\n",
    "             title='Balance Distribution by Churn Status',\n",
    "             labels={'Churned': 'Churned', 'Balance': 'Balance'})\n",
    "\n",
    "# Customize the title and axis labels\n",
    "fig.update_layout(\n",
    "    title={\n",
    "        'text': \"Balance Distribution by Churn Status\",\n",
    "        'y': 0.9,\n",
    "        'x': 0.5,\n",
    "        'xanchor': 'center',\n",
    "        'yanchor': 'top',\n",
    "        'font': {'size': 24}  # Adjust the font size of the title\n",
    "    },\n",
    "    xaxis_title={\n",
    "        'text': 'Churned',\n",
    "        'font': {'size': 18}  # Adjust the x-axis title font size\n",
    "    },\n",
    "    yaxis_title={\n",
    "        'text': 'Balance',\n",
    "        'font': {'size': 18}  # Adjust the y-axis title font size\n",
    "    }\n",
    ")\n",
    "\n",
    "fig.show()"
   ]
  },
  {
   "cell_type": "markdown",
   "metadata": {},
   "source": [
    "#### The median churn rate, based on bank balance, is \\$109,349"
   ]
  },
  {
   "cell_type": "markdown",
   "metadata": {},
   "source": [
    "### <span style=\"color:red\">Number of Products</span>"
   ]
  },
  {
   "cell_type": "code",
   "execution_count": null,
   "metadata": {},
   "outputs": [],
   "source": [
    "display(churn.head(3))"
   ]
  },
  {
   "cell_type": "code",
   "execution_count": null,
   "metadata": {},
   "outputs": [],
   "source": [
    "churn.NumProds.value_counts()"
   ]
  },
  {
   "cell_type": "code",
   "execution_count": null,
   "metadata": {},
   "outputs": [],
   "source": [
    "# Group by 'NumProds' and 'Churned', then count occurrences\n",
    "numprods_churn_counts = churn.groupby(['NumProds', 'Churned']).size().reset_index(name='Count')"
   ]
  },
  {
   "cell_type": "code",
   "execution_count": null,
   "metadata": {},
   "outputs": [],
   "source": [
    "fig = px.bar(\n",
    "    numprods_churn_counts,\n",
    "    x='NumProds',\n",
    "    y='Count',\n",
    "    color='Churned',\n",
    "    barmode='group',\n",
    "    title='Churn Rate by Number of Products',\n",
    "    labels={'NumProds': 'Number of Products', 'Count': 'Number of Customers'}\n",
    ")\n",
    "\n",
    "# Customize the title and axis labels\n",
    "fig.update_layout(\n",
    "    title={\n",
    "        'text': \"Churn Rate by Number of Products\",\n",
    "        'y': 0.9,\n",
    "        'x': 0.5,\n",
    "        'xanchor': 'center',\n",
    "        'yanchor': 'top',\n",
    "        'font': {'size': 24}  # Adjust the font size of the title\n",
    "    },\n",
    "    xaxis_title={\n",
    "        'text': 'Number of Products',\n",
    "        'font': {'size': 18}  # Adjust the x-axis title font size\n",
    "    },\n",
    "    yaxis_title={\n",
    "        'text': 'Number of Customers',\n",
    "        'font': {'size': 18}  # Adjust the y-axis title font size\n",
    "    }\n",
    ")\n",
    "\n",
    "# Adjust the font size of the tick labels\n",
    "fig.update_xaxes(tickfont={'size': 14})\n",
    "fig.update_yaxes(tickfont={'size': 14})\n",
    "\n",
    "fig.show()"
   ]
  },
  {
   "cell_type": "code",
   "execution_count": null,
   "metadata": {},
   "outputs": [],
   "source": [
    "print(\"Percentage of customers churned who have 1 product:\")\n",
    "1409 / (1409 + 3675) * 100"
   ]
  },
  {
   "cell_type": "code",
   "execution_count": null,
   "metadata": {},
   "outputs": [],
   "source": [
    "print(\"Percentage of customers churned who have 2 products:\")\n",
    "348 / (348 + 4242) * 100"
   ]
  },
  {
   "cell_type": "code",
   "execution_count": null,
   "metadata": {},
   "outputs": [],
   "source": [
    "print(\"Percentage of customers churned who have 3 products:\")\n",
    "220 / (220 + 46) * 100"
   ]
  },
  {
   "cell_type": "code",
   "execution_count": null,
   "metadata": {},
   "outputs": [],
   "source": [
    "print(\"Percentage of customers churned who have 4 products:\")\n",
    "60 / (60 + 0) * 100"
   ]
  },
  {
   "cell_type": "markdown",
   "metadata": {},
   "source": [
    "- Customers with 3 products have a very high churn rate, at 82\\%\n",
    "- Customers with 4 products have the highest churn rate, at 100\\%."
   ]
  },
  {
   "cell_type": "code",
   "execution_count": null,
   "metadata": {},
   "outputs": [],
   "source": [
    "churn.Churned.value_counts()"
   ]
  },
  {
   "cell_type": "code",
   "execution_count": null,
   "metadata": {},
   "outputs": [],
   "source": [
    "# Filter the DataFrame for customers with Churned == 0 and NumProds == 4\n",
    "filtered_numProd_customers = churn[(churn['Churned'] == False) & (churn['NumProds'] == 4)]\n",
    "num_customers = filtered_numProd_customers.shape[0]\n",
    "print(num_customers)"
   ]
  },
  {
   "cell_type": "markdown",
   "metadata": {},
   "source": [
    "#### There are zero customers, who have 4 products, who have not churned."
   ]
  },
  {
   "cell_type": "markdown",
   "metadata": {},
   "source": [
    "### <span style=\"color:red\">Credit Cards</span>"
   ]
  },
  {
   "cell_type": "markdown",
   "metadata": {},
   "source": [
    "### How many customers, who have credit cards, have Churned ?"
   ]
  },
  {
   "cell_type": "code",
   "execution_count": null,
   "metadata": {},
   "outputs": [],
   "source": [
    "# Group by 'Churned' and 'HasCrCard', then count occurrences\n",
    "HasCrCard_churned_counts = churn.groupby(['Churned', 'HasCrCard']).size().reset_index(name='Count')\n",
    "\n",
    "# Filter for rows where 'Churned' is True\n",
    "HasCrCard_churnedTrue_counts = HasCrCard_churned_counts[HasCrCard_churned_counts['Churned'] == True]\n",
    "\n",
    "print(HasCrCard_churnedTrue_counts)"
   ]
  },
  {
   "cell_type": "code",
   "execution_count": null,
   "metadata": {},
   "outputs": [],
   "source": [
    "# Extract counts of churned customers with and without credit cards\n",
    "churned_with_credit_cards = HasCrCard_churnedTrue_counts[HasCrCard_churnedTrue_counts['HasCrCard'] == 1]['Count'].values[0]\n",
    "total_churned_customers = HasCrCard_churnedTrue_counts['Count'].sum()\n",
    "\n",
    "# Calculate the proportion and format it as a percentage\n",
    "cc_churn_proportion = (churned_with_credit_cards / total_churned_customers) * 100\n",
    "\n",
    "# Print the formatted string\n",
    "print(f\"{cc_churn_proportion:.2f}% of churned customers have credit cards.\")"
   ]
  },
  {
   "cell_type": "code",
   "execution_count": null,
   "metadata": {},
   "outputs": [],
   "source": [
    "fig = px.bar(\n",
    "    HasCrCard_churnedTrue_counts,\n",
    "    x='HasCrCard',\n",
    "    y='Count',\n",
    "    title='Distribution of Churned Customers with Credit Cards',\n",
    "    labels={'HasCrCard': 'Has Credit Card', 'Count': 'Number of Churned Customers'},\n",
    "    text='Count'\n",
    ")\n",
    "\n",
    "# Customize the title and axis labels\n",
    "fig.update_layout(\n",
    "    title={\n",
    "        'text': \"Distribution of Churned Customers with Credit Cards\",\n",
    "        'y': 0.9,\n",
    "        'x': 0.5,\n",
    "        'xanchor': 'center',\n",
    "        'yanchor': 'top',\n",
    "        'font': {'size': 24}  # Adjust the font size of the title\n",
    "    },\n",
    "    xaxis_title={\n",
    "        'text': 'Has Credit Card',\n",
    "        'font': {'size': 18}  # Adjust the x-axis title font size\n",
    "    },\n",
    "    yaxis_title={\n",
    "        'text': 'Number of Churned Customers',\n",
    "        'font': {'size': 18}  # Adjust the y-axis title font size\n",
    "    }\n",
    ")\n",
    "\n",
    "# Adjust the font size of the tick labels\n",
    "fig.update_xaxes(\n",
    "    tickfont={'size': 14},\n",
    "    tickvals=[0, 1],  # Set the tick values to only 0 and 1\n",
    "    ticktext=['0', '1'],  # Set the tick text to \"0\" and \"1\"\n",
    "    type='category'  # Treat the x-axis as categorical\n",
    ")\n",
    "\n",
    "fig.update_yaxes(tickfont={'size': 14})\n",
    "\n",
    "# Customize the plot to display the counts on the bars\n",
    "fig.update_traces(texttemplate='%{text}', textposition='outside')\n",
    "\n",
    "fig.show()"
   ]
  },
  {
   "cell_type": "markdown",
   "metadata": {},
   "source": [
    "#### There is a much higher percentage of churned customers who have credit cards. The churn rate is 69.9\\%."
   ]
  },
  {
   "cell_type": "markdown",
   "metadata": {},
   "source": [
    "### <span style=\"color:red\">Is Active</span>"
   ]
  },
  {
   "cell_type": "code",
   "execution_count": null,
   "metadata": {},
   "outputs": [],
   "source": [
    "churn['Active'].value_counts()"
   ]
  },
  {
   "cell_type": "code",
   "execution_count": null,
   "metadata": {},
   "outputs": [],
   "source": [
    "# Group by 'Active' and 'Churned', then count occurrences\n",
    "active_churn_counts = churn.groupby(['Active', 'Churned']).size().reset_index(name='Count')"
   ]
  },
  {
   "cell_type": "code",
   "execution_count": null,
   "metadata": {},
   "outputs": [],
   "source": [
    "fig = px.bar(\n",
    "    active_churn_counts,\n",
    "    x='Active',\n",
    "    y='Count',\n",
    "    color='Churned',\n",
    "    barmode='group',\n",
    "    title='Churn Rate by Active Status',\n",
    "    labels={'Active': 'Active Status', 'Count': 'Number of Customers', 'Churned': 'Churned'}\n",
    ")\n",
    "\n",
    "# Customize the title and axis labels\n",
    "fig.update_layout(\n",
    "    title={\n",
    "        'text': \"Churn Rate by Active Status\",\n",
    "        'y': 0.9,\n",
    "        'x': 0.5,\n",
    "        'xanchor': 'center',\n",
    "        'yanchor': 'top',\n",
    "        'font': {'size': 24}  # Adjust the font size of the title\n",
    "    },\n",
    "    xaxis_title={\n",
    "        'text': 'Active Status',\n",
    "        'font': {'size': 18}  # Adjust the x-axis title font size\n",
    "    },\n",
    "    yaxis_title={\n",
    "        'text': 'Number of Customers',\n",
    "        'font': {'size': 18}  # Adjust the y-axis title font size\n",
    "    }\n",
    ")\n",
    "\n",
    "fig.show()"
   ]
  },
  {
   "cell_type": "markdown",
   "metadata": {},
   "source": [
    "#### There are 735 customers who have churned, but are still active."
   ]
  },
  {
   "cell_type": "code",
   "execution_count": null,
   "metadata": {},
   "outputs": [],
   "source": [
    "print(735 / len(churn))"
   ]
  },
  {
   "cell_type": "markdown",
   "metadata": {},
   "source": [
    "#### 7\\% of customers have churned, but are still active."
   ]
  },
  {
   "cell_type": "markdown",
   "metadata": {},
   "source": [
    "### <span style=\"color:red\">Salary</span>"
   ]
  },
  {
   "cell_type": "code",
   "execution_count": null,
   "metadata": {},
   "outputs": [],
   "source": [
    "churn['Salary'].min()"
   ]
  },
  {
   "cell_type": "code",
   "execution_count": null,
   "metadata": {},
   "outputs": [],
   "source": [
    "churn['Salary'].max()"
   ]
  },
  {
   "cell_type": "code",
   "execution_count": null,
   "metadata": {},
   "outputs": [],
   "source": [
    "# break the 'Salary' column into different levels.\n",
    "# Define custom bins and labels\n",
    "bins = [0, 20000, 50000, 90000, 130000, 175000, float('inf')]\n",
    "labels = ['very poor', 'poor', 'okay', 'good', 'very good', 'excellent']"
   ]
  },
  {
   "cell_type": "code",
   "execution_count": null,
   "metadata": {},
   "outputs": [],
   "source": [
    "# Bin the 'Salary' into defined levels and assign labels\n",
    "churn['SalaryLevel'] = pd.cut(churn['Salary'], bins=bins, labels=labels)"
   ]
  },
  {
   "cell_type": "code",
   "execution_count": null,
   "metadata": {},
   "outputs": [],
   "source": [
    "# Display the updated DataFrame\n",
    "display(churn.head(15))"
   ]
  },
  {
   "cell_type": "code",
   "execution_count": null,
   "metadata": {},
   "outputs": [],
   "source": [
    "# Group by 'CredScoreLevel' and 'Churned', then count occurrences\n",
    "salaryLevel_churn_counts = churn.groupby(['SalaryLevel', 'Churned']).size().reset_index(name='Count')"
   ]
  },
  {
   "cell_type": "code",
   "execution_count": null,
   "metadata": {},
   "outputs": [],
   "source": [
    "churn['SalaryLevel'].value_counts()"
   ]
  },
  {
   "cell_type": "code",
   "execution_count": null,
   "metadata": {},
   "outputs": [],
   "source": [
    "fig = px.bar(\n",
    "    salaryLevel_churn_counts,\n",
    "    x='SalaryLevel',\n",
    "    y='Count',\n",
    "    color='Churned',\n",
    "    barmode='group',\n",
    "    title='Churn Rate by Salary Level',\n",
    "    labels={'SalaryLevel': 'Salary Level', 'Count': 'Number of Customers', 'Churned': 'Churned'}\n",
    ")\n",
    "# Customize the title and axis labels\n",
    "fig.update_layout(\n",
    "    title={\n",
    "        'text': \"Churn Rate by Salary Level\",\n",
    "        'y': 0.9,\n",
    "        'x': 0.5,\n",
    "        'xanchor': 'center',\n",
    "        'yanchor': 'top',\n",
    "        'font': {'size': 24}  # Adjust the font size of the title\n",
    "    },\n",
    "    xaxis_title={\n",
    "        'text': 'Salary Level',\n",
    "        'font': {'size': 18}  # Adjust the x-axis title font size\n",
    "    },\n",
    "    yaxis_title={\n",
    "        'text': 'Number of Customers',\n",
    "        'font': {'size': 18}  # Adjust the y-axis title font size\n",
    "    }\n",
    ")\n",
    "# Show the plot\n",
    "fig.show()"
   ]
  },
  {
   "cell_type": "code",
   "execution_count": null,
   "metadata": {},
   "outputs": [],
   "source": [
    "print(\"Churn rate for customers with a 'very poor' salary:\")\n",
    "198 / (198 + 788) * 100"
   ]
  },
  {
   "cell_type": "code",
   "execution_count": null,
   "metadata": {},
   "outputs": [],
   "source": [
    "print(\"Churn rate for customers with a 'poor' salary:\")\n",
    "407 / (407 + 1176) * 100"
   ]
  },
  {
   "cell_type": "code",
   "execution_count": null,
   "metadata": {},
   "outputs": [],
   "source": [
    "print(\"Churn rate for customers with an 'okay' salary:\")\n",
    "291 / (291 + 1638) * 100"
   ]
  },
  {
   "cell_type": "code",
   "execution_count": null,
   "metadata": {},
   "outputs": [],
   "source": [
    "print(\"Churn rate for customers with a 'good' salary:\")\n",
    "402 / (402 + 1622) * 100"
   ]
  },
  {
   "cell_type": "code",
   "execution_count": null,
   "metadata": {},
   "outputs": [],
   "source": [
    "print(\"Churn rate for customers with a 'very good' salary:\")\n",
    "466 / (466 + 1752) * 100"
   ]
  },
  {
   "cell_type": "code",
   "execution_count": null,
   "metadata": {},
   "outputs": [],
   "source": [
    "print(\"Churn rate for customers with an 'excellent' salary:\")\n",
    "273 / (273 + 987) * 100"
   ]
  },
  {
   "cell_type": "markdown",
   "metadata": {},
   "source": [
    "#### Salary range explanation:\n",
    "- 'very poor'  ... `$0-$19,999`\n",
    "- 'poor'       ... `$20,000-$49,999`\n",
    "- 'okay'       ... `$50,000-$89,999`\n",
    "- 'good'       ... `$90,000-$130,000`\n",
    "- 'very good'  ... `$130,000-$175,000`\n",
    "- 'excellent'  ... `$175,001 and above`"
   ]
  },
  {
   "cell_type": "markdown",
   "metadata": {},
   "source": [
    "- Churn rate, by salary, ranges from 15\\% - 21.6\\%.\n",
    "- The salary group with the lowest churn rate is the 'okay' salary range."
   ]
  },
  {
   "cell_type": "markdown",
   "metadata": {},
   "source": [
    "<div class=\"alert alert-block alert-success\">\n",
    "<b>Reviewer's comment</b> <a class=\"tocSkip\"></a>\n",
    "\n",
    "Excellent analysis!\n",
    "</div>"
   ]
  },
  {
   "cell_type": "markdown",
   "metadata": {},
   "source": [
    "## <div style=\"color: red; border: 2px solid yellow; display: inline-block;\">Supervised Learning</div>"
   ]
  },
  {
   "cell_type": "markdown",
   "metadata": {},
   "source": [
    "### This next section will use the OHE dataframe."
   ]
  },
  {
   "cell_type": "code",
   "execution_count": null,
   "metadata": {},
   "outputs": [],
   "source": [
    "churn_ohe.info()"
   ]
  },
  {
   "cell_type": "code",
   "execution_count": null,
   "metadata": {},
   "outputs": [],
   "source": [
    "display(churn_ohe.head(15))"
   ]
  },
  {
   "cell_type": "markdown",
   "metadata": {},
   "source": [
    "<div class=\"alert alert-block alert-success\">\n",
    "<b>Reviewer's comment</b> <a class=\"tocSkip\"></a>\n",
    "\n",
    "Well done!\n",
    "</div>"
   ]
  },
  {
   "cell_type": "markdown",
   "metadata": {},
   "source": [
    "### <span style=\"color:red\">Split the Data</span>"
   ]
  },
  {
   "cell_type": "markdown",
   "metadata": {},
   "source": [
    "- Dropping the 'Name' column, as this does not add any valuable information for predicting the target."
   ]
  },
  {
   "cell_type": "code",
   "execution_count": null,
   "metadata": {},
   "outputs": [],
   "source": [
    "target = churn_ohe['Churned']\n",
    "features = churn_ohe.drop(['Churned', 'Name'], axis=1)"
   ]
  },
  {
   "cell_type": "markdown",
   "metadata": {},
   "source": [
    "<div class=\"alert alert-block alert-info\">\n",
    "<b>Old method. 80 / 20 split. Commenting out this next cell:</b> <a class=\"tocSkip\"></a>"
   ]
  },
  {
   "cell_type": "code",
   "execution_count": null,
   "metadata": {},
   "outputs": [],
   "source": [
    "#features_train, features_valid, target_train, target_valid = train_test_split(\n",
    "    #features, target, test_size=0.25, random_state=12345)"
   ]
  },
  {
   "cell_type": "markdown",
   "metadata": {},
   "source": [
    "<div class=\"alert alert-block alert-info\">\n",
    "<b>New method. This next cell does a 60/40 split. This includes a validation set:</b> <a class=\"tocSkip\"></a>"
   ]
  },
  {
   "cell_type": "code",
   "execution_count": null,
   "metadata": {},
   "outputs": [],
   "source": [
    "features_train, features_remaining, target_train, target_remaining = train_test_split(\n",
    "    features, target, test_size=0.40, random_state=12345\n",
    ")"
   ]
  },
  {
   "cell_type": "markdown",
   "metadata": {},
   "source": [
    "<div class=\"alert alert-block alert-info\">\n",
    "<b>This next cell takes the remaining 40&#37; and splits it evenly into validation (20&#37;) and test (20&#37;).</b> <a class=\"tocSkip\"></a>\n",
    "</div>"
   ]
  },
  {
   "cell_type": "code",
   "execution_count": null,
   "metadata": {},
   "outputs": [],
   "source": [
    "#includes a validation set...\n",
    "features_valid, features_test, target_valid, target_test = train_test_split(\n",
    "    features_remaining, target_remaining, test_size=0.50, random_state=12345\n",
    ")"
   ]
  },
  {
   "cell_type": "markdown",
   "metadata": {},
   "source": [
    "<div class=\"alert alert-block alert-info\">\n",
    "<b>Summary:</b> \n",
    "<br>\n",
    "- Training Set (60%): Used to train the model.\n",
    "<br>\n",
    "- Validation Set (20%): Used for hyperparameter tuning.\n",
    "<br>\n",
    "- Test Set (20%): Used for final evaluation of the model.  <a class=\"tocSkip\"></a> \n",
    "</div>"
   ]
  },
  {
   "cell_type": "markdown",
   "metadata": {},
   "source": [
    "\n",
    "\n",
    "\n",
    "\n",
    "\n",
    "<div class=\"alert alert-block alert-info\">\n",
    "<b>When a 3-way(Train, Validation, Test) split is necessary :</b> \n",
    "<br>\n",
    "- Hyperparameter Tuning\n",
    "<br>\n",
    "- Avoiding Overfitting<a class=\"tocSkip\"></a> \n",
    "</div>"
   ]
  },
  {
   "cell_type": "markdown",
   "metadata": {},
   "source": [
    "<div class=\"alert alert-block alert-danger\">\n",
    "<b>Reviewer's comment</b> <a class=\"tocSkip\"></a>\n",
    "\n",
    "<s>Something needs to be changed, but don't worry, you've got this.\n",
    "    \n",
    "<s>We need to split data into train, val and test datasets if we want use hyperparameters tuning. Train + val is used for tuning and test for final metric. This scheme helps us avoid overfitting.\n",
    "</div>"
   ]
  },
  {
   "cell_type": "markdown",
   "metadata": {},
   "source": [
    "<div class=\"alert alert-block alert-info\">\n",
    "<b>Thank you for explaining that.</b> <a class=\"tocSkip\"></a>"
   ]
  },
  {
   "cell_type": "markdown",
   "metadata": {},
   "source": [
    "<div class=\"alert alert-block alert-success\">\n",
    "<b>Reviewer's comment</b> <a class=\"tocSkip\"></a>\n",
    "\n",
    "Well done!\n",
    "</div>"
   ]
  },
  {
   "cell_type": "markdown",
   "metadata": {},
   "source": [
    "### <span style=\"color:red\">Create the model</span>"
   ]
  },
  {
   "cell_type": "markdown",
   "metadata": {},
   "source": [
    "- <span style=\"color:red\">Logistic Regression model ... unbalanced:</span>"
   ]
  },
  {
   "cell_type": "code",
   "execution_count": null,
   "metadata": {},
   "outputs": [],
   "source": [
    "Logmodel = LogisticRegression(random_state=12345, solver='liblinear')"
   ]
  },
  {
   "cell_type": "code",
   "execution_count": null,
   "metadata": {},
   "outputs": [],
   "source": [
    "Logmodel.fit(features_train, target_train)"
   ]
  },
  {
   "cell_type": "markdown",
   "metadata": {},
   "source": [
    "### Predict and evalute the Logistic Regression unbalanced model:"
   ]
  },
  {
   "cell_type": "code",
   "execution_count": null,
   "metadata": {},
   "outputs": [],
   "source": [
    "predicted_valid = Logmodel.predict(features_valid)"
   ]
  },
  {
   "cell_type": "code",
   "execution_count": null,
   "metadata": {},
   "outputs": [],
   "source": [
    "accuracy_valid = accuracy_score(target_valid, predicted_valid)\n",
    "\n",
    "print(accuracy_valid)"
   ]
  },
  {
   "cell_type": "markdown",
   "metadata": {},
   "source": [
    "#### 79\\% is not great. "
   ]
  },
  {
   "cell_type": "markdown",
   "metadata": {},
   "source": [
    "<div class=\"alert alert-block alert-info\">\n",
    "<b>Deb's comments (ver 1):</b>\n",
    "<br>\n",
    "- Using F1 score, instead of Accuracy. <a class=\"tocSkip\"></a>"
   ]
  },
  {
   "cell_type": "code",
   "execution_count": null,
   "metadata": {},
   "outputs": [],
   "source": [
    "# Calculate the F1 Score for the validation set\n",
    "print('F1 Score:', f1_score(target_valid, predicted_valid, zero_division=1))"
   ]
  },
  {
   "cell_type": "markdown",
   "metadata": {},
   "source": [
    "#### 0\\% is not good. "
   ]
  },
  {
   "cell_type": "markdown",
   "metadata": {},
   "source": [
    "<div class=\"alert alert-block alert-warning\">\n",
    "<b>Reviewer's comment</b> <a class=\"tocSkip\"></a>\n",
    "\n",
    "<s>Our main metric is F1\n",
    "</div>"
   ]
  },
  {
   "cell_type": "markdown",
   "metadata": {},
   "source": [
    "<div class=\"alert alert-block alert-info\">\n",
    "<b>Deb's comments (ver 1):</b>\n",
    "<br>\n",
    "- The F1 score, which is the harmonic mean of precision and recall, provides a better measure of a model's accuracy on imbalanced datasets than the simple accuracy metric. <a class=\"tocSkip\"></a>"
   ]
  },
  {
   "cell_type": "markdown",
   "metadata": {},
   "source": [
    "### Sanity Check"
   ]
  },
  {
   "cell_type": "code",
   "execution_count": null,
   "metadata": {},
   "outputs": [],
   "source": [
    "target_pred_constant = pd.Series(0, index=target.index)"
   ]
  },
  {
   "cell_type": "markdown",
   "metadata": {},
   "source": [
    "<div class=\"alert alert-block alert-info\">\n",
    "<b>Deb's comments (ver 1):</b>\n",
    "<br>\n",
    "- I had to add in this next cell, because now that the data is split in 3, I was getting an error. However, now, both the dummy and the non-dummy give the same accuracy score.<a class=\"tocSkip\"></a>"
   ]
  },
  {
   "cell_type": "code",
   "execution_count": null,
   "metadata": {},
   "outputs": [],
   "source": [
    "# Correct the length of target_pred_constant to match target_valid\n",
    "target_pred_constant = target_pred_constant.loc[target_valid.index]"
   ]
  },
  {
   "cell_type": "code",
   "execution_count": null,
   "metadata": {},
   "outputs": [],
   "source": [
    "# Dummy Evaluation metrics\n",
    "print('Dummy Accuracy:', accuracy_score(target_valid, target_pred_constant))\n",
    "print('Dummy Precision:', precision_score(target_valid, target_pred_constant, zero_division=1))\n",
    "print('Dummy Recall:', recall_score(target_valid, target_pred_constant, zero_division=1))\n",
    "print('Dummy F1 Score:', f1_score(target_valid, target_pred_constant, zero_division=1))\n",
    "\n",
    "print('\\n')\n",
    "print('Dummy Confusion Matrix:\\n', confusion_matrix(target_valid, target_pred_constant))"
   ]
  },
  {
   "cell_type": "markdown",
   "metadata": {},
   "source": [
    "<div class=\"alert alert-block alert-info\">\n",
    "<b>Deb's comments (ver 2):</b>\n",
    "<br>\n",
    "- The 2 cells above have changed.  <a class=\"tocSkip\"></a>"
   ]
  },
  {
   "cell_type": "markdown",
   "metadata": {},
   "source": [
    "<div class=\"alert alert-block alert-info\">\n",
    "<b>Deb's comments (ver 3):</b>\n",
    "<br>\n",
    "-  So, this is the 3rd version where TT did not save the correct code. I have just added back in my ver1 notes, above, and added in the line of code that the TT site deleted. <a class=\"tocSkip\"></a>"
   ]
  },
  {
   "cell_type": "markdown",
   "metadata": {},
   "source": [
    "The results indicate that the output of the accuracy_score for the model (0.791) is not better than the accuracy score for a dummy classifier that always predicts the majority class. This implies that the dataset is imbalanced, with one class being significantly more frequent than the other. In this case, accuracy is not a reliable metric for model performance."
   ]
  },
  {
   "cell_type": "markdown",
   "metadata": {},
   "source": [
    "- The model did not predict any instances of the minority class. \n",
    "- The confusion matrix shows no true positives or false positives for class 1."
   ]
  },
  {
   "cell_type": "markdown",
   "metadata": {},
   "source": [
    "<div class=\"alert alert-block alert-success\">\n",
    "<b>Reviewer's comment</b> <a class=\"tocSkip\"></a>\n",
    "\n",
    "Good job making sanity check!\n",
    "</div>"
   ]
  },
  {
   "cell_type": "markdown",
   "metadata": {},
   "source": [
    "### Things to consider when choosing which threshold:\n",
    "\n",
    "<b>Recall:</b>\n",
    "- If missing a positive case is very costly (e.g., medical diagnoses, fraud detection), prioritize recall.\n",
    "\n",
    "<b>Precision: </b>\n",
    "- If falsely identifying a positive is costly (e.g., spam detection), prioritize precision.\n",
    "\n",
    "<b>F1 Score: </b>\n",
    "- If you need a balance between precision and recall, prioritize the F1 score.\n",
    "\n",
    "<b>Accuracy: </b>\n",
    "- General cases with balanced datasets where both classes are equally important.\n"
   ]
  },
  {
   "cell_type": "markdown",
   "metadata": {},
   "source": [
    "#### Considering this, I think that F1 would be the best to prioritize."
   ]
  },
  {
   "cell_type": "markdown",
   "metadata": {},
   "source": [
    "- <span style=\"color:red\">Logistic Regression model ... balanced:</span>"
   ]
  },
  {
   "cell_type": "code",
   "execution_count": null,
   "metadata": {},
   "outputs": [],
   "source": [
    "Logmodel2 = LogisticRegression(solver='liblinear', class_weight='balanced', random_state=12345)\n",
    "Logmodel2.fit(features_train, target_train)\n",
    "predicted_valid = Logmodel2.predict(features_valid)"
   ]
  },
  {
   "cell_type": "code",
   "execution_count": null,
   "metadata": {},
   "outputs": [],
   "source": [
    "probabilities_valid = Logmodel2.predict_proba(features_valid)[:, 1]\n",
    "print(probabilities_valid)"
   ]
  },
  {
   "cell_type": "markdown",
   "metadata": {},
   "source": [
    "#### Try new thresholds"
   ]
  },
  {
   "cell_type": "markdown",
   "metadata": {},
   "source": [
    "<div class=\"alert alert-block alert-info\">\n",
    "<b>Deb's comments (ver 1):</b>\n",
    "<br>\n",
    "- Trying new thresholds, using a loop. <a class=\"tocSkip\"></a>"
   ]
  },
  {
   "cell_type": "code",
   "execution_count": null,
   "metadata": {},
   "outputs": [],
   "source": [
    "# Define a range of thresholds to evaluate\n",
    "thresholds = np.arange(0.1, 0.9, 0.1)"
   ]
  },
  {
   "cell_type": "code",
   "execution_count": null,
   "metadata": {},
   "outputs": [],
   "source": [
    "for threshold in thresholds:\n",
    "    predicted_valid_threshold = (probabilities_valid >= threshold).astype(int)\n",
    "    \n",
    "    # ANSI escape sequences for blue text and reset\n",
    "    BLUE = '\\033[94m'\n",
    "    RESET = '\\033[0m'\n",
    "\n",
    "    print(f'{BLUE}Threshold: {threshold}{RESET}')\n",
    "    print('\\n')\n",
    "    \n",
    "    print('Accuracy:', accuracy_score(target_valid, predicted_valid_threshold))\n",
    "    print('Precision:', precision_score(target_valid, predicted_valid_threshold, zero_division=1))\n",
    "    print('Recall:', recall_score(target_valid, predicted_valid_threshold, zero_division=1))\n",
    "    print('F1 Score:', f1_score(target_valid, predicted_valid_threshold, zero_division=1))\n",
    "    \n",
    "    print('\\n')\n",
    "    print('Confusion Matrix:\\n', confusion_matrix(target_valid, predicted_valid_threshold))\n",
    "    print('\\n')\n",
    "    print('\\n')"
   ]
  },
  {
   "cell_type": "markdown",
   "metadata": {},
   "source": [
    "<div class=\"alert alert-block alert-info\">\n",
    "<b>Deb's comments (ver 1):</b>\n",
    "<br>\n",
    "- Scroll to see the results. <a class=\"tocSkip\"></a>"
   ]
  },
  {
   "cell_type": "markdown",
   "metadata": {},
   "source": [
    "### As threshold goes up, False Negatives go up (Confusion Matrix: low left corner.)"
   ]
  },
  {
   "cell_type": "markdown",
   "metadata": {},
   "source": [
    "#### I don't think that Logistic Regression is the best model to use to make predictions for this dataset. I cannot get a good F1 score. I have tried different thresholds."
   ]
  },
  {
   "cell_type": "markdown",
   "metadata": {},
   "source": [
    "<div class=\"alert alert-block alert-info\">\n",
    "<b>Deb's comments (ver 3):</b>\n",
    "<br>\n",
    "- Above loop section was fixed 2 versions ago. But, TT site did not save my code nor did it save my import numpy as np, nor did it save my ver1 comments in the section just above. I am pasting my comments back in, and pasting in the corrected code again, again. <a class=\"tocSkip\"></a>"
   ]
  },
  {
   "cell_type": "markdown",
   "metadata": {},
   "source": [
    "<div class=\"alert alert-block alert-warning\">\n",
    "<b>Reviewer's comment</b> <a class=\"tocSkip\"></a>\n",
    "\n",
    "Pro tip: we can check more threshold using loop (for range ...)\n",
    "</div>"
   ]
  },
  {
   "cell_type": "markdown",
   "metadata": {},
   "source": [
    "- <span style=\"color:red\">Decision Tree model ... unbalanced</span>"
   ]
  },
  {
   "cell_type": "code",
   "execution_count": null,
   "metadata": {},
   "outputs": [],
   "source": [
    "Treemodel = DecisionTreeClassifier(random_state=12345)"
   ]
  },
  {
   "cell_type": "code",
   "execution_count": null,
   "metadata": {},
   "outputs": [],
   "source": [
    "Treemodel.fit(features_train, target_train)"
   ]
  },
  {
   "cell_type": "code",
   "execution_count": null,
   "metadata": {},
   "outputs": [],
   "source": [
    "predicted_valid = Treemodel.predict(features_valid)"
   ]
  },
  {
   "cell_type": "code",
   "execution_count": null,
   "metadata": {},
   "outputs": [],
   "source": [
    "print(confusion_matrix(target_valid, predicted_valid))"
   ]
  },
  {
   "cell_type": "markdown",
   "metadata": {},
   "source": [
    "### Explanation of Confusion Matrix:\n",
    "\n",
    "- TN in the upper-left corner\n",
    "- TP in the lower right corner\n",
    "\n",
    "- FP in the upper right corner\n",
    "- FN in the lower-left corner"
   ]
  },
  {
   "cell_type": "markdown",
   "metadata": {},
   "source": [
    "#### TP, in lower right corner of the confusion matrix, at 258, is very low."
   ]
  },
  {
   "cell_type": "markdown",
   "metadata": {},
   "source": [
    "### Balance the data"
   ]
  },
  {
   "cell_type": "markdown",
   "metadata": {},
   "source": [
    "- <span style=\"color:red\">Inspect the Target ('Churned' column)</span>"
   ]
  },
  {
   "cell_type": "code",
   "execution_count": null,
   "metadata": {},
   "outputs": [],
   "source": [
    "class_counts = churn_ohe['Churned'].value_counts()\n",
    "class_proportions = class_counts / len(churn_ohe)\n",
    "print(class_proportions)"
   ]
  },
  {
   "cell_type": "markdown",
   "metadata": {},
   "source": [
    "#### It is imbalanced. 80\\% remained as customers. 20\\% have churned."
   ]
  },
  {
   "cell_type": "markdown",
   "metadata": {},
   "source": [
    "- <span style=\"color:red\">Decision Tree model ... balanced</span>"
   ]
  },
  {
   "cell_type": "markdown",
   "metadata": {},
   "source": [
    "#### Try different tree depths"
   ]
  },
  {
   "cell_type": "code",
   "execution_count": null,
   "metadata": {},
   "outputs": [],
   "source": [
    "for depth in range(1, 7):\n",
    "    Treemodel2 = DecisionTreeClassifier(random_state=12345, max_depth=depth)\n",
    "    Treemodel2.fit(features_train, target_train)\n",
    "    predictions_valid = Treemodel2.predict(features_valid)\n",
    "    \n",
    "    print('max_depth =', depth, ': ', end='')\n",
    "    print(accuracy_score(target_valid, predictions_valid))\n",
    "    \n",
    "    precision = precision_score(target_valid, predictions_valid, zero_division=1)\n",
    "    recall = recall_score(target_valid, predictions_valid, zero_division=1)\n",
    "    f1 = f1_score(target_valid, predictions_valid, zero_division=1)\n",
    "    conf_matrix = confusion_matrix(target_valid, predictions_valid)\n"
   ]
  },
  {
   "cell_type": "code",
   "execution_count": null,
   "metadata": {},
   "outputs": [],
   "source": [
    "    print(\"Precision:\")\n",
    "    print(precision)\n",
    "    print('\\n')\n",
    "    \n",
    "    print(\"Recall:\")\n",
    "    print(recall)\n",
    "    print('\\n')\n",
    "    \n",
    "    print(\"F1:\")\n",
    "    print(f1)\n",
    "    print('\\n')\n",
    "    \n",
    "    print(\"Confusion matrix:\")\n",
    "    print(conf_matrix)"
   ]
  },
  {
   "cell_type": "markdown",
   "metadata": {},
   "source": [
    "#### F1 is still low."
   ]
  },
  {
   "cell_type": "markdown",
   "metadata": {},
   "source": [
    "- <span style=\"color:red\">Random Forest model ... unbalanced</span>"
   ]
  },
  {
   "cell_type": "code",
   "execution_count": null,
   "metadata": {},
   "outputs": [],
   "source": [
    "best_score = 0\n",
    "best_est = 0"
   ]
  },
  {
   "cell_type": "code",
   "execution_count": null,
   "metadata": {},
   "outputs": [],
   "source": [
    "for est in range(1, 11):\n",
    "    RFmodel = RandomForestClassifier(random_state=54321, n_estimators=est)\n",
    "    RFmodel.fit(features_train, target_train)\n",
    "    \n",
    "    predictions_valid = RFmodel.predict(features_valid)\n",
    "    \n",
    "    f1 = f1_score(target_valid, predictions_valid, zero_division=1)\n",
    "    \n",
    "    if f1 > best_score:\n",
    "        best_score = f1\n",
    "        best_est = est"
   ]
  },
  {
   "cell_type": "code",
   "execution_count": null,
   "metadata": {},
   "outputs": [],
   "source": [
    "print(f'Best F1 Score on Validation Set: {best_score}')\n",
    "print(f'Best n_estimators: {best_est}')"
   ]
  },
  {
   "cell_type": "markdown",
   "metadata": {},
   "source": [
    "<div class=\"alert alert-block alert-info\">\n",
    "<b>Deb's comments (ver 3):</b>\n",
    "<br>\n",
    "- Again, TT site deleted my saved code. I keep doing File / Save and Checkpoint, every few minutes, and I see the message that says, \"Save at timestamp\", but it does not save. I'm pasting in the corrected code again, again. <a class=\"tocSkip\"></a>"
   ]
  },
  {
   "cell_type": "markdown",
   "metadata": {},
   "source": [
    "<div class=\"alert alert-block alert-info\">\n",
    "<b>Deb's comments (ver 1):</b>\n",
    "<br>\n",
    "Now using only features_valid for this line (above):\n",
    "  predictions_valid = RFmodel.predict(features_valid) <a class=\"tocSkip\"></a>"
   ]
  },
  {
   "cell_type": "markdown",
   "metadata": {},
   "source": [
    "<div class=\"alert alert-block alert-danger\">\n",
    "<b>Reviewer's comment</b> <a class=\"tocSkip\"></a>\n",
    "\n",
    "We need to use train+val for tuning hyperparameters (est here) and check best model on test dataset.\n",
    "</div>"
   ]
  },
  {
   "cell_type": "markdown",
   "metadata": {},
   "source": [
    "- <span style=\"color:red\">Random Forest model ... balanced</span>"
   ]
  },
  {
   "cell_type": "code",
   "execution_count": null,
   "metadata": {},
   "outputs": [],
   "source": [
    "# Combine the feature and target training sets into a single DataFrame\n",
    "train_data = pd.concat([features_train, target_train], axis=1)"
   ]
  },
  {
   "cell_type": "code",
   "execution_count": null,
   "metadata": {},
   "outputs": [],
   "source": [
    "# Separate the majority and minority classes\n",
    "majority_class = train_data[train_data['Churned'] == 0]\n",
    "minority_class = train_data[train_data['Churned'] == 1]"
   ]
  },
  {
   "cell_type": "code",
   "execution_count": null,
   "metadata": {},
   "outputs": [],
   "source": [
    "# Downsample the majority class\n",
    "majority_downsampled = resample(majority_class,\n",
    "                                replace=False,    \n",
    "                                n_samples=len(minority_class),  # match minority class size\n",
    "                                random_state=123)  "
   ]
  },
  {
   "cell_type": "code",
   "execution_count": null,
   "metadata": {},
   "outputs": [],
   "source": [
    "# Combine the minority class with the downsampled majority class\n",
    "downsampled_train_data = pd.concat([majority_downsampled, minority_class])"
   ]
  },
  {
   "cell_type": "markdown",
   "metadata": {},
   "source": [
    "<div class=\"alert alert-block alert-danger\">\n",
    "<b>Reviewer's comment</b> <a class=\"tocSkip\"></a>\n",
    "\n",
    "Something needs to be fixed =)\n",
    "</div>"
   ]
  },
  {
   "cell_type": "markdown",
   "metadata": {},
   "source": [
    "<div class=\"alert alert-block alert-info\">\n",
    "<b>Deb's comments (ver 1):</b>\n",
    "<br>\n",
    "I think that there is a bug, on the TT site, where some cells did not save. I have just done a cut-n-paste, from my local ver 1, and error is gone. <a class=\"tocSkip\"></a>"
   ]
  },
  {
   "cell_type": "markdown",
   "metadata": {},
   "source": [
    "### balance the data using downsampling"
   ]
  },
  {
   "cell_type": "code",
   "execution_count": null,
   "metadata": {},
   "outputs": [],
   "source": [
    "# Separate features and target variable from the downsampled training set\n",
    "features_resampled = downsampled_train_data.drop('Churned', axis=1)\n",
    "target_resampled = downsampled_train_data['Churned']"
   ]
  },
  {
   "cell_type": "code",
   "execution_count": null,
   "metadata": {},
   "outputs": [],
   "source": [
    "# Check balanced class distribution\n",
    "print(\"Class distribution after downsampling:\")\n",
    "print(target_resampled.value_counts())"
   ]
  },
  {
   "cell_type": "markdown",
   "metadata": {},
   "source": [
    "#### Data looks balanced now."
   ]
  },
  {
   "cell_type": "markdown",
   "metadata": {},
   "source": [
    "### <span style=\"color:red\">Final model</span>"
   ]
  },
  {
   "cell_type": "markdown",
   "metadata": {},
   "source": [
    "### Build a new Random Forest model."
   ]
  },
  {
   "cell_type": "code",
   "execution_count": null,
   "metadata": {},
   "outputs": [],
   "source": [
    "# Train and evaluate the Random Forest model\n",
    "rf_clf = RandomForestClassifier(random_state=54321, n_estimators=100)"
   ]
  },
  {
   "cell_type": "code",
   "execution_count": null,
   "metadata": {},
   "outputs": [],
   "source": [
    "# Train the model on the resampled dataset\n",
    "rf_clf.fit(features_resampled, target_resampled)"
   ]
  },
  {
   "cell_type": "code",
   "execution_count": null,
   "metadata": {},
   "outputs": [],
   "source": [
    "# Predict probabilities on the validation set\n",
    "probabilities_valid = rf_clf.predict_proba(features_valid)[:, 1]"
   ]
  },
  {
   "cell_type": "markdown",
   "metadata": {},
   "source": [
    "#### Use different threshold."
   ]
  },
  {
   "cell_type": "code",
   "execution_count": null,
   "metadata": {},
   "outputs": [],
   "source": [
    "# Predict using a new threshold\n",
    "new_threshold = 0.6\n",
    "predicted_valid_threshold = (probabilities_valid >= new_threshold).astype(int)"
   ]
  },
  {
   "cell_type": "code",
   "execution_count": null,
   "metadata": {},
   "outputs": [],
   "source": [
    "# Evaluate the RF model\n",
    "print('Accuracy:', accuracy_score(target_valid, predicted_valid_threshold))\n",
    "print('Precision:', precision_score(target_valid, predicted_valid_threshold, zero_division=1))\n",
    "print('Recall:', recall_score(target_valid, predicted_valid_threshold, zero_division=1))\n",
    "print('F1 Score:', f1_score(target_valid, predicted_valid_threshold, zero_division=1))\n",
    "print('\\n')\n",
    "print('Confusion Matrix:\\n', confusion_matrix(target_valid, predicted_valid_threshold))"
   ]
  },
  {
   "cell_type": "code",
   "execution_count": null,
   "metadata": {},
   "outputs": [],
   "source": [
    "#### F1 score is now 60.1\\%. Accuracy is now 81.8\\%."
   ]
  },
  {
   "cell_type": "markdown",
   "metadata": {},
   "source": [
    "- <span style=\"color:red\">Find AUC-ROC:</span>"
   ]
  },
  {
   "cell_type": "code",
   "execution_count": null,
   "metadata": {},
   "outputs": [],
   "source": [
    "# Calculate the AUC-ROC score\n",
    "auc_roc = roc_auc_score(target_valid, probabilities_valid)\n",
    "\n",
    "print('AUC-ROC Score:', auc_roc)"
   ]
  },
  {
   "cell_type": "markdown",
   "metadata": {},
   "source": [
    "#### AUC ROC of .855 is very good."
   ]
  },
  {
   "cell_type": "markdown",
   "metadata": {},
   "source": [
    "### Explanation of Auc-Roc score:\n",
    "- 0.5 indicates a model that makes random predictions.\n",
    "- 1.0 indicates a perfect model.\n",
    "- Greater than 0.8 is often considered indicative of a strong model.\n",
    "- Greater than 0.9 is excellent."
   ]
  },
  {
   "cell_type": "code",
   "execution_count": null,
   "metadata": {},
   "outputs": [],
   "source": [
    "# Plot the ROC curve\n",
    "fpr, tpr, thresholds = roc_curve(target_valid, probabilities_valid)\n",
    "fig = px.area(\n",
    "    x=fpr, y=tpr,\n",
    "    title=f'Receiver Operating Characteristic (ROC) Curve (AUC = {auc_roc:.2f})',\n",
    "    labels=dict(x='False Positive Rate', y='True Positive Rate'),\n",
    "    width=800, height=600\n",
    ")\n",
    "\n",
    "fig.add_shape(\n",
    "    type='line',\n",
    "    line=dict(dash='dash'),\n",
    "    x0=0, x1=1, y0=0, y1=1\n",
    ")\n",
    "\n",
    "fig.update_layout(\n",
    "    title={\n",
    "        'text': f'Receiver Operating Characteristic (ROC) Curve (AUC = {auc_roc:.2f})',\n",
    "        'y':0.9,\n",
    "        'x':0.5,\n",
    "        'xanchor': 'center',\n",
    "        'yanchor': 'top',\n",
    "        'font': {'size': 20}  # Adjust the size as needed\n",
    "    }\n",
    ")\n",
    "fig.update_yaxes(scaleanchor=\"x\", scaleratio=1)\n",
    "fig.update_xaxes(constrain='domain')\n",
    "fig.show()"
   ]
  },
  {
   "cell_type": "markdown",
   "metadata": {},
   "source": [
    "## <div style=\"color: red; border: 2px solid yellow; display: inline-block;\">Conclusion:</div>"
   ]
  },
  {
   "cell_type": "markdown",
   "metadata": {},
   "source": [
    "## Exploring the Data:\n",
    "\n",
    "<b>Credit Score</b>\n",
    "- The highest churn rate is for customers with 'very poor' credit (349-424), at 47.1\\% churn rate.\n",
    "- The lowest churn rate is for customers with 'very good' credit (650-724), at 18.5\\% churn rate.\n",
    "\n",
    "<b>Geography</b>\n",
    "- There are 3 regions in this dataset: France, Germany, Spain.\n",
    "- Most customers are from France.\n",
    "- The highest churn rate is from Germany, at 48\\%.\n",
    "\n",
    "<b>Gender</b>\n",
    "- Most customers are male. The churn rate, for males, is 16.45\\%.\n",
    "- Most customers who churn are female, at 25\\%\n",
    "\n",
    "<b>Age</b>\n",
    "- The minimum age of customers is 18. The maximum is 92.\n",
    "- The lowest churn rate comes from the 23-48 age group, with the very lowest churn rate being ages 35-37 years old.\n",
    "\n",
    "<b>Tenure</b>\n",
    "- Customers tenure goes from 0-11 years.\n",
    "- Most customers have a tenure of 5 years.\n",
    "- Customers who have a tenure of 1 year, or less, have the highest churn rate.\n",
    "- Customers who have a tenure of 7 years have the lowest churn rate.\n",
    "\n",
    "<b>Bank Balance</b>\n",
    "- Bank balances range from \\$0 - 250,898.\n",
    "- The average bank balance is \\$76,485.\n",
    "- The median churn rate, based on balance, is \\$109,349.\n",
    "\n",
    "<b>Number of Products</b>\n",
    "- Most customers have only 1 product.\n",
    "- The lowest churn rate is for customers with 2 products.\n",
    "- The churn rate for customers with 3 products is 82\\%.\n",
    "- The highest churn rate is for customers with 4 products, at 100\\%.\n",
    "\n",
    "<b>Has Credit Card</b>\n",
    "- 69.91\\% of customers who have churned have a credit card.\n",
    "\n",
    "<b>Is Active</b>\n",
    "- 7\\% of customers who have churned are still active.\n",
    "\n",
    "<b>Salary</b>\n",
    "- Salaries range from \\$12 - 200,000.\n",
    "- The majority of customers have a very good salary, in the range of \\$130,000 - 175,000.\n",
    "- The lowest churn rate is for customers with an \"okay\" salary of \\$50,000 - 89,000.\n",
    "- The highest churn rate is for customers with a \"poor\" salary of \\$ 20,000 - 49,000.\n",
    "\n",
    "<b>Supervised Learning</b>\n",
    "- The best model was the Random Forest model, using data that was downsampled to balance the data.\n",
    "- f1 was .616\n",
    "- Accuracy was 82.1\\%.\n",
    "\n",
    "<b>AUC ROC</b>\n",
    "- The AUC ROC scored 86\\% which is very good."
   ]
  },
  {
   "cell_type": "markdown",
   "metadata": {},
   "source": [
    "<div class=\"alert alert-block alert-success\">\n",
    "<b>Reviewer's comment</b> <a class=\"tocSkip\"></a>\n",
    "\n",
    "Great final conclusion!\n",
    "</div>"
   ]
  },
  {
   "cell_type": "markdown",
   "metadata": {},
   "source": [
    "<div class=\"alert alert-block alert-info\">\n",
    "<b>Deb's comments (ver 1):</b>\n",
    "<br>\n",
    "TT site is not saving my code. I have pasted in my ver1 notes again, and all the missing code. So, to recap, nothing changed between this version and the last version, except pasting in my code again that the TT site just repeatedly keeps deleting.<a class=\"tocSkip\"></a>"
   ]
  }
 ],
 "metadata": {
  "ExecuteTimeLog": [
   {
    "duration": 290,
    "start_time": "2024-09-15T16:43:38.197Z"
   },
   {
    "duration": 596,
    "start_time": "2024-09-15T16:47:33.248Z"
   },
   {
    "duration": 3,
    "start_time": "2024-09-15T16:48:44.168Z"
   },
   {
    "duration": 859,
    "start_time": "2024-09-15T20:43:03.437Z"
   },
   {
    "duration": 235,
    "start_time": "2024-09-15T20:43:04.930Z"
   },
   {
    "duration": 30,
    "start_time": "2024-09-15T20:43:12.707Z"
   },
   {
    "duration": 5,
    "start_time": "2024-09-15T20:43:51.696Z"
   },
   {
    "duration": 4,
    "start_time": "2024-09-15T20:44:03.084Z"
   },
   {
    "duration": 9,
    "start_time": "2024-09-15T20:44:09.714Z"
   },
   {
    "duration": 14,
    "start_time": "2024-09-15T21:05:07.886Z"
   },
   {
    "duration": 5,
    "start_time": "2024-09-15T21:05:29.001Z"
   },
   {
    "duration": 5,
    "start_time": "2024-09-15T21:10:05.476Z"
   },
   {
    "duration": 11,
    "start_time": "2024-09-15T21:11:12.546Z"
   },
   {
    "duration": 4,
    "start_time": "2024-09-15T21:22:12.558Z"
   },
   {
    "duration": 10,
    "start_time": "2024-09-15T21:22:20.286Z"
   },
   {
    "duration": 388,
    "start_time": "2024-09-15T21:23:58.105Z"
   },
   {
    "duration": 40,
    "start_time": "2024-09-15T21:24:42.738Z"
   },
   {
    "duration": 11,
    "start_time": "2024-09-15T21:25:06.197Z"
   },
   {
    "duration": 18,
    "start_time": "2024-09-15T21:25:13.738Z"
   },
   {
    "duration": 14,
    "start_time": "2024-09-15T21:25:34.912Z"
   },
   {
    "duration": 848,
    "start_time": "2024-09-15T22:15:16.675Z"
   },
   {
    "duration": 43,
    "start_time": "2024-09-15T22:15:18.458Z"
   },
   {
    "duration": 3,
    "start_time": "2024-09-15T22:15:39.061Z"
   },
   {
    "duration": 9,
    "start_time": "2024-09-15T22:15:41.050Z"
   },
   {
    "duration": 5,
    "start_time": "2024-09-15T22:15:43.984Z"
   },
   {
    "duration": 10,
    "start_time": "2024-09-15T22:15:45.468Z"
   },
   {
    "duration": 4,
    "start_time": "2024-09-15T22:15:50.161Z"
   },
   {
    "duration": 10,
    "start_time": "2024-09-15T22:15:51.011Z"
   },
   {
    "duration": 13,
    "start_time": "2024-09-15T22:15:54.026Z"
   },
   {
    "duration": 557,
    "start_time": "2024-09-15T22:24:37.805Z"
   },
   {
    "duration": 3,
    "start_time": "2024-09-15T22:37:23.269Z"
   },
   {
    "duration": 43,
    "start_time": "2024-09-15T22:37:24.201Z"
   },
   {
    "duration": 3,
    "start_time": "2024-09-15T22:37:25.898Z"
   },
   {
    "duration": 17,
    "start_time": "2024-09-15T22:37:26.391Z"
   },
   {
    "duration": 4,
    "start_time": "2024-09-15T22:37:26.881Z"
   },
   {
    "duration": 10,
    "start_time": "2024-09-15T22:37:27.552Z"
   },
   {
    "duration": 6,
    "start_time": "2024-09-15T22:37:28.833Z"
   },
   {
    "duration": 10,
    "start_time": "2024-09-15T22:37:29.315Z"
   },
   {
    "duration": 13,
    "start_time": "2024-09-15T22:37:30.617Z"
   },
   {
    "duration": 89,
    "start_time": "2024-09-15T22:37:40.340Z"
   },
   {
    "duration": 442,
    "start_time": "2024-09-15T22:39:01.623Z"
   },
   {
    "duration": 62,
    "start_time": "2024-09-15T22:45:07.382Z"
   },
   {
    "duration": 71,
    "start_time": "2024-09-15T22:46:05.972Z"
   },
   {
    "duration": 485,
    "start_time": "2024-09-15T22:50:20.969Z"
   },
   {
    "duration": 15,
    "start_time": "2024-09-15T22:50:21.896Z"
   },
   {
    "duration": 8,
    "start_time": "2024-09-15T22:51:06.090Z"
   },
   {
    "duration": 153,
    "start_time": "2024-09-15T22:51:45.396Z"
   },
   {
    "duration": 8,
    "start_time": "2024-09-15T22:53:41.643Z"
   },
   {
    "duration": 41,
    "start_time": "2024-09-15T22:56:54.896Z"
   },
   {
    "duration": 40,
    "start_time": "2024-09-15T22:59:24.259Z"
   },
   {
    "duration": 50,
    "start_time": "2024-09-15T23:00:42.192Z"
   },
   {
    "duration": 44,
    "start_time": "2024-09-15T23:01:01.614Z"
   },
   {
    "duration": 144,
    "start_time": "2024-09-15T23:01:11.962Z"
   },
   {
    "duration": 2,
    "start_time": "2024-09-15T23:03:27.179Z"
   },
   {
    "duration": 8,
    "start_time": "2024-09-15T23:04:39.259Z"
   },
   {
    "duration": 9,
    "start_time": "2024-09-15T23:06:32.029Z"
   },
   {
    "duration": 43,
    "start_time": "2024-09-15T23:06:32.403Z"
   },
   {
    "duration": 8,
    "start_time": "2024-09-15T23:06:36.142Z"
   },
   {
    "duration": 4,
    "start_time": "2024-09-15T23:08:17.233Z"
   },
   {
    "duration": 3,
    "start_time": "2024-09-15T23:08:31.919Z"
   },
   {
    "duration": 4,
    "start_time": "2024-09-15T23:08:39.299Z"
   },
   {
    "duration": 4,
    "start_time": "2024-09-15T23:08:57.006Z"
   },
   {
    "duration": 17,
    "start_time": "2024-09-15T23:09:32.144Z"
   },
   {
    "duration": 4,
    "start_time": "2024-09-15T23:12:25.824Z"
   },
   {
    "duration": 3,
    "start_time": "2024-09-15T23:12:52.358Z"
   },
   {
    "duration": 15,
    "start_time": "2024-09-15T23:15:43.451Z"
   },
   {
    "duration": 17,
    "start_time": "2024-09-15T23:17:53.159Z"
   },
   {
    "duration": 7,
    "start_time": "2024-09-15T23:18:02.757Z"
   },
   {
    "duration": 5,
    "start_time": "2024-09-15T23:18:04.182Z"
   },
   {
    "duration": 17,
    "start_time": "2024-09-15T23:21:55.929Z"
   },
   {
    "duration": 21,
    "start_time": "2024-09-15T23:22:21.440Z"
   },
   {
    "duration": 3,
    "start_time": "2024-09-15T23:22:55.559Z"
   },
   {
    "duration": 26,
    "start_time": "2024-09-15T23:22:58.413Z"
   },
   {
    "duration": 3,
    "start_time": "2024-09-15T23:22:59.352Z"
   },
   {
    "duration": 9,
    "start_time": "2024-09-15T23:22:59.530Z"
   },
   {
    "duration": 4,
    "start_time": "2024-09-15T23:22:59.923Z"
   },
   {
    "duration": 10,
    "start_time": "2024-09-15T23:23:00.087Z"
   },
   {
    "duration": 5,
    "start_time": "2024-09-15T23:23:00.915Z"
   },
   {
    "duration": 10,
    "start_time": "2024-09-15T23:23:01.479Z"
   },
   {
    "duration": 13,
    "start_time": "2024-09-15T23:23:02.165Z"
   },
   {
    "duration": 9,
    "start_time": "2024-09-15T23:23:04.164Z"
   },
   {
    "duration": 49,
    "start_time": "2024-09-15T23:23:04.539Z"
   },
   {
    "duration": 9,
    "start_time": "2024-09-15T23:23:14.023Z"
   },
   {
    "duration": 5,
    "start_time": "2024-09-15T23:23:29.208Z"
   },
   {
    "duration": 45,
    "start_time": "2024-09-15T23:23:43.531Z"
   },
   {
    "duration": 37,
    "start_time": "2024-09-15T23:26:25.334Z"
   },
   {
    "duration": 40,
    "start_time": "2024-09-15T23:28:12.805Z"
   },
   {
    "duration": 46,
    "start_time": "2024-09-15T23:28:46.091Z"
   },
   {
    "duration": 3,
    "start_time": "2024-09-15T23:29:43.298Z"
   },
   {
    "duration": 25,
    "start_time": "2024-09-15T23:29:45.182Z"
   },
   {
    "duration": 4,
    "start_time": "2024-09-15T23:29:47.255Z"
   },
   {
    "duration": 14,
    "start_time": "2024-09-15T23:29:47.657Z"
   },
   {
    "duration": 5,
    "start_time": "2024-09-15T23:29:49.874Z"
   },
   {
    "duration": 10,
    "start_time": "2024-09-15T23:29:50.898Z"
   },
   {
    "duration": 5,
    "start_time": "2024-09-15T23:29:53.839Z"
   },
   {
    "duration": 11,
    "start_time": "2024-09-15T23:29:54.474Z"
   },
   {
    "duration": 13,
    "start_time": "2024-09-15T23:29:57.086Z"
   },
   {
    "duration": 8,
    "start_time": "2024-09-15T23:30:12.780Z"
   },
   {
    "duration": 45,
    "start_time": "2024-09-15T23:30:13.458Z"
   },
   {
    "duration": 9,
    "start_time": "2024-09-15T23:30:23.900Z"
   },
   {
    "duration": 5,
    "start_time": "2024-09-15T23:30:30.789Z"
   },
   {
    "duration": 41,
    "start_time": "2024-09-15T23:30:33.206Z"
   },
   {
    "duration": 5,
    "start_time": "2024-09-15T23:30:58.450Z"
   },
   {
    "duration": 6,
    "start_time": "2024-09-15T23:32:04.369Z"
   },
   {
    "duration": 5,
    "start_time": "2024-09-15T23:33:48.417Z"
   },
   {
    "duration": 4,
    "start_time": "2024-09-15T23:34:18.567Z"
   },
   {
    "duration": 3,
    "start_time": "2024-09-15T23:36:49.085Z"
   },
   {
    "duration": 4,
    "start_time": "2024-09-15T23:36:55.952Z"
   },
   {
    "duration": 5,
    "start_time": "2024-09-15T23:38:56.889Z"
   },
   {
    "duration": 3,
    "start_time": "2024-09-15T23:43:56.152Z"
   },
   {
    "duration": 24,
    "start_time": "2024-09-15T23:43:56.939Z"
   },
   {
    "duration": 3,
    "start_time": "2024-09-15T23:43:58.413Z"
   },
   {
    "duration": 9,
    "start_time": "2024-09-15T23:43:58.678Z"
   },
   {
    "duration": 5,
    "start_time": "2024-09-15T23:43:58.960Z"
   },
   {
    "duration": 10,
    "start_time": "2024-09-15T23:43:59.286Z"
   },
   {
    "duration": 5,
    "start_time": "2024-09-15T23:44:00.144Z"
   },
   {
    "duration": 10,
    "start_time": "2024-09-15T23:44:00.684Z"
   },
   {
    "duration": 13,
    "start_time": "2024-09-15T23:44:02.009Z"
   },
   {
    "duration": 6,
    "start_time": "2024-09-15T23:44:03.834Z"
   },
   {
    "duration": 6,
    "start_time": "2024-09-15T23:44:46.065Z"
   },
   {
    "duration": 2,
    "start_time": "2024-09-15T23:45:50.299Z"
   },
   {
    "duration": 5,
    "start_time": "2024-09-15T23:46:18.111Z"
   },
   {
    "duration": 3,
    "start_time": "2024-09-15T23:46:47.339Z"
   },
   {
    "duration": 5,
    "start_time": "2024-09-15T23:46:48.011Z"
   },
   {
    "duration": 6,
    "start_time": "2024-09-15T23:46:48.468Z"
   },
   {
    "duration": 2,
    "start_time": "2024-09-15T23:48:56.063Z"
   },
   {
    "duration": 19,
    "start_time": "2024-09-15T23:49:42.046Z"
   },
   {
    "duration": 7,
    "start_time": "2024-09-15T23:50:22.931Z"
   },
   {
    "duration": 44,
    "start_time": "2024-09-15T23:50:23.796Z"
   },
   {
    "duration": 3,
    "start_time": "2024-09-15T23:50:54.997Z"
   },
   {
    "duration": 24,
    "start_time": "2024-09-15T23:50:55.007Z"
   },
   {
    "duration": 4,
    "start_time": "2024-09-15T23:50:55.033Z"
   },
   {
    "duration": 10,
    "start_time": "2024-09-15T23:50:55.038Z"
   },
   {
    "duration": 5,
    "start_time": "2024-09-15T23:50:55.049Z"
   },
   {
    "duration": 9,
    "start_time": "2024-09-15T23:50:55.056Z"
   },
   {
    "duration": 4,
    "start_time": "2024-09-15T23:50:55.066Z"
   },
   {
    "duration": 9,
    "start_time": "2024-09-15T23:50:55.072Z"
   },
   {
    "duration": 50,
    "start_time": "2024-09-15T23:50:55.082Z"
   },
   {
    "duration": 5,
    "start_time": "2024-09-15T23:50:55.134Z"
   },
   {
    "duration": 6,
    "start_time": "2024-09-15T23:50:56.619Z"
   },
   {
    "duration": 4,
    "start_time": "2024-09-15T23:50:58.669Z"
   },
   {
    "duration": 6,
    "start_time": "2024-09-15T23:51:00.046Z"
   },
   {
    "duration": 6,
    "start_time": "2024-09-15T23:51:13.812Z"
   },
   {
    "duration": 6,
    "start_time": "2024-09-15T23:51:46.014Z"
   },
   {
    "duration": 6,
    "start_time": "2024-09-15T23:52:20.920Z"
   },
   {
    "duration": 7,
    "start_time": "2024-09-15T23:52:21.917Z"
   },
   {
    "duration": 45,
    "start_time": "2024-09-15T23:52:22.901Z"
   },
   {
    "duration": 4,
    "start_time": "2024-09-15T23:53:07.985Z"
   },
   {
    "duration": 4,
    "start_time": "2024-09-15T23:53:21.137Z"
   },
   {
    "duration": 4,
    "start_time": "2024-09-15T23:57:18.126Z"
   },
   {
    "duration": 17,
    "start_time": "2024-09-15T23:58:18.901Z"
   },
   {
    "duration": 3,
    "start_time": "2024-09-15T23:58:46.069Z"
   },
   {
    "duration": 5,
    "start_time": "2024-09-15T23:58:46.493Z"
   },
   {
    "duration": 13,
    "start_time": "2024-09-15T23:59:05.936Z"
   },
   {
    "duration": 5,
    "start_time": "2024-09-15T23:59:12.794Z"
   },
   {
    "duration": 7,
    "start_time": "2024-09-15T23:59:18.752Z"
   },
   {
    "duration": 46,
    "start_time": "2024-09-16T00:00:17.683Z"
   },
   {
    "duration": 64,
    "start_time": "2024-09-16T00:00:53.029Z"
   },
   {
    "duration": 8,
    "start_time": "2024-09-16T00:00:59.103Z"
   },
   {
    "duration": 55,
    "start_time": "2024-09-16T00:00:59.459Z"
   },
   {
    "duration": 2,
    "start_time": "2024-09-16T00:01:35.338Z"
   },
   {
    "duration": 26,
    "start_time": "2024-09-16T00:01:36.212Z"
   },
   {
    "duration": 3,
    "start_time": "2024-09-16T00:01:38.415Z"
   },
   {
    "duration": 9,
    "start_time": "2024-09-16T00:01:38.863Z"
   },
   {
    "duration": 5,
    "start_time": "2024-09-16T00:01:40.575Z"
   },
   {
    "duration": 10,
    "start_time": "2024-09-16T00:01:41.365Z"
   },
   {
    "duration": 4,
    "start_time": "2024-09-16T00:01:42.533Z"
   },
   {
    "duration": 11,
    "start_time": "2024-09-16T00:01:43.126Z"
   },
   {
    "duration": 13,
    "start_time": "2024-09-16T00:01:44.699Z"
   },
   {
    "duration": 7,
    "start_time": "2024-09-16T00:01:55.781Z"
   },
   {
    "duration": 4,
    "start_time": "2024-09-16T00:01:59.516Z"
   },
   {
    "duration": 3,
    "start_time": "2024-09-16T00:02:01.058Z"
   },
   {
    "duration": 3,
    "start_time": "2024-09-16T00:02:08.516Z"
   },
   {
    "duration": 8,
    "start_time": "2024-09-16T00:02:12.648Z"
   },
   {
    "duration": 11,
    "start_time": "2024-09-16T00:02:14.540Z"
   },
   {
    "duration": 7,
    "start_time": "2024-09-16T00:02:29.810Z"
   },
   {
    "duration": 11,
    "start_time": "2024-09-16T00:02:32.041Z"
   },
   {
    "duration": 45,
    "start_time": "2024-09-16T00:02:34.165Z"
   },
   {
    "duration": 19,
    "start_time": "2024-09-16T00:02:56.938Z"
   },
   {
    "duration": 49,
    "start_time": "2024-09-16T00:02:57.686Z"
   },
   {
    "duration": 4,
    "start_time": "2024-09-16T00:03:04.285Z"
   },
   {
    "duration": 4,
    "start_time": "2024-09-16T00:03:05.404Z"
   },
   {
    "duration": 8,
    "start_time": "2024-09-16T00:03:06.666Z"
   },
   {
    "duration": 881,
    "start_time": "2024-09-16T00:29:08.620Z"
   },
   {
    "duration": 63,
    "start_time": "2024-09-16T00:29:10.264Z"
   },
   {
    "duration": 4,
    "start_time": "2024-09-16T00:43:44.217Z"
   },
   {
    "duration": 29,
    "start_time": "2024-09-16T00:43:44.224Z"
   },
   {
    "duration": 3,
    "start_time": "2024-09-16T00:43:44.256Z"
   },
   {
    "duration": 5,
    "start_time": "2024-09-16T00:43:47.363Z"
   },
   {
    "duration": 9,
    "start_time": "2024-09-16T00:43:48.713Z"
   },
   {
    "duration": 5,
    "start_time": "2024-09-16T00:43:49.487Z"
   },
   {
    "duration": 10,
    "start_time": "2024-09-16T00:43:51.730Z"
   },
   {
    "duration": 5,
    "start_time": "2024-09-16T00:43:57.406Z"
   },
   {
    "duration": 11,
    "start_time": "2024-09-16T00:43:58.332Z"
   },
   {
    "duration": 13,
    "start_time": "2024-09-16T00:44:07.535Z"
   },
   {
    "duration": 6,
    "start_time": "2024-09-16T00:44:35.223Z"
   },
   {
    "duration": 4,
    "start_time": "2024-09-16T00:44:40.347Z"
   },
   {
    "duration": 4,
    "start_time": "2024-09-16T00:44:42.182Z"
   },
   {
    "duration": 3,
    "start_time": "2024-09-16T00:44:48.022Z"
   },
   {
    "duration": 5,
    "start_time": "2024-09-16T00:44:48.871Z"
   },
   {
    "duration": 8,
    "start_time": "2024-09-16T00:44:50.025Z"
   },
   {
    "duration": 5,
    "start_time": "2024-09-16T00:45:01.604Z"
   },
   {
    "duration": 7,
    "start_time": "2024-09-16T00:45:09.665Z"
   },
   {
    "duration": 6,
    "start_time": "2024-09-16T00:45:12.687Z"
   },
   {
    "duration": 380,
    "start_time": "2024-09-16T00:45:18.719Z"
   },
   {
    "duration": 4,
    "start_time": "2024-09-16T00:57:02.113Z"
   },
   {
    "duration": 5,
    "start_time": "2024-09-16T00:58:21.348Z"
   },
   {
    "duration": 3,
    "start_time": "2024-09-16T00:58:46.939Z"
   },
   {
    "duration": 3,
    "start_time": "2024-09-16T00:58:58.221Z"
   },
   {
    "duration": 4,
    "start_time": "2024-09-16T00:59:02.138Z"
   },
   {
    "duration": 4,
    "start_time": "2024-09-16T00:59:19.384Z"
   },
   {
    "duration": 4,
    "start_time": "2024-09-16T00:59:58.416Z"
   },
   {
    "duration": 5,
    "start_time": "2024-09-16T01:01:31.522Z"
   },
   {
    "duration": 4,
    "start_time": "2024-09-16T01:01:51.051Z"
   },
   {
    "duration": 5,
    "start_time": "2024-09-16T01:02:05.228Z"
   },
   {
    "duration": 4,
    "start_time": "2024-09-16T01:02:06.316Z"
   },
   {
    "duration": 5,
    "start_time": "2024-09-16T01:02:07.299Z"
   },
   {
    "duration": 5,
    "start_time": "2024-09-16T01:02:10.529Z"
   },
   {
    "duration": 4,
    "start_time": "2024-09-16T01:02:21.787Z"
   },
   {
    "duration": 4,
    "start_time": "2024-09-16T01:02:23.621Z"
   },
   {
    "duration": 4,
    "start_time": "2024-09-16T01:02:45.351Z"
   },
   {
    "duration": 5,
    "start_time": "2024-09-16T01:02:45.714Z"
   },
   {
    "duration": 4,
    "start_time": "2024-09-16T01:02:46.096Z"
   },
   {
    "duration": 4,
    "start_time": "2024-09-16T01:02:46.395Z"
   },
   {
    "duration": 4,
    "start_time": "2024-09-16T01:02:46.726Z"
   },
   {
    "duration": 4,
    "start_time": "2024-09-16T01:02:47.395Z"
   },
   {
    "duration": 5,
    "start_time": "2024-09-16T01:05:21.901Z"
   },
   {
    "duration": 191,
    "start_time": "2024-09-16T01:06:44.834Z"
   },
   {
    "duration": 5,
    "start_time": "2024-09-16T01:06:55.085Z"
   },
   {
    "duration": 4,
    "start_time": "2024-09-16T01:11:23.130Z"
   },
   {
    "duration": 25,
    "start_time": "2024-09-16T01:11:24.058Z"
   },
   {
    "duration": 3,
    "start_time": "2024-09-16T01:11:25.553Z"
   },
   {
    "duration": 10,
    "start_time": "2024-09-16T01:11:26.084Z"
   },
   {
    "duration": 5,
    "start_time": "2024-09-16T01:11:26.509Z"
   },
   {
    "duration": 10,
    "start_time": "2024-09-16T01:11:26.907Z"
   },
   {
    "duration": 5,
    "start_time": "2024-09-16T01:11:28.054Z"
   },
   {
    "duration": 10,
    "start_time": "2024-09-16T01:11:28.646Z"
   },
   {
    "duration": 15,
    "start_time": "2024-09-16T01:11:29.779Z"
   },
   {
    "duration": 6,
    "start_time": "2024-09-16T01:11:32.785Z"
   },
   {
    "duration": 5,
    "start_time": "2024-09-16T01:11:34.797Z"
   },
   {
    "duration": 5,
    "start_time": "2024-09-16T01:11:35.125Z"
   },
   {
    "duration": 3,
    "start_time": "2024-09-16T01:11:35.657Z"
   },
   {
    "duration": 4,
    "start_time": "2024-09-16T01:11:36.041Z"
   },
   {
    "duration": 5,
    "start_time": "2024-09-16T01:11:37.024Z"
   },
   {
    "duration": 7,
    "start_time": "2024-09-16T01:11:38.507Z"
   },
   {
    "duration": 6,
    "start_time": "2024-09-16T01:11:44.099Z"
   },
   {
    "duration": 51,
    "start_time": "2024-09-16T01:11:45.138Z"
   },
   {
    "duration": 4,
    "start_time": "2024-09-16T01:11:50.824Z"
   },
   {
    "duration": 4,
    "start_time": "2024-09-16T01:11:53.520Z"
   },
   {
    "duration": 4,
    "start_time": "2024-09-16T01:11:54.058Z"
   },
   {
    "duration": 4,
    "start_time": "2024-09-16T01:11:54.539Z"
   },
   {
    "duration": 4,
    "start_time": "2024-09-16T01:11:55.030Z"
   },
   {
    "duration": 4,
    "start_time": "2024-09-16T01:11:55.536Z"
   },
   {
    "duration": 7,
    "start_time": "2024-09-16T01:11:59.523Z"
   },
   {
    "duration": 3,
    "start_time": "2024-09-16T01:12:38.359Z"
   },
   {
    "duration": 26,
    "start_time": "2024-09-16T01:12:39.677Z"
   },
   {
    "duration": 3,
    "start_time": "2024-09-16T01:12:41.834Z"
   },
   {
    "duration": 10,
    "start_time": "2024-09-16T01:12:42.226Z"
   },
   {
    "duration": 5,
    "start_time": "2024-09-16T01:12:42.740Z"
   },
   {
    "duration": 10,
    "start_time": "2024-09-16T01:12:43.198Z"
   },
   {
    "duration": 5,
    "start_time": "2024-09-16T01:12:44.014Z"
   },
   {
    "duration": 13,
    "start_time": "2024-09-16T01:12:44.392Z"
   },
   {
    "duration": 14,
    "start_time": "2024-09-16T01:12:45.238Z"
   },
   {
    "duration": 6,
    "start_time": "2024-09-16T01:12:47.869Z"
   },
   {
    "duration": 5,
    "start_time": "2024-09-16T01:12:48.777Z"
   },
   {
    "duration": 4,
    "start_time": "2024-09-16T01:12:49.130Z"
   },
   {
    "duration": 3,
    "start_time": "2024-09-16T01:12:49.353Z"
   },
   {
    "duration": 5,
    "start_time": "2024-09-16T01:12:49.837Z"
   },
   {
    "duration": 6,
    "start_time": "2024-09-16T01:12:50.412Z"
   },
   {
    "duration": 8,
    "start_time": "2024-09-16T01:12:50.809Z"
   },
   {
    "duration": 5,
    "start_time": "2024-09-16T01:12:51.364Z"
   },
   {
    "duration": 48,
    "start_time": "2024-09-16T01:12:51.585Z"
   },
   {
    "duration": 4,
    "start_time": "2024-09-16T01:12:52.896Z"
   },
   {
    "duration": 4,
    "start_time": "2024-09-16T01:12:53.073Z"
   },
   {
    "duration": 4,
    "start_time": "2024-09-16T01:12:53.821Z"
   },
   {
    "duration": 4,
    "start_time": "2024-09-16T01:12:54.220Z"
   },
   {
    "duration": 5,
    "start_time": "2024-09-16T01:12:54.962Z"
   },
   {
    "duration": 4,
    "start_time": "2024-09-16T01:12:55.154Z"
   },
   {
    "duration": 6,
    "start_time": "2024-09-16T01:12:57.442Z"
   },
   {
    "duration": 85,
    "start_time": "2024-09-16T01:15:43.117Z"
   },
   {
    "duration": 2,
    "start_time": "2024-09-16T01:15:59.081Z"
   },
   {
    "duration": 26,
    "start_time": "2024-09-16T01:15:59.589Z"
   },
   {
    "duration": 3,
    "start_time": "2024-09-16T01:16:00.654Z"
   },
   {
    "duration": 9,
    "start_time": "2024-09-16T01:16:00.910Z"
   },
   {
    "duration": 5,
    "start_time": "2024-09-16T01:16:01.189Z"
   },
   {
    "duration": 10,
    "start_time": "2024-09-16T01:16:01.653Z"
   },
   {
    "duration": 5,
    "start_time": "2024-09-16T01:16:02.370Z"
   },
   {
    "duration": 12,
    "start_time": "2024-09-16T01:16:02.569Z"
   },
   {
    "duration": 13,
    "start_time": "2024-09-16T01:16:03.047Z"
   },
   {
    "duration": 6,
    "start_time": "2024-09-16T01:16:04.556Z"
   },
   {
    "duration": 5,
    "start_time": "2024-09-16T01:16:05.245Z"
   },
   {
    "duration": 4,
    "start_time": "2024-09-16T01:16:05.772Z"
   },
   {
    "duration": 3,
    "start_time": "2024-09-16T01:16:05.952Z"
   },
   {
    "duration": 5,
    "start_time": "2024-09-16T01:16:06.203Z"
   },
   {
    "duration": 5,
    "start_time": "2024-09-16T01:16:06.421Z"
   },
   {
    "duration": 7,
    "start_time": "2024-09-16T01:16:06.638Z"
   },
   {
    "duration": 6,
    "start_time": "2024-09-16T01:16:07.104Z"
   },
   {
    "duration": 48,
    "start_time": "2024-09-16T01:16:07.592Z"
   },
   {
    "duration": 4,
    "start_time": "2024-09-16T01:16:08.078Z"
   },
   {
    "duration": 4,
    "start_time": "2024-09-16T01:16:09.382Z"
   },
   {
    "duration": 4,
    "start_time": "2024-09-16T01:16:09.663Z"
   },
   {
    "duration": 4,
    "start_time": "2024-09-16T01:16:09.925Z"
   },
   {
    "duration": 4,
    "start_time": "2024-09-16T01:16:10.540Z"
   },
   {
    "duration": 4,
    "start_time": "2024-09-16T01:16:10.772Z"
   },
   {
    "duration": 3,
    "start_time": "2024-09-16T01:18:19.553Z"
   },
   {
    "duration": 26,
    "start_time": "2024-09-16T01:18:20.718Z"
   },
   {
    "duration": 4,
    "start_time": "2024-09-16T01:18:22.208Z"
   },
   {
    "duration": 10,
    "start_time": "2024-09-16T01:18:22.418Z"
   },
   {
    "duration": 6,
    "start_time": "2024-09-16T01:18:22.955Z"
   },
   {
    "duration": 11,
    "start_time": "2024-09-16T01:18:23.369Z"
   },
   {
    "duration": 5,
    "start_time": "2024-09-16T01:18:26.201Z"
   },
   {
    "duration": 14,
    "start_time": "2024-09-16T01:18:29.708Z"
   },
   {
    "duration": 15,
    "start_time": "2024-09-16T01:18:31.218Z"
   },
   {
    "duration": 6,
    "start_time": "2024-09-16T01:18:54.236Z"
   },
   {
    "duration": 4,
    "start_time": "2024-09-16T01:18:57.452Z"
   },
   {
    "duration": 4,
    "start_time": "2024-09-16T01:18:58.783Z"
   },
   {
    "duration": 4,
    "start_time": "2024-09-16T01:18:59.750Z"
   },
   {
    "duration": 5,
    "start_time": "2024-09-16T01:19:15.229Z"
   },
   {
    "duration": 5,
    "start_time": "2024-09-16T01:19:15.669Z"
   },
   {
    "duration": 6,
    "start_time": "2024-09-16T01:19:16.672Z"
   },
   {
    "duration": 5,
    "start_time": "2024-09-16T01:19:17.902Z"
   },
   {
    "duration": 45,
    "start_time": "2024-09-16T01:19:19.057Z"
   },
   {
    "duration": 4,
    "start_time": "2024-09-16T01:19:34.915Z"
   },
   {
    "duration": 814,
    "start_time": "2024-09-16T01:20:37.777Z"
   },
   {
    "duration": 29,
    "start_time": "2024-09-16T01:20:38.605Z"
   },
   {
    "duration": 4,
    "start_time": "2024-09-16T01:20:40.035Z"
   },
   {
    "duration": 10,
    "start_time": "2024-09-16T01:20:40.506Z"
   },
   {
    "duration": 5,
    "start_time": "2024-09-16T01:20:41.379Z"
   },
   {
    "duration": 10,
    "start_time": "2024-09-16T01:20:42.130Z"
   },
   {
    "duration": 4,
    "start_time": "2024-09-16T01:20:43.552Z"
   },
   {
    "duration": 10,
    "start_time": "2024-09-16T01:20:43.833Z"
   },
   {
    "duration": 14,
    "start_time": "2024-09-16T01:20:45.265Z"
   },
   {
    "duration": 6,
    "start_time": "2024-09-16T01:20:54.289Z"
   },
   {
    "duration": 4,
    "start_time": "2024-09-16T01:20:55.928Z"
   },
   {
    "duration": 6,
    "start_time": "2024-09-16T01:20:56.153Z"
   },
   {
    "duration": 3,
    "start_time": "2024-09-16T01:20:56.642Z"
   },
   {
    "duration": 5,
    "start_time": "2024-09-16T01:21:02.083Z"
   },
   {
    "duration": 5,
    "start_time": "2024-09-16T01:21:03.185Z"
   },
   {
    "duration": 7,
    "start_time": "2024-09-16T01:21:04.233Z"
   },
   {
    "duration": 6,
    "start_time": "2024-09-16T01:21:08.897Z"
   },
   {
    "duration": 367,
    "start_time": "2024-09-16T01:21:09.705Z"
   },
   {
    "duration": 4,
    "start_time": "2024-09-16T01:21:24.272Z"
   },
   {
    "duration": 4,
    "start_time": "2024-09-16T01:21:25.531Z"
   },
   {
    "duration": 4,
    "start_time": "2024-09-16T01:21:25.998Z"
   },
   {
    "duration": 4,
    "start_time": "2024-09-16T01:21:26.464Z"
   },
   {
    "duration": 3,
    "start_time": "2024-09-16T01:21:26.973Z"
   },
   {
    "duration": 5,
    "start_time": "2024-09-16T01:21:27.840Z"
   },
   {
    "duration": 6,
    "start_time": "2024-09-16T01:23:00.376Z"
   },
   {
    "duration": 83,
    "start_time": "2024-09-16T01:23:03.653Z"
   },
   {
    "duration": 297,
    "start_time": "2024-09-16T01:26:09.885Z"
   },
   {
    "duration": 6,
    "start_time": "2024-09-16T01:26:45.806Z"
   },
   {
    "duration": 47,
    "start_time": "2024-09-16T01:26:46.231Z"
   },
   {
    "duration": 4,
    "start_time": "2024-09-16T01:28:40.475Z"
   },
   {
    "duration": 5,
    "start_time": "2024-09-16T01:28:40.820Z"
   },
   {
    "duration": 4,
    "start_time": "2024-09-16T01:28:41.274Z"
   },
   {
    "duration": 5,
    "start_time": "2024-09-16T01:30:05.290Z"
   },
   {
    "duration": 7,
    "start_time": "2024-09-16T01:31:16.022Z"
   },
   {
    "duration": 20,
    "start_time": "2024-09-16T01:33:16.870Z"
   },
   {
    "duration": 18,
    "start_time": "2024-09-16T01:33:44.799Z"
   },
   {
    "duration": 45,
    "start_time": "2024-09-16T01:34:34.234Z"
   },
   {
    "duration": 4,
    "start_time": "2024-09-16T01:35:19.107Z"
   },
   {
    "duration": 4,
    "start_time": "2024-09-16T01:35:36.201Z"
   },
   {
    "duration": 2,
    "start_time": "2024-09-16T01:36:08.569Z"
   },
   {
    "duration": 4,
    "start_time": "2024-09-16T01:36:09.060Z"
   },
   {
    "duration": 4,
    "start_time": "2024-09-16T01:36:20.019Z"
   },
   {
    "duration": 4,
    "start_time": "2024-09-16T01:36:21.822Z"
   },
   {
    "duration": 47,
    "start_time": "2024-09-16T01:37:13.736Z"
   },
   {
    "duration": 5,
    "start_time": "2024-09-16T01:39:17.950Z"
   },
   {
    "duration": 4,
    "start_time": "2024-09-16T01:39:18.706Z"
   },
   {
    "duration": 5,
    "start_time": "2024-09-16T02:26:11.493Z"
   },
   {
    "duration": 48,
    "start_time": "2024-09-16T02:26:43.502Z"
   },
   {
    "duration": 140,
    "start_time": "2024-09-16T02:31:13.784Z"
   },
   {
    "duration": 80,
    "start_time": "2024-09-16T02:32:26.439Z"
   },
   {
    "duration": 48,
    "start_time": "2024-09-16T02:33:29.975Z"
   },
   {
    "duration": 6,
    "start_time": "2024-09-16T02:38:39.980Z"
   },
   {
    "duration": 6,
    "start_time": "2024-09-16T02:40:49.161Z"
   },
   {
    "duration": 47,
    "start_time": "2024-09-16T02:41:50.063Z"
   },
   {
    "duration": 6,
    "start_time": "2024-09-16T02:44:22.663Z"
   },
   {
    "duration": 4,
    "start_time": "2024-09-16T02:44:30.467Z"
   },
   {
    "duration": 4,
    "start_time": "2024-09-16T02:44:37.580Z"
   },
   {
    "duration": 5,
    "start_time": "2024-09-16T02:44:51.542Z"
   },
   {
    "duration": 263,
    "start_time": "2024-09-16T02:47:13.545Z"
   },
   {
    "duration": 88,
    "start_time": "2024-09-16T02:49:19.323Z"
   },
   {
    "duration": 8,
    "start_time": "2024-09-16T03:06:41.088Z"
   },
   {
    "duration": 14,
    "start_time": "2024-09-16T03:06:47.193Z"
   },
   {
    "duration": 6,
    "start_time": "2024-09-16T03:08:11.995Z"
   },
   {
    "duration": 73,
    "start_time": "2024-09-16T03:10:11.742Z"
   },
   {
    "duration": 6,
    "start_time": "2024-09-16T03:11:35.741Z"
   },
   {
    "duration": 44,
    "start_time": "2024-09-16T03:12:11.613Z"
   },
   {
    "duration": 4,
    "start_time": "2024-09-16T03:13:11.276Z"
   },
   {
    "duration": 3,
    "start_time": "2024-09-16T03:13:50.139Z"
   },
   {
    "duration": 3,
    "start_time": "2024-09-16T03:14:35.943Z"
   },
   {
    "duration": 3,
    "start_time": "2024-09-16T03:14:38.708Z"
   },
   {
    "duration": 4,
    "start_time": "2024-09-16T03:14:51.998Z"
   },
   {
    "duration": 4,
    "start_time": "2024-09-16T03:15:04.890Z"
   },
   {
    "duration": 4,
    "start_time": "2024-09-16T03:15:10.541Z"
   },
   {
    "duration": 4,
    "start_time": "2024-09-16T03:15:48.987Z"
   },
   {
    "duration": 4,
    "start_time": "2024-09-16T03:21:50.805Z"
   },
   {
    "duration": 5,
    "start_time": "2024-09-16T03:22:28.152Z"
   },
   {
    "duration": 4,
    "start_time": "2024-09-16T03:24:31.262Z"
   },
   {
    "duration": 4,
    "start_time": "2024-09-16T03:25:05.610Z"
   },
   {
    "duration": 4,
    "start_time": "2024-09-16T03:25:22.924Z"
   },
   {
    "duration": 4,
    "start_time": "2024-09-16T03:25:42.024Z"
   },
   {
    "duration": 5,
    "start_time": "2024-09-16T03:26:23.575Z"
   },
   {
    "duration": 5,
    "start_time": "2024-09-16T03:27:37.379Z"
   },
   {
    "duration": 4,
    "start_time": "2024-09-16T03:29:17.122Z"
   },
   {
    "duration": 4,
    "start_time": "2024-09-16T03:29:45.438Z"
   },
   {
    "duration": 4,
    "start_time": "2024-09-16T03:30:10.599Z"
   },
   {
    "duration": 4,
    "start_time": "2024-09-16T03:30:33.811Z"
   },
   {
    "duration": 6,
    "start_time": "2024-09-16T03:30:59.765Z"
   },
   {
    "duration": 4,
    "start_time": "2024-09-16T03:31:36.854Z"
   },
   {
    "duration": 3,
    "start_time": "2024-09-16T03:35:52.844Z"
   },
   {
    "duration": 25,
    "start_time": "2024-09-16T03:35:52.851Z"
   },
   {
    "duration": 3,
    "start_time": "2024-09-16T03:35:52.879Z"
   },
   {
    "duration": 11,
    "start_time": "2024-09-16T03:35:52.884Z"
   },
   {
    "duration": 5,
    "start_time": "2024-09-16T03:35:52.897Z"
   },
   {
    "duration": 9,
    "start_time": "2024-09-16T03:35:52.910Z"
   },
   {
    "duration": 4,
    "start_time": "2024-09-16T03:35:52.921Z"
   },
   {
    "duration": 9,
    "start_time": "2024-09-16T03:35:52.926Z"
   },
   {
    "duration": 12,
    "start_time": "2024-09-16T03:35:52.937Z"
   },
   {
    "duration": 5,
    "start_time": "2024-09-16T03:35:52.950Z"
   },
   {
    "duration": 4,
    "start_time": "2024-09-16T03:35:52.956Z"
   },
   {
    "duration": 4,
    "start_time": "2024-09-16T03:35:52.961Z"
   },
   {
    "duration": 43,
    "start_time": "2024-09-16T03:35:52.967Z"
   },
   {
    "duration": 5,
    "start_time": "2024-09-16T03:35:53.012Z"
   },
   {
    "duration": 4,
    "start_time": "2024-09-16T03:35:53.021Z"
   },
   {
    "duration": 5,
    "start_time": "2024-09-16T03:35:53.027Z"
   },
   {
    "duration": 5,
    "start_time": "2024-09-16T03:35:53.034Z"
   },
   {
    "duration": 71,
    "start_time": "2024-09-16T03:35:53.041Z"
   },
   {
    "duration": 4,
    "start_time": "2024-09-16T03:35:53.114Z"
   },
   {
    "duration": 4,
    "start_time": "2024-09-16T03:35:53.120Z"
   },
   {
    "duration": 4,
    "start_time": "2024-09-16T03:35:53.126Z"
   },
   {
    "duration": 4,
    "start_time": "2024-09-16T03:35:53.131Z"
   },
   {
    "duration": 4,
    "start_time": "2024-09-16T03:35:53.137Z"
   },
   {
    "duration": 4,
    "start_time": "2024-09-16T03:35:53.143Z"
   },
   {
    "duration": 7,
    "start_time": "2024-09-16T03:35:53.149Z"
   },
   {
    "duration": 55,
    "start_time": "2024-09-16T03:35:53.157Z"
   },
   {
    "duration": 136,
    "start_time": "2024-09-16T03:35:53.214Z"
   },
   {
    "duration": 4,
    "start_time": "2024-09-16T03:35:53.351Z"
   },
   {
    "duration": 4,
    "start_time": "2024-09-16T03:35:53.357Z"
   },
   {
    "duration": 8,
    "start_time": "2024-09-16T03:35:53.362Z"
   },
   {
    "duration": 6,
    "start_time": "2024-09-16T03:35:53.371Z"
   },
   {
    "duration": 9,
    "start_time": "2024-09-16T03:35:53.410Z"
   },
   {
    "duration": 3,
    "start_time": "2024-09-16T03:35:53.421Z"
   },
   {
    "duration": 4,
    "start_time": "2024-09-16T03:35:53.426Z"
   },
   {
    "duration": 3,
    "start_time": "2024-09-16T03:35:53.431Z"
   },
   {
    "duration": 4,
    "start_time": "2024-09-16T03:35:53.436Z"
   },
   {
    "duration": 79,
    "start_time": "2024-09-16T03:35:53.441Z"
   },
   {
    "duration": 4,
    "start_time": "2024-09-16T03:35:53.522Z"
   },
   {
    "duration": 4,
    "start_time": "2024-09-16T03:35:53.527Z"
   },
   {
    "duration": 5,
    "start_time": "2024-09-16T03:35:53.533Z"
   },
   {
    "duration": 74,
    "start_time": "2024-09-16T03:35:53.540Z"
   },
   {
    "duration": 5,
    "start_time": "2024-09-16T03:35:53.620Z"
   },
   {
    "duration": 5,
    "start_time": "2024-09-16T03:35:53.626Z"
   },
   {
    "duration": 45,
    "start_time": "2024-09-16T03:35:53.633Z"
   },
   {
    "duration": 30,
    "start_time": "2024-09-16T03:35:53.680Z"
   },
   {
    "duration": 3,
    "start_time": "2024-09-16T03:35:53.712Z"
   },
   {
    "duration": 5,
    "start_time": "2024-09-16T03:35:53.717Z"
   },
   {
    "duration": 102,
    "start_time": "2024-09-16T03:35:53.723Z"
   },
   {
    "duration": 13,
    "start_time": "2024-09-16T03:35:53.827Z"
   },
   {
    "duration": 6,
    "start_time": "2024-09-16T03:35:53.841Z"
   },
   {
    "duration": 5,
    "start_time": "2024-09-16T03:35:53.848Z"
   },
   {
    "duration": 6,
    "start_time": "2024-09-16T03:35:59.651Z"
   },
   {
    "duration": 45,
    "start_time": "2024-09-16T03:36:00.275Z"
   },
   {
    "duration": 4,
    "start_time": "2024-09-16T03:36:01.408Z"
   },
   {
    "duration": 5,
    "start_time": "2024-09-16T03:36:03.061Z"
   },
   {
    "duration": 4,
    "start_time": "2024-09-16T03:36:04.014Z"
   },
   {
    "duration": 4,
    "start_time": "2024-09-16T03:36:04.590Z"
   },
   {
    "duration": 5,
    "start_time": "2024-09-16T03:39:30.455Z"
   },
   {
    "duration": 5,
    "start_time": "2024-09-16T03:39:45.437Z"
   },
   {
    "duration": 7,
    "start_time": "2024-09-16T03:40:52.839Z"
   },
   {
    "duration": 5,
    "start_time": "2024-09-16T03:42:21.538Z"
   },
   {
    "duration": 3,
    "start_time": "2024-09-16T03:42:28.376Z"
   },
   {
    "duration": 3,
    "start_time": "2024-09-16T03:42:31.678Z"
   },
   {
    "duration": 3,
    "start_time": "2024-09-16T03:42:39.937Z"
   },
   {
    "duration": 3,
    "start_time": "2024-09-16T03:43:12.522Z"
   },
   {
    "duration": 5,
    "start_time": "2024-09-16T03:43:19.629Z"
   },
   {
    "duration": 21,
    "start_time": "2024-09-16T03:44:38.368Z"
   },
   {
    "duration": 22,
    "start_time": "2024-09-16T03:44:41.262Z"
   },
   {
    "duration": 8,
    "start_time": "2024-09-16T03:45:04.256Z"
   },
   {
    "duration": 3,
    "start_time": "2024-09-16T03:46:05.072Z"
   },
   {
    "duration": 4,
    "start_time": "2024-09-16T03:46:23.887Z"
   },
   {
    "duration": 5,
    "start_time": "2024-09-16T03:51:24.026Z"
   },
   {
    "duration": 4,
    "start_time": "2024-09-16T03:53:10.757Z"
   },
   {
    "duration": 45,
    "start_time": "2024-09-16T03:53:19.709Z"
   },
   {
    "duration": 79,
    "start_time": "2024-09-16T03:55:38.698Z"
   },
   {
    "duration": 83,
    "start_time": "2024-09-16T03:56:02.003Z"
   },
   {
    "duration": 45,
    "start_time": "2024-09-16T03:57:51.218Z"
   },
   {
    "duration": 45,
    "start_time": "2024-09-16T03:58:56.536Z"
   },
   {
    "duration": 9,
    "start_time": "2024-09-16T04:02:27.479Z"
   },
   {
    "duration": 4,
    "start_time": "2024-09-16T04:02:47.051Z"
   },
   {
    "duration": 9,
    "start_time": "2024-09-16T04:03:21.743Z"
   },
   {
    "duration": 4,
    "start_time": "2024-09-16T04:03:22.331Z"
   },
   {
    "duration": 4,
    "start_time": "2024-09-16T04:03:22.612Z"
   },
   {
    "duration": 4,
    "start_time": "2024-09-16T04:03:38.608Z"
   },
   {
    "duration": 6,
    "start_time": "2024-09-16T04:03:52.226Z"
   },
   {
    "duration": 8,
    "start_time": "2024-09-16T04:05:11.568Z"
   },
   {
    "duration": 4,
    "start_time": "2024-09-16T04:05:12.096Z"
   },
   {
    "duration": 4,
    "start_time": "2024-09-16T04:05:20.967Z"
   },
   {
    "duration": 8,
    "start_time": "2024-09-16T04:08:04.925Z"
   },
   {
    "duration": 4,
    "start_time": "2024-09-16T04:08:43.499Z"
   },
   {
    "duration": 8,
    "start_time": "2024-09-16T04:09:28.091Z"
   },
   {
    "duration": 4,
    "start_time": "2024-09-16T04:09:28.541Z"
   },
   {
    "duration": 5,
    "start_time": "2024-09-16T04:09:29.080Z"
   },
   {
    "duration": 6,
    "start_time": "2024-09-16T04:09:30.285Z"
   },
   {
    "duration": 59,
    "start_time": "2024-09-16T04:15:35.292Z"
   },
   {
    "duration": 8,
    "start_time": "2024-09-16T04:16:44.298Z"
   },
   {
    "duration": 4,
    "start_time": "2024-09-16T04:17:06.344Z"
   },
   {
    "duration": 4,
    "start_time": "2024-09-16T04:17:23.099Z"
   },
   {
    "duration": 7,
    "start_time": "2024-09-16T04:17:44.342Z"
   },
   {
    "duration": 5,
    "start_time": "2024-09-16T04:18:17.006Z"
   },
   {
    "duration": 5,
    "start_time": "2024-09-16T04:18:17.414Z"
   },
   {
    "duration": 3,
    "start_time": "2024-09-16T04:18:17.990Z"
   },
   {
    "duration": 80,
    "start_time": "2024-09-16T04:18:19.107Z"
   },
   {
    "duration": 11,
    "start_time": "2024-09-16T04:18:21.061Z"
   },
   {
    "duration": 5,
    "start_time": "2024-09-16T04:18:22.067Z"
   },
   {
    "duration": 5,
    "start_time": "2024-09-16T04:18:22.442Z"
   },
   {
    "duration": 46,
    "start_time": "2024-09-16T04:18:28.092Z"
   },
   {
    "duration": 4,
    "start_time": "2024-09-16T04:18:29.446Z"
   },
   {
    "duration": 5,
    "start_time": "2024-09-16T04:18:30.323Z"
   },
   {
    "duration": 4,
    "start_time": "2024-09-16T04:18:30.640Z"
   },
   {
    "duration": 4,
    "start_time": "2024-09-16T04:18:31.197Z"
   },
   {
    "duration": 5,
    "start_time": "2024-09-16T04:18:32.309Z"
   },
   {
    "duration": 4,
    "start_time": "2024-09-16T04:18:32.849Z"
   },
   {
    "duration": 9,
    "start_time": "2024-09-16T04:18:36.858Z"
   },
   {
    "duration": 6,
    "start_time": "2024-09-16T04:18:37.420Z"
   },
   {
    "duration": 45,
    "start_time": "2024-09-16T04:18:38.208Z"
   },
   {
    "duration": 5,
    "start_time": "2024-09-16T04:19:01.098Z"
   },
   {
    "duration": 6,
    "start_time": "2024-09-16T04:24:39.853Z"
   },
   {
    "duration": 46,
    "start_time": "2024-09-16T04:25:28.697Z"
   },
   {
    "duration": 7,
    "start_time": "2024-09-16T04:28:02.879Z"
   },
   {
    "duration": 4,
    "start_time": "2024-09-16T04:28:09.545Z"
   },
   {
    "duration": 5,
    "start_time": "2024-09-16T04:28:19.498Z"
   },
   {
    "duration": 4,
    "start_time": "2024-09-16T04:31:09.282Z"
   },
   {
    "duration": 5,
    "start_time": "2024-09-16T04:31:10.018Z"
   },
   {
    "duration": 3,
    "start_time": "2024-09-16T04:32:36.747Z"
   },
   {
    "duration": 5,
    "start_time": "2024-09-16T04:32:54.670Z"
   },
   {
    "duration": 3,
    "start_time": "2024-09-16T04:37:19.166Z"
   },
   {
    "duration": 40,
    "start_time": "2024-09-16T04:37:19.533Z"
   },
   {
    "duration": 354,
    "start_time": "2024-09-16T04:37:20.018Z"
   },
   {
    "duration": 3,
    "start_time": "2024-09-16T04:38:20.760Z"
   },
   {
    "duration": 25,
    "start_time": "2024-09-16T04:38:20.767Z"
   },
   {
    "duration": 3,
    "start_time": "2024-09-16T04:38:20.794Z"
   },
   {
    "duration": 9,
    "start_time": "2024-09-16T04:38:20.798Z"
   },
   {
    "duration": 4,
    "start_time": "2024-09-16T04:38:20.809Z"
   },
   {
    "duration": 9,
    "start_time": "2024-09-16T04:38:20.816Z"
   },
   {
    "duration": 4,
    "start_time": "2024-09-16T04:38:20.827Z"
   },
   {
    "duration": 10,
    "start_time": "2024-09-16T04:38:20.834Z"
   },
   {
    "duration": 13,
    "start_time": "2024-09-16T04:38:20.845Z"
   },
   {
    "duration": 5,
    "start_time": "2024-09-16T04:38:20.860Z"
   },
   {
    "duration": 44,
    "start_time": "2024-09-16T04:38:20.867Z"
   },
   {
    "duration": 4,
    "start_time": "2024-09-16T04:38:20.912Z"
   },
   {
    "duration": 3,
    "start_time": "2024-09-16T04:38:20.918Z"
   },
   {
    "duration": 5,
    "start_time": "2024-09-16T04:38:20.922Z"
   },
   {
    "duration": 4,
    "start_time": "2024-09-16T04:38:20.930Z"
   },
   {
    "duration": 5,
    "start_time": "2024-09-16T04:38:20.936Z"
   },
   {
    "duration": 4,
    "start_time": "2024-09-16T04:38:20.943Z"
   },
   {
    "duration": 87,
    "start_time": "2024-09-16T04:38:20.949Z"
   },
   {
    "duration": 4,
    "start_time": "2024-09-16T04:38:21.038Z"
   },
   {
    "duration": 4,
    "start_time": "2024-09-16T04:38:21.044Z"
   },
   {
    "duration": 5,
    "start_time": "2024-09-16T04:38:21.049Z"
   },
   {
    "duration": 4,
    "start_time": "2024-09-16T04:38:21.056Z"
   },
   {
    "duration": 4,
    "start_time": "2024-09-16T04:38:21.062Z"
   },
   {
    "duration": 44,
    "start_time": "2024-09-16T04:38:21.068Z"
   },
   {
    "duration": 6,
    "start_time": "2024-09-16T04:38:21.115Z"
   },
   {
    "duration": 5,
    "start_time": "2024-09-16T04:38:21.122Z"
   },
   {
    "duration": 45,
    "start_time": "2024-09-16T04:38:21.129Z"
   },
   {
    "duration": 33,
    "start_time": "2024-09-16T04:38:21.176Z"
   },
   {
    "duration": 4,
    "start_time": "2024-09-16T04:38:21.211Z"
   },
   {
    "duration": 4,
    "start_time": "2024-09-16T04:38:21.216Z"
   },
   {
    "duration": 5,
    "start_time": "2024-09-16T04:38:21.222Z"
   },
   {
    "duration": 8,
    "start_time": "2024-09-16T04:38:21.229Z"
   },
   {
    "duration": 2,
    "start_time": "2024-09-16T04:38:21.238Z"
   },
   {
    "duration": 4,
    "start_time": "2024-09-16T04:38:21.242Z"
   },
   {
    "duration": 3,
    "start_time": "2024-09-16T04:38:21.247Z"
   },
   {
    "duration": 4,
    "start_time": "2024-09-16T04:38:21.251Z"
   },
   {
    "duration": 95,
    "start_time": "2024-09-16T04:38:21.257Z"
   },
   {
    "duration": 3,
    "start_time": "2024-09-16T04:38:21.354Z"
   },
   {
    "duration": 3,
    "start_time": "2024-09-16T04:38:21.360Z"
   },
   {
    "duration": 7,
    "start_time": "2024-09-16T04:38:21.365Z"
   },
   {
    "duration": 73,
    "start_time": "2024-09-16T04:38:21.373Z"
   },
   {
    "duration": 5,
    "start_time": "2024-09-16T04:38:21.450Z"
   },
   {
    "duration": 5,
    "start_time": "2024-09-16T04:38:21.458Z"
   },
   {
    "duration": 65,
    "start_time": "2024-09-16T04:38:21.465Z"
   },
   {
    "duration": 6,
    "start_time": "2024-09-16T04:38:21.533Z"
   },
   {
    "duration": 4,
    "start_time": "2024-09-16T04:38:21.540Z"
   },
   {
    "duration": 4,
    "start_time": "2024-09-16T04:38:21.545Z"
   },
   {
    "duration": 6,
    "start_time": "2024-09-16T04:38:21.550Z"
   },
   {
    "duration": 5,
    "start_time": "2024-09-16T04:38:21.557Z"
   },
   {
    "duration": 4,
    "start_time": "2024-09-16T04:38:21.563Z"
   },
   {
    "duration": 39,
    "start_time": "2024-09-16T04:38:21.570Z"
   },
   {
    "duration": 78,
    "start_time": "2024-09-16T04:38:21.610Z"
   },
   {
    "duration": 28,
    "start_time": "2024-09-16T04:38:21.690Z"
   },
   {
    "duration": 5,
    "start_time": "2024-09-16T04:38:21.719Z"
   },
   {
    "duration": 4,
    "start_time": "2024-09-16T04:38:21.726Z"
   },
   {
    "duration": 46,
    "start_time": "2024-09-16T04:38:21.732Z"
   },
   {
    "duration": 32,
    "start_time": "2024-09-16T04:38:21.780Z"
   },
   {
    "duration": 4,
    "start_time": "2024-09-16T04:38:21.814Z"
   },
   {
    "duration": 4,
    "start_time": "2024-09-16T04:38:21.820Z"
   },
   {
    "duration": 4,
    "start_time": "2024-09-16T04:38:21.826Z"
   },
   {
    "duration": 5,
    "start_time": "2024-09-16T04:38:21.831Z"
   },
   {
    "duration": 4,
    "start_time": "2024-09-16T04:38:21.838Z"
   },
   {
    "duration": 8,
    "start_time": "2024-09-16T04:38:21.844Z"
   },
   {
    "duration": 4,
    "start_time": "2024-09-16T04:38:21.854Z"
   },
   {
    "duration": 90,
    "start_time": "2024-09-16T04:38:21.859Z"
   },
   {
    "duration": 6,
    "start_time": "2024-09-16T04:38:21.951Z"
   },
   {
    "duration": 12,
    "start_time": "2024-09-16T04:38:21.958Z"
   },
   {
    "duration": 59,
    "start_time": "2024-09-16T04:38:21.971Z"
   },
   {
    "duration": 4,
    "start_time": "2024-09-16T04:38:31.171Z"
   },
   {
    "duration": 4,
    "start_time": "2024-09-16T04:38:31.462Z"
   },
   {
    "duration": 3,
    "start_time": "2024-09-16T04:39:05.837Z"
   },
   {
    "duration": 26,
    "start_time": "2024-09-16T04:39:22.479Z"
   },
   {
    "duration": 3,
    "start_time": "2024-09-16T04:41:40.007Z"
   },
   {
    "duration": 5,
    "start_time": "2024-09-16T04:41:40.888Z"
   },
   {
    "duration": 13,
    "start_time": "2024-09-16T04:42:13.374Z"
   },
   {
    "duration": 14,
    "start_time": "2024-09-16T04:42:26.802Z"
   },
   {
    "duration": 6,
    "start_time": "2024-09-16T04:44:01.205Z"
   },
   {
    "duration": 6,
    "start_time": "2024-09-16T04:44:03.700Z"
   },
   {
    "duration": 19,
    "start_time": "2024-09-16T04:44:11.534Z"
   },
   {
    "duration": 7,
    "start_time": "2024-09-16T04:44:50.200Z"
   },
   {
    "duration": 324,
    "start_time": "2024-09-16T04:45:01.085Z"
   },
   {
    "duration": 7,
    "start_time": "2024-09-16T04:45:08.282Z"
   },
   {
    "duration": 7,
    "start_time": "2024-09-16T04:45:44.024Z"
   },
   {
    "duration": 6,
    "start_time": "2024-09-16T04:45:44.751Z"
   },
   {
    "duration": 47,
    "start_time": "2024-09-16T04:46:00.149Z"
   },
   {
    "duration": 4,
    "start_time": "2024-09-16T04:47:01.874Z"
   },
   {
    "duration": 4,
    "start_time": "2024-09-16T04:47:36.831Z"
   },
   {
    "duration": 4,
    "start_time": "2024-09-16T04:48:11.438Z"
   },
   {
    "duration": 5,
    "start_time": "2024-09-16T04:48:39.467Z"
   },
   {
    "duration": 4,
    "start_time": "2024-09-16T04:49:18.484Z"
   },
   {
    "duration": 4,
    "start_time": "2024-09-16T04:49:57.795Z"
   },
   {
    "duration": 836,
    "start_time": "2024-09-16T05:35:40.380Z"
   },
   {
    "duration": 41,
    "start_time": "2024-09-16T05:35:41.218Z"
   },
   {
    "duration": 3,
    "start_time": "2024-09-16T05:35:42.488Z"
   },
   {
    "duration": 9,
    "start_time": "2024-09-16T05:35:42.866Z"
   },
   {
    "duration": 6,
    "start_time": "2024-09-16T05:35:43.197Z"
   },
   {
    "duration": 10,
    "start_time": "2024-09-16T05:35:43.498Z"
   },
   {
    "duration": 5,
    "start_time": "2024-09-16T05:35:44.189Z"
   },
   {
    "duration": 11,
    "start_time": "2024-09-16T05:35:44.521Z"
   },
   {
    "duration": 13,
    "start_time": "2024-09-16T05:35:45.183Z"
   },
   {
    "duration": 6,
    "start_time": "2024-09-16T05:35:47.552Z"
   },
   {
    "duration": 5,
    "start_time": "2024-09-16T05:35:48.230Z"
   },
   {
    "duration": 5,
    "start_time": "2024-09-16T05:35:48.588Z"
   },
   {
    "duration": 3,
    "start_time": "2024-09-16T05:35:48.930Z"
   },
   {
    "duration": 5,
    "start_time": "2024-09-16T05:35:49.604Z"
   },
   {
    "duration": 6,
    "start_time": "2024-09-16T05:35:49.997Z"
   },
   {
    "duration": 6,
    "start_time": "2024-09-16T05:35:50.420Z"
   },
   {
    "duration": 6,
    "start_time": "2024-09-16T05:35:50.819Z"
   },
   {
    "duration": 364,
    "start_time": "2024-09-16T05:35:51.182Z"
   },
   {
    "duration": 7,
    "start_time": "2024-09-16T05:35:51.951Z"
   },
   {
    "duration": 4,
    "start_time": "2024-09-16T05:35:52.624Z"
   },
   {
    "duration": 4,
    "start_time": "2024-09-16T05:35:53.039Z"
   },
   {
    "duration": 3,
    "start_time": "2024-09-16T05:35:53.451Z"
   },
   {
    "duration": 4,
    "start_time": "2024-09-16T05:35:53.784Z"
   },
   {
    "duration": 3,
    "start_time": "2024-09-16T05:35:54.129Z"
   },
   {
    "duration": 6,
    "start_time": "2024-09-16T05:35:55.551Z"
   },
   {
    "duration": 6,
    "start_time": "2024-09-16T05:35:57.165Z"
   },
   {
    "duration": 45,
    "start_time": "2024-09-16T05:35:58.457Z"
   },
   {
    "duration": 4,
    "start_time": "2024-09-16T05:35:58.879Z"
   },
   {
    "duration": 3,
    "start_time": "2024-09-16T05:35:59.683Z"
   },
   {
    "duration": 4,
    "start_time": "2024-09-16T05:36:00.110Z"
   },
   {
    "duration": 6,
    "start_time": "2024-09-16T05:36:02.663Z"
   },
   {
    "duration": 9,
    "start_time": "2024-09-16T05:36:03.873Z"
   },
   {
    "duration": 2,
    "start_time": "2024-09-16T05:36:04.296Z"
   },
   {
    "duration": 5,
    "start_time": "2024-09-16T05:36:04.698Z"
   },
   {
    "duration": 3,
    "start_time": "2024-09-16T05:36:05.496Z"
   },
   {
    "duration": 4,
    "start_time": "2024-09-16T05:36:05.814Z"
   },
   {
    "duration": 45,
    "start_time": "2024-09-16T05:36:06.749Z"
   },
   {
    "duration": 4,
    "start_time": "2024-09-16T05:36:08.095Z"
   },
   {
    "duration": 4,
    "start_time": "2024-09-16T05:36:08.566Z"
   },
   {
    "duration": 6,
    "start_time": "2024-09-16T05:36:08.793Z"
   },
   {
    "duration": 47,
    "start_time": "2024-09-16T05:36:09.259Z"
   },
   {
    "duration": 5,
    "start_time": "2024-09-16T05:36:11.006Z"
   },
   {
    "duration": 6,
    "start_time": "2024-09-16T05:36:11.505Z"
   },
   {
    "duration": 44,
    "start_time": "2024-09-16T05:36:12.155Z"
   },
   {
    "duration": 8,
    "start_time": "2024-09-16T05:36:17.230Z"
   },
   {
    "duration": 4,
    "start_time": "2024-09-16T05:36:17.693Z"
   },
   {
    "duration": 5,
    "start_time": "2024-09-16T05:36:18.070Z"
   },
   {
    "duration": 5,
    "start_time": "2024-09-16T05:36:18.732Z"
   },
   {
    "duration": 4,
    "start_time": "2024-09-16T05:36:22.094Z"
   },
   {
    "duration": 4,
    "start_time": "2024-09-16T05:36:22.481Z"
   },
   {
    "duration": 4,
    "start_time": "2024-09-16T05:36:22.865Z"
   },
   {
    "duration": 79,
    "start_time": "2024-09-16T05:36:24.450Z"
   },
   {
    "duration": 11,
    "start_time": "2024-09-16T05:36:30.840Z"
   },
   {
    "duration": 6,
    "start_time": "2024-09-16T05:36:31.381Z"
   },
   {
    "duration": 6,
    "start_time": "2024-09-16T05:36:32.025Z"
   },
   {
    "duration": 46,
    "start_time": "2024-09-16T05:36:32.558Z"
   },
   {
    "duration": 4,
    "start_time": "2024-09-16T05:36:43.916Z"
   },
   {
    "duration": 4,
    "start_time": "2024-09-16T05:36:44.797Z"
   },
   {
    "duration": 4,
    "start_time": "2024-09-16T05:36:45.232Z"
   },
   {
    "duration": 4,
    "start_time": "2024-09-16T05:36:45.780Z"
   },
   {
    "duration": 5,
    "start_time": "2024-09-16T05:36:46.840Z"
   },
   {
    "duration": 5,
    "start_time": "2024-09-16T05:36:47.431Z"
   },
   {
    "duration": 8,
    "start_time": "2024-09-16T05:36:49.497Z"
   },
   {
    "duration": 4,
    "start_time": "2024-09-16T05:36:49.901Z"
   },
   {
    "duration": 41,
    "start_time": "2024-09-16T05:36:50.350Z"
   },
   {
    "duration": 5,
    "start_time": "2024-09-16T05:36:51.828Z"
   },
   {
    "duration": 5,
    "start_time": "2024-09-16T05:36:52.423Z"
   },
   {
    "duration": 41,
    "start_time": "2024-09-16T05:36:53.032Z"
   },
   {
    "duration": 4,
    "start_time": "2024-09-16T05:37:02.898Z"
   },
   {
    "duration": 4,
    "start_time": "2024-09-16T05:37:03.372Z"
   },
   {
    "duration": 3,
    "start_time": "2024-09-16T05:37:03.831Z"
   },
   {
    "duration": 5,
    "start_time": "2024-09-16T05:37:04.507Z"
   },
   {
    "duration": 14,
    "start_time": "2024-09-16T05:37:04.851Z"
   },
   {
    "duration": 7,
    "start_time": "2024-09-16T05:37:05.580Z"
   },
   {
    "duration": 5,
    "start_time": "2024-09-16T05:37:06.030Z"
   },
   {
    "duration": 41,
    "start_time": "2024-09-16T05:37:06.829Z"
   },
   {
    "duration": 4,
    "start_time": "2024-09-16T05:37:07.368Z"
   },
   {
    "duration": 4,
    "start_time": "2024-09-16T05:37:08.178Z"
   },
   {
    "duration": 3,
    "start_time": "2024-09-16T05:37:08.466Z"
   },
   {
    "duration": 4,
    "start_time": "2024-09-16T05:37:08.800Z"
   },
   {
    "duration": 4,
    "start_time": "2024-09-16T05:37:09.180Z"
   },
   {
    "duration": 4,
    "start_time": "2024-09-16T05:37:09.598Z"
   },
   {
    "duration": 3,
    "start_time": "2024-09-16T05:47:21.316Z"
   },
   {
    "duration": 3,
    "start_time": "2024-09-16T05:48:35.962Z"
   },
   {
    "duration": 7,
    "start_time": "2024-09-16T05:48:45.489Z"
   },
   {
    "duration": 2,
    "start_time": "2024-09-16T05:51:02.778Z"
   },
   {
    "duration": 208,
    "start_time": "2024-09-16T05:51:06.232Z"
   },
   {
    "duration": 2,
    "start_time": "2024-09-16T05:51:54.729Z"
   },
   {
    "duration": 31,
    "start_time": "2024-09-16T05:51:55.538Z"
   },
   {
    "duration": 837,
    "start_time": "2024-09-16T15:27:49.899Z"
   },
   {
    "duration": 42,
    "start_time": "2024-09-16T15:27:50.932Z"
   },
   {
    "duration": 3,
    "start_time": "2024-09-16T15:27:58.130Z"
   },
   {
    "duration": 9,
    "start_time": "2024-09-16T15:27:58.455Z"
   },
   {
    "duration": 4,
    "start_time": "2024-09-16T15:27:59.044Z"
   },
   {
    "duration": 10,
    "start_time": "2024-09-16T15:27:59.473Z"
   },
   {
    "duration": 5,
    "start_time": "2024-09-16T15:28:00.205Z"
   },
   {
    "duration": 10,
    "start_time": "2024-09-16T15:28:00.623Z"
   },
   {
    "duration": 12,
    "start_time": "2024-09-16T15:28:02.059Z"
   },
   {
    "duration": 6,
    "start_time": "2024-09-16T15:28:05.164Z"
   },
   {
    "duration": 4,
    "start_time": "2024-09-16T15:28:06.085Z"
   },
   {
    "duration": 4,
    "start_time": "2024-09-16T15:28:06.604Z"
   },
   {
    "duration": 3,
    "start_time": "2024-09-16T15:28:06.882Z"
   },
   {
    "duration": 4,
    "start_time": "2024-09-16T15:28:07.463Z"
   },
   {
    "duration": 6,
    "start_time": "2024-09-16T15:28:07.749Z"
   },
   {
    "duration": 6,
    "start_time": "2024-09-16T15:28:08.745Z"
   },
   {
    "duration": 5,
    "start_time": "2024-09-16T15:28:09.015Z"
   },
   {
    "duration": 376,
    "start_time": "2024-09-16T15:28:09.607Z"
   },
   {
    "duration": 4,
    "start_time": "2024-09-16T15:28:11.351Z"
   },
   {
    "duration": 4,
    "start_time": "2024-09-16T15:28:11.618Z"
   },
   {
    "duration": 4,
    "start_time": "2024-09-16T15:28:12.212Z"
   },
   {
    "duration": 4,
    "start_time": "2024-09-16T15:28:12.559Z"
   },
   {
    "duration": 7,
    "start_time": "2024-09-16T15:28:13.193Z"
   },
   {
    "duration": 4,
    "start_time": "2024-09-16T15:28:14.006Z"
   },
   {
    "duration": 7,
    "start_time": "2024-09-16T15:28:16.133Z"
   },
   {
    "duration": 5,
    "start_time": "2024-09-16T15:28:18.350Z"
   },
   {
    "duration": 45,
    "start_time": "2024-09-16T15:28:19.184Z"
   },
   {
    "duration": 5,
    "start_time": "2024-09-16T15:28:19.789Z"
   },
   {
    "duration": 4,
    "start_time": "2024-09-16T15:28:20.621Z"
   },
   {
    "duration": 3,
    "start_time": "2024-09-16T15:28:21.081Z"
   },
   {
    "duration": 5,
    "start_time": "2024-09-16T15:28:22.627Z"
   },
   {
    "duration": 11,
    "start_time": "2024-09-16T15:28:26.814Z"
   },
   {
    "duration": 3,
    "start_time": "2024-09-16T15:28:27.100Z"
   },
   {
    "duration": 3,
    "start_time": "2024-09-16T15:28:27.689Z"
   },
   {
    "duration": 3,
    "start_time": "2024-09-16T15:28:28.206Z"
   },
   {
    "duration": 4,
    "start_time": "2024-09-16T15:28:28.504Z"
   },
   {
    "duration": 46,
    "start_time": "2024-09-16T15:28:29.554Z"
   },
   {
    "duration": 4,
    "start_time": "2024-09-16T15:28:30.942Z"
   },
   {
    "duration": 4,
    "start_time": "2024-09-16T15:28:31.325Z"
   },
   {
    "duration": 6,
    "start_time": "2024-09-16T15:28:31.770Z"
   },
   {
    "duration": 49,
    "start_time": "2024-09-16T15:28:32.090Z"
   },
   {
    "duration": 5,
    "start_time": "2024-09-16T15:28:33.405Z"
   },
   {
    "duration": 6,
    "start_time": "2024-09-16T15:28:33.677Z"
   },
   {
    "duration": 44,
    "start_time": "2024-09-16T15:28:34.009Z"
   },
   {
    "duration": 8,
    "start_time": "2024-09-16T15:28:34.775Z"
   },
   {
    "duration": 3,
    "start_time": "2024-09-16T15:28:35.100Z"
   },
   {
    "duration": 5,
    "start_time": "2024-09-16T15:28:35.476Z"
   },
   {
    "duration": 6,
    "start_time": "2024-09-16T15:28:35.766Z"
   },
   {
    "duration": 4,
    "start_time": "2024-09-16T15:28:36.976Z"
   },
   {
    "duration": 5,
    "start_time": "2024-09-16T15:28:37.374Z"
   },
   {
    "duration": 6,
    "start_time": "2024-09-16T15:28:37.773Z"
   },
   {
    "duration": 80,
    "start_time": "2024-09-16T15:28:38.382Z"
   },
   {
    "duration": 10,
    "start_time": "2024-09-16T15:28:39.710Z"
   },
   {
    "duration": 5,
    "start_time": "2024-09-16T15:28:40.340Z"
   },
   {
    "duration": 6,
    "start_time": "2024-09-16T15:28:40.835Z"
   },
   {
    "duration": 44,
    "start_time": "2024-09-16T15:28:41.123Z"
   },
   {
    "duration": 4,
    "start_time": "2024-09-16T15:28:41.702Z"
   },
   {
    "duration": 4,
    "start_time": "2024-09-16T15:28:42.578Z"
   },
   {
    "duration": 4,
    "start_time": "2024-09-16T15:28:42.861Z"
   },
   {
    "duration": 3,
    "start_time": "2024-09-16T15:28:43.152Z"
   },
   {
    "duration": 6,
    "start_time": "2024-09-16T15:28:43.980Z"
   },
   {
    "duration": 4,
    "start_time": "2024-09-16T15:28:44.425Z"
   },
   {
    "duration": 8,
    "start_time": "2024-09-16T15:28:45.895Z"
   },
   {
    "duration": 5,
    "start_time": "2024-09-16T15:28:46.244Z"
   },
   {
    "duration": 44,
    "start_time": "2024-09-16T15:28:46.554Z"
   },
   {
    "duration": 6,
    "start_time": "2024-09-16T15:28:47.893Z"
   },
   {
    "duration": 6,
    "start_time": "2024-09-16T15:28:48.372Z"
   },
   {
    "duration": 41,
    "start_time": "2024-09-16T15:28:48.810Z"
   },
   {
    "duration": 4,
    "start_time": "2024-09-16T15:28:50.079Z"
   },
   {
    "duration": 4,
    "start_time": "2024-09-16T15:28:50.506Z"
   },
   {
    "duration": 3,
    "start_time": "2024-09-16T15:28:50.806Z"
   },
   {
    "duration": 5,
    "start_time": "2024-09-16T15:28:51.181Z"
   },
   {
    "duration": 15,
    "start_time": "2024-09-16T15:29:20.749Z"
   },
   {
    "duration": 6,
    "start_time": "2024-09-16T15:29:23.107Z"
   },
   {
    "duration": 6,
    "start_time": "2024-09-16T15:29:23.705Z"
   },
   {
    "duration": 41,
    "start_time": "2024-09-16T15:29:23.983Z"
   },
   {
    "duration": 4,
    "start_time": "2024-09-16T15:29:24.395Z"
   },
   {
    "duration": 4,
    "start_time": "2024-09-16T15:29:25.090Z"
   },
   {
    "duration": 4,
    "start_time": "2024-09-16T15:29:25.347Z"
   },
   {
    "duration": 4,
    "start_time": "2024-09-16T15:29:25.738Z"
   },
   {
    "duration": 4,
    "start_time": "2024-09-16T15:29:26.108Z"
   },
   {
    "duration": 4,
    "start_time": "2024-09-16T15:29:26.432Z"
   },
   {
    "duration": 13,
    "start_time": "2024-09-16T15:29:48.118Z"
   },
   {
    "duration": 15,
    "start_time": "2024-09-16T15:30:10.411Z"
   },
   {
    "duration": 4,
    "start_time": "2024-09-16T15:30:17.221Z"
   },
   {
    "duration": 5,
    "start_time": "2024-09-16T15:30:17.965Z"
   },
   {
    "duration": 10,
    "start_time": "2024-09-16T16:04:50.923Z"
   },
   {
    "duration": 14,
    "start_time": "2024-09-16T16:04:52.022Z"
   },
   {
    "duration": 13,
    "start_time": "2024-09-16T16:05:09.890Z"
   },
   {
    "duration": 14,
    "start_time": "2024-09-16T16:05:24.401Z"
   },
   {
    "duration": 353,
    "start_time": "2024-09-16T16:08:44.689Z"
   },
   {
    "duration": 16,
    "start_time": "2024-09-16T16:12:08.314Z"
   },
   {
    "duration": 4,
    "start_time": "2024-09-16T16:12:58.963Z"
   },
   {
    "duration": 5,
    "start_time": "2024-09-16T16:13:22.212Z"
   },
   {
    "duration": 2,
    "start_time": "2024-09-16T16:13:35.882Z"
   },
   {
    "duration": 32,
    "start_time": "2024-09-16T16:13:37.288Z"
   },
   {
    "duration": 3,
    "start_time": "2024-09-16T16:18:57.860Z"
   },
   {
    "duration": 30,
    "start_time": "2024-09-16T16:18:58.995Z"
   },
   {
    "duration": 4,
    "start_time": "2024-09-16T16:19:24.831Z"
   },
   {
    "duration": 5,
    "start_time": "2024-09-16T16:19:25.292Z"
   },
   {
    "duration": 2,
    "start_time": "2024-09-16T16:19:26.547Z"
   },
   {
    "duration": 30,
    "start_time": "2024-09-16T16:19:27.168Z"
   },
   {
    "duration": 2,
    "start_time": "2024-09-16T16:25:30.084Z"
   },
   {
    "duration": 29,
    "start_time": "2024-09-16T16:25:31.884Z"
   },
   {
    "duration": 18,
    "start_time": "2024-09-16T16:32:31.100Z"
   },
   {
    "duration": 23,
    "start_time": "2024-09-16T16:32:38.694Z"
   },
   {
    "duration": 28,
    "start_time": "2024-09-16T16:33:17.806Z"
   },
   {
    "duration": 33,
    "start_time": "2024-09-16T16:39:47.713Z"
   },
   {
    "duration": 29,
    "start_time": "2024-09-16T16:40:29.227Z"
   },
   {
    "duration": 7,
    "start_time": "2024-09-16T16:40:40.942Z"
   },
   {
    "duration": 31,
    "start_time": "2024-09-16T16:40:53.162Z"
   },
   {
    "duration": 3,
    "start_time": "2024-09-16T16:44:29.037Z"
   },
   {
    "duration": 20,
    "start_time": "2024-09-16T16:45:48.147Z"
   },
   {
    "duration": 21,
    "start_time": "2024-09-16T16:53:09.963Z"
   },
   {
    "duration": 3,
    "start_time": "2024-09-16T18:07:48.662Z"
   },
   {
    "duration": 25,
    "start_time": "2024-09-16T18:07:49.268Z"
   },
   {
    "duration": 4,
    "start_time": "2024-09-16T18:07:54.218Z"
   },
   {
    "duration": 9,
    "start_time": "2024-09-16T18:07:54.860Z"
   },
   {
    "duration": 5,
    "start_time": "2024-09-16T18:08:09.758Z"
   },
   {
    "duration": 17,
    "start_time": "2024-09-16T18:08:14.707Z"
   },
   {
    "duration": 10,
    "start_time": "2024-09-16T18:10:21.685Z"
   },
   {
    "duration": 4,
    "start_time": "2024-09-16T18:16:09.544Z"
   },
   {
    "duration": 11,
    "start_time": "2024-09-16T18:16:10.439Z"
   },
   {
    "duration": 14,
    "start_time": "2024-09-16T18:16:15.736Z"
   },
   {
    "duration": 13,
    "start_time": "2024-09-16T18:17:48.531Z"
   },
   {
    "duration": 5,
    "start_time": "2024-09-16T18:17:52.741Z"
   },
   {
    "duration": 3,
    "start_time": "2024-09-16T18:17:57.122Z"
   },
   {
    "duration": 4,
    "start_time": "2024-09-16T18:17:57.447Z"
   },
   {
    "duration": 3,
    "start_time": "2024-09-16T18:17:57.848Z"
   },
   {
    "duration": 5,
    "start_time": "2024-09-16T18:17:58.306Z"
   },
   {
    "duration": 6,
    "start_time": "2024-09-16T18:17:58.945Z"
   },
   {
    "duration": 6,
    "start_time": "2024-09-16T18:18:02.246Z"
   },
   {
    "duration": 6,
    "start_time": "2024-09-16T18:18:02.637Z"
   },
   {
    "duration": 47,
    "start_time": "2024-09-16T18:18:03.164Z"
   },
   {
    "duration": 4,
    "start_time": "2024-09-16T18:18:08.129Z"
   },
   {
    "duration": 4,
    "start_time": "2024-09-16T18:18:08.565Z"
   },
   {
    "duration": 4,
    "start_time": "2024-09-16T18:18:08.912Z"
   },
   {
    "duration": 4,
    "start_time": "2024-09-16T18:18:09.381Z"
   },
   {
    "duration": 4,
    "start_time": "2024-09-16T18:18:09.950Z"
   },
   {
    "duration": 4,
    "start_time": "2024-09-16T18:18:10.464Z"
   },
   {
    "duration": 7,
    "start_time": "2024-09-16T18:18:18.232Z"
   },
   {
    "duration": 5,
    "start_time": "2024-09-16T18:18:27.306Z"
   },
   {
    "duration": 53,
    "start_time": "2024-09-16T18:18:27.613Z"
   },
   {
    "duration": 4,
    "start_time": "2024-09-16T18:18:28.022Z"
   },
   {
    "duration": 4,
    "start_time": "2024-09-16T18:18:28.312Z"
   },
   {
    "duration": 3,
    "start_time": "2024-09-16T18:18:28.753Z"
   },
   {
    "duration": 5,
    "start_time": "2024-09-16T18:18:29.897Z"
   },
   {
    "duration": 8,
    "start_time": "2024-09-16T18:18:30.846Z"
   },
   {
    "duration": 2,
    "start_time": "2024-09-16T18:18:31.163Z"
   },
   {
    "duration": 3,
    "start_time": "2024-09-16T18:18:31.534Z"
   },
   {
    "duration": 4,
    "start_time": "2024-09-16T18:18:31.929Z"
   },
   {
    "duration": 3,
    "start_time": "2024-09-16T18:18:32.320Z"
   },
   {
    "duration": 47,
    "start_time": "2024-09-16T18:18:33.055Z"
   },
   {
    "duration": 4,
    "start_time": "2024-09-16T18:18:35.430Z"
   },
   {
    "duration": 5,
    "start_time": "2024-09-16T18:18:35.679Z"
   },
   {
    "duration": 6,
    "start_time": "2024-09-16T18:18:35.995Z"
   },
   {
    "duration": 46,
    "start_time": "2024-09-16T18:18:36.262Z"
   },
   {
    "duration": 5,
    "start_time": "2024-09-16T18:18:37.413Z"
   },
   {
    "duration": 5,
    "start_time": "2024-09-16T18:18:37.728Z"
   },
   {
    "duration": 47,
    "start_time": "2024-09-16T18:18:38.034Z"
   },
   {
    "duration": 8,
    "start_time": "2024-09-16T18:18:38.921Z"
   },
   {
    "duration": 4,
    "start_time": "2024-09-16T18:18:39.296Z"
   },
   {
    "duration": 4,
    "start_time": "2024-09-16T18:18:39.653Z"
   },
   {
    "duration": 6,
    "start_time": "2024-09-16T18:18:40.079Z"
   },
   {
    "duration": 4,
    "start_time": "2024-09-16T18:18:41.260Z"
   },
   {
    "duration": 4,
    "start_time": "2024-09-16T18:18:41.748Z"
   },
   {
    "duration": 3,
    "start_time": "2024-09-16T18:18:42.171Z"
   },
   {
    "duration": 77,
    "start_time": "2024-09-16T18:18:42.993Z"
   },
   {
    "duration": 11,
    "start_time": "2024-09-16T18:18:44.517Z"
   },
   {
    "duration": 5,
    "start_time": "2024-09-16T18:18:44.945Z"
   },
   {
    "duration": 5,
    "start_time": "2024-09-16T18:18:45.346Z"
   },
   {
    "duration": 50,
    "start_time": "2024-09-16T18:18:45.801Z"
   },
   {
    "duration": 4,
    "start_time": "2024-09-16T18:18:46.228Z"
   },
   {
    "duration": 4,
    "start_time": "2024-09-16T18:18:46.644Z"
   },
   {
    "duration": 4,
    "start_time": "2024-09-16T18:18:47.080Z"
   },
   {
    "duration": 4,
    "start_time": "2024-09-16T18:18:47.421Z"
   },
   {
    "duration": 6,
    "start_time": "2024-09-16T18:18:48.114Z"
   },
   {
    "duration": 5,
    "start_time": "2024-09-16T18:18:48.475Z"
   },
   {
    "duration": 9,
    "start_time": "2024-09-16T18:18:52.518Z"
   },
   {
    "duration": 5,
    "start_time": "2024-09-16T18:18:54.721Z"
   },
   {
    "duration": 42,
    "start_time": "2024-09-16T18:18:55.001Z"
   },
   {
    "duration": 5,
    "start_time": "2024-09-16T18:18:59.952Z"
   },
   {
    "duration": 6,
    "start_time": "2024-09-16T18:19:00.295Z"
   },
   {
    "duration": 43,
    "start_time": "2024-09-16T18:19:01.031Z"
   },
   {
    "duration": 4,
    "start_time": "2024-09-16T18:19:11.521Z"
   },
   {
    "duration": 6,
    "start_time": "2024-09-16T18:19:11.938Z"
   },
   {
    "duration": 3,
    "start_time": "2024-09-16T18:19:12.178Z"
   },
   {
    "duration": 5,
    "start_time": "2024-09-16T18:19:12.876Z"
   },
   {
    "duration": 14,
    "start_time": "2024-09-16T18:19:13.848Z"
   },
   {
    "duration": 6,
    "start_time": "2024-09-16T18:19:16.322Z"
   },
   {
    "duration": 6,
    "start_time": "2024-09-16T18:19:16.855Z"
   },
   {
    "duration": 42,
    "start_time": "2024-09-16T18:19:17.207Z"
   },
   {
    "duration": 4,
    "start_time": "2024-09-16T18:19:17.717Z"
   },
   {
    "duration": 4,
    "start_time": "2024-09-16T18:19:19.084Z"
   },
   {
    "duration": 5,
    "start_time": "2024-09-16T18:19:19.446Z"
   },
   {
    "duration": 4,
    "start_time": "2024-09-16T18:19:20.448Z"
   },
   {
    "duration": 4,
    "start_time": "2024-09-16T18:19:20.918Z"
   },
   {
    "duration": 4,
    "start_time": "2024-09-16T18:19:21.433Z"
   },
   {
    "duration": 12,
    "start_time": "2024-09-16T18:19:32.249Z"
   },
   {
    "duration": 10,
    "start_time": "2024-09-16T18:20:06.563Z"
   },
   {
    "duration": 15,
    "start_time": "2024-09-16T18:20:07.849Z"
   },
   {
    "duration": 4,
    "start_time": "2024-09-16T18:20:22.887Z"
   },
   {
    "duration": 6,
    "start_time": "2024-09-16T18:20:23.361Z"
   },
   {
    "duration": 3,
    "start_time": "2024-09-16T18:20:26.234Z"
   },
   {
    "duration": 30,
    "start_time": "2024-09-16T18:20:26.618Z"
   },
   {
    "duration": 889,
    "start_time": "2024-09-16T18:20:54.046Z"
   },
   {
    "duration": 30,
    "start_time": "2024-09-16T18:20:54.938Z"
   },
   {
    "duration": 3,
    "start_time": "2024-09-16T18:20:54.969Z"
   },
   {
    "duration": 10,
    "start_time": "2024-09-16T18:20:54.974Z"
   },
   {
    "duration": 5,
    "start_time": "2024-09-16T18:20:54.986Z"
   },
   {
    "duration": 39,
    "start_time": "2024-09-16T18:20:54.992Z"
   },
   {
    "duration": 10,
    "start_time": "2024-09-16T18:20:55.032Z"
   },
   {
    "duration": 4,
    "start_time": "2024-09-16T18:20:55.044Z"
   },
   {
    "duration": 9,
    "start_time": "2024-09-16T18:20:55.050Z"
   },
   {
    "duration": 12,
    "start_time": "2024-09-16T18:20:55.062Z"
   },
   {
    "duration": 5,
    "start_time": "2024-09-16T18:20:55.075Z"
   },
   {
    "duration": 4,
    "start_time": "2024-09-16T18:20:55.082Z"
   },
   {
    "duration": 44,
    "start_time": "2024-09-16T18:20:55.088Z"
   },
   {
    "duration": 3,
    "start_time": "2024-09-16T18:20:55.134Z"
   },
   {
    "duration": 5,
    "start_time": "2024-09-16T18:20:55.138Z"
   },
   {
    "duration": 5,
    "start_time": "2024-09-16T18:20:55.145Z"
   },
   {
    "duration": 6,
    "start_time": "2024-09-16T18:20:55.152Z"
   },
   {
    "duration": 5,
    "start_time": "2024-09-16T18:20:55.159Z"
   },
   {
    "duration": 392,
    "start_time": "2024-09-16T18:20:55.166Z"
   },
   {
    "duration": 4,
    "start_time": "2024-09-16T18:20:55.559Z"
   },
   {
    "duration": 4,
    "start_time": "2024-09-16T18:20:55.565Z"
   },
   {
    "duration": 4,
    "start_time": "2024-09-16T18:20:55.570Z"
   },
   {
    "duration": 3,
    "start_time": "2024-09-16T18:20:55.576Z"
   },
   {
    "duration": 3,
    "start_time": "2024-09-16T18:20:55.581Z"
   },
   {
    "duration": 4,
    "start_time": "2024-09-16T18:20:55.588Z"
   },
   {
    "duration": 39,
    "start_time": "2024-09-16T18:20:55.594Z"
   },
   {
    "duration": 7,
    "start_time": "2024-09-16T18:20:55.635Z"
   },
   {
    "duration": 83,
    "start_time": "2024-09-16T18:20:55.652Z"
   },
   {
    "duration": 4,
    "start_time": "2024-09-16T18:20:55.737Z"
   },
   {
    "duration": 4,
    "start_time": "2024-09-16T18:20:55.743Z"
   },
   {
    "duration": 3,
    "start_time": "2024-09-16T18:20:55.749Z"
   },
   {
    "duration": 6,
    "start_time": "2024-09-16T18:20:55.754Z"
   },
   {
    "duration": 8,
    "start_time": "2024-09-16T18:20:55.762Z"
   },
   {
    "duration": 2,
    "start_time": "2024-09-16T18:20:55.772Z"
   },
   {
    "duration": 5,
    "start_time": "2024-09-16T18:20:55.776Z"
   },
   {
    "duration": 52,
    "start_time": "2024-09-16T18:20:55.782Z"
   },
   {
    "duration": 3,
    "start_time": "2024-09-16T18:20:55.836Z"
   },
   {
    "duration": 45,
    "start_time": "2024-09-16T18:20:55.841Z"
   },
   {
    "duration": 5,
    "start_time": "2024-09-16T18:20:55.889Z"
   },
   {
    "duration": 4,
    "start_time": "2024-09-16T18:20:55.896Z"
   },
   {
    "duration": 34,
    "start_time": "2024-09-16T18:20:55.902Z"
   },
   {
    "duration": 49,
    "start_time": "2024-09-16T18:20:55.937Z"
   },
   {
    "duration": 5,
    "start_time": "2024-09-16T18:20:55.988Z"
   },
   {
    "duration": 5,
    "start_time": "2024-09-16T18:20:55.995Z"
   },
   {
    "duration": 68,
    "start_time": "2024-09-16T18:20:56.001Z"
   },
   {
    "duration": 7,
    "start_time": "2024-09-16T18:20:56.071Z"
   },
   {
    "duration": 3,
    "start_time": "2024-09-16T18:20:56.080Z"
   },
   {
    "duration": 4,
    "start_time": "2024-09-16T18:20:56.085Z"
   },
   {
    "duration": 5,
    "start_time": "2024-09-16T18:20:56.091Z"
   },
   {
    "duration": 36,
    "start_time": "2024-09-16T18:20:56.098Z"
   },
   {
    "duration": 5,
    "start_time": "2024-09-16T18:20:56.136Z"
   },
   {
    "duration": 4,
    "start_time": "2024-09-16T18:20:56.142Z"
   },
   {
    "duration": 97,
    "start_time": "2024-09-16T18:20:56.147Z"
   },
   {
    "duration": 12,
    "start_time": "2024-09-16T18:20:56.246Z"
   },
   {
    "duration": 5,
    "start_time": "2024-09-16T18:20:56.260Z"
   },
   {
    "duration": 5,
    "start_time": "2024-09-16T18:20:56.267Z"
   },
   {
    "duration": 77,
    "start_time": "2024-09-16T18:20:56.274Z"
   },
   {
    "duration": 4,
    "start_time": "2024-09-16T18:20:56.353Z"
   },
   {
    "duration": 4,
    "start_time": "2024-09-16T18:20:56.359Z"
   },
   {
    "duration": 4,
    "start_time": "2024-09-16T18:20:56.365Z"
   },
   {
    "duration": 5,
    "start_time": "2024-09-16T18:20:56.370Z"
   },
   {
    "duration": 8,
    "start_time": "2024-09-16T18:20:56.376Z"
   },
   {
    "duration": 6,
    "start_time": "2024-09-16T18:20:56.386Z"
   },
   {
    "duration": 8,
    "start_time": "2024-09-16T18:20:56.432Z"
   },
   {
    "duration": 3,
    "start_time": "2024-09-16T18:20:56.442Z"
   },
   {
    "duration": 40,
    "start_time": "2024-09-16T18:20:56.447Z"
   },
   {
    "duration": 13,
    "start_time": "2024-09-16T18:20:56.489Z"
   },
   {
    "duration": 5,
    "start_time": "2024-09-16T18:20:56.503Z"
   },
   {
    "duration": 62,
    "start_time": "2024-09-16T18:20:56.509Z"
   },
   {
    "duration": 4,
    "start_time": "2024-09-16T18:20:56.573Z"
   },
   {
    "duration": 3,
    "start_time": "2024-09-16T18:20:56.579Z"
   },
   {
    "duration": 2,
    "start_time": "2024-09-16T18:20:56.584Z"
   },
   {
    "duration": 5,
    "start_time": "2024-09-16T18:20:56.588Z"
   },
   {
    "duration": 43,
    "start_time": "2024-09-16T18:20:56.594Z"
   },
   {
    "duration": 6,
    "start_time": "2024-09-16T18:20:56.638Z"
   },
   {
    "duration": 5,
    "start_time": "2024-09-16T18:20:56.645Z"
   },
   {
    "duration": 42,
    "start_time": "2024-09-16T18:20:56.651Z"
   },
   {
    "duration": 4,
    "start_time": "2024-09-16T18:20:56.694Z"
   },
   {
    "duration": 4,
    "start_time": "2024-09-16T18:20:56.732Z"
   },
   {
    "duration": 5,
    "start_time": "2024-09-16T18:20:56.737Z"
   },
   {
    "duration": 5,
    "start_time": "2024-09-16T18:20:56.743Z"
   },
   {
    "duration": 4,
    "start_time": "2024-09-16T18:20:56.753Z"
   },
   {
    "duration": 4,
    "start_time": "2024-09-16T18:20:56.759Z"
   },
   {
    "duration": 10,
    "start_time": "2024-09-16T18:20:56.765Z"
   },
   {
    "duration": 13,
    "start_time": "2024-09-16T18:20:56.779Z"
   },
   {
    "duration": 41,
    "start_time": "2024-09-16T18:20:56.793Z"
   },
   {
    "duration": 5,
    "start_time": "2024-09-16T18:20:56.836Z"
   },
   {
    "duration": 3,
    "start_time": "2024-09-16T18:21:02.439Z"
   },
   {
    "duration": 208,
    "start_time": "2024-09-16T18:21:03.082Z"
   },
   {
    "duration": 3,
    "start_time": "2024-09-16T18:23:26.897Z"
   },
   {
    "duration": 5,
    "start_time": "2024-09-16T18:23:27.363Z"
   },
   {
    "duration": 2,
    "start_time": "2024-09-16T18:23:28.981Z"
   },
   {
    "duration": 28,
    "start_time": "2024-09-16T18:23:29.696Z"
   },
   {
    "duration": 5,
    "start_time": "2024-09-16T18:26:22.702Z"
   },
   {
    "duration": 3,
    "start_time": "2024-09-16T18:30:09.632Z"
   },
   {
    "duration": 30,
    "start_time": "2024-09-16T18:30:10.697Z"
   },
   {
    "duration": 6,
    "start_time": "2024-09-16T18:32:40.095Z"
   },
   {
    "duration": 12,
    "start_time": "2024-09-16T18:33:19.153Z"
   },
   {
    "duration": 11,
    "start_time": "2024-09-16T18:33:36.688Z"
   },
   {
    "duration": 55,
    "start_time": "2024-09-16T18:36:14.993Z"
   },
   {
    "duration": 11,
    "start_time": "2024-09-16T18:36:23.141Z"
   },
   {
    "duration": 4,
    "start_time": "2024-09-16T18:36:59.063Z"
   },
   {
    "duration": 11,
    "start_time": "2024-09-16T18:36:59.705Z"
   },
   {
    "duration": 3,
    "start_time": "2024-09-16T18:39:10.988Z"
   },
   {
    "duration": 25,
    "start_time": "2024-09-16T18:39:10.995Z"
   },
   {
    "duration": 4,
    "start_time": "2024-09-16T18:39:11.022Z"
   },
   {
    "duration": 9,
    "start_time": "2024-09-16T18:39:11.027Z"
   },
   {
    "duration": 4,
    "start_time": "2024-09-16T18:39:11.040Z"
   },
   {
    "duration": 19,
    "start_time": "2024-09-16T18:39:11.046Z"
   },
   {
    "duration": 4,
    "start_time": "2024-09-16T18:39:11.068Z"
   },
   {
    "duration": 16,
    "start_time": "2024-09-16T18:39:16.153Z"
   },
   {
    "duration": 14,
    "start_time": "2024-09-16T18:39:27.383Z"
   },
   {
    "duration": 9,
    "start_time": "2024-09-16T18:39:53.621Z"
   },
   {
    "duration": 14,
    "start_time": "2024-09-16T18:40:27.682Z"
   },
   {
    "duration": 8,
    "start_time": "2024-09-16T18:40:27.698Z"
   },
   {
    "duration": 10,
    "start_time": "2024-09-16T18:41:12.125Z"
   },
   {
    "duration": 12,
    "start_time": "2024-09-16T18:41:51.217Z"
   },
   {
    "duration": 4,
    "start_time": "2024-09-16T18:43:36.085Z"
   },
   {
    "duration": 24,
    "start_time": "2024-09-16T18:43:40.763Z"
   },
   {
    "duration": 4,
    "start_time": "2024-09-16T18:43:47.252Z"
   },
   {
    "duration": 10,
    "start_time": "2024-09-16T18:44:09.130Z"
   },
   {
    "duration": 5,
    "start_time": "2024-09-16T18:44:13.460Z"
   },
   {
    "duration": 18,
    "start_time": "2024-09-16T18:44:17.304Z"
   },
   {
    "duration": 7,
    "start_time": "2024-09-16T18:44:29.855Z"
   },
   {
    "duration": 14,
    "start_time": "2024-09-16T18:44:40.948Z"
   },
   {
    "duration": 10,
    "start_time": "2024-09-16T18:44:42.812Z"
   },
   {
    "duration": 3,
    "start_time": "2024-09-16T18:45:39.537Z"
   },
   {
    "duration": 10,
    "start_time": "2024-09-16T18:45:40.127Z"
   },
   {
    "duration": 5,
    "start_time": "2024-09-16T18:45:45.627Z"
   },
   {
    "duration": 18,
    "start_time": "2024-09-16T18:45:53.640Z"
   },
   {
    "duration": 9,
    "start_time": "2024-09-16T18:48:20.771Z"
   },
   {
    "duration": 3,
    "start_time": "2024-09-16T18:48:30.787Z"
   },
   {
    "duration": 25,
    "start_time": "2024-09-16T18:48:30.792Z"
   },
   {
    "duration": 2,
    "start_time": "2024-09-16T18:48:30.820Z"
   },
   {
    "duration": 10,
    "start_time": "2024-09-16T18:48:30.824Z"
   },
   {
    "duration": 5,
    "start_time": "2024-09-16T18:48:30.835Z"
   },
   {
    "duration": 17,
    "start_time": "2024-09-16T18:48:30.842Z"
   },
   {
    "duration": 12,
    "start_time": "2024-09-16T18:48:34.824Z"
   },
   {
    "duration": 5,
    "start_time": "2024-09-16T18:48:50.968Z"
   },
   {
    "duration": 13,
    "start_time": "2024-09-16T18:48:58.551Z"
   },
   {
    "duration": 13,
    "start_time": "2024-09-16T18:49:05.338Z"
   },
   {
    "duration": 6,
    "start_time": "2024-09-16T18:49:57.145Z"
   },
   {
    "duration": 16,
    "start_time": "2024-09-16T18:50:07.172Z"
   },
   {
    "duration": 15,
    "start_time": "2024-09-16T18:52:02.139Z"
   },
   {
    "duration": 15,
    "start_time": "2024-09-16T18:53:48.510Z"
   },
   {
    "duration": 478,
    "start_time": "2024-09-16T18:56:50.295Z"
   },
   {
    "duration": 3,
    "start_time": "2024-09-16T18:57:12.504Z"
   },
   {
    "duration": 24,
    "start_time": "2024-09-16T18:57:12.510Z"
   },
   {
    "duration": 3,
    "start_time": "2024-09-16T18:57:12.536Z"
   },
   {
    "duration": 9,
    "start_time": "2024-09-16T18:57:12.540Z"
   },
   {
    "duration": 3,
    "start_time": "2024-09-16T18:57:12.557Z"
   },
   {
    "duration": 17,
    "start_time": "2024-09-16T18:57:12.563Z"
   },
   {
    "duration": 10,
    "start_time": "2024-09-16T18:57:12.581Z"
   },
   {
    "duration": 4,
    "start_time": "2024-09-16T18:57:12.592Z"
   },
   {
    "duration": 38,
    "start_time": "2024-09-16T18:57:12.599Z"
   },
   {
    "duration": 12,
    "start_time": "2024-09-16T18:57:14.616Z"
   },
   {
    "duration": 15,
    "start_time": "2024-09-16T18:57:17.104Z"
   },
   {
    "duration": 6,
    "start_time": "2024-09-16T18:57:23.891Z"
   },
   {
    "duration": 16,
    "start_time": "2024-09-16T18:57:24.530Z"
   },
   {
    "duration": 15,
    "start_time": "2024-09-16T18:57:34.524Z"
   },
   {
    "duration": 40,
    "start_time": "2024-09-16T18:57:46.783Z"
   },
   {
    "duration": 5,
    "start_time": "2024-09-16T18:58:11.976Z"
   },
   {
    "duration": 24,
    "start_time": "2024-09-16T18:58:11.983Z"
   },
   {
    "duration": 3,
    "start_time": "2024-09-16T18:58:12.009Z"
   },
   {
    "duration": 9,
    "start_time": "2024-09-16T18:58:12.013Z"
   },
   {
    "duration": 4,
    "start_time": "2024-09-16T18:58:12.025Z"
   },
   {
    "duration": 18,
    "start_time": "2024-09-16T18:58:12.031Z"
   },
   {
    "duration": 10,
    "start_time": "2024-09-16T18:58:12.050Z"
   },
   {
    "duration": 3,
    "start_time": "2024-09-16T18:58:12.062Z"
   },
   {
    "duration": 9,
    "start_time": "2024-09-16T18:58:12.067Z"
   },
   {
    "duration": 12,
    "start_time": "2024-09-16T18:58:12.079Z"
   },
   {
    "duration": 38,
    "start_time": "2024-09-16T18:58:12.093Z"
   },
   {
    "duration": 16,
    "start_time": "2024-09-16T18:58:12.133Z"
   },
   {
    "duration": 15,
    "start_time": "2024-09-16T18:58:13.999Z"
   },
   {
    "duration": 7,
    "start_time": "2024-09-16T18:58:16.068Z"
   },
   {
    "duration": 13,
    "start_time": "2024-09-16T18:58:19.884Z"
   },
   {
    "duration": 10,
    "start_time": "2024-09-16T18:58:39.659Z"
   },
   {
    "duration": 14,
    "start_time": "2024-09-16T18:58:48.880Z"
   },
   {
    "duration": 17,
    "start_time": "2024-09-16T18:59:36.788Z"
   },
   {
    "duration": 10,
    "start_time": "2024-09-16T19:00:08.271Z"
   },
   {
    "duration": 11,
    "start_time": "2024-09-16T19:01:14.898Z"
   },
   {
    "duration": 6,
    "start_time": "2024-09-16T19:01:51.578Z"
   },
   {
    "duration": 4,
    "start_time": "2024-09-16T19:01:57.576Z"
   },
   {
    "duration": 5,
    "start_time": "2024-09-16T19:01:58.636Z"
   },
   {
    "duration": 3,
    "start_time": "2024-09-16T19:02:00.615Z"
   },
   {
    "duration": 5,
    "start_time": "2024-09-16T19:02:01.465Z"
   },
   {
    "duration": 6,
    "start_time": "2024-09-16T19:02:02.270Z"
   },
   {
    "duration": 7,
    "start_time": "2024-09-16T19:02:02.970Z"
   },
   {
    "duration": 5,
    "start_time": "2024-09-16T19:02:03.533Z"
   },
   {
    "duration": 46,
    "start_time": "2024-09-16T19:02:04.276Z"
   },
   {
    "duration": 4,
    "start_time": "2024-09-16T19:02:06.220Z"
   },
   {
    "duration": 4,
    "start_time": "2024-09-16T19:02:06.695Z"
   },
   {
    "duration": 4,
    "start_time": "2024-09-16T19:02:07.125Z"
   },
   {
    "duration": 5,
    "start_time": "2024-09-16T19:02:07.579Z"
   },
   {
    "duration": 3,
    "start_time": "2024-09-16T19:02:08.814Z"
   },
   {
    "duration": 5,
    "start_time": "2024-09-16T19:02:09.178Z"
   },
   {
    "duration": 5,
    "start_time": "2024-09-16T19:02:11.869Z"
   },
   {
    "duration": 6,
    "start_time": "2024-09-16T19:02:14.278Z"
   },
   {
    "duration": 137,
    "start_time": "2024-09-16T19:02:14.748Z"
   },
   {
    "duration": 4,
    "start_time": "2024-09-16T19:02:15.118Z"
   },
   {
    "duration": 4,
    "start_time": "2024-09-16T19:02:16.593Z"
   },
   {
    "duration": 4,
    "start_time": "2024-09-16T19:02:16.600Z"
   },
   {
    "duration": 6,
    "start_time": "2024-09-16T19:02:16.977Z"
   },
   {
    "duration": 9,
    "start_time": "2024-09-16T19:02:18.987Z"
   },
   {
    "duration": 3,
    "start_time": "2024-09-16T19:02:19.360Z"
   },
   {
    "duration": 3,
    "start_time": "2024-09-16T19:02:20.738Z"
   },
   {
    "duration": 3,
    "start_time": "2024-09-16T19:02:21.088Z"
   },
   {
    "duration": 3,
    "start_time": "2024-09-16T19:02:21.422Z"
   },
   {
    "duration": 47,
    "start_time": "2024-09-16T19:02:22.146Z"
   },
   {
    "duration": 5,
    "start_time": "2024-09-16T19:02:24.472Z"
   },
   {
    "duration": 5,
    "start_time": "2024-09-16T19:02:24.768Z"
   },
   {
    "duration": 5,
    "start_time": "2024-09-16T19:02:25.199Z"
   },
   {
    "duration": 46,
    "start_time": "2024-09-16T19:02:25.484Z"
   },
   {
    "duration": 5,
    "start_time": "2024-09-16T19:02:27.696Z"
   },
   {
    "duration": 5,
    "start_time": "2024-09-16T19:02:28.490Z"
   },
   {
    "duration": 43,
    "start_time": "2024-09-16T19:02:28.970Z"
   },
   {
    "duration": 8,
    "start_time": "2024-09-16T19:02:35.421Z"
   },
   {
    "duration": 4,
    "start_time": "2024-09-16T19:02:35.720Z"
   },
   {
    "duration": 5,
    "start_time": "2024-09-16T19:02:36.155Z"
   },
   {
    "duration": 5,
    "start_time": "2024-09-16T19:02:36.512Z"
   },
   {
    "duration": 5,
    "start_time": "2024-09-16T19:02:50.606Z"
   },
   {
    "duration": 4,
    "start_time": "2024-09-16T19:02:51.328Z"
   },
   {
    "duration": 5,
    "start_time": "2024-09-16T19:02:56.568Z"
   },
   {
    "duration": 82,
    "start_time": "2024-09-16T19:03:03.230Z"
   },
   {
    "duration": 12,
    "start_time": "2024-09-16T19:03:13.876Z"
   },
   {
    "duration": 9,
    "start_time": "2024-09-16T19:03:13.891Z"
   },
   {
    "duration": 6,
    "start_time": "2024-09-16T19:03:14.202Z"
   },
   {
    "duration": 46,
    "start_time": "2024-09-16T19:03:14.977Z"
   },
   {
    "duration": 4,
    "start_time": "2024-09-16T19:03:15.815Z"
   },
   {
    "duration": 4,
    "start_time": "2024-09-16T19:03:17.043Z"
   },
   {
    "duration": 4,
    "start_time": "2024-09-16T19:03:17.341Z"
   },
   {
    "duration": 4,
    "start_time": "2024-09-16T19:03:17.808Z"
   },
   {
    "duration": 5,
    "start_time": "2024-09-16T19:03:19.431Z"
   },
   {
    "duration": 5,
    "start_time": "2024-09-16T19:03:20.205Z"
   },
   {
    "duration": 8,
    "start_time": "2024-09-16T19:03:23.119Z"
   },
   {
    "duration": 5,
    "start_time": "2024-09-16T19:03:23.986Z"
   },
   {
    "duration": 49,
    "start_time": "2024-09-16T19:03:24.187Z"
   },
   {
    "duration": 5,
    "start_time": "2024-09-16T19:03:26.419Z"
   },
   {
    "duration": 9,
    "start_time": "2024-09-16T19:03:27.223Z"
   },
   {
    "duration": 52,
    "start_time": "2024-09-16T19:03:28.049Z"
   },
   {
    "duration": 4,
    "start_time": "2024-09-16T19:03:34.617Z"
   },
   {
    "duration": 4,
    "start_time": "2024-09-16T19:03:34.905Z"
   },
   {
    "duration": 3,
    "start_time": "2024-09-16T19:03:35.637Z"
   },
   {
    "duration": 4,
    "start_time": "2024-09-16T19:03:36.055Z"
   },
   {
    "duration": 15,
    "start_time": "2024-09-16T19:03:36.237Z"
   },
   {
    "duration": 6,
    "start_time": "2024-09-16T19:03:36.968Z"
   },
   {
    "duration": 5,
    "start_time": "2024-09-16T19:03:37.323Z"
   },
   {
    "duration": 43,
    "start_time": "2024-09-16T19:03:38.239Z"
   },
   {
    "duration": 4,
    "start_time": "2024-09-16T19:03:38.466Z"
   },
   {
    "duration": 4,
    "start_time": "2024-09-16T19:03:43.669Z"
   },
   {
    "duration": 5,
    "start_time": "2024-09-16T19:03:44.224Z"
   },
   {
    "duration": 5,
    "start_time": "2024-09-16T19:03:44.762Z"
   },
   {
    "duration": 4,
    "start_time": "2024-09-16T19:03:45.212Z"
   },
   {
    "duration": 4,
    "start_time": "2024-09-16T19:03:46.339Z"
   },
   {
    "duration": 15,
    "start_time": "2024-09-16T19:04:14.567Z"
   },
   {
    "duration": 10,
    "start_time": "2024-09-16T19:04:57.421Z"
   },
   {
    "duration": 15,
    "start_time": "2024-09-16T19:04:58.458Z"
   },
   {
    "duration": 522,
    "start_time": "2024-09-16T19:08:33.802Z"
   },
   {
    "duration": 18,
    "start_time": "2024-09-16T19:08:53.292Z"
   },
   {
    "duration": 5,
    "start_time": "2024-09-16T19:09:56.889Z"
   },
   {
    "duration": 4,
    "start_time": "2024-09-16T19:10:07.901Z"
   },
   {
    "duration": 6,
    "start_time": "2024-09-16T19:10:15.630Z"
   },
   {
    "duration": 3,
    "start_time": "2024-09-16T19:10:20.633Z"
   },
   {
    "duration": 207,
    "start_time": "2024-09-16T19:10:21.944Z"
   },
   {
    "duration": 3,
    "start_time": "2024-09-16T19:16:50.234Z"
   },
   {
    "duration": 25,
    "start_time": "2024-09-16T19:16:50.251Z"
   },
   {
    "duration": 5,
    "start_time": "2024-09-16T19:16:50.278Z"
   },
   {
    "duration": 10,
    "start_time": "2024-09-16T19:16:50.284Z"
   },
   {
    "duration": 4,
    "start_time": "2024-09-16T19:16:50.296Z"
   },
   {
    "duration": 16,
    "start_time": "2024-09-16T19:16:50.302Z"
   },
   {
    "duration": 9,
    "start_time": "2024-09-16T19:16:50.368Z"
   },
   {
    "duration": 3,
    "start_time": "2024-09-16T19:16:50.380Z"
   },
   {
    "duration": 8,
    "start_time": "2024-09-16T19:16:50.385Z"
   },
   {
    "duration": 20,
    "start_time": "2024-09-16T19:16:50.405Z"
   },
   {
    "duration": 13,
    "start_time": "2024-09-16T19:16:53.633Z"
   },
   {
    "duration": 6,
    "start_time": "2024-09-16T19:16:54.005Z"
   },
   {
    "duration": 9,
    "start_time": "2024-09-16T19:18:57.289Z"
   },
   {
    "duration": 17,
    "start_time": "2024-09-16T19:20:10.835Z"
   },
   {
    "duration": 7,
    "start_time": "2024-09-16T19:20:11.597Z"
   },
   {
    "duration": 3,
    "start_time": "2024-09-16T19:20:22.129Z"
   },
   {
    "duration": 25,
    "start_time": "2024-09-16T19:20:22.137Z"
   },
   {
    "duration": 3,
    "start_time": "2024-09-16T19:20:22.164Z"
   },
   {
    "duration": 11,
    "start_time": "2024-09-16T19:20:22.169Z"
   },
   {
    "duration": 5,
    "start_time": "2024-09-16T19:20:22.182Z"
   },
   {
    "duration": 17,
    "start_time": "2024-09-16T19:20:22.188Z"
   },
   {
    "duration": 32,
    "start_time": "2024-09-16T19:20:22.206Z"
   },
   {
    "duration": 6,
    "start_time": "2024-09-16T19:20:22.239Z"
   },
   {
    "duration": 9,
    "start_time": "2024-09-16T19:20:22.247Z"
   },
   {
    "duration": 14,
    "start_time": "2024-09-16T19:20:25.408Z"
   },
   {
    "duration": 6,
    "start_time": "2024-09-16T19:20:26.409Z"
   },
   {
    "duration": 10,
    "start_time": "2024-09-16T19:20:30.158Z"
   },
   {
    "duration": 3,
    "start_time": "2024-09-16T19:22:51.893Z"
   },
   {
    "duration": 24,
    "start_time": "2024-09-16T19:22:51.898Z"
   },
   {
    "duration": 3,
    "start_time": "2024-09-16T19:22:51.925Z"
   },
   {
    "duration": 9,
    "start_time": "2024-09-16T19:22:51.930Z"
   },
   {
    "duration": 9,
    "start_time": "2024-09-16T19:22:51.948Z"
   },
   {
    "duration": 19,
    "start_time": "2024-09-16T19:22:51.959Z"
   },
   {
    "duration": 10,
    "start_time": "2024-09-16T19:22:51.984Z"
   },
   {
    "duration": 4,
    "start_time": "2024-09-16T19:22:51.999Z"
   },
   {
    "duration": 9,
    "start_time": "2024-09-16T19:22:52.022Z"
   },
   {
    "duration": 13,
    "start_time": "2024-09-16T19:22:52.040Z"
   },
   {
    "duration": 12,
    "start_time": "2024-09-16T19:22:55.360Z"
   },
   {
    "duration": 4,
    "start_time": "2024-09-16T19:22:57.804Z"
   },
   {
    "duration": 10,
    "start_time": "2024-09-16T19:23:00.612Z"
   },
   {
    "duration": 6,
    "start_time": "2024-09-16T19:23:32.257Z"
   },
   {
    "duration": 15,
    "start_time": "2024-09-16T19:23:48.901Z"
   },
   {
    "duration": 8,
    "start_time": "2024-09-16T19:23:49.958Z"
   },
   {
    "duration": 10,
    "start_time": "2024-09-16T19:23:50.295Z"
   },
   {
    "duration": 15,
    "start_time": "2024-09-16T19:23:51.111Z"
   },
   {
    "duration": 18,
    "start_time": "2024-09-16T19:23:51.760Z"
   },
   {
    "duration": 11,
    "start_time": "2024-09-16T19:23:52.130Z"
   },
   {
    "duration": 6,
    "start_time": "2024-09-16T19:26:27.517Z"
   },
   {
    "duration": 4,
    "start_time": "2024-09-16T19:26:28.194Z"
   },
   {
    "duration": 3,
    "start_time": "2024-09-16T19:26:28.482Z"
   },
   {
    "duration": 3,
    "start_time": "2024-09-16T19:26:28.720Z"
   },
   {
    "duration": 5,
    "start_time": "2024-09-16T19:26:28.948Z"
   },
   {
    "duration": 6,
    "start_time": "2024-09-16T19:26:29.217Z"
   },
   {
    "duration": 7,
    "start_time": "2024-09-16T19:26:29.501Z"
   },
   {
    "duration": 6,
    "start_time": "2024-09-16T19:26:29.784Z"
   },
   {
    "duration": 45,
    "start_time": "2024-09-16T19:26:30.019Z"
   },
   {
    "duration": 5,
    "start_time": "2024-09-16T19:26:30.568Z"
   },
   {
    "duration": 4,
    "start_time": "2024-09-16T19:26:30.746Z"
   },
   {
    "duration": 4,
    "start_time": "2024-09-16T19:26:30.962Z"
   },
   {
    "duration": 4,
    "start_time": "2024-09-16T19:26:31.183Z"
   },
   {
    "duration": 4,
    "start_time": "2024-09-16T19:26:31.396Z"
   },
   {
    "duration": 5,
    "start_time": "2024-09-16T19:26:31.594Z"
   },
   {
    "duration": 5,
    "start_time": "2024-09-16T19:26:32.323Z"
   },
   {
    "duration": 6,
    "start_time": "2024-09-16T19:26:33.195Z"
   },
   {
    "duration": 44,
    "start_time": "2024-09-16T19:26:33.410Z"
   },
   {
    "duration": 4,
    "start_time": "2024-09-16T19:26:33.607Z"
   },
   {
    "duration": 3,
    "start_time": "2024-09-16T19:26:33.779Z"
   },
   {
    "duration": 4,
    "start_time": "2024-09-16T19:26:33.980Z"
   },
   {
    "duration": 5,
    "start_time": "2024-09-16T19:26:34.571Z"
   },
   {
    "duration": 9,
    "start_time": "2024-09-16T19:26:35.175Z"
   },
   {
    "duration": 3,
    "start_time": "2024-09-16T19:26:35.355Z"
   },
   {
    "duration": 4,
    "start_time": "2024-09-16T19:26:35.569Z"
   },
   {
    "duration": 3,
    "start_time": "2024-09-16T19:26:35.781Z"
   },
   {
    "duration": 4,
    "start_time": "2024-09-16T19:26:35.964Z"
   },
   {
    "duration": 43,
    "start_time": "2024-09-16T19:26:36.834Z"
   },
   {
    "duration": 4,
    "start_time": "2024-09-16T19:26:37.081Z"
   },
   {
    "duration": 4,
    "start_time": "2024-09-16T19:26:37.359Z"
   },
   {
    "duration": 5,
    "start_time": "2024-09-16T19:26:37.499Z"
   },
   {
    "duration": 47,
    "start_time": "2024-09-16T19:26:38.326Z"
   },
   {
    "duration": 5,
    "start_time": "2024-09-16T19:26:38.947Z"
   },
   {
    "duration": 6,
    "start_time": "2024-09-16T19:26:39.188Z"
   },
   {
    "duration": 44,
    "start_time": "2024-09-16T19:26:39.446Z"
   },
   {
    "duration": 7,
    "start_time": "2024-09-16T19:26:39.921Z"
   },
   {
    "duration": 4,
    "start_time": "2024-09-16T19:26:40.153Z"
   },
   {
    "duration": 5,
    "start_time": "2024-09-16T19:26:40.819Z"
   },
   {
    "duration": 6,
    "start_time": "2024-09-16T19:26:40.997Z"
   },
   {
    "duration": 4,
    "start_time": "2024-09-16T19:26:42.185Z"
   },
   {
    "duration": 4,
    "start_time": "2024-09-16T19:26:42.215Z"
   },
   {
    "duration": 4,
    "start_time": "2024-09-16T19:26:42.433Z"
   },
   {
    "duration": 78,
    "start_time": "2024-09-16T19:26:42.885Z"
   },
   {
    "duration": 10,
    "start_time": "2024-09-16T19:26:43.841Z"
   },
   {
    "duration": 4,
    "start_time": "2024-09-16T19:26:44.406Z"
   },
   {
    "duration": 5,
    "start_time": "2024-09-16T19:26:44.580Z"
   },
   {
    "duration": 45,
    "start_time": "2024-09-16T19:26:44.768Z"
   },
   {
    "duration": 4,
    "start_time": "2024-09-16T19:26:45.261Z"
   },
   {
    "duration": 4,
    "start_time": "2024-09-16T19:26:45.431Z"
   },
   {
    "duration": 4,
    "start_time": "2024-09-16T19:26:46.085Z"
   },
   {
    "duration": 4,
    "start_time": "2024-09-16T19:26:46.246Z"
   },
   {
    "duration": 5,
    "start_time": "2024-09-16T19:26:46.595Z"
   },
   {
    "duration": 5,
    "start_time": "2024-09-16T19:26:46.766Z"
   },
   {
    "duration": 7,
    "start_time": "2024-09-16T19:26:48.827Z"
   },
   {
    "duration": 5,
    "start_time": "2024-09-16T19:26:48.995Z"
   },
   {
    "duration": 41,
    "start_time": "2024-09-16T19:26:49.200Z"
   },
   {
    "duration": 5,
    "start_time": "2024-09-16T19:26:50.438Z"
   },
   {
    "duration": 6,
    "start_time": "2024-09-16T19:26:50.618Z"
   },
   {
    "duration": 43,
    "start_time": "2024-09-16T19:26:50.825Z"
   },
   {
    "duration": 5,
    "start_time": "2024-09-16T19:26:51.414Z"
   },
   {
    "duration": 5,
    "start_time": "2024-09-16T19:26:51.613Z"
   },
   {
    "duration": 3,
    "start_time": "2024-09-16T19:26:51.796Z"
   },
   {
    "duration": 5,
    "start_time": "2024-09-16T19:26:52.374Z"
   },
   {
    "duration": 14,
    "start_time": "2024-09-16T19:26:52.563Z"
   },
   {
    "duration": 6,
    "start_time": "2024-09-16T19:26:53.083Z"
   },
   {
    "duration": 5,
    "start_time": "2024-09-16T19:26:53.434Z"
   },
   {
    "duration": 43,
    "start_time": "2024-09-16T19:26:54.022Z"
   },
   {
    "duration": 5,
    "start_time": "2024-09-16T19:26:54.213Z"
   },
   {
    "duration": 4,
    "start_time": "2024-09-16T19:26:54.910Z"
   },
   {
    "duration": 4,
    "start_time": "2024-09-16T19:26:55.099Z"
   },
   {
    "duration": 4,
    "start_time": "2024-09-16T19:26:55.346Z"
   },
   {
    "duration": 3,
    "start_time": "2024-09-16T19:26:55.822Z"
   },
   {
    "duration": 4,
    "start_time": "2024-09-16T19:26:55.998Z"
   },
   {
    "duration": 12,
    "start_time": "2024-09-16T19:27:06.374Z"
   },
   {
    "duration": 18,
    "start_time": "2024-09-16T19:27:12.138Z"
   },
   {
    "duration": 5,
    "start_time": "2024-09-16T19:27:19.979Z"
   },
   {
    "duration": 5,
    "start_time": "2024-09-16T19:27:20.803Z"
   },
   {
    "duration": 2,
    "start_time": "2024-09-16T19:27:29.870Z"
   },
   {
    "duration": 31,
    "start_time": "2024-09-16T19:27:30.649Z"
   },
   {
    "duration": 3,
    "start_time": "2024-09-16T19:28:42.927Z"
   },
   {
    "duration": 23,
    "start_time": "2024-09-16T19:28:43.759Z"
   },
   {
    "duration": 841,
    "start_time": "2024-09-16T23:41:48.613Z"
   },
   {
    "duration": 41,
    "start_time": "2024-09-16T23:41:49.790Z"
   },
   {
    "duration": 3,
    "start_time": "2024-09-16T23:41:51.664Z"
   },
   {
    "duration": 10,
    "start_time": "2024-09-16T23:41:52.148Z"
   },
   {
    "duration": 4,
    "start_time": "2024-09-16T23:41:53.862Z"
   },
   {
    "duration": 17,
    "start_time": "2024-09-16T23:41:56.178Z"
   },
   {
    "duration": 11,
    "start_time": "2024-09-16T23:42:03.288Z"
   },
   {
    "duration": 4,
    "start_time": "2024-09-16T23:42:06.511Z"
   },
   {
    "duration": 10,
    "start_time": "2024-09-16T23:42:06.931Z"
   },
   {
    "duration": 13,
    "start_time": "2024-09-16T23:42:10.809Z"
   },
   {
    "duration": 3,
    "start_time": "2024-09-16T23:42:15.630Z"
   },
   {
    "duration": 10,
    "start_time": "2024-09-16T23:42:16.722Z"
   },
   {
    "duration": 6,
    "start_time": "2024-09-16T23:42:21.666Z"
   },
   {
    "duration": 14,
    "start_time": "2024-09-16T23:42:28.195Z"
   },
   {
    "duration": 8,
    "start_time": "2024-09-16T23:42:31.979Z"
   },
   {
    "duration": 11,
    "start_time": "2024-09-16T23:42:40.326Z"
   },
   {
    "duration": 14,
    "start_time": "2024-09-16T23:42:43.996Z"
   },
   {
    "duration": 18,
    "start_time": "2024-09-16T23:42:49.647Z"
   },
   {
    "duration": 10,
    "start_time": "2024-09-16T23:42:49.941Z"
   },
   {
    "duration": 220,
    "start_time": "2024-09-17T00:14:52.467Z"
   },
   {
    "duration": 3,
    "start_time": "2024-09-17T00:15:02.690Z"
   },
   {
    "duration": 26,
    "start_time": "2024-09-17T00:15:02.703Z"
   },
   {
    "duration": 3,
    "start_time": "2024-09-17T00:15:02.731Z"
   },
   {
    "duration": 10,
    "start_time": "2024-09-17T00:15:02.735Z"
   },
   {
    "duration": 4,
    "start_time": "2024-09-17T00:15:02.747Z"
   },
   {
    "duration": 18,
    "start_time": "2024-09-17T00:15:02.753Z"
   },
   {
    "duration": 13,
    "start_time": "2024-09-17T00:15:02.772Z"
   },
   {
    "duration": 4,
    "start_time": "2024-09-17T00:15:02.787Z"
   },
   {
    "duration": 9,
    "start_time": "2024-09-17T00:15:02.792Z"
   },
   {
    "duration": 13,
    "start_time": "2024-09-17T00:15:02.803Z"
   },
   {
    "duration": 3,
    "start_time": "2024-09-17T00:15:02.817Z"
   },
   {
    "duration": 56,
    "start_time": "2024-09-17T00:15:02.822Z"
   },
   {
    "duration": 5,
    "start_time": "2024-09-17T00:15:02.880Z"
   },
   {
    "duration": 15,
    "start_time": "2024-09-17T00:15:02.886Z"
   },
   {
    "duration": 6,
    "start_time": "2024-09-17T00:15:02.904Z"
   },
   {
    "duration": 10,
    "start_time": "2024-09-17T00:15:02.912Z"
   },
   {
    "duration": 53,
    "start_time": "2024-09-17T00:15:02.924Z"
   },
   {
    "duration": 22,
    "start_time": "2024-09-17T00:15:02.979Z"
   },
   {
    "duration": 11,
    "start_time": "2024-09-17T00:15:03.003Z"
   },
   {
    "duration": 5,
    "start_time": "2024-09-17T00:15:03.016Z"
   },
   {
    "duration": 4,
    "start_time": "2024-09-17T00:15:03.022Z"
   },
   {
    "duration": 43,
    "start_time": "2024-09-17T00:15:03.028Z"
   },
   {
    "duration": 3,
    "start_time": "2024-09-17T00:15:03.073Z"
   },
   {
    "duration": 5,
    "start_time": "2024-09-17T00:15:03.077Z"
   },
   {
    "duration": 5,
    "start_time": "2024-09-17T00:15:03.084Z"
   },
   {
    "duration": 6,
    "start_time": "2024-09-17T00:15:03.090Z"
   },
   {
    "duration": 4,
    "start_time": "2024-09-17T00:15:03.098Z"
   },
   {
    "duration": 401,
    "start_time": "2024-09-17T00:15:03.104Z"
   },
   {
    "duration": 4,
    "start_time": "2024-09-17T00:15:03.507Z"
   },
   {
    "duration": 4,
    "start_time": "2024-09-17T00:15:03.512Z"
   },
   {
    "duration": 3,
    "start_time": "2024-09-17T00:15:03.518Z"
   },
   {
    "duration": 3,
    "start_time": "2024-09-17T00:15:03.523Z"
   },
   {
    "duration": 4,
    "start_time": "2024-09-17T00:15:03.527Z"
   },
   {
    "duration": 4,
    "start_time": "2024-09-17T00:15:03.533Z"
   },
   {
    "duration": 5,
    "start_time": "2024-09-17T00:15:03.539Z"
   },
   {
    "duration": 7,
    "start_time": "2024-09-17T00:15:03.570Z"
   },
   {
    "duration": 115,
    "start_time": "2024-09-17T00:15:03.578Z"
   },
   {
    "duration": 5,
    "start_time": "2024-09-17T00:15:03.694Z"
   },
   {
    "duration": 4,
    "start_time": "2024-09-17T00:15:03.700Z"
   },
   {
    "duration": 3,
    "start_time": "2024-09-17T00:15:03.706Z"
   },
   {
    "duration": 6,
    "start_time": "2024-09-17T00:15:03.711Z"
   },
   {
    "duration": 8,
    "start_time": "2024-09-17T00:15:03.723Z"
   },
   {
    "duration": 38,
    "start_time": "2024-09-17T00:15:03.733Z"
   },
   {
    "duration": 4,
    "start_time": "2024-09-17T00:15:03.773Z"
   },
   {
    "duration": 2,
    "start_time": "2024-09-17T00:15:03.779Z"
   },
   {
    "duration": 4,
    "start_time": "2024-09-17T00:15:03.783Z"
   },
   {
    "duration": 44,
    "start_time": "2024-09-17T00:15:03.788Z"
   },
   {
    "duration": 37,
    "start_time": "2024-09-17T00:15:03.834Z"
   },
   {
    "duration": 5,
    "start_time": "2024-09-17T00:15:03.872Z"
   },
   {
    "duration": 5,
    "start_time": "2024-09-17T00:15:03.879Z"
   },
   {
    "duration": 49,
    "start_time": "2024-09-17T00:15:03.885Z"
   },
   {
    "duration": 4,
    "start_time": "2024-09-17T00:15:03.936Z"
   },
   {
    "duration": 31,
    "start_time": "2024-09-17T00:15:03.942Z"
   },
   {
    "duration": 46,
    "start_time": "2024-09-17T00:15:03.975Z"
   },
   {
    "duration": 8,
    "start_time": "2024-09-17T00:15:04.023Z"
   },
   {
    "duration": 3,
    "start_time": "2024-09-17T00:15:04.033Z"
   },
   {
    "duration": 32,
    "start_time": "2024-09-17T00:15:04.038Z"
   },
   {
    "duration": 6,
    "start_time": "2024-09-17T00:15:04.073Z"
   },
   {
    "duration": 4,
    "start_time": "2024-09-17T00:15:04.081Z"
   },
   {
    "duration": 4,
    "start_time": "2024-09-17T00:15:04.087Z"
   },
   {
    "duration": 4,
    "start_time": "2024-09-17T00:15:04.093Z"
   },
   {
    "duration": 111,
    "start_time": "2024-09-17T00:15:04.099Z"
   },
   {
    "duration": 15,
    "start_time": "2024-09-17T00:15:04.212Z"
   },
   {
    "duration": 5,
    "start_time": "2024-09-17T00:15:04.228Z"
   },
   {
    "duration": 38,
    "start_time": "2024-09-17T00:15:04.234Z"
   },
   {
    "duration": 45,
    "start_time": "2024-09-17T00:15:04.273Z"
   },
   {
    "duration": 4,
    "start_time": "2024-09-17T00:15:04.320Z"
   },
   {
    "duration": 4,
    "start_time": "2024-09-17T00:15:04.326Z"
   },
   {
    "duration": 5,
    "start_time": "2024-09-17T00:15:04.331Z"
   },
   {
    "duration": 3,
    "start_time": "2024-09-17T00:15:04.338Z"
   },
   {
    "duration": 32,
    "start_time": "2024-09-17T00:15:04.343Z"
   },
   {
    "duration": 5,
    "start_time": "2024-09-17T00:15:04.377Z"
   },
   {
    "duration": 9,
    "start_time": "2024-09-17T00:15:04.384Z"
   },
   {
    "duration": 5,
    "start_time": "2024-09-17T00:15:04.394Z"
   },
   {
    "duration": 81,
    "start_time": "2024-09-17T00:15:04.401Z"
   },
   {
    "duration": 5,
    "start_time": "2024-09-17T00:15:04.483Z"
   },
   {
    "duration": 5,
    "start_time": "2024-09-17T00:15:04.490Z"
   },
   {
    "duration": 42,
    "start_time": "2024-09-17T00:15:04.497Z"
   },
   {
    "duration": 4,
    "start_time": "2024-09-17T00:15:04.541Z"
   },
   {
    "duration": 4,
    "start_time": "2024-09-17T00:15:04.571Z"
   },
   {
    "duration": 2,
    "start_time": "2024-09-17T00:15:04.577Z"
   },
   {
    "duration": 4,
    "start_time": "2024-09-17T00:15:04.581Z"
   },
   {
    "duration": 13,
    "start_time": "2024-09-17T00:15:04.587Z"
   },
   {
    "duration": 6,
    "start_time": "2024-09-17T00:15:04.602Z"
   },
   {
    "duration": 5,
    "start_time": "2024-09-17T00:15:04.610Z"
   },
   {
    "duration": 78,
    "start_time": "2024-09-17T00:15:04.616Z"
   },
   {
    "duration": 4,
    "start_time": "2024-09-17T00:15:04.696Z"
   },
   {
    "duration": 3,
    "start_time": "2024-09-17T00:15:04.702Z"
   },
   {
    "duration": 5,
    "start_time": "2024-09-17T00:15:04.707Z"
   },
   {
    "duration": 5,
    "start_time": "2024-09-17T00:15:04.713Z"
   },
   {
    "duration": 4,
    "start_time": "2024-09-17T00:15:04.720Z"
   },
   {
    "duration": 45,
    "start_time": "2024-09-17T00:15:04.726Z"
   },
   {
    "duration": 9,
    "start_time": "2024-09-17T00:15:04.773Z"
   },
   {
    "duration": 18,
    "start_time": "2024-09-17T00:15:04.783Z"
   },
   {
    "duration": 5,
    "start_time": "2024-09-17T00:15:04.802Z"
   },
   {
    "duration": 6,
    "start_time": "2024-09-17T00:15:04.808Z"
   },
   {
    "duration": 2,
    "start_time": "2024-09-17T00:15:22.941Z"
   },
   {
    "duration": 22,
    "start_time": "2024-09-17T00:15:23.377Z"
   },
   {
    "duration": 7,
    "start_time": "2024-09-17T00:15:24.175Z"
   },
   {
    "duration": 3,
    "start_time": "2024-09-17T00:15:52.417Z"
   },
   {
    "duration": 4,
    "start_time": "2024-09-17T00:23:11.247Z"
   },
   {
    "duration": 3,
    "start_time": "2024-09-17T00:34:45.951Z"
   },
   {
    "duration": 3,
    "start_time": "2024-09-17T00:35:42.988Z"
   },
   {
    "duration": 5,
    "start_time": "2024-09-17T00:35:55.833Z"
   },
   {
    "duration": 2,
    "start_time": "2024-09-17T00:35:57.768Z"
   },
   {
    "duration": 92,
    "start_time": "2024-09-17T00:35:59.140Z"
   },
   {
    "duration": 3,
    "start_time": "2024-09-17T00:36:38.076Z"
   },
   {
    "duration": 26,
    "start_time": "2024-09-17T00:36:38.084Z"
   },
   {
    "duration": 2,
    "start_time": "2024-09-17T00:36:38.112Z"
   },
   {
    "duration": 9,
    "start_time": "2024-09-17T00:36:38.116Z"
   },
   {
    "duration": 4,
    "start_time": "2024-09-17T00:36:38.126Z"
   },
   {
    "duration": 17,
    "start_time": "2024-09-17T00:36:38.133Z"
   },
   {
    "duration": 10,
    "start_time": "2024-09-17T00:36:38.170Z"
   },
   {
    "duration": 4,
    "start_time": "2024-09-17T00:36:38.181Z"
   },
   {
    "duration": 9,
    "start_time": "2024-09-17T00:36:38.187Z"
   },
   {
    "duration": 12,
    "start_time": "2024-09-17T00:36:38.310Z"
   },
   {
    "duration": 4,
    "start_time": "2024-09-17T00:36:38.324Z"
   },
   {
    "duration": 13,
    "start_time": "2024-09-17T00:36:38.492Z"
   },
   {
    "duration": 7,
    "start_time": "2024-09-17T00:36:38.508Z"
   },
   {
    "duration": 21,
    "start_time": "2024-09-17T00:36:38.517Z"
   },
   {
    "duration": 7,
    "start_time": "2024-09-17T00:36:38.542Z"
   },
   {
    "duration": 19,
    "start_time": "2024-09-17T00:36:38.552Z"
   },
   {
    "duration": 15,
    "start_time": "2024-09-17T00:36:38.572Z"
   },
   {
    "duration": 18,
    "start_time": "2024-09-17T00:36:38.589Z"
   },
   {
    "duration": 14,
    "start_time": "2024-09-17T00:36:38.609Z"
   },
   {
    "duration": 6,
    "start_time": "2024-09-17T00:36:38.624Z"
   },
   {
    "duration": 4,
    "start_time": "2024-09-17T00:36:38.671Z"
   },
   {
    "duration": 7,
    "start_time": "2024-09-17T00:36:38.676Z"
   },
   {
    "duration": 3,
    "start_time": "2024-09-17T00:36:38.684Z"
   },
   {
    "duration": 4,
    "start_time": "2024-09-17T00:36:38.689Z"
   },
   {
    "duration": 7,
    "start_time": "2024-09-17T00:36:38.700Z"
   },
   {
    "duration": 10,
    "start_time": "2024-09-17T00:36:38.709Z"
   },
   {
    "duration": 6,
    "start_time": "2024-09-17T00:36:38.721Z"
   },
   {
    "duration": 61,
    "start_time": "2024-09-17T00:36:38.770Z"
   },
   {
    "duration": 5,
    "start_time": "2024-09-17T00:36:38.832Z"
   },
   {
    "duration": 5,
    "start_time": "2024-09-17T00:36:38.839Z"
   },
   {
    "duration": 25,
    "start_time": "2024-09-17T00:36:38.845Z"
   },
   {
    "duration": 4,
    "start_time": "2024-09-17T00:36:38.872Z"
   },
   {
    "duration": 4,
    "start_time": "2024-09-17T00:36:38.877Z"
   },
   {
    "duration": 4,
    "start_time": "2024-09-17T00:36:38.883Z"
   },
   {
    "duration": 5,
    "start_time": "2024-09-17T00:36:38.889Z"
   },
   {
    "duration": 5,
    "start_time": "2024-09-17T00:36:38.896Z"
   },
   {
    "duration": 89,
    "start_time": "2024-09-17T00:36:38.903Z"
   },
   {
    "duration": 4,
    "start_time": "2024-09-17T00:36:38.993Z"
   },
   {
    "duration": 4,
    "start_time": "2024-09-17T00:36:39.000Z"
   },
   {
    "duration": 4,
    "start_time": "2024-09-17T00:36:39.006Z"
   },
   {
    "duration": 5,
    "start_time": "2024-09-17T00:36:39.012Z"
   },
   {
    "duration": 8,
    "start_time": "2024-09-17T00:36:39.019Z"
   },
   {
    "duration": 3,
    "start_time": "2024-09-17T00:36:39.073Z"
   },
   {
    "duration": 3,
    "start_time": "2024-09-17T00:36:39.077Z"
   },
   {
    "duration": 3,
    "start_time": "2024-09-17T00:36:39.082Z"
   },
   {
    "duration": 4,
    "start_time": "2024-09-17T00:36:39.086Z"
   },
   {
    "duration": 45,
    "start_time": "2024-09-17T00:36:39.091Z"
   },
   {
    "duration": 35,
    "start_time": "2024-09-17T00:36:39.138Z"
   },
   {
    "duration": 4,
    "start_time": "2024-09-17T00:36:39.175Z"
   },
   {
    "duration": 5,
    "start_time": "2024-09-17T00:36:39.181Z"
   },
   {
    "duration": 47,
    "start_time": "2024-09-17T00:36:39.187Z"
   },
   {
    "duration": 34,
    "start_time": "2024-09-17T00:36:39.236Z"
   },
   {
    "duration": 5,
    "start_time": "2024-09-17T00:36:39.271Z"
   },
   {
    "duration": 43,
    "start_time": "2024-09-17T00:36:39.278Z"
   },
   {
    "duration": 6,
    "start_time": "2024-09-17T00:36:39.323Z"
   },
   {
    "duration": 3,
    "start_time": "2024-09-17T00:36:39.331Z"
   },
   {
    "duration": 4,
    "start_time": "2024-09-17T00:36:39.335Z"
   },
   {
    "duration": 5,
    "start_time": "2024-09-17T00:36:39.370Z"
   },
   {
    "duration": 4,
    "start_time": "2024-09-17T00:36:39.377Z"
   },
   {
    "duration": 4,
    "start_time": "2024-09-17T00:36:39.382Z"
   },
   {
    "duration": 3,
    "start_time": "2024-09-17T00:36:39.388Z"
   },
   {
    "duration": 173,
    "start_time": "2024-09-17T00:36:39.392Z"
   },
   {
    "duration": 13,
    "start_time": "2024-09-17T00:36:39.567Z"
   },
   {
    "duration": 5,
    "start_time": "2024-09-17T00:36:39.582Z"
   },
   {
    "duration": 5,
    "start_time": "2024-09-17T00:36:39.589Z"
   },
   {
    "duration": 75,
    "start_time": "2024-09-17T00:36:39.596Z"
   },
   {
    "duration": 4,
    "start_time": "2024-09-17T00:36:39.673Z"
   },
   {
    "duration": 4,
    "start_time": "2024-09-17T00:36:39.679Z"
   },
   {
    "duration": 4,
    "start_time": "2024-09-17T00:36:39.684Z"
   },
   {
    "duration": 3,
    "start_time": "2024-09-17T00:36:39.690Z"
   },
   {
    "duration": 5,
    "start_time": "2024-09-17T00:36:39.695Z"
   },
   {
    "duration": 5,
    "start_time": "2024-09-17T00:36:39.701Z"
   },
   {
    "duration": 7,
    "start_time": "2024-09-17T00:36:39.709Z"
   },
   {
    "duration": 4,
    "start_time": "2024-09-17T00:36:39.717Z"
   },
   {
    "duration": 42,
    "start_time": "2024-09-17T00:36:39.770Z"
   },
   {
    "duration": 4,
    "start_time": "2024-09-17T00:36:39.814Z"
   },
   {
    "duration": 5,
    "start_time": "2024-09-17T00:36:39.820Z"
   },
   {
    "duration": 68,
    "start_time": "2024-09-17T00:36:39.827Z"
   },
   {
    "duration": 4,
    "start_time": "2024-09-17T00:36:39.897Z"
   },
   {
    "duration": 5,
    "start_time": "2024-09-17T00:36:39.903Z"
   },
   {
    "duration": 3,
    "start_time": "2024-09-17T00:36:39.910Z"
   },
   {
    "duration": 5,
    "start_time": "2024-09-17T00:36:39.915Z"
   },
   {
    "duration": 15,
    "start_time": "2024-09-17T00:36:39.922Z"
   },
   {
    "duration": 6,
    "start_time": "2024-09-17T00:36:39.971Z"
   },
   {
    "duration": 5,
    "start_time": "2024-09-17T00:36:39.978Z"
   },
   {
    "duration": 56,
    "start_time": "2024-09-17T00:36:39.984Z"
   },
   {
    "duration": 28,
    "start_time": "2024-09-17T00:36:40.042Z"
   },
   {
    "duration": 7,
    "start_time": "2024-09-17T00:36:40.072Z"
   },
   {
    "duration": 4,
    "start_time": "2024-09-17T00:36:40.081Z"
   },
   {
    "duration": 5,
    "start_time": "2024-09-17T00:36:40.087Z"
   },
   {
    "duration": 5,
    "start_time": "2024-09-17T00:36:40.094Z"
   },
   {
    "duration": 5,
    "start_time": "2024-09-17T00:36:40.101Z"
   },
   {
    "duration": 12,
    "start_time": "2024-09-17T00:36:40.108Z"
   },
   {
    "duration": 59,
    "start_time": "2024-09-17T00:36:40.126Z"
   },
   {
    "duration": 5,
    "start_time": "2024-09-17T00:36:40.187Z"
   },
   {
    "duration": 6,
    "start_time": "2024-09-17T00:36:40.193Z"
   },
   {
    "duration": 2,
    "start_time": "2024-09-17T00:36:40.201Z"
   },
   {
    "duration": 22,
    "start_time": "2024-09-17T00:36:40.205Z"
   },
   {
    "duration": 44,
    "start_time": "2024-09-17T00:36:40.228Z"
   },
   {
    "duration": 4,
    "start_time": "2024-09-17T00:36:40.273Z"
   },
   {
    "duration": 4,
    "start_time": "2024-09-17T00:36:40.279Z"
   },
   {
    "duration": 3,
    "start_time": "2024-09-17T00:36:48.609Z"
   },
   {
    "duration": 63,
    "start_time": "2024-09-17T00:36:49.315Z"
   },
   {
    "duration": 7,
    "start_time": "2024-09-17T00:36:59.611Z"
   },
   {
    "duration": 15,
    "start_time": "2024-09-17T00:37:09.209Z"
   },
   {
    "duration": 3,
    "start_time": "2024-09-17T00:37:56.763Z"
   },
   {
    "duration": 5,
    "start_time": "2024-09-17T00:38:02.983Z"
   },
   {
    "duration": 5,
    "start_time": "2024-09-17T00:40:13.467Z"
   },
   {
    "duration": 4,
    "start_time": "2024-09-17T01:10:38.700Z"
   },
   {
    "duration": 27,
    "start_time": "2024-09-17T01:10:39.996Z"
   },
   {
    "duration": 3,
    "start_time": "2024-09-17T01:10:54.773Z"
   },
   {
    "duration": 9,
    "start_time": "2024-09-17T01:10:58.443Z"
   },
   {
    "duration": 5,
    "start_time": "2024-09-17T01:11:02.705Z"
   },
   {
    "duration": 19,
    "start_time": "2024-09-17T01:11:27.360Z"
   },
   {
    "duration": 11,
    "start_time": "2024-09-17T01:11:33.020Z"
   },
   {
    "duration": 12,
    "start_time": "2024-09-17T01:21:36.478Z"
   },
   {
    "duration": 4,
    "start_time": "2024-09-17T01:21:41.947Z"
   },
   {
    "duration": 10,
    "start_time": "2024-09-17T01:21:55.570Z"
   },
   {
    "duration": 5,
    "start_time": "2024-09-17T01:22:08.585Z"
   },
   {
    "duration": 16,
    "start_time": "2024-09-17T01:22:09.902Z"
   },
   {
    "duration": 8,
    "start_time": "2024-09-17T01:22:24.494Z"
   },
   {
    "duration": 9,
    "start_time": "2024-09-17T01:22:27.407Z"
   },
   {
    "duration": 14,
    "start_time": "2024-09-17T01:22:29.022Z"
   },
   {
    "duration": 6,
    "start_time": "2024-09-17T01:23:23.642Z"
   },
   {
    "duration": 14,
    "start_time": "2024-09-17T01:23:25.356Z"
   },
   {
    "duration": 7,
    "start_time": "2024-09-17T01:23:39.326Z"
   },
   {
    "duration": 13,
    "start_time": "2024-09-17T01:23:43.213Z"
   },
   {
    "duration": 14,
    "start_time": "2024-09-17T01:23:52.727Z"
   },
   {
    "duration": 15,
    "start_time": "2024-09-17T01:24:01.029Z"
   },
   {
    "duration": 12,
    "start_time": "2024-09-17T01:24:09.944Z"
   },
   {
    "duration": 5,
    "start_time": "2024-09-17T01:24:22.147Z"
   },
   {
    "duration": 4,
    "start_time": "2024-09-17T01:24:23.730Z"
   },
   {
    "duration": 4,
    "start_time": "2024-09-17T01:24:24.000Z"
   },
   {
    "duration": 2,
    "start_time": "2024-09-17T01:24:25.028Z"
   },
   {
    "duration": 5,
    "start_time": "2024-09-17T01:24:25.510Z"
   },
   {
    "duration": 10,
    "start_time": "2024-09-17T01:24:26.771Z"
   },
   {
    "duration": 7,
    "start_time": "2024-09-17T01:24:27.556Z"
   },
   {
    "duration": 8,
    "start_time": "2024-09-17T01:24:28.394Z"
   },
   {
    "duration": 47,
    "start_time": "2024-09-17T01:24:28.604Z"
   },
   {
    "duration": 4,
    "start_time": "2024-09-17T01:25:12.791Z"
   },
   {
    "duration": 4,
    "start_time": "2024-09-17T01:25:13.270Z"
   },
   {
    "duration": 3,
    "start_time": "2024-09-17T01:25:13.791Z"
   },
   {
    "duration": 4,
    "start_time": "2024-09-17T01:25:14.230Z"
   },
   {
    "duration": 4,
    "start_time": "2024-09-17T01:25:14.740Z"
   },
   {
    "duration": 4,
    "start_time": "2024-09-17T01:25:15.196Z"
   },
   {
    "duration": 5,
    "start_time": "2024-09-17T01:25:17.367Z"
   },
   {
    "duration": 6,
    "start_time": "2024-09-17T01:25:22.077Z"
   },
   {
    "duration": 43,
    "start_time": "2024-09-17T01:25:22.716Z"
   },
   {
    "duration": 5,
    "start_time": "2024-09-17T01:25:59.417Z"
   },
   {
    "duration": 5,
    "start_time": "2024-09-17T01:26:00.722Z"
   },
   {
    "duration": 4,
    "start_time": "2024-09-17T01:26:01.174Z"
   },
   {
    "duration": 5,
    "start_time": "2024-09-17T01:26:03.354Z"
   },
   {
    "duration": 8,
    "start_time": "2024-09-17T01:26:05.091Z"
   },
   {
    "duration": 3,
    "start_time": "2024-09-17T01:26:05.795Z"
   },
   {
    "duration": 4,
    "start_time": "2024-09-17T01:26:06.377Z"
   },
   {
    "duration": 3,
    "start_time": "2024-09-17T01:26:07.069Z"
   },
   {
    "duration": 3,
    "start_time": "2024-09-17T01:26:07.653Z"
   },
   {
    "duration": 44,
    "start_time": "2024-09-17T01:26:09.144Z"
   },
   {
    "duration": 4,
    "start_time": "2024-09-17T01:26:24.509Z"
   },
   {
    "duration": 4,
    "start_time": "2024-09-17T01:26:25.392Z"
   },
   {
    "duration": 6,
    "start_time": "2024-09-17T01:26:26.363Z"
   },
   {
    "duration": 47,
    "start_time": "2024-09-17T01:26:27.183Z"
   },
   {
    "duration": 5,
    "start_time": "2024-09-17T01:26:47.691Z"
   },
   {
    "duration": 5,
    "start_time": "2024-09-17T01:26:53.593Z"
   },
   {
    "duration": 43,
    "start_time": "2024-09-17T01:26:54.157Z"
   },
   {
    "duration": 42,
    "start_time": "2024-09-17T01:27:24.208Z"
   },
   {
    "duration": 9,
    "start_time": "2024-09-17T01:27:34.298Z"
   },
   {
    "duration": 3,
    "start_time": "2024-09-17T01:27:36.220Z"
   },
   {
    "duration": 5,
    "start_time": "2024-09-17T01:27:39.476Z"
   },
   {
    "duration": 4,
    "start_time": "2024-09-17T01:28:53.044Z"
   },
   {
    "duration": 3,
    "start_time": "2024-09-17T01:29:45.619Z"
   },
   {
    "duration": 11,
    "start_time": "2024-09-17T01:29:54.469Z"
   },
   {
    "duration": 10,
    "start_time": "2024-09-17T01:30:00.669Z"
   },
   {
    "duration": 4,
    "start_time": "2024-09-17T01:30:01.569Z"
   },
   {
    "duration": 11,
    "start_time": "2024-09-17T01:30:02.221Z"
   },
   {
    "duration": 5,
    "start_time": "2024-09-17T01:30:03.581Z"
   },
   {
    "duration": 14,
    "start_time": "2024-09-17T01:30:03.843Z"
   },
   {
    "duration": 8,
    "start_time": "2024-09-17T01:30:05.118Z"
   },
   {
    "duration": 11,
    "start_time": "2024-09-17T01:30:08.859Z"
   },
   {
    "duration": 15,
    "start_time": "2024-09-17T01:30:12.184Z"
   },
   {
    "duration": 18,
    "start_time": "2024-09-17T01:30:13.480Z"
   },
   {
    "duration": 10,
    "start_time": "2024-09-17T01:30:14.296Z"
   },
   {
    "duration": 6,
    "start_time": "2024-09-17T01:30:17.441Z"
   },
   {
    "duration": 4,
    "start_time": "2024-09-17T01:30:19.396Z"
   },
   {
    "duration": 4,
    "start_time": "2024-09-17T01:30:19.858Z"
   },
   {
    "duration": 3,
    "start_time": "2024-09-17T01:30:20.391Z"
   },
   {
    "duration": 4,
    "start_time": "2024-09-17T01:30:20.924Z"
   },
   {
    "duration": 5,
    "start_time": "2024-09-17T01:30:22.215Z"
   },
   {
    "duration": 7,
    "start_time": "2024-09-17T01:30:22.659Z"
   },
   {
    "duration": 6,
    "start_time": "2024-09-17T01:30:23.088Z"
   },
   {
    "duration": 44,
    "start_time": "2024-09-17T01:30:23.527Z"
   },
   {
    "duration": 4,
    "start_time": "2024-09-17T01:30:25.715Z"
   },
   {
    "duration": 5,
    "start_time": "2024-09-17T01:30:25.835Z"
   },
   {
    "duration": 4,
    "start_time": "2024-09-17T01:30:26.042Z"
   },
   {
    "duration": 4,
    "start_time": "2024-09-17T01:30:26.250Z"
   },
   {
    "duration": 4,
    "start_time": "2024-09-17T01:30:26.490Z"
   },
   {
    "duration": 4,
    "start_time": "2024-09-17T01:30:26.709Z"
   },
   {
    "duration": 6,
    "start_time": "2024-09-17T01:30:27.395Z"
   },
   {
    "duration": 6,
    "start_time": "2024-09-17T01:30:30.412Z"
   },
   {
    "duration": 44,
    "start_time": "2024-09-17T01:30:30.844Z"
   },
   {
    "duration": 4,
    "start_time": "2024-09-17T01:30:35.957Z"
   },
   {
    "duration": 3,
    "start_time": "2024-09-17T01:30:36.832Z"
   },
   {
    "duration": 4,
    "start_time": "2024-09-17T01:30:37.661Z"
   },
   {
    "duration": 6,
    "start_time": "2024-09-17T01:30:39.006Z"
   },
   {
    "duration": 9,
    "start_time": "2024-09-17T01:30:40.344Z"
   },
   {
    "duration": 3,
    "start_time": "2024-09-17T01:30:40.526Z"
   },
   {
    "duration": 4,
    "start_time": "2024-09-17T01:30:41.014Z"
   },
   {
    "duration": 3,
    "start_time": "2024-09-17T01:30:41.494Z"
   },
   {
    "duration": 4,
    "start_time": "2024-09-17T01:30:41.719Z"
   },
   {
    "duration": 46,
    "start_time": "2024-09-17T01:30:42.525Z"
   },
   {
    "duration": 4,
    "start_time": "2024-09-17T01:30:44.358Z"
   },
   {
    "duration": 5,
    "start_time": "2024-09-17T01:30:44.868Z"
   },
   {
    "duration": 6,
    "start_time": "2024-09-17T01:30:45.400Z"
   },
   {
    "duration": 61,
    "start_time": "2024-09-17T01:30:46.075Z"
   },
   {
    "duration": 4,
    "start_time": "2024-09-17T01:34:05.349Z"
   },
   {
    "duration": 45,
    "start_time": "2024-09-17T01:34:05.991Z"
   },
   {
    "duration": 6,
    "start_time": "2024-09-17T01:34:19.090Z"
   },
   {
    "duration": 5,
    "start_time": "2024-09-17T01:34:25.248Z"
   },
   {
    "duration": 49,
    "start_time": "2024-09-17T01:34:26.261Z"
   },
   {
    "duration": 8,
    "start_time": "2024-09-17T01:34:38.097Z"
   },
   {
    "duration": 4,
    "start_time": "2024-09-17T01:34:39.130Z"
   },
   {
    "duration": 4,
    "start_time": "2024-09-17T01:34:41.662Z"
   },
   {
    "duration": 5,
    "start_time": "2024-09-17T01:34:42.125Z"
   },
   {
    "duration": 4,
    "start_time": "2024-09-17T01:34:58.343Z"
   },
   {
    "duration": 4,
    "start_time": "2024-09-17T01:34:59.293Z"
   },
   {
    "duration": 4,
    "start_time": "2024-09-17T01:35:00.057Z"
   },
   {
    "duration": 60,
    "start_time": "2024-09-17T01:35:01.626Z"
   },
   {
    "duration": 2,
    "start_time": "2024-09-17T01:39:18.101Z"
   },
   {
    "duration": 4,
    "start_time": "2024-09-17T01:39:32.351Z"
   },
   {
    "duration": 73,
    "start_time": "2024-09-17T01:39:44.001Z"
   },
   {
    "duration": 10,
    "start_time": "2024-09-17T01:39:51.785Z"
   },
   {
    "duration": 6,
    "start_time": "2024-09-17T01:39:53.439Z"
   },
   {
    "duration": 6,
    "start_time": "2024-09-17T01:39:56.325Z"
   },
   {
    "duration": 43,
    "start_time": "2024-09-17T01:39:57.348Z"
   },
   {
    "duration": 5,
    "start_time": "2024-09-17T01:40:00.851Z"
   },
   {
    "duration": 4,
    "start_time": "2024-09-17T01:40:01.306Z"
   },
   {
    "duration": 4,
    "start_time": "2024-09-17T01:40:01.713Z"
   },
   {
    "duration": 4,
    "start_time": "2024-09-17T01:40:02.094Z"
   },
   {
    "duration": 7,
    "start_time": "2024-09-17T01:40:03.838Z"
   },
   {
    "duration": 5,
    "start_time": "2024-09-17T01:40:06.719Z"
   },
   {
    "duration": 7,
    "start_time": "2024-09-17T01:40:10.521Z"
   },
   {
    "duration": 4,
    "start_time": "2024-09-17T01:40:19.183Z"
   },
   {
    "duration": 41,
    "start_time": "2024-09-17T01:40:20.268Z"
   },
   {
    "duration": 920,
    "start_time": "2024-09-17T02:20:32.576Z"
   },
   {
    "duration": 58,
    "start_time": "2024-09-17T02:20:33.498Z"
   },
   {
    "duration": 9,
    "start_time": "2024-09-17T02:20:33.557Z"
   },
   {
    "duration": 11,
    "start_time": "2024-09-17T02:20:33.570Z"
   },
   {
    "duration": 4,
    "start_time": "2024-09-17T02:20:33.583Z"
   },
   {
    "duration": 29,
    "start_time": "2024-09-17T02:20:33.589Z"
   },
   {
    "duration": 14,
    "start_time": "2024-09-17T02:20:33.622Z"
   },
   {
    "duration": 1036,
    "start_time": "2024-09-17T02:20:33.640Z"
   },
   {
    "duration": 0,
    "start_time": "2024-09-17T02:20:34.680Z"
   },
   {
    "duration": 0,
    "start_time": "2024-09-17T02:20:34.681Z"
   },
   {
    "duration": 0,
    "start_time": "2024-09-17T02:20:34.682Z"
   },
   {
    "duration": 0,
    "start_time": "2024-09-17T02:20:34.684Z"
   },
   {
    "duration": 0,
    "start_time": "2024-09-17T02:20:34.685Z"
   },
   {
    "duration": 0,
    "start_time": "2024-09-17T02:20:34.686Z"
   },
   {
    "duration": 0,
    "start_time": "2024-09-17T02:20:34.687Z"
   },
   {
    "duration": 0,
    "start_time": "2024-09-17T02:20:34.688Z"
   },
   {
    "duration": 0,
    "start_time": "2024-09-17T02:20:34.689Z"
   },
   {
    "duration": 0,
    "start_time": "2024-09-17T02:20:34.691Z"
   },
   {
    "duration": 0,
    "start_time": "2024-09-17T02:20:34.692Z"
   },
   {
    "duration": 0,
    "start_time": "2024-09-17T02:20:34.692Z"
   },
   {
    "duration": 0,
    "start_time": "2024-09-17T02:20:34.695Z"
   },
   {
    "duration": 0,
    "start_time": "2024-09-17T02:20:34.727Z"
   },
   {
    "duration": 0,
    "start_time": "2024-09-17T02:20:34.739Z"
   },
   {
    "duration": 0,
    "start_time": "2024-09-17T02:20:34.740Z"
   },
   {
    "duration": 0,
    "start_time": "2024-09-17T02:20:34.741Z"
   },
   {
    "duration": 0,
    "start_time": "2024-09-17T02:20:34.743Z"
   },
   {
    "duration": 0,
    "start_time": "2024-09-17T02:20:34.744Z"
   },
   {
    "duration": 0,
    "start_time": "2024-09-17T02:20:34.745Z"
   },
   {
    "duration": 0,
    "start_time": "2024-09-17T02:20:34.746Z"
   },
   {
    "duration": 0,
    "start_time": "2024-09-17T02:20:34.747Z"
   },
   {
    "duration": 0,
    "start_time": "2024-09-17T02:20:34.748Z"
   },
   {
    "duration": 0,
    "start_time": "2024-09-17T02:20:34.749Z"
   },
   {
    "duration": 0,
    "start_time": "2024-09-17T02:20:34.750Z"
   },
   {
    "duration": 0,
    "start_time": "2024-09-17T02:20:34.752Z"
   },
   {
    "duration": 0,
    "start_time": "2024-09-17T02:20:34.753Z"
   },
   {
    "duration": 0,
    "start_time": "2024-09-17T02:20:34.754Z"
   },
   {
    "duration": 0,
    "start_time": "2024-09-17T02:20:34.755Z"
   },
   {
    "duration": 0,
    "start_time": "2024-09-17T02:20:34.756Z"
   },
   {
    "duration": 0,
    "start_time": "2024-09-17T02:20:34.757Z"
   },
   {
    "duration": 0,
    "start_time": "2024-09-17T02:20:34.758Z"
   },
   {
    "duration": 0,
    "start_time": "2024-09-17T02:20:34.759Z"
   },
   {
    "duration": 0,
    "start_time": "2024-09-17T02:20:34.760Z"
   },
   {
    "duration": 0,
    "start_time": "2024-09-17T02:20:34.762Z"
   },
   {
    "duration": 0,
    "start_time": "2024-09-17T02:20:34.762Z"
   },
   {
    "duration": 0,
    "start_time": "2024-09-17T02:20:34.764Z"
   },
   {
    "duration": 0,
    "start_time": "2024-09-17T02:20:34.765Z"
   },
   {
    "duration": 0,
    "start_time": "2024-09-17T02:20:34.766Z"
   },
   {
    "duration": 0,
    "start_time": "2024-09-17T02:20:34.767Z"
   },
   {
    "duration": 0,
    "start_time": "2024-09-17T02:20:34.768Z"
   },
   {
    "duration": 0,
    "start_time": "2024-09-17T02:20:34.770Z"
   },
   {
    "duration": 0,
    "start_time": "2024-09-17T02:20:34.771Z"
   },
   {
    "duration": 0,
    "start_time": "2024-09-17T02:20:34.772Z"
   },
   {
    "duration": 0,
    "start_time": "2024-09-17T02:20:34.773Z"
   },
   {
    "duration": 0,
    "start_time": "2024-09-17T02:20:34.774Z"
   },
   {
    "duration": 0,
    "start_time": "2024-09-17T02:20:34.814Z"
   },
   {
    "duration": 0,
    "start_time": "2024-09-17T02:20:34.815Z"
   },
   {
    "duration": 0,
    "start_time": "2024-09-17T02:20:34.816Z"
   },
   {
    "duration": 0,
    "start_time": "2024-09-17T02:20:34.817Z"
   },
   {
    "duration": 0,
    "start_time": "2024-09-17T02:20:34.817Z"
   },
   {
    "duration": 0,
    "start_time": "2024-09-17T02:20:34.818Z"
   },
   {
    "duration": 0,
    "start_time": "2024-09-17T02:20:34.831Z"
   },
   {
    "duration": 0,
    "start_time": "2024-09-17T02:20:34.832Z"
   },
   {
    "duration": 0,
    "start_time": "2024-09-17T02:20:34.833Z"
   },
   {
    "duration": 0,
    "start_time": "2024-09-17T02:20:34.835Z"
   },
   {
    "duration": 0,
    "start_time": "2024-09-17T02:20:34.836Z"
   },
   {
    "duration": 0,
    "start_time": "2024-09-17T02:20:34.837Z"
   },
   {
    "duration": 0,
    "start_time": "2024-09-17T02:20:34.838Z"
   },
   {
    "duration": 0,
    "start_time": "2024-09-17T02:20:34.839Z"
   },
   {
    "duration": 0,
    "start_time": "2024-09-17T02:20:34.840Z"
   },
   {
    "duration": 0,
    "start_time": "2024-09-17T02:20:34.841Z"
   },
   {
    "duration": 0,
    "start_time": "2024-09-17T02:20:34.842Z"
   },
   {
    "duration": 0,
    "start_time": "2024-09-17T02:20:34.843Z"
   },
   {
    "duration": 0,
    "start_time": "2024-09-17T02:20:34.844Z"
   },
   {
    "duration": 5,
    "start_time": "2024-09-17T02:20:47.524Z"
   },
   {
    "duration": 5,
    "start_time": "2024-09-17T02:20:49.604Z"
   },
   {
    "duration": 5,
    "start_time": "2024-09-17T02:20:50.666Z"
   },
   {
    "duration": 9,
    "start_time": "2024-09-17T02:20:55.719Z"
   },
   {
    "duration": 4,
    "start_time": "2024-09-17T02:20:56.365Z"
   },
   {
    "duration": 362,
    "start_time": "2024-09-17T02:21:00.783Z"
   },
   {
    "duration": 3,
    "start_time": "2024-09-17T02:21:31.500Z"
   },
   {
    "duration": 28,
    "start_time": "2024-09-17T02:21:31.506Z"
   },
   {
    "duration": 3,
    "start_time": "2024-09-17T02:21:31.537Z"
   },
   {
    "duration": 11,
    "start_time": "2024-09-17T02:21:31.543Z"
   },
   {
    "duration": 6,
    "start_time": "2024-09-17T02:21:31.556Z"
   },
   {
    "duration": 17,
    "start_time": "2024-09-17T02:21:31.564Z"
   },
   {
    "duration": 41,
    "start_time": "2024-09-17T02:21:31.583Z"
   },
   {
    "duration": 128,
    "start_time": "2024-09-17T02:21:31.626Z"
   },
   {
    "duration": 0,
    "start_time": "2024-09-17T02:21:31.757Z"
   },
   {
    "duration": 0,
    "start_time": "2024-09-17T02:21:31.758Z"
   },
   {
    "duration": 0,
    "start_time": "2024-09-17T02:21:31.760Z"
   },
   {
    "duration": 0,
    "start_time": "2024-09-17T02:21:31.760Z"
   },
   {
    "duration": 0,
    "start_time": "2024-09-17T02:21:31.762Z"
   },
   {
    "duration": 0,
    "start_time": "2024-09-17T02:21:31.764Z"
   },
   {
    "duration": 0,
    "start_time": "2024-09-17T02:21:31.765Z"
   },
   {
    "duration": 0,
    "start_time": "2024-09-17T02:21:31.766Z"
   },
   {
    "duration": 0,
    "start_time": "2024-09-17T02:21:31.767Z"
   },
   {
    "duration": 0,
    "start_time": "2024-09-17T02:21:31.769Z"
   },
   {
    "duration": 0,
    "start_time": "2024-09-17T02:21:31.770Z"
   },
   {
    "duration": 0,
    "start_time": "2024-09-17T02:21:31.771Z"
   },
   {
    "duration": 0,
    "start_time": "2024-09-17T02:21:31.772Z"
   },
   {
    "duration": 0,
    "start_time": "2024-09-17T02:21:31.773Z"
   },
   {
    "duration": 0,
    "start_time": "2024-09-17T02:21:31.774Z"
   },
   {
    "duration": 0,
    "start_time": "2024-09-17T02:21:31.775Z"
   },
   {
    "duration": 0,
    "start_time": "2024-09-17T02:21:31.776Z"
   },
   {
    "duration": 0,
    "start_time": "2024-09-17T02:21:31.777Z"
   },
   {
    "duration": 0,
    "start_time": "2024-09-17T02:21:31.778Z"
   },
   {
    "duration": 0,
    "start_time": "2024-09-17T02:21:31.779Z"
   },
   {
    "duration": 0,
    "start_time": "2024-09-17T02:21:31.813Z"
   },
   {
    "duration": 0,
    "start_time": "2024-09-17T02:21:31.815Z"
   },
   {
    "duration": 0,
    "start_time": "2024-09-17T02:21:31.816Z"
   },
   {
    "duration": 0,
    "start_time": "2024-09-17T02:21:31.818Z"
   },
   {
    "duration": 0,
    "start_time": "2024-09-17T02:21:31.819Z"
   },
   {
    "duration": 0,
    "start_time": "2024-09-17T02:21:31.820Z"
   },
   {
    "duration": 0,
    "start_time": "2024-09-17T02:21:31.821Z"
   },
   {
    "duration": 0,
    "start_time": "2024-09-17T02:21:31.822Z"
   },
   {
    "duration": 0,
    "start_time": "2024-09-17T02:21:31.823Z"
   },
   {
    "duration": 0,
    "start_time": "2024-09-17T02:21:31.824Z"
   },
   {
    "duration": 0,
    "start_time": "2024-09-17T02:21:31.825Z"
   },
   {
    "duration": 0,
    "start_time": "2024-09-17T02:21:31.826Z"
   },
   {
    "duration": 0,
    "start_time": "2024-09-17T02:21:31.827Z"
   },
   {
    "duration": 0,
    "start_time": "2024-09-17T02:21:31.828Z"
   },
   {
    "duration": 0,
    "start_time": "2024-09-17T02:21:31.830Z"
   },
   {
    "duration": 0,
    "start_time": "2024-09-17T02:21:31.831Z"
   },
   {
    "duration": 0,
    "start_time": "2024-09-17T02:21:31.832Z"
   },
   {
    "duration": 0,
    "start_time": "2024-09-17T02:21:31.833Z"
   },
   {
    "duration": 0,
    "start_time": "2024-09-17T02:21:31.834Z"
   },
   {
    "duration": 0,
    "start_time": "2024-09-17T02:21:31.835Z"
   },
   {
    "duration": 0,
    "start_time": "2024-09-17T02:21:31.836Z"
   },
   {
    "duration": 0,
    "start_time": "2024-09-17T02:21:31.837Z"
   },
   {
    "duration": 0,
    "start_time": "2024-09-17T02:21:31.839Z"
   },
   {
    "duration": 14,
    "start_time": "2024-09-17T02:21:44.963Z"
   },
   {
    "duration": 879,
    "start_time": "2024-09-17T02:22:01.368Z"
   },
   {
    "duration": 33,
    "start_time": "2024-09-17T02:22:02.249Z"
   },
   {
    "duration": 7,
    "start_time": "2024-09-17T02:22:03.424Z"
   },
   {
    "duration": 11,
    "start_time": "2024-09-17T02:22:03.991Z"
   },
   {
    "duration": 8,
    "start_time": "2024-09-17T02:22:04.946Z"
   },
   {
    "duration": 24,
    "start_time": "2024-09-17T02:58:55.807Z"
   },
   {
    "duration": 10,
    "start_time": "2024-09-17T02:58:58.500Z"
   },
   {
    "duration": 982,
    "start_time": "2024-09-17T02:59:00.377Z"
   },
   {
    "duration": 10,
    "start_time": "2024-09-17T02:59:01.591Z"
   },
   {
    "duration": 817,
    "start_time": "2024-09-17T02:59:30.287Z"
   },
   {
    "duration": 31,
    "start_time": "2024-09-17T02:59:31.106Z"
   },
   {
    "duration": 3,
    "start_time": "2024-09-17T02:59:31.139Z"
   },
   {
    "duration": 9,
    "start_time": "2024-09-17T02:59:31.144Z"
   },
   {
    "duration": 4,
    "start_time": "2024-09-17T02:59:31.156Z"
   },
   {
    "duration": 17,
    "start_time": "2024-09-17T02:59:31.162Z"
   },
   {
    "duration": 38,
    "start_time": "2024-09-17T02:59:31.181Z"
   },
   {
    "duration": 820,
    "start_time": "2024-09-17T02:59:35.547Z"
   },
   {
    "duration": 10,
    "start_time": "2024-09-17T02:59:36.664Z"
   },
   {
    "duration": 4,
    "start_time": "2024-09-17T03:05:29.658Z"
   },
   {
    "duration": 39,
    "start_time": "2024-09-17T03:05:29.667Z"
   },
   {
    "duration": 4,
    "start_time": "2024-09-17T03:05:29.708Z"
   },
   {
    "duration": 12,
    "start_time": "2024-09-17T03:05:29.715Z"
   },
   {
    "duration": 4,
    "start_time": "2024-09-17T03:05:29.730Z"
   },
   {
    "duration": 19,
    "start_time": "2024-09-17T03:05:29.736Z"
   },
   {
    "duration": 11,
    "start_time": "2024-09-17T03:05:33.459Z"
   },
   {
    "duration": 17,
    "start_time": "2024-09-17T03:05:38.853Z"
   },
   {
    "duration": 4,
    "start_time": "2024-09-17T03:05:50.071Z"
   },
   {
    "duration": 11,
    "start_time": "2024-09-17T03:05:57.155Z"
   },
   {
    "duration": 4,
    "start_time": "2024-09-17T03:06:11.086Z"
   },
   {
    "duration": 14,
    "start_time": "2024-09-17T03:06:18.241Z"
   },
   {
    "duration": 7,
    "start_time": "2024-09-17T03:06:27.221Z"
   },
   {
    "duration": 17,
    "start_time": "2024-09-17T03:06:27.617Z"
   },
   {
    "duration": 9,
    "start_time": "2024-09-17T03:06:29.041Z"
   },
   {
    "duration": 11,
    "start_time": "2024-09-17T03:06:30.520Z"
   },
   {
    "duration": 20,
    "start_time": "2024-09-17T03:06:37.439Z"
   },
   {
    "duration": 16,
    "start_time": "2024-09-17T03:06:38.905Z"
   },
   {
    "duration": 12,
    "start_time": "2024-09-17T03:06:39.424Z"
   },
   {
    "duration": 6,
    "start_time": "2024-09-17T03:06:45.997Z"
   },
   {
    "duration": 6,
    "start_time": "2024-09-17T03:06:49.293Z"
   },
   {
    "duration": 6,
    "start_time": "2024-09-17T03:06:49.901Z"
   },
   {
    "duration": 3,
    "start_time": "2024-09-17T03:06:51.896Z"
   },
   {
    "duration": 6,
    "start_time": "2024-09-17T03:07:10.871Z"
   },
   {
    "duration": 6,
    "start_time": "2024-09-17T03:07:11.660Z"
   },
   {
    "duration": 8,
    "start_time": "2024-09-17T03:07:30.633Z"
   },
   {
    "duration": 7,
    "start_time": "2024-09-17T03:07:31.757Z"
   },
   {
    "duration": 314,
    "start_time": "2024-09-17T03:07:33.647Z"
   },
   {
    "duration": 5,
    "start_time": "2024-09-17T03:07:46.769Z"
   },
   {
    "duration": 4,
    "start_time": "2024-09-17T03:07:47.831Z"
   },
   {
    "duration": 4,
    "start_time": "2024-09-17T03:07:52.002Z"
   },
   {
    "duration": 4,
    "start_time": "2024-09-17T03:07:53.955Z"
   },
   {
    "duration": 4,
    "start_time": "2024-09-17T03:07:54.541Z"
   },
   {
    "duration": 6,
    "start_time": "2024-09-17T03:07:55.112Z"
   },
   {
    "duration": 6,
    "start_time": "2024-09-17T03:08:00.997Z"
   },
   {
    "duration": 7,
    "start_time": "2024-09-17T03:08:02.923Z"
   },
   {
    "duration": 48,
    "start_time": "2024-09-17T03:08:03.805Z"
   },
   {
    "duration": 4,
    "start_time": "2024-09-17T03:08:17.031Z"
   },
   {
    "duration": 4,
    "start_time": "2024-09-17T03:08:18.520Z"
   },
   {
    "duration": 6,
    "start_time": "2024-09-17T03:08:24.243Z"
   },
   {
    "duration": 6,
    "start_time": "2024-09-17T03:08:48.049Z"
   },
   {
    "duration": 11,
    "start_time": "2024-09-17T03:08:50.053Z"
   },
   {
    "duration": 7,
    "start_time": "2024-09-17T03:08:53.276Z"
   },
   {
    "duration": 4,
    "start_time": "2024-09-17T03:08:54.845Z"
   },
   {
    "duration": 6,
    "start_time": "2024-09-17T03:08:56.515Z"
   },
   {
    "duration": 6,
    "start_time": "2024-09-17T03:08:56.938Z"
   },
   {
    "duration": 52,
    "start_time": "2024-09-17T03:08:59.778Z"
   },
   {
    "duration": 4,
    "start_time": "2024-09-17T03:09:06.087Z"
   },
   {
    "duration": 4,
    "start_time": "2024-09-17T03:09:06.864Z"
   },
   {
    "duration": 5,
    "start_time": "2024-09-17T03:09:07.501Z"
   },
   {
    "duration": 4,
    "start_time": "2024-09-17T03:09:08.278Z"
   },
   {
    "duration": 76,
    "start_time": "2024-09-17T03:09:08.992Z"
   },
   {
    "duration": 6,
    "start_time": "2024-09-17T03:09:23.885Z"
   },
   {
    "duration": 6,
    "start_time": "2024-09-17T03:09:24.636Z"
   },
   {
    "duration": 50,
    "start_time": "2024-09-17T03:09:25.536Z"
   },
   {
    "duration": 54,
    "start_time": "2024-09-17T03:12:33.283Z"
   },
   {
    "duration": 56,
    "start_time": "2024-09-17T03:13:27.911Z"
   },
   {
    "duration": 7,
    "start_time": "2024-09-17T03:13:34.382Z"
   },
   {
    "duration": 4,
    "start_time": "2024-09-17T03:13:34.961Z"
   },
   {
    "duration": 4,
    "start_time": "2024-09-17T03:13:35.598Z"
   },
   {
    "duration": 5,
    "start_time": "2024-09-17T03:13:36.178Z"
   },
   {
    "duration": 4,
    "start_time": "2024-09-17T03:13:42.390Z"
   },
   {
    "duration": 5,
    "start_time": "2024-09-17T03:13:42.737Z"
   },
   {
    "duration": 8,
    "start_time": "2024-09-17T03:13:43.228Z"
   },
   {
    "duration": 3,
    "start_time": "2024-09-17T03:14:13.678Z"
   },
   {
    "duration": 5,
    "start_time": "2024-09-17T03:14:14.457Z"
   },
   {
    "duration": 104,
    "start_time": "2024-09-17T03:14:15.127Z"
   },
   {
    "duration": 10,
    "start_time": "2024-09-17T03:14:27.163Z"
   },
   {
    "duration": 5,
    "start_time": "2024-09-17T03:14:31.460Z"
   },
   {
    "duration": 5,
    "start_time": "2024-09-17T03:14:32.785Z"
   },
   {
    "duration": 48,
    "start_time": "2024-09-17T03:14:34.945Z"
   },
   {
    "duration": 8,
    "start_time": "2024-09-17T03:14:42.442Z"
   },
   {
    "duration": 4,
    "start_time": "2024-09-17T03:14:42.852Z"
   },
   {
    "duration": 5,
    "start_time": "2024-09-17T03:14:43.708Z"
   },
   {
    "duration": 8,
    "start_time": "2024-09-17T03:14:44.139Z"
   },
   {
    "duration": 5,
    "start_time": "2024-09-17T03:14:56.856Z"
   },
   {
    "duration": 5,
    "start_time": "2024-09-17T03:15:02.028Z"
   },
   {
    "duration": 10,
    "start_time": "2024-09-17T03:15:14.254Z"
   },
   {
    "duration": 4,
    "start_time": "2024-09-17T03:15:15.566Z"
   },
   {
    "duration": 43,
    "start_time": "2024-09-17T03:15:16.151Z"
   },
   {
    "duration": 56,
    "start_time": "2024-09-17T03:16:21.713Z"
   },
   {
    "duration": 7,
    "start_time": "2024-09-17T03:16:29.958Z"
   },
   {
    "duration": 5,
    "start_time": "2024-09-17T03:16:31.081Z"
   },
   {
    "duration": 42,
    "start_time": "2024-09-17T03:16:32.270Z"
   },
   {
    "duration": 5,
    "start_time": "2024-09-17T03:17:04.055Z"
   },
   {
    "duration": 5,
    "start_time": "2024-09-17T03:17:05.128Z"
   },
   {
    "duration": 3,
    "start_time": "2024-09-17T03:17:06.773Z"
   },
   {
    "duration": 2,
    "start_time": "2024-09-17T03:17:41.643Z"
   },
   {
    "duration": 3,
    "start_time": "2024-09-17T03:17:51.028Z"
   },
   {
    "duration": 3,
    "start_time": "2024-09-17T03:18:30.077Z"
   },
   {
    "duration": 3,
    "start_time": "2024-09-17T03:19:13.299Z"
   },
   {
    "duration": 4,
    "start_time": "2024-09-17T03:19:14.157Z"
   },
   {
    "duration": 2,
    "start_time": "2024-09-17T03:19:17.029Z"
   },
   {
    "duration": 7,
    "start_time": "2024-09-17T03:19:17.732Z"
   },
   {
    "duration": 17,
    "start_time": "2024-09-17T03:19:18.727Z"
   },
   {
    "duration": 8,
    "start_time": "2024-09-17T03:19:37.538Z"
   },
   {
    "duration": 7,
    "start_time": "2024-09-17T03:19:38.706Z"
   },
   {
    "duration": 48,
    "start_time": "2024-09-17T03:19:39.879Z"
   },
   {
    "duration": 8,
    "start_time": "2024-09-17T03:19:43.753Z"
   },
   {
    "duration": 4,
    "start_time": "2024-09-17T03:19:44.764Z"
   },
   {
    "duration": 4,
    "start_time": "2024-09-17T03:19:45.507Z"
   },
   {
    "duration": 11,
    "start_time": "2024-09-17T03:19:45.720Z"
   },
   {
    "duration": 4,
    "start_time": "2024-09-17T03:19:46.292Z"
   },
   {
    "duration": 3,
    "start_time": "2024-09-17T03:19:47.128Z"
   },
   {
    "duration": 10,
    "start_time": "2024-09-17T03:19:56.562Z"
   },
   {
    "duration": 16,
    "start_time": "2024-09-17T03:20:00.339Z"
   },
   {
    "duration": 6,
    "start_time": "2024-09-17T03:21:27.120Z"
   },
   {
    "duration": 6,
    "start_time": "2024-09-17T03:21:32.239Z"
   },
   {
    "duration": 3,
    "start_time": "2024-09-17T03:21:48.092Z"
   },
   {
    "duration": 18,
    "start_time": "2024-09-17T03:21:48.660Z"
   },
   {
    "duration": 12,
    "start_time": "2024-09-17T03:21:49.154Z"
   },
   {
    "duration": 4,
    "start_time": "2024-09-17T03:21:49.666Z"
   },
   {
    "duration": 9,
    "start_time": "2024-09-17T03:21:55.016Z"
   },
   {
    "duration": 3,
    "start_time": "2024-09-17T03:22:03.047Z"
   },
   {
    "duration": 61,
    "start_time": "2024-09-17T03:22:03.427Z"
   },
   {
    "duration": 5,
    "start_time": "2024-09-17T03:22:03.789Z"
   },
   {
    "duration": 5,
    "start_time": "2024-09-17T03:22:04.195Z"
   },
   {
    "duration": 851,
    "start_time": "2024-09-17T15:24:56.285Z"
   },
   {
    "duration": 47,
    "start_time": "2024-09-17T15:24:57.577Z"
   },
   {
    "duration": 4,
    "start_time": "2024-09-17T15:24:59.445Z"
   },
   {
    "duration": 9,
    "start_time": "2024-09-17T15:24:59.962Z"
   },
   {
    "duration": 5,
    "start_time": "2024-09-17T15:25:01.511Z"
   },
   {
    "duration": 21,
    "start_time": "2024-09-17T15:25:03.077Z"
   },
   {
    "duration": 15,
    "start_time": "2024-09-17T15:25:04.348Z"
   },
   {
    "duration": 12,
    "start_time": "2024-09-17T15:25:07.380Z"
   },
   {
    "duration": 5,
    "start_time": "2024-09-17T15:25:09.918Z"
   },
   {
    "duration": 10,
    "start_time": "2024-09-17T15:25:11.307Z"
   },
   {
    "duration": 3,
    "start_time": "2024-09-17T15:25:13.620Z"
   },
   {
    "duration": 11,
    "start_time": "2024-09-17T15:25:14.146Z"
   },
   {
    "duration": 5,
    "start_time": "2024-09-17T15:25:18.143Z"
   },
   {
    "duration": 15,
    "start_time": "2024-09-17T15:25:18.712Z"
   },
   {
    "duration": 7,
    "start_time": "2024-09-17T15:25:20.016Z"
   },
   {
    "duration": 10,
    "start_time": "2024-09-17T15:25:20.582Z"
   },
   {
    "duration": 15,
    "start_time": "2024-09-17T15:25:22.451Z"
   },
   {
    "duration": 14,
    "start_time": "2024-09-17T15:25:23.781Z"
   },
   {
    "duration": 16,
    "start_time": "2024-09-17T15:25:24.604Z"
   },
   {
    "duration": 6,
    "start_time": "2024-09-17T15:29:59.061Z"
   },
   {
    "duration": 4,
    "start_time": "2024-09-17T15:30:39.143Z"
   },
   {
    "duration": 4,
    "start_time": "2024-09-17T15:30:40.097Z"
   },
   {
    "duration": 3,
    "start_time": "2024-09-17T15:30:41.069Z"
   },
   {
    "duration": 6,
    "start_time": "2024-09-17T15:30:45.283Z"
   },
   {
    "duration": 5,
    "start_time": "2024-09-17T15:30:46.725Z"
   },
   {
    "duration": 8,
    "start_time": "2024-09-17T15:30:49.085Z"
   },
   {
    "duration": 6,
    "start_time": "2024-09-17T15:30:50.803Z"
   },
   {
    "duration": 364,
    "start_time": "2024-09-17T15:30:51.977Z"
   },
   {
    "duration": 4,
    "start_time": "2024-09-17T15:31:06.215Z"
   },
   {
    "duration": 4,
    "start_time": "2024-09-17T15:31:07.090Z"
   },
   {
    "duration": 4,
    "start_time": "2024-09-17T15:31:07.660Z"
   },
   {
    "duration": 4,
    "start_time": "2024-09-17T15:31:08.168Z"
   },
   {
    "duration": 4,
    "start_time": "2024-09-17T15:31:08.765Z"
   },
   {
    "duration": 3,
    "start_time": "2024-09-17T15:31:09.348Z"
   },
   {
    "duration": 5,
    "start_time": "2024-09-17T15:31:11.677Z"
   },
   {
    "duration": 6,
    "start_time": "2024-09-17T15:31:13.645Z"
   },
   {
    "duration": 45,
    "start_time": "2024-09-17T15:31:14.343Z"
   },
   {
    "duration": 5,
    "start_time": "2024-09-17T15:31:19.797Z"
   },
   {
    "duration": 3,
    "start_time": "2024-09-17T15:31:27.622Z"
   },
   {
    "duration": 6,
    "start_time": "2024-09-17T15:31:28.627Z"
   },
   {
    "duration": 5,
    "start_time": "2024-09-17T15:31:30.965Z"
   },
   {
    "duration": 9,
    "start_time": "2024-09-17T15:31:45.968Z"
   },
   {
    "duration": 3,
    "start_time": "2024-09-17T15:31:47.564Z"
   },
   {
    "duration": 4,
    "start_time": "2024-09-17T15:31:48.478Z"
   },
   {
    "duration": 2,
    "start_time": "2024-09-17T15:31:48.888Z"
   },
   {
    "duration": 5,
    "start_time": "2024-09-17T15:31:49.509Z"
   },
   {
    "duration": 47,
    "start_time": "2024-09-17T15:31:50.904Z"
   },
   {
    "duration": 4,
    "start_time": "2024-09-17T15:31:55.927Z"
   },
   {
    "duration": 4,
    "start_time": "2024-09-17T15:31:56.626Z"
   },
   {
    "duration": 6,
    "start_time": "2024-09-17T15:31:57.354Z"
   },
   {
    "duration": 3,
    "start_time": "2024-09-17T15:31:57.760Z"
   },
   {
    "duration": 49,
    "start_time": "2024-09-17T15:31:58.053Z"
   },
   {
    "duration": 5,
    "start_time": "2024-09-17T15:33:24.743Z"
   },
   {
    "duration": 7,
    "start_time": "2024-09-17T15:33:25.477Z"
   },
   {
    "duration": 46,
    "start_time": "2024-09-17T15:33:26.252Z"
   },
   {
    "duration": 275,
    "start_time": "2024-09-17T15:34:59.525Z"
   },
   {
    "duration": 16,
    "start_time": "2024-09-17T15:44:48.311Z"
   },
   {
    "duration": 4,
    "start_time": "2024-09-17T15:44:56.700Z"
   },
   {
    "duration": 46,
    "start_time": "2024-09-17T15:44:56.708Z"
   },
   {
    "duration": 4,
    "start_time": "2024-09-17T15:44:56.757Z"
   },
   {
    "duration": 13,
    "start_time": "2024-09-17T15:44:56.763Z"
   },
   {
    "duration": 5,
    "start_time": "2024-09-17T15:44:56.779Z"
   },
   {
    "duration": 59,
    "start_time": "2024-09-17T15:44:56.785Z"
   },
   {
    "duration": 11,
    "start_time": "2024-09-17T15:44:56.846Z"
   },
   {
    "duration": 16,
    "start_time": "2024-09-17T15:44:56.859Z"
   },
   {
    "duration": 5,
    "start_time": "2024-09-17T15:44:56.876Z"
   },
   {
    "duration": 12,
    "start_time": "2024-09-17T15:44:56.882Z"
   },
   {
    "duration": 3,
    "start_time": "2024-09-17T15:44:56.897Z"
   },
   {
    "duration": 9,
    "start_time": "2024-09-17T15:44:56.902Z"
   },
   {
    "duration": 5,
    "start_time": "2024-09-17T15:44:56.944Z"
   },
   {
    "duration": 15,
    "start_time": "2024-09-17T15:44:56.950Z"
   },
   {
    "duration": 6,
    "start_time": "2024-09-17T15:44:56.966Z"
   },
   {
    "duration": 9,
    "start_time": "2024-09-17T15:44:56.974Z"
   },
   {
    "duration": 14,
    "start_time": "2024-09-17T15:44:56.984Z"
   },
   {
    "duration": 50,
    "start_time": "2024-09-17T15:44:57.000Z"
   },
   {
    "duration": 10,
    "start_time": "2024-09-17T15:44:57.052Z"
   },
   {
    "duration": 4,
    "start_time": "2024-09-17T15:44:57.065Z"
   },
   {
    "duration": 4,
    "start_time": "2024-09-17T15:44:57.071Z"
   },
   {
    "duration": 4,
    "start_time": "2024-09-17T15:44:57.077Z"
   },
   {
    "duration": 2,
    "start_time": "2024-09-17T15:44:57.083Z"
   },
   {
    "duration": 4,
    "start_time": "2024-09-17T15:44:57.087Z"
   },
   {
    "duration": 4,
    "start_time": "2024-09-17T15:44:57.092Z"
   },
   {
    "duration": 49,
    "start_time": "2024-09-17T15:44:57.098Z"
   },
   {
    "duration": 5,
    "start_time": "2024-09-17T15:44:57.148Z"
   },
   {
    "duration": 43,
    "start_time": "2024-09-17T15:44:57.155Z"
   },
   {
    "duration": 3,
    "start_time": "2024-09-17T15:44:57.202Z"
   },
   {
    "duration": 5,
    "start_time": "2024-09-17T15:44:57.207Z"
   },
   {
    "duration": 32,
    "start_time": "2024-09-17T15:44:57.213Z"
   },
   {
    "duration": 4,
    "start_time": "2024-09-17T15:44:57.246Z"
   },
   {
    "duration": 4,
    "start_time": "2024-09-17T15:44:57.252Z"
   },
   {
    "duration": 5,
    "start_time": "2024-09-17T15:44:57.258Z"
   },
   {
    "duration": 5,
    "start_time": "2024-09-17T15:44:57.265Z"
   },
   {
    "duration": 6,
    "start_time": "2024-09-17T15:44:57.272Z"
   },
   {
    "duration": 89,
    "start_time": "2024-09-17T15:44:57.279Z"
   },
   {
    "duration": 4,
    "start_time": "2024-09-17T15:44:57.370Z"
   },
   {
    "duration": 4,
    "start_time": "2024-09-17T15:44:57.375Z"
   },
   {
    "duration": 4,
    "start_time": "2024-09-17T15:44:57.381Z"
   },
   {
    "duration": 5,
    "start_time": "2024-09-17T15:44:57.387Z"
   },
   {
    "duration": 8,
    "start_time": "2024-09-17T15:44:57.394Z"
   },
   {
    "duration": 3,
    "start_time": "2024-09-17T15:44:57.403Z"
   },
   {
    "duration": 3,
    "start_time": "2024-09-17T15:44:57.443Z"
   },
   {
    "duration": 3,
    "start_time": "2024-09-17T15:44:57.448Z"
   },
   {
    "duration": 3,
    "start_time": "2024-09-17T15:44:57.453Z"
   },
   {
    "duration": 43,
    "start_time": "2024-09-17T15:44:57.458Z"
   },
   {
    "duration": 4,
    "start_time": "2024-09-17T15:44:57.503Z"
   },
   {
    "duration": 37,
    "start_time": "2024-09-17T15:44:57.509Z"
   },
   {
    "duration": 5,
    "start_time": "2024-09-17T15:44:57.548Z"
   },
   {
    "duration": 3,
    "start_time": "2024-09-17T15:44:57.555Z"
   },
   {
    "duration": 48,
    "start_time": "2024-09-17T15:44:57.560Z"
   },
   {
    "duration": 5,
    "start_time": "2024-09-17T15:44:57.609Z"
   },
   {
    "duration": 5,
    "start_time": "2024-09-17T15:44:57.643Z"
   },
   {
    "duration": 41,
    "start_time": "2024-09-17T15:44:57.650Z"
   },
   {
    "duration": 2,
    "start_time": "2024-09-17T15:44:57.693Z"
   },
   {
    "duration": 7,
    "start_time": "2024-09-17T15:44:57.696Z"
   },
   {
    "duration": 4,
    "start_time": "2024-09-17T15:44:57.704Z"
   },
   {
    "duration": 371,
    "start_time": "2024-09-17T15:45:15.632Z"
   },
   {
    "duration": 7,
    "start_time": "2024-09-17T15:45:36.014Z"
   },
   {
    "duration": 4,
    "start_time": "2024-09-17T15:45:37.248Z"
   },
   {
    "duration": 4,
    "start_time": "2024-09-17T15:46:37.146Z"
   },
   {
    "duration": 4,
    "start_time": "2024-09-17T15:46:40.992Z"
   },
   {
    "duration": 5,
    "start_time": "2024-09-17T15:46:46.582Z"
   },
   {
    "duration": 4,
    "start_time": "2024-09-17T15:46:46.980Z"
   },
   {
    "duration": 4,
    "start_time": "2024-09-17T15:46:47.497Z"
   },
   {
    "duration": 3,
    "start_time": "2024-09-17T15:46:48.628Z"
   },
   {
    "duration": 4,
    "start_time": "2024-09-17T15:46:49.726Z"
   },
   {
    "duration": 79,
    "start_time": "2024-09-17T15:46:50.375Z"
   },
   {
    "duration": 12,
    "start_time": "2024-09-17T15:47:05.230Z"
   },
   {
    "duration": 5,
    "start_time": "2024-09-17T15:47:08.798Z"
   },
   {
    "duration": 6,
    "start_time": "2024-09-17T15:47:09.500Z"
   },
   {
    "duration": 125,
    "start_time": "2024-09-17T15:47:10.083Z"
   },
   {
    "duration": 4,
    "start_time": "2024-09-17T15:47:27.924Z"
   },
   {
    "duration": 6,
    "start_time": "2024-09-17T15:47:28.966Z"
   },
   {
    "duration": 4,
    "start_time": "2024-09-17T15:47:29.681Z"
   },
   {
    "duration": 4,
    "start_time": "2024-09-17T15:47:30.201Z"
   },
   {
    "duration": 5,
    "start_time": "2024-09-17T15:47:31.221Z"
   },
   {
    "duration": 5,
    "start_time": "2024-09-17T15:47:31.826Z"
   },
   {
    "duration": 7,
    "start_time": "2024-09-17T15:47:34.611Z"
   },
   {
    "duration": 5,
    "start_time": "2024-09-17T15:47:35.451Z"
   },
   {
    "duration": 43,
    "start_time": "2024-09-17T15:47:36.473Z"
   },
   {
    "duration": 6,
    "start_time": "2024-09-17T15:48:10.437Z"
   },
   {
    "duration": 5,
    "start_time": "2024-09-17T15:48:10.888Z"
   },
   {
    "duration": 42,
    "start_time": "2024-09-17T15:48:11.293Z"
   },
   {
    "duration": 3,
    "start_time": "2024-09-17T15:51:30.435Z"
   },
   {
    "duration": 5,
    "start_time": "2024-09-17T15:51:49.954Z"
   },
   {
    "duration": 6,
    "start_time": "2024-09-17T15:51:50.306Z"
   },
   {
    "duration": 3,
    "start_time": "2024-09-17T15:51:51.052Z"
   },
   {
    "duration": 6,
    "start_time": "2024-09-17T15:51:51.604Z"
   },
   {
    "duration": 14,
    "start_time": "2024-09-17T15:51:52.234Z"
   },
   {
    "duration": 10,
    "start_time": "2024-09-17T15:51:52.954Z"
   },
   {
    "duration": 6,
    "start_time": "2024-09-17T15:51:53.592Z"
   },
   {
    "duration": 47,
    "start_time": "2024-09-17T15:51:54.006Z"
   },
   {
    "duration": 4,
    "start_time": "2024-09-17T15:51:54.557Z"
   },
   {
    "duration": 5,
    "start_time": "2024-09-17T15:51:57.180Z"
   },
   {
    "duration": 4,
    "start_time": "2024-09-17T15:51:57.440Z"
   },
   {
    "duration": 4,
    "start_time": "2024-09-17T15:51:57.816Z"
   },
   {
    "duration": 4,
    "start_time": "2024-09-17T15:51:58.127Z"
   },
   {
    "duration": 5,
    "start_time": "2024-09-17T15:51:58.428Z"
   },
   {
    "duration": 9,
    "start_time": "2024-09-17T15:54:14.668Z"
   },
   {
    "duration": 12,
    "start_time": "2024-09-17T15:54:18.548Z"
   },
   {
    "duration": 5,
    "start_time": "2024-09-17T15:54:41.995Z"
   },
   {
    "duration": 6,
    "start_time": "2024-09-17T16:10:38.742Z"
   },
   {
    "duration": 2,
    "start_time": "2024-09-17T16:10:47.333Z"
   },
   {
    "duration": 18,
    "start_time": "2024-09-17T16:10:47.747Z"
   },
   {
    "duration": 6,
    "start_time": "2024-09-17T16:10:48.241Z"
   },
   {
    "duration": 3,
    "start_time": "2024-09-17T16:10:49.046Z"
   },
   {
    "duration": 4,
    "start_time": "2024-09-17T16:12:54.981Z"
   },
   {
    "duration": 2,
    "start_time": "2024-09-17T16:55:43.174Z"
   },
   {
    "duration": 56,
    "start_time": "2024-09-17T16:55:43.977Z"
   },
   {
    "duration": 5,
    "start_time": "2024-09-17T16:55:44.354Z"
   },
   {
    "duration": 5,
    "start_time": "2024-09-17T16:55:45.027Z"
   },
   {
    "duration": 6,
    "start_time": "2024-09-17T16:55:46.523Z"
   },
   {
    "duration": 816,
    "start_time": "2024-09-17T18:29:03.926Z"
   },
   {
    "duration": 40,
    "start_time": "2024-09-17T18:29:04.744Z"
   },
   {
    "duration": 2,
    "start_time": "2024-09-17T18:29:05.030Z"
   },
   {
    "duration": 9,
    "start_time": "2024-09-17T18:29:05.735Z"
   },
   {
    "duration": 4,
    "start_time": "2024-09-17T18:29:06.183Z"
   },
   {
    "duration": 17,
    "start_time": "2024-09-17T18:29:07.146Z"
   },
   {
    "duration": 10,
    "start_time": "2024-09-17T18:29:07.578Z"
   },
   {
    "duration": 13,
    "start_time": "2024-09-17T18:29:08.300Z"
   },
   {
    "duration": 3,
    "start_time": "2024-09-17T18:29:08.481Z"
   },
   {
    "duration": 11,
    "start_time": "2024-09-17T18:29:13.330Z"
   },
   {
    "duration": 4,
    "start_time": "2024-09-17T18:29:14.400Z"
   },
   {
    "duration": 10,
    "start_time": "2024-09-17T18:29:14.766Z"
   },
   {
    "duration": 6,
    "start_time": "2024-09-17T18:29:15.714Z"
   },
   {
    "duration": 14,
    "start_time": "2024-09-17T18:29:16.019Z"
   },
   {
    "duration": 7,
    "start_time": "2024-09-17T18:29:16.983Z"
   },
   {
    "duration": 9,
    "start_time": "2024-09-17T18:29:17.665Z"
   },
   {
    "duration": 14,
    "start_time": "2024-09-17T18:29:18.314Z"
   },
   {
    "duration": 13,
    "start_time": "2024-09-17T18:29:18.944Z"
   },
   {
    "duration": 11,
    "start_time": "2024-09-17T18:29:19.224Z"
   },
   {
    "duration": 5,
    "start_time": "2024-09-17T18:29:20.704Z"
   },
   {
    "duration": 4,
    "start_time": "2024-09-17T18:29:24.325Z"
   },
   {
    "duration": 4,
    "start_time": "2024-09-17T18:29:25.012Z"
   },
   {
    "duration": 3,
    "start_time": "2024-09-17T18:29:25.307Z"
   },
   {
    "duration": 7,
    "start_time": "2024-09-17T18:29:25.792Z"
   },
   {
    "duration": 5,
    "start_time": "2024-09-17T18:29:26.784Z"
   },
   {
    "duration": 6,
    "start_time": "2024-09-17T18:29:27.310Z"
   },
   {
    "duration": 5,
    "start_time": "2024-09-17T18:29:27.627Z"
   },
   {
    "duration": 357,
    "start_time": "2024-09-17T18:29:27.960Z"
   },
   {
    "duration": 4,
    "start_time": "2024-09-17T18:29:28.589Z"
   },
   {
    "duration": 3,
    "start_time": "2024-09-17T18:29:28.934Z"
   },
   {
    "duration": 4,
    "start_time": "2024-09-17T18:29:29.748Z"
   },
   {
    "duration": 7,
    "start_time": "2024-09-17T18:29:30.057Z"
   },
   {
    "duration": 3,
    "start_time": "2024-09-17T18:29:30.340Z"
   },
   {
    "duration": 4,
    "start_time": "2024-09-17T18:29:30.590Z"
   },
   {
    "duration": 6,
    "start_time": "2024-09-17T18:29:31.508Z"
   },
   {
    "duration": 5,
    "start_time": "2024-09-17T18:29:32.428Z"
   },
   {
    "duration": 43,
    "start_time": "2024-09-17T18:29:32.795Z"
   },
   {
    "duration": 4,
    "start_time": "2024-09-17T18:29:33.078Z"
   },
   {
    "duration": 4,
    "start_time": "2024-09-17T18:29:34.376Z"
   },
   {
    "duration": 4,
    "start_time": "2024-09-17T18:29:34.742Z"
   },
   {
    "duration": 6,
    "start_time": "2024-09-17T18:29:35.459Z"
   },
   {
    "duration": 9,
    "start_time": "2024-09-17T18:29:36.153Z"
   },
   {
    "duration": 3,
    "start_time": "2024-09-17T18:29:36.713Z"
   },
   {
    "duration": 3,
    "start_time": "2024-09-17T18:29:36.903Z"
   },
   {
    "duration": 2,
    "start_time": "2024-09-17T18:29:37.138Z"
   },
   {
    "duration": 3,
    "start_time": "2024-09-17T18:29:37.448Z"
   },
   {
    "duration": 46,
    "start_time": "2024-09-17T18:29:37.984Z"
   },
   {
    "duration": 4,
    "start_time": "2024-09-17T18:29:38.872Z"
   },
   {
    "duration": 4,
    "start_time": "2024-09-17T18:29:39.141Z"
   },
   {
    "duration": 5,
    "start_time": "2024-09-17T18:29:39.451Z"
   },
   {
    "duration": 4,
    "start_time": "2024-09-17T18:29:39.711Z"
   },
   {
    "duration": 45,
    "start_time": "2024-09-17T18:29:39.978Z"
   },
   {
    "duration": 6,
    "start_time": "2024-09-17T18:29:40.941Z"
   },
   {
    "duration": 6,
    "start_time": "2024-09-17T18:29:41.142Z"
   },
   {
    "duration": 44,
    "start_time": "2024-09-17T18:29:41.476Z"
   },
   {
    "duration": 7,
    "start_time": "2024-09-17T18:29:42.524Z"
   },
   {
    "duration": 4,
    "start_time": "2024-09-17T18:29:42.859Z"
   },
   {
    "duration": 4,
    "start_time": "2024-09-17T18:29:43.099Z"
   },
   {
    "duration": 5,
    "start_time": "2024-09-17T18:29:43.334Z"
   },
   {
    "duration": 5,
    "start_time": "2024-09-17T18:29:44.205Z"
   },
   {
    "duration": 3,
    "start_time": "2024-09-17T18:29:44.390Z"
   },
   {
    "duration": 4,
    "start_time": "2024-09-17T18:29:44.665Z"
   },
   {
    "duration": 3,
    "start_time": "2024-09-17T18:29:45.101Z"
   },
   {
    "duration": 3,
    "start_time": "2024-09-17T18:29:45.328Z"
   },
   {
    "duration": 73,
    "start_time": "2024-09-17T18:29:45.607Z"
   },
   {
    "duration": 10,
    "start_time": "2024-09-17T18:29:46.267Z"
   },
   {
    "duration": 4,
    "start_time": "2024-09-17T18:29:46.514Z"
   },
   {
    "duration": 5,
    "start_time": "2024-09-17T18:29:46.767Z"
   },
   {
    "duration": 41,
    "start_time": "2024-09-17T18:29:46.970Z"
   },
   {
    "duration": 4,
    "start_time": "2024-09-17T18:29:47.176Z"
   },
   {
    "duration": 4,
    "start_time": "2024-09-17T18:29:47.419Z"
   },
   {
    "duration": 3,
    "start_time": "2024-09-17T18:29:47.671Z"
   },
   {
    "duration": 3,
    "start_time": "2024-09-17T18:29:47.973Z"
   },
   {
    "duration": 5,
    "start_time": "2024-09-17T18:29:48.694Z"
   },
   {
    "duration": 5,
    "start_time": "2024-09-17T18:29:49.089Z"
   },
   {
    "duration": 8,
    "start_time": "2024-09-17T18:29:50.224Z"
   },
   {
    "duration": 13,
    "start_time": "2024-09-17T18:29:50.484Z"
   },
   {
    "duration": 41,
    "start_time": "2024-09-17T18:29:50.762Z"
   },
   {
    "duration": 5,
    "start_time": "2024-09-17T18:29:51.648Z"
   },
   {
    "duration": 5,
    "start_time": "2024-09-17T18:29:51.747Z"
   },
   {
    "duration": 39,
    "start_time": "2024-09-17T18:29:51.975Z"
   },
   {
    "duration": 3,
    "start_time": "2024-09-17T18:29:52.422Z"
   },
   {
    "duration": 5,
    "start_time": "2024-09-17T18:29:53.181Z"
   },
   {
    "duration": 5,
    "start_time": "2024-09-17T18:29:53.392Z"
   },
   {
    "duration": 3,
    "start_time": "2024-09-17T18:29:53.622Z"
   },
   {
    "duration": 4,
    "start_time": "2024-09-17T18:29:53.858Z"
   },
   {
    "duration": 13,
    "start_time": "2024-09-17T18:29:54.043Z"
   },
   {
    "duration": 7,
    "start_time": "2024-09-17T18:29:54.258Z"
   },
   {
    "duration": 5,
    "start_time": "2024-09-17T18:29:54.453Z"
   },
   {
    "duration": 41,
    "start_time": "2024-09-17T18:29:54.690Z"
   },
   {
    "duration": 4,
    "start_time": "2024-09-17T18:29:54.887Z"
   },
   {
    "duration": 4,
    "start_time": "2024-09-17T18:29:55.079Z"
   },
   {
    "duration": 3,
    "start_time": "2024-09-17T18:29:55.269Z"
   },
   {
    "duration": 4,
    "start_time": "2024-09-17T18:29:55.502Z"
   },
   {
    "duration": 5,
    "start_time": "2024-09-17T18:29:55.658Z"
   },
   {
    "duration": 4,
    "start_time": "2024-09-17T18:29:55.842Z"
   },
   {
    "duration": 9,
    "start_time": "2024-09-17T18:29:59.869Z"
   },
   {
    "duration": 13,
    "start_time": "2024-09-17T18:30:00.299Z"
   },
   {
    "duration": 5,
    "start_time": "2024-09-17T18:30:01.852Z"
   },
   {
    "duration": 5,
    "start_time": "2024-09-17T18:30:27.008Z"
   },
   {
    "duration": 2,
    "start_time": "2024-09-17T18:30:31.908Z"
   },
   {
    "duration": 18,
    "start_time": "2024-09-17T18:30:32.255Z"
   },
   {
    "duration": 11,
    "start_time": "2024-09-17T18:30:32.621Z"
   },
   {
    "duration": 5,
    "start_time": "2024-09-17T18:30:33.010Z"
   },
   {
    "duration": 3,
    "start_time": "2024-09-17T18:30:46.380Z"
   },
   {
    "duration": 4,
    "start_time": "2024-09-17T18:31:00.532Z"
   },
   {
    "duration": 344,
    "start_time": "2024-09-17T18:40:18.521Z"
   },
   {
    "duration": 3,
    "start_time": "2024-09-17T18:41:44.148Z"
   },
   {
    "duration": 10,
    "start_time": "2024-09-17T18:41:56.248Z"
   },
   {
    "duration": 11,
    "start_time": "2024-09-17T18:42:17.042Z"
   },
   {
    "duration": 3,
    "start_time": "2024-09-17T18:45:20.691Z"
   },
   {
    "duration": 9,
    "start_time": "2024-09-17T18:45:30.291Z"
   },
   {
    "duration": 9,
    "start_time": "2024-09-17T18:48:28.401Z"
   },
   {
    "duration": 9,
    "start_time": "2024-09-17T18:48:58.999Z"
   },
   {
    "duration": 76,
    "start_time": "2024-09-17T18:54:21.465Z"
   },
   {
    "duration": 3,
    "start_time": "2024-09-17T18:57:44.323Z"
   },
   {
    "duration": 2,
    "start_time": "2024-09-17T19:03:59.474Z"
   },
   {
    "duration": 9,
    "start_time": "2024-09-17T19:04:04.509Z"
   },
   {
    "duration": 3,
    "start_time": "2024-09-17T19:14:01.160Z"
   },
   {
    "duration": 56,
    "start_time": "2024-09-17T19:14:01.563Z"
   },
   {
    "duration": 5,
    "start_time": "2024-09-17T19:14:01.905Z"
   },
   {
    "duration": 6,
    "start_time": "2024-09-17T19:14:02.347Z"
   },
   {
    "duration": 5,
    "start_time": "2024-09-17T19:23:47.874Z"
   },
   {
    "duration": 5,
    "start_time": "2024-09-17T19:23:57.593Z"
   },
   {
    "duration": 5,
    "start_time": "2024-09-17T19:26:13.706Z"
   },
   {
    "duration": 3,
    "start_time": "2024-09-17T19:26:14.928Z"
   },
   {
    "duration": 5,
    "start_time": "2024-09-17T19:28:02.738Z"
   },
   {
    "duration": 3,
    "start_time": "2024-09-17T19:28:03.595Z"
   },
   {
    "duration": 9,
    "start_time": "2024-09-17T19:28:04.212Z"
   },
   {
    "duration": 2,
    "start_time": "2024-09-17T19:28:36.455Z"
   },
   {
    "duration": 11,
    "start_time": "2024-09-17T19:28:42.678Z"
   },
   {
    "duration": 10,
    "start_time": "2024-09-17T19:29:04.992Z"
   },
   {
    "duration": 2,
    "start_time": "2024-09-17T19:29:17.390Z"
   },
   {
    "duration": 9,
    "start_time": "2024-09-17T19:29:18.077Z"
   },
   {
    "duration": 2,
    "start_time": "2024-09-17T19:29:39.767Z"
   },
   {
    "duration": 10,
    "start_time": "2024-09-17T19:29:40.173Z"
   },
   {
    "duration": 3,
    "start_time": "2024-09-17T19:29:50.417Z"
   },
   {
    "duration": 25,
    "start_time": "2024-09-17T19:29:50.449Z"
   },
   {
    "duration": 3,
    "start_time": "2024-09-17T19:29:50.476Z"
   },
   {
    "duration": 14,
    "start_time": "2024-09-17T19:29:50.481Z"
   },
   {
    "duration": 8,
    "start_time": "2024-09-17T19:29:50.498Z"
   },
   {
    "duration": 23,
    "start_time": "2024-09-17T19:29:50.508Z"
   },
   {
    "duration": 10,
    "start_time": "2024-09-17T19:29:50.544Z"
   },
   {
    "duration": 12,
    "start_time": "2024-09-17T19:29:50.556Z"
   },
   {
    "duration": 3,
    "start_time": "2024-09-17T19:29:50.570Z"
   },
   {
    "duration": 9,
    "start_time": "2024-09-17T19:29:50.575Z"
   },
   {
    "duration": 3,
    "start_time": "2024-09-17T19:29:50.586Z"
   },
   {
    "duration": 9,
    "start_time": "2024-09-17T19:29:50.590Z"
   },
   {
    "duration": 5,
    "start_time": "2024-09-17T19:29:50.600Z"
   },
   {
    "duration": 19,
    "start_time": "2024-09-17T19:29:50.643Z"
   },
   {
    "duration": 6,
    "start_time": "2024-09-17T19:29:50.663Z"
   },
   {
    "duration": 10,
    "start_time": "2024-09-17T19:29:50.671Z"
   },
   {
    "duration": 14,
    "start_time": "2024-09-17T19:29:50.683Z"
   },
   {
    "duration": 51,
    "start_time": "2024-09-17T19:29:50.699Z"
   },
   {
    "duration": 10,
    "start_time": "2024-09-17T19:29:50.752Z"
   },
   {
    "duration": 5,
    "start_time": "2024-09-17T19:29:50.763Z"
   },
   {
    "duration": 4,
    "start_time": "2024-09-17T19:29:50.770Z"
   },
   {
    "duration": 4,
    "start_time": "2024-09-17T19:29:50.775Z"
   },
   {
    "duration": 3,
    "start_time": "2024-09-17T19:29:50.781Z"
   },
   {
    "duration": 4,
    "start_time": "2024-09-17T19:29:50.785Z"
   },
   {
    "duration": 53,
    "start_time": "2024-09-17T19:29:50.791Z"
   },
   {
    "duration": 6,
    "start_time": "2024-09-17T19:29:50.846Z"
   },
   {
    "duration": 5,
    "start_time": "2024-09-17T19:29:50.854Z"
   },
   {
    "duration": 42,
    "start_time": "2024-09-17T19:29:50.861Z"
   },
   {
    "duration": 4,
    "start_time": "2024-09-17T19:29:50.909Z"
   },
   {
    "duration": 5,
    "start_time": "2024-09-17T19:29:50.943Z"
   },
   {
    "duration": 5,
    "start_time": "2024-09-17T19:29:50.949Z"
   },
   {
    "duration": 6,
    "start_time": "2024-09-17T19:29:50.956Z"
   },
   {
    "duration": 5,
    "start_time": "2024-09-17T19:29:50.964Z"
   },
   {
    "duration": 4,
    "start_time": "2024-09-17T19:29:50.971Z"
   },
   {
    "duration": 6,
    "start_time": "2024-09-17T19:29:50.977Z"
   },
   {
    "duration": 6,
    "start_time": "2024-09-17T19:29:50.985Z"
   },
   {
    "duration": 93,
    "start_time": "2024-09-17T19:29:50.992Z"
   },
   {
    "duration": 5,
    "start_time": "2024-09-17T19:29:51.087Z"
   },
   {
    "duration": 4,
    "start_time": "2024-09-17T19:29:51.093Z"
   },
   {
    "duration": 4,
    "start_time": "2024-09-17T19:29:51.099Z"
   },
   {
    "duration": 5,
    "start_time": "2024-09-17T19:29:51.105Z"
   },
   {
    "duration": 37,
    "start_time": "2024-09-17T19:29:51.112Z"
   },
   {
    "duration": 3,
    "start_time": "2024-09-17T19:29:51.151Z"
   },
   {
    "duration": 4,
    "start_time": "2024-09-17T19:29:51.156Z"
   },
   {
    "duration": 2,
    "start_time": "2024-09-17T19:29:51.162Z"
   },
   {
    "duration": 4,
    "start_time": "2024-09-17T19:29:51.166Z"
   },
   {
    "duration": 77,
    "start_time": "2024-09-17T19:29:51.171Z"
   },
   {
    "duration": 4,
    "start_time": "2024-09-17T19:29:51.249Z"
   },
   {
    "duration": 4,
    "start_time": "2024-09-17T19:29:51.255Z"
   },
   {
    "duration": 5,
    "start_time": "2024-09-17T19:29:51.261Z"
   },
   {
    "duration": 4,
    "start_time": "2024-09-17T19:29:51.267Z"
   },
   {
    "duration": 73,
    "start_time": "2024-09-17T19:29:51.273Z"
   },
   {
    "duration": 5,
    "start_time": "2024-09-17T19:29:51.347Z"
   },
   {
    "duration": 5,
    "start_time": "2024-09-17T19:29:51.354Z"
   },
   {
    "duration": 42,
    "start_time": "2024-09-17T19:29:51.360Z"
   },
   {
    "duration": 6,
    "start_time": "2024-09-17T19:29:51.403Z"
   },
   {
    "duration": 33,
    "start_time": "2024-09-17T19:29:51.411Z"
   },
   {
    "duration": 3,
    "start_time": "2024-09-17T19:29:51.446Z"
   },
   {
    "duration": 5,
    "start_time": "2024-09-17T19:29:51.451Z"
   },
   {
    "duration": 5,
    "start_time": "2024-09-17T19:29:51.457Z"
   },
   {
    "duration": 4,
    "start_time": "2024-09-17T19:29:51.463Z"
   },
   {
    "duration": 3,
    "start_time": "2024-09-17T19:29:51.469Z"
   },
   {
    "duration": 3,
    "start_time": "2024-09-17T19:29:51.474Z"
   },
   {
    "duration": 6,
    "start_time": "2024-09-17T19:29:51.480Z"
   },
   {
    "duration": 108,
    "start_time": "2024-09-17T19:29:51.488Z"
   },
   {
    "duration": 12,
    "start_time": "2024-09-17T19:29:51.598Z"
   },
   {
    "duration": 31,
    "start_time": "2024-09-17T19:29:51.612Z"
   },
   {
    "duration": 5,
    "start_time": "2024-09-17T19:29:51.645Z"
   },
   {
    "duration": 42,
    "start_time": "2024-09-17T19:29:51.652Z"
   },
   {
    "duration": 4,
    "start_time": "2024-09-17T19:29:51.695Z"
   },
   {
    "duration": 3,
    "start_time": "2024-09-17T19:29:51.701Z"
   },
   {
    "duration": 36,
    "start_time": "2024-09-17T19:29:51.706Z"
   },
   {
    "duration": 4,
    "start_time": "2024-09-17T19:29:51.744Z"
   },
   {
    "duration": 4,
    "start_time": "2024-09-17T19:29:51.750Z"
   },
   {
    "duration": 5,
    "start_time": "2024-09-17T19:29:51.756Z"
   },
   {
    "duration": 8,
    "start_time": "2024-09-17T19:29:51.766Z"
   },
   {
    "duration": 4,
    "start_time": "2024-09-17T19:29:51.775Z"
   },
   {
    "duration": 73,
    "start_time": "2024-09-17T19:29:51.781Z"
   },
   {
    "duration": 5,
    "start_time": "2024-09-17T19:29:51.856Z"
   },
   {
    "duration": 6,
    "start_time": "2024-09-17T19:29:51.862Z"
   },
   {
    "duration": 39,
    "start_time": "2024-09-17T19:29:51.869Z"
   },
   {
    "duration": 3,
    "start_time": "2024-09-17T19:29:51.909Z"
   },
   {
    "duration": 4,
    "start_time": "2024-09-17T19:29:51.946Z"
   },
   {
    "duration": 4,
    "start_time": "2024-09-17T19:29:51.951Z"
   },
   {
    "duration": 3,
    "start_time": "2024-09-17T19:29:51.956Z"
   },
   {
    "duration": 4,
    "start_time": "2024-09-17T19:29:51.961Z"
   },
   {
    "duration": 13,
    "start_time": "2024-09-17T19:29:51.967Z"
   },
   {
    "duration": 6,
    "start_time": "2024-09-17T19:29:51.982Z"
   },
   {
    "duration": 5,
    "start_time": "2024-09-17T19:29:51.989Z"
   },
   {
    "duration": 80,
    "start_time": "2024-09-17T19:29:51.996Z"
   },
   {
    "duration": 4,
    "start_time": "2024-09-17T19:29:52.077Z"
   },
   {
    "duration": 4,
    "start_time": "2024-09-17T19:29:52.083Z"
   },
   {
    "duration": 4,
    "start_time": "2024-09-17T19:29:52.089Z"
   },
   {
    "duration": 4,
    "start_time": "2024-09-17T19:29:52.095Z"
   },
   {
    "duration": 4,
    "start_time": "2024-09-17T19:29:52.100Z"
   },
   {
    "duration": 39,
    "start_time": "2024-09-17T19:29:52.106Z"
   },
   {
    "duration": 10,
    "start_time": "2024-09-17T19:29:52.146Z"
   },
   {
    "duration": 13,
    "start_time": "2024-09-17T19:29:52.157Z"
   },
   {
    "duration": 4,
    "start_time": "2024-09-17T19:29:52.172Z"
   },
   {
    "duration": 6,
    "start_time": "2024-09-17T19:29:52.178Z"
   },
   {
    "duration": 2,
    "start_time": "2024-09-17T19:29:52.186Z"
   },
   {
    "duration": 57,
    "start_time": "2024-09-17T19:29:52.190Z"
   },
   {
    "duration": 8,
    "start_time": "2024-09-17T19:29:52.249Z"
   },
   {
    "duration": 4,
    "start_time": "2024-09-17T19:29:52.258Z"
   },
   {
    "duration": 4,
    "start_time": "2024-09-17T19:29:52.263Z"
   },
   {
    "duration": 75,
    "start_time": "2024-09-17T19:29:52.269Z"
   },
   {
    "duration": 5,
    "start_time": "2024-09-17T19:29:52.345Z"
   },
   {
    "duration": 6,
    "start_time": "2024-09-17T19:30:09.209Z"
   },
   {
    "duration": 2,
    "start_time": "2024-09-17T19:30:09.773Z"
   },
   {
    "duration": 9,
    "start_time": "2024-09-17T19:30:10.342Z"
   },
   {
    "duration": 2,
    "start_time": "2024-09-17T19:30:14.521Z"
   },
   {
    "duration": 9,
    "start_time": "2024-09-17T19:30:15.123Z"
   },
   {
    "duration": 3,
    "start_time": "2024-09-17T19:30:36.215Z"
   },
   {
    "duration": 10,
    "start_time": "2024-09-17T19:30:37.369Z"
   },
   {
    "duration": 3,
    "start_time": "2024-09-17T19:30:39.006Z"
   },
   {
    "duration": 11,
    "start_time": "2024-09-17T19:30:39.667Z"
   },
   {
    "duration": 953,
    "start_time": "2024-09-17T19:31:32.582Z"
   },
   {
    "duration": 46,
    "start_time": "2024-09-17T19:31:33.539Z"
   },
   {
    "duration": 3,
    "start_time": "2024-09-17T19:31:33.586Z"
   },
   {
    "duration": 10,
    "start_time": "2024-09-17T19:31:33.591Z"
   },
   {
    "duration": 5,
    "start_time": "2024-09-17T19:31:33.603Z"
   },
   {
    "duration": 50,
    "start_time": "2024-09-17T19:31:33.610Z"
   },
   {
    "duration": 12,
    "start_time": "2024-09-17T19:31:33.664Z"
   },
   {
    "duration": 16,
    "start_time": "2024-09-17T19:31:33.678Z"
   },
   {
    "duration": 4,
    "start_time": "2024-09-17T19:31:33.696Z"
   },
   {
    "duration": 11,
    "start_time": "2024-09-17T19:31:33.705Z"
   },
   {
    "duration": 5,
    "start_time": "2024-09-17T19:31:33.742Z"
   },
   {
    "duration": 11,
    "start_time": "2024-09-17T19:31:33.750Z"
   },
   {
    "duration": 8,
    "start_time": "2024-09-17T19:31:33.762Z"
   },
   {
    "duration": 18,
    "start_time": "2024-09-17T19:31:33.772Z"
   },
   {
    "duration": 8,
    "start_time": "2024-09-17T19:31:33.792Z"
   },
   {
    "duration": 14,
    "start_time": "2024-09-17T19:31:33.803Z"
   },
   {
    "duration": 16,
    "start_time": "2024-09-17T19:31:33.843Z"
   },
   {
    "duration": 15,
    "start_time": "2024-09-17T19:31:33.860Z"
   },
   {
    "duration": 10,
    "start_time": "2024-09-17T19:31:33.877Z"
   },
   {
    "duration": 5,
    "start_time": "2024-09-17T19:31:33.888Z"
   },
   {
    "duration": 3,
    "start_time": "2024-09-17T19:31:33.895Z"
   },
   {
    "duration": 3,
    "start_time": "2024-09-17T19:31:33.900Z"
   },
   {
    "duration": 40,
    "start_time": "2024-09-17T19:31:33.904Z"
   },
   {
    "duration": 5,
    "start_time": "2024-09-17T19:31:33.945Z"
   },
   {
    "duration": 4,
    "start_time": "2024-09-17T19:31:33.952Z"
   },
   {
    "duration": 7,
    "start_time": "2024-09-17T19:31:33.958Z"
   },
   {
    "duration": 6,
    "start_time": "2024-09-17T19:31:33.966Z"
   },
   {
    "duration": 383,
    "start_time": "2024-09-17T19:31:33.978Z"
   },
   {
    "duration": 4,
    "start_time": "2024-09-17T19:31:34.364Z"
   },
   {
    "duration": 5,
    "start_time": "2024-09-17T19:31:34.370Z"
   },
   {
    "duration": 4,
    "start_time": "2024-09-17T19:31:34.377Z"
   },
   {
    "duration": 5,
    "start_time": "2024-09-17T19:31:34.383Z"
   },
   {
    "duration": 5,
    "start_time": "2024-09-17T19:31:34.390Z"
   },
   {
    "duration": 5,
    "start_time": "2024-09-17T19:31:34.397Z"
   },
   {
    "duration": 8,
    "start_time": "2024-09-17T19:31:34.443Z"
   },
   {
    "duration": 7,
    "start_time": "2024-09-17T19:31:34.453Z"
   },
   {
    "duration": 44,
    "start_time": "2024-09-17T19:31:34.462Z"
   },
   {
    "duration": 5,
    "start_time": "2024-09-17T19:31:34.543Z"
   },
   {
    "duration": 4,
    "start_time": "2024-09-17T19:31:34.550Z"
   },
   {
    "duration": 5,
    "start_time": "2024-09-17T19:31:34.556Z"
   },
   {
    "duration": 17,
    "start_time": "2024-09-17T19:31:34.563Z"
   },
   {
    "duration": 13,
    "start_time": "2024-09-17T19:31:34.581Z"
   },
   {
    "duration": 4,
    "start_time": "2024-09-17T19:31:34.595Z"
   },
   {
    "duration": 4,
    "start_time": "2024-09-17T19:31:34.601Z"
   },
   {
    "duration": 3,
    "start_time": "2024-09-17T19:31:34.608Z"
   },
   {
    "duration": 4,
    "start_time": "2024-09-17T19:31:34.644Z"
   },
   {
    "duration": 72,
    "start_time": "2024-09-17T19:31:34.650Z"
   },
   {
    "duration": 22,
    "start_time": "2024-09-17T19:31:34.724Z"
   },
   {
    "duration": 3,
    "start_time": "2024-09-17T19:31:34.748Z"
   },
   {
    "duration": 5,
    "start_time": "2024-09-17T19:31:34.753Z"
   },
   {
    "duration": 3,
    "start_time": "2024-09-17T19:31:34.760Z"
   },
   {
    "duration": 49,
    "start_time": "2024-09-17T19:31:34.766Z"
   },
   {
    "duration": 29,
    "start_time": "2024-09-17T19:31:34.817Z"
   },
   {
    "duration": 5,
    "start_time": "2024-09-17T19:31:34.849Z"
   },
   {
    "duration": 53,
    "start_time": "2024-09-17T19:31:34.859Z"
   },
   {
    "duration": 30,
    "start_time": "2024-09-17T19:31:34.914Z"
   },
   {
    "duration": 4,
    "start_time": "2024-09-17T19:31:34.945Z"
   },
   {
    "duration": 5,
    "start_time": "2024-09-17T19:31:34.951Z"
   },
   {
    "duration": 5,
    "start_time": "2024-09-17T19:31:34.959Z"
   },
   {
    "duration": 5,
    "start_time": "2024-09-17T19:31:34.966Z"
   },
   {
    "duration": 6,
    "start_time": "2024-09-17T19:31:34.972Z"
   },
   {
    "duration": 4,
    "start_time": "2024-09-17T19:31:34.980Z"
   },
   {
    "duration": 3,
    "start_time": "2024-09-17T19:31:34.986Z"
   },
   {
    "duration": 5,
    "start_time": "2024-09-17T19:31:34.991Z"
   },
   {
    "duration": 114,
    "start_time": "2024-09-17T19:31:34.998Z"
   },
   {
    "duration": 30,
    "start_time": "2024-09-17T19:31:35.114Z"
   },
   {
    "duration": 5,
    "start_time": "2024-09-17T19:31:35.145Z"
   },
   {
    "duration": 4,
    "start_time": "2024-09-17T19:31:35.152Z"
   },
   {
    "duration": 53,
    "start_time": "2024-09-17T19:31:35.158Z"
   },
   {
    "duration": 32,
    "start_time": "2024-09-17T19:31:35.213Z"
   },
   {
    "duration": 4,
    "start_time": "2024-09-17T19:31:35.247Z"
   },
   {
    "duration": 4,
    "start_time": "2024-09-17T19:31:35.253Z"
   },
   {
    "duration": 7,
    "start_time": "2024-09-17T19:31:35.259Z"
   },
   {
    "duration": 5,
    "start_time": "2024-09-17T19:31:35.268Z"
   },
   {
    "duration": 4,
    "start_time": "2024-09-17T19:31:35.275Z"
   },
   {
    "duration": 7,
    "start_time": "2024-09-17T19:31:35.280Z"
   },
   {
    "duration": 3,
    "start_time": "2024-09-17T19:31:35.289Z"
   },
   {
    "duration": 88,
    "start_time": "2024-09-17T19:31:35.294Z"
   },
   {
    "duration": 5,
    "start_time": "2024-09-17T19:31:35.384Z"
   },
   {
    "duration": 5,
    "start_time": "2024-09-17T19:31:35.390Z"
   },
   {
    "duration": 70,
    "start_time": "2024-09-17T19:31:35.396Z"
   },
   {
    "duration": 4,
    "start_time": "2024-09-17T19:31:35.474Z"
   },
   {
    "duration": 4,
    "start_time": "2024-09-17T19:31:35.480Z"
   },
   {
    "duration": 5,
    "start_time": "2024-09-17T19:31:35.486Z"
   },
   {
    "duration": 4,
    "start_time": "2024-09-17T19:31:35.494Z"
   },
   {
    "duration": 6,
    "start_time": "2024-09-17T19:31:35.501Z"
   },
   {
    "duration": 37,
    "start_time": "2024-09-17T19:31:35.509Z"
   },
   {
    "duration": 7,
    "start_time": "2024-09-17T19:31:35.548Z"
   },
   {
    "duration": 7,
    "start_time": "2024-09-17T19:31:35.558Z"
   },
   {
    "duration": 86,
    "start_time": "2024-09-17T19:31:35.566Z"
   },
   {
    "duration": 5,
    "start_time": "2024-09-17T19:31:35.654Z"
   },
   {
    "duration": 6,
    "start_time": "2024-09-17T19:31:35.661Z"
   },
   {
    "duration": 5,
    "start_time": "2024-09-17T19:31:35.669Z"
   },
   {
    "duration": 5,
    "start_time": "2024-09-17T19:31:35.676Z"
   },
   {
    "duration": 5,
    "start_time": "2024-09-17T19:31:35.683Z"
   },
   {
    "duration": 5,
    "start_time": "2024-09-17T19:31:35.690Z"
   },
   {
    "duration": 53,
    "start_time": "2024-09-17T19:31:35.697Z"
   },
   {
    "duration": 20,
    "start_time": "2024-09-17T19:31:35.752Z"
   },
   {
    "duration": 6,
    "start_time": "2024-09-17T19:31:35.773Z"
   },
   {
    "duration": 7,
    "start_time": "2024-09-17T19:31:35.781Z"
   },
   {
    "duration": 2,
    "start_time": "2024-09-17T19:31:35.790Z"
   },
   {
    "duration": 18,
    "start_time": "2024-09-17T19:31:35.794Z"
   },
   {
    "duration": 37,
    "start_time": "2024-09-17T19:31:35.813Z"
   },
   {
    "duration": 3,
    "start_time": "2024-09-17T19:31:35.853Z"
   },
   {
    "duration": 2,
    "start_time": "2024-09-17T19:31:35.859Z"
   },
   {
    "duration": 13,
    "start_time": "2024-09-17T19:31:35.864Z"
   },
   {
    "duration": 64,
    "start_time": "2024-09-17T19:31:35.879Z"
   },
   {
    "duration": 3,
    "start_time": "2024-09-17T19:31:35.946Z"
   },
   {
    "duration": 15,
    "start_time": "2024-09-17T19:31:35.961Z"
   },
   {
    "duration": 3,
    "start_time": "2024-09-17T19:31:45.444Z"
   },
   {
    "duration": 11,
    "start_time": "2024-09-17T19:31:46.928Z"
   },
   {
    "duration": 2,
    "start_time": "2024-09-17T19:34:07.740Z"
   },
   {
    "duration": 4,
    "start_time": "2024-09-17T19:34:14.265Z"
   },
   {
    "duration": 38,
    "start_time": "2024-09-17T19:34:14.275Z"
   },
   {
    "duration": 3,
    "start_time": "2024-09-17T19:34:14.315Z"
   },
   {
    "duration": 9,
    "start_time": "2024-09-17T19:34:14.320Z"
   },
   {
    "duration": 5,
    "start_time": "2024-09-17T19:34:14.331Z"
   },
   {
    "duration": 20,
    "start_time": "2024-09-17T19:34:14.338Z"
   },
   {
    "duration": 9,
    "start_time": "2024-09-17T19:34:14.360Z"
   },
   {
    "duration": 11,
    "start_time": "2024-09-17T19:34:14.372Z"
   },
   {
    "duration": 4,
    "start_time": "2024-09-17T19:34:14.384Z"
   },
   {
    "duration": 56,
    "start_time": "2024-09-17T19:34:14.390Z"
   },
   {
    "duration": 3,
    "start_time": "2024-09-17T19:34:14.449Z"
   },
   {
    "duration": 11,
    "start_time": "2024-09-17T19:34:14.454Z"
   },
   {
    "duration": 5,
    "start_time": "2024-09-17T19:34:14.466Z"
   },
   {
    "duration": 14,
    "start_time": "2024-09-17T19:34:14.473Z"
   },
   {
    "duration": 8,
    "start_time": "2024-09-17T19:34:14.492Z"
   },
   {
    "duration": 51,
    "start_time": "2024-09-17T19:34:14.502Z"
   },
   {
    "duration": 19,
    "start_time": "2024-09-17T19:34:14.555Z"
   },
   {
    "duration": 19,
    "start_time": "2024-09-17T19:34:14.576Z"
   },
   {
    "duration": 13,
    "start_time": "2024-09-17T19:34:14.597Z"
   },
   {
    "duration": 5,
    "start_time": "2024-09-17T19:34:14.642Z"
   },
   {
    "duration": 4,
    "start_time": "2024-09-17T19:34:14.649Z"
   },
   {
    "duration": 4,
    "start_time": "2024-09-17T19:34:14.655Z"
   },
   {
    "duration": 4,
    "start_time": "2024-09-17T19:34:14.661Z"
   },
   {
    "duration": 5,
    "start_time": "2024-09-17T19:34:14.667Z"
   },
   {
    "duration": 7,
    "start_time": "2024-09-17T19:34:14.674Z"
   },
   {
    "duration": 8,
    "start_time": "2024-09-17T19:34:14.683Z"
   },
   {
    "duration": 49,
    "start_time": "2024-09-17T19:34:14.693Z"
   },
   {
    "duration": 47,
    "start_time": "2024-09-17T19:34:14.744Z"
   },
   {
    "duration": 7,
    "start_time": "2024-09-17T19:34:14.793Z"
   },
   {
    "duration": 5,
    "start_time": "2024-09-17T19:34:14.802Z"
   },
   {
    "duration": 4,
    "start_time": "2024-09-17T19:34:14.808Z"
   },
   {
    "duration": 31,
    "start_time": "2024-09-17T19:34:14.813Z"
   },
   {
    "duration": 4,
    "start_time": "2024-09-17T19:34:14.846Z"
   },
   {
    "duration": 4,
    "start_time": "2024-09-17T19:34:14.853Z"
   },
   {
    "duration": 6,
    "start_time": "2024-09-17T19:34:14.860Z"
   },
   {
    "duration": 7,
    "start_time": "2024-09-17T19:34:14.869Z"
   },
   {
    "duration": 76,
    "start_time": "2024-09-17T19:34:14.878Z"
   },
   {
    "duration": 4,
    "start_time": "2024-09-17T19:34:14.955Z"
   },
   {
    "duration": 4,
    "start_time": "2024-09-17T19:34:14.961Z"
   },
   {
    "duration": 4,
    "start_time": "2024-09-17T19:34:14.966Z"
   },
   {
    "duration": 5,
    "start_time": "2024-09-17T19:34:14.972Z"
   },
   {
    "duration": 8,
    "start_time": "2024-09-17T19:34:14.983Z"
   },
   {
    "duration": 3,
    "start_time": "2024-09-17T19:34:14.992Z"
   },
   {
    "duration": 4,
    "start_time": "2024-09-17T19:34:15.043Z"
   },
   {
    "duration": 4,
    "start_time": "2024-09-17T19:34:15.049Z"
   },
   {
    "duration": 3,
    "start_time": "2024-09-17T19:34:15.055Z"
   },
   {
    "duration": 49,
    "start_time": "2024-09-17T19:34:15.060Z"
   },
   {
    "duration": 33,
    "start_time": "2024-09-17T19:34:15.110Z"
   },
   {
    "duration": 4,
    "start_time": "2024-09-17T19:34:15.144Z"
   },
   {
    "duration": 8,
    "start_time": "2024-09-17T19:34:15.149Z"
   },
   {
    "duration": 4,
    "start_time": "2024-09-17T19:34:15.159Z"
   },
   {
    "duration": 61,
    "start_time": "2024-09-17T19:34:15.164Z"
   },
   {
    "duration": 7,
    "start_time": "2024-09-17T19:34:15.243Z"
   },
   {
    "duration": 5,
    "start_time": "2024-09-17T19:34:15.252Z"
   },
   {
    "duration": 46,
    "start_time": "2024-09-17T19:34:15.259Z"
   },
   {
    "duration": 8,
    "start_time": "2024-09-17T19:34:15.307Z"
   },
   {
    "duration": 5,
    "start_time": "2024-09-17T19:34:15.342Z"
   },
   {
    "duration": 4,
    "start_time": "2024-09-17T19:34:15.349Z"
   },
   {
    "duration": 9,
    "start_time": "2024-09-17T19:34:15.355Z"
   },
   {
    "duration": 5,
    "start_time": "2024-09-17T19:34:15.366Z"
   },
   {
    "duration": 4,
    "start_time": "2024-09-17T19:34:15.373Z"
   },
   {
    "duration": 4,
    "start_time": "2024-09-17T19:34:15.379Z"
   },
   {
    "duration": 3,
    "start_time": "2024-09-17T19:34:15.385Z"
   },
   {
    "duration": 5,
    "start_time": "2024-09-17T19:34:15.390Z"
   },
   {
    "duration": 170,
    "start_time": "2024-09-17T19:34:15.396Z"
   },
   {
    "duration": 10,
    "start_time": "2024-09-17T19:34:15.568Z"
   },
   {
    "duration": 5,
    "start_time": "2024-09-17T19:34:15.580Z"
   },
   {
    "duration": 5,
    "start_time": "2024-09-17T19:34:15.587Z"
   },
   {
    "duration": 101,
    "start_time": "2024-09-17T19:34:15.593Z"
   },
   {
    "duration": 5,
    "start_time": "2024-09-17T19:34:15.696Z"
   },
   {
    "duration": 5,
    "start_time": "2024-09-17T19:34:15.703Z"
   },
   {
    "duration": 5,
    "start_time": "2024-09-17T19:34:15.710Z"
   },
   {
    "duration": 27,
    "start_time": "2024-09-17T19:34:15.716Z"
   },
   {
    "duration": 6,
    "start_time": "2024-09-17T19:34:15.745Z"
   },
   {
    "duration": 6,
    "start_time": "2024-09-17T19:34:15.752Z"
   },
   {
    "duration": 9,
    "start_time": "2024-09-17T19:34:15.761Z"
   },
   {
    "duration": 5,
    "start_time": "2024-09-17T19:34:15.772Z"
   },
   {
    "duration": 79,
    "start_time": "2024-09-17T19:34:15.779Z"
   },
   {
    "duration": 8,
    "start_time": "2024-09-17T19:34:15.861Z"
   },
   {
    "duration": 8,
    "start_time": "2024-09-17T19:34:15.871Z"
   },
   {
    "duration": 47,
    "start_time": "2024-09-17T19:34:15.882Z"
   },
   {
    "duration": 3,
    "start_time": "2024-09-17T19:34:15.944Z"
   },
   {
    "duration": 4,
    "start_time": "2024-09-17T19:34:15.949Z"
   },
   {
    "duration": 4,
    "start_time": "2024-09-17T19:34:15.956Z"
   },
   {
    "duration": 3,
    "start_time": "2024-09-17T19:34:15.961Z"
   },
   {
    "duration": 5,
    "start_time": "2024-09-17T19:34:15.966Z"
   },
   {
    "duration": 13,
    "start_time": "2024-09-17T19:34:15.974Z"
   },
   {
    "duration": 6,
    "start_time": "2024-09-17T19:34:15.989Z"
   },
   {
    "duration": 46,
    "start_time": "2024-09-17T19:34:15.997Z"
   },
   {
    "duration": 67,
    "start_time": "2024-09-17T19:34:16.045Z"
   },
   {
    "duration": 4,
    "start_time": "2024-09-17T19:34:16.114Z"
   },
   {
    "duration": 4,
    "start_time": "2024-09-17T19:34:16.119Z"
   },
   {
    "duration": 4,
    "start_time": "2024-09-17T19:34:16.143Z"
   },
   {
    "duration": 4,
    "start_time": "2024-09-17T19:34:16.148Z"
   },
   {
    "duration": 4,
    "start_time": "2024-09-17T19:34:16.154Z"
   },
   {
    "duration": 4,
    "start_time": "2024-09-17T19:34:16.159Z"
   },
   {
    "duration": 10,
    "start_time": "2024-09-17T19:34:16.165Z"
   },
   {
    "duration": 15,
    "start_time": "2024-09-17T19:34:16.177Z"
   },
   {
    "duration": 50,
    "start_time": "2024-09-17T19:34:16.194Z"
   },
   {
    "duration": 5,
    "start_time": "2024-09-17T19:34:16.246Z"
   },
   {
    "duration": 2,
    "start_time": "2024-09-17T19:34:16.253Z"
   },
   {
    "duration": 18,
    "start_time": "2024-09-17T19:34:16.257Z"
   },
   {
    "duration": 10,
    "start_time": "2024-09-17T19:34:16.277Z"
   },
   {
    "duration": 54,
    "start_time": "2024-09-17T19:34:16.288Z"
   },
   {
    "duration": 3,
    "start_time": "2024-09-17T19:34:16.344Z"
   },
   {
    "duration": 13,
    "start_time": "2024-09-17T19:34:16.349Z"
   },
   {
    "duration": 6,
    "start_time": "2024-09-17T19:34:16.364Z"
   },
   {
    "duration": 3,
    "start_time": "2024-09-17T19:34:16.372Z"
   },
   {
    "duration": 12,
    "start_time": "2024-09-17T19:34:16.443Z"
   },
   {
    "duration": 3,
    "start_time": "2024-09-17T19:34:19.446Z"
   },
   {
    "duration": 11,
    "start_time": "2024-09-17T19:34:20.430Z"
   },
   {
    "duration": 3,
    "start_time": "2024-09-17T19:43:07.748Z"
   },
   {
    "duration": 3,
    "start_time": "2024-09-17T19:43:11.650Z"
   },
   {
    "duration": 10,
    "start_time": "2024-09-17T19:43:13.485Z"
   },
   {
    "duration": 3,
    "start_time": "2024-09-17T19:43:27.699Z"
   },
   {
    "duration": 10,
    "start_time": "2024-09-17T19:43:30.510Z"
   },
   {
    "duration": 3,
    "start_time": "2024-09-17T19:43:42.717Z"
   },
   {
    "duration": 10,
    "start_time": "2024-09-17T19:43:45.935Z"
   },
   {
    "duration": 3,
    "start_time": "2024-09-17T19:43:51.696Z"
   },
   {
    "duration": 10,
    "start_time": "2024-09-17T19:43:52.165Z"
   },
   {
    "duration": 4,
    "start_time": "2024-09-17T19:44:01.620Z"
   },
   {
    "duration": 8,
    "start_time": "2024-09-17T19:44:02.774Z"
   },
   {
    "duration": 3,
    "start_time": "2024-09-17T19:44:08.104Z"
   },
   {
    "duration": 10,
    "start_time": "2024-09-17T19:44:09.210Z"
   },
   {
    "duration": 3,
    "start_time": "2024-09-17T19:44:18.504Z"
   },
   {
    "duration": 9,
    "start_time": "2024-09-17T19:44:18.866Z"
   },
   {
    "duration": 2,
    "start_time": "2024-09-17T19:44:28.245Z"
   },
   {
    "duration": 10,
    "start_time": "2024-09-17T19:44:30.524Z"
   },
   {
    "duration": 2,
    "start_time": "2024-09-17T19:44:46.037Z"
   },
   {
    "duration": 10,
    "start_time": "2024-09-17T19:44:47.674Z"
   },
   {
    "duration": 3,
    "start_time": "2024-09-17T19:45:02.886Z"
   },
   {
    "duration": 10,
    "start_time": "2024-09-17T19:45:04.050Z"
   },
   {
    "duration": 3,
    "start_time": "2024-09-17T19:45:10.331Z"
   },
   {
    "duration": 10,
    "start_time": "2024-09-17T19:45:11.005Z"
   },
   {
    "duration": 5,
    "start_time": "2024-09-17T19:45:16.968Z"
   },
   {
    "duration": 9,
    "start_time": "2024-09-17T19:45:17.287Z"
   },
   {
    "duration": 3,
    "start_time": "2024-09-17T19:45:21.930Z"
   },
   {
    "duration": 9,
    "start_time": "2024-09-17T19:45:22.407Z"
   },
   {
    "duration": 3,
    "start_time": "2024-09-17T19:45:28.274Z"
   },
   {
    "duration": 10,
    "start_time": "2024-09-17T19:45:28.688Z"
   },
   {
    "duration": 2,
    "start_time": "2024-09-17T19:45:36.900Z"
   },
   {
    "duration": 9,
    "start_time": "2024-09-17T19:45:37.124Z"
   },
   {
    "duration": 3,
    "start_time": "2024-09-17T19:45:42.913Z"
   },
   {
    "duration": 10,
    "start_time": "2024-09-17T19:45:44.190Z"
   },
   {
    "duration": 2,
    "start_time": "2024-09-17T19:45:50.784Z"
   },
   {
    "duration": 10,
    "start_time": "2024-09-17T19:45:51.473Z"
   },
   {
    "duration": 2,
    "start_time": "2024-09-17T19:45:58.844Z"
   },
   {
    "duration": 12,
    "start_time": "2024-09-17T19:46:00.494Z"
   },
   {
    "duration": 2,
    "start_time": "2024-09-17T19:46:05.465Z"
   },
   {
    "duration": 9,
    "start_time": "2024-09-17T19:46:05.832Z"
   },
   {
    "duration": 3,
    "start_time": "2024-09-17T19:46:14.960Z"
   },
   {
    "duration": 9,
    "start_time": "2024-09-17T19:46:15.293Z"
   },
   {
    "duration": 2,
    "start_time": "2024-09-17T19:46:20.785Z"
   },
   {
    "duration": 12,
    "start_time": "2024-09-17T19:46:21.040Z"
   },
   {
    "duration": 3,
    "start_time": "2024-09-17T19:46:26.926Z"
   },
   {
    "duration": 9,
    "start_time": "2024-09-17T19:46:27.306Z"
   },
   {
    "duration": 3,
    "start_time": "2024-09-17T19:50:22.245Z"
   },
   {
    "duration": 22,
    "start_time": "2024-09-17T19:50:22.655Z"
   },
   {
    "duration": 8,
    "start_time": "2024-09-17T19:50:23.475Z"
   },
   {
    "duration": 4,
    "start_time": "2024-09-17T19:50:23.931Z"
   },
   {
    "duration": 3,
    "start_time": "2024-09-17T19:50:25.129Z"
   },
   {
    "duration": 11,
    "start_time": "2024-09-17T19:50:25.870Z"
   },
   {
    "duration": 7,
    "start_time": "2024-09-17T19:50:46.336Z"
   },
   {
    "duration": 3,
    "start_time": "2024-09-17T19:52:02.590Z"
   },
   {
    "duration": 27,
    "start_time": "2024-09-17T19:52:02.598Z"
   },
   {
    "duration": 3,
    "start_time": "2024-09-17T19:52:02.628Z"
   },
   {
    "duration": 8,
    "start_time": "2024-09-17T19:52:02.633Z"
   },
   {
    "duration": 4,
    "start_time": "2024-09-17T19:52:02.643Z"
   },
   {
    "duration": 22,
    "start_time": "2024-09-17T19:52:02.650Z"
   },
   {
    "duration": 10,
    "start_time": "2024-09-17T19:52:02.674Z"
   },
   {
    "duration": 11,
    "start_time": "2024-09-17T19:52:02.685Z"
   },
   {
    "duration": 15,
    "start_time": "2024-09-17T19:52:02.697Z"
   },
   {
    "duration": 8,
    "start_time": "2024-09-17T19:52:02.743Z"
   },
   {
    "duration": 2,
    "start_time": "2024-09-17T19:52:02.753Z"
   },
   {
    "duration": 9,
    "start_time": "2024-09-17T19:52:02.757Z"
   },
   {
    "duration": 4,
    "start_time": "2024-09-17T19:52:02.768Z"
   },
   {
    "duration": 12,
    "start_time": "2024-09-17T19:52:02.774Z"
   },
   {
    "duration": 5,
    "start_time": "2024-09-17T19:52:02.790Z"
   },
   {
    "duration": 8,
    "start_time": "2024-09-17T19:52:02.797Z"
   },
   {
    "duration": 51,
    "start_time": "2024-09-17T19:52:02.807Z"
   },
   {
    "duration": 13,
    "start_time": "2024-09-17T19:52:02.860Z"
   },
   {
    "duration": 9,
    "start_time": "2024-09-17T19:52:02.875Z"
   },
   {
    "duration": 6,
    "start_time": "2024-09-17T19:52:02.886Z"
   },
   {
    "duration": 4,
    "start_time": "2024-09-17T19:52:02.893Z"
   },
   {
    "duration": 46,
    "start_time": "2024-09-17T19:52:02.898Z"
   },
   {
    "duration": 3,
    "start_time": "2024-09-17T19:52:02.946Z"
   },
   {
    "duration": 5,
    "start_time": "2024-09-17T19:52:02.951Z"
   },
   {
    "duration": 5,
    "start_time": "2024-09-17T19:52:02.958Z"
   },
   {
    "duration": 12,
    "start_time": "2024-09-17T19:52:02.964Z"
   },
   {
    "duration": 4,
    "start_time": "2024-09-17T19:52:02.978Z"
   },
   {
    "duration": 77,
    "start_time": "2024-09-17T19:52:02.984Z"
   },
   {
    "duration": 4,
    "start_time": "2024-09-17T19:52:03.063Z"
   },
   {
    "duration": 4,
    "start_time": "2024-09-17T19:52:03.069Z"
   },
   {
    "duration": 4,
    "start_time": "2024-09-17T19:52:03.075Z"
   },
   {
    "duration": 4,
    "start_time": "2024-09-17T19:52:03.080Z"
   },
   {
    "duration": 4,
    "start_time": "2024-09-17T19:52:03.086Z"
   },
   {
    "duration": 4,
    "start_time": "2024-09-17T19:52:03.091Z"
   },
   {
    "duration": 49,
    "start_time": "2024-09-17T19:52:03.097Z"
   },
   {
    "duration": 4,
    "start_time": "2024-09-17T19:52:03.148Z"
   },
   {
    "duration": 43,
    "start_time": "2024-09-17T19:52:03.154Z"
   },
   {
    "duration": 5,
    "start_time": "2024-09-17T19:52:03.198Z"
   },
   {
    "duration": 4,
    "start_time": "2024-09-17T19:52:03.205Z"
   },
   {
    "duration": 4,
    "start_time": "2024-09-17T19:52:03.242Z"
   },
   {
    "duration": 5,
    "start_time": "2024-09-17T19:52:03.249Z"
   },
   {
    "duration": 8,
    "start_time": "2024-09-17T19:52:03.262Z"
   },
   {
    "duration": 3,
    "start_time": "2024-09-17T19:52:03.271Z"
   },
   {
    "duration": 4,
    "start_time": "2024-09-17T19:52:03.275Z"
   },
   {
    "duration": 3,
    "start_time": "2024-09-17T19:52:03.281Z"
   },
   {
    "duration": 3,
    "start_time": "2024-09-17T19:52:03.286Z"
   },
   {
    "duration": 82,
    "start_time": "2024-09-17T19:52:03.291Z"
   },
   {
    "duration": 4,
    "start_time": "2024-09-17T19:52:03.375Z"
   },
   {
    "duration": 4,
    "start_time": "2024-09-17T19:52:03.380Z"
   },
   {
    "duration": 5,
    "start_time": "2024-09-17T19:52:03.385Z"
   },
   {
    "duration": 3,
    "start_time": "2024-09-17T19:52:03.391Z"
   },
   {
    "duration": 73,
    "start_time": "2024-09-17T19:52:03.396Z"
   },
   {
    "duration": 5,
    "start_time": "2024-09-17T19:52:03.470Z"
   },
   {
    "duration": 5,
    "start_time": "2024-09-17T19:52:03.477Z"
   },
   {
    "duration": 62,
    "start_time": "2024-09-17T19:52:03.483Z"
   },
   {
    "duration": 6,
    "start_time": "2024-09-17T19:52:03.546Z"
   },
   {
    "duration": 3,
    "start_time": "2024-09-17T19:52:03.553Z"
   },
   {
    "duration": 4,
    "start_time": "2024-09-17T19:52:03.558Z"
   },
   {
    "duration": 5,
    "start_time": "2024-09-17T19:52:03.564Z"
   },
   {
    "duration": 4,
    "start_time": "2024-09-17T19:52:03.571Z"
   },
   {
    "duration": 3,
    "start_time": "2024-09-17T19:52:03.577Z"
   },
   {
    "duration": 5,
    "start_time": "2024-09-17T19:52:03.582Z"
   },
   {
    "duration": 3,
    "start_time": "2024-09-17T19:52:03.588Z"
   },
   {
    "duration": 51,
    "start_time": "2024-09-17T19:52:03.593Z"
   },
   {
    "duration": 82,
    "start_time": "2024-09-17T19:52:03.645Z"
   },
   {
    "duration": 22,
    "start_time": "2024-09-17T19:52:03.729Z"
   },
   {
    "duration": 4,
    "start_time": "2024-09-17T19:52:03.753Z"
   },
   {
    "duration": 4,
    "start_time": "2024-09-17T19:52:03.759Z"
   },
   {
    "duration": 43,
    "start_time": "2024-09-17T19:52:03.765Z"
   },
   {
    "duration": 35,
    "start_time": "2024-09-17T19:52:03.809Z"
   },
   {
    "duration": 4,
    "start_time": "2024-09-17T19:52:03.846Z"
   },
   {
    "duration": 5,
    "start_time": "2024-09-17T19:52:03.852Z"
   },
   {
    "duration": 4,
    "start_time": "2024-09-17T19:52:03.859Z"
   },
   {
    "duration": 4,
    "start_time": "2024-09-17T19:52:03.865Z"
   },
   {
    "duration": 6,
    "start_time": "2024-09-17T19:52:03.871Z"
   },
   {
    "duration": 7,
    "start_time": "2024-09-17T19:52:03.878Z"
   },
   {
    "duration": 5,
    "start_time": "2024-09-17T19:52:03.886Z"
   },
   {
    "duration": 41,
    "start_time": "2024-09-17T19:52:03.944Z"
   },
   {
    "duration": 5,
    "start_time": "2024-09-17T19:52:03.986Z"
   },
   {
    "duration": 4,
    "start_time": "2024-09-17T19:52:03.993Z"
   },
   {
    "duration": 61,
    "start_time": "2024-09-17T19:52:03.999Z"
   },
   {
    "duration": 3,
    "start_time": "2024-09-17T19:52:04.062Z"
   },
   {
    "duration": 4,
    "start_time": "2024-09-17T19:52:04.066Z"
   },
   {
    "duration": 4,
    "start_time": "2024-09-17T19:52:04.072Z"
   },
   {
    "duration": 3,
    "start_time": "2024-09-17T19:52:04.077Z"
   },
   {
    "duration": 4,
    "start_time": "2024-09-17T19:52:04.082Z"
   },
   {
    "duration": 12,
    "start_time": "2024-09-17T19:52:04.088Z"
   },
   {
    "duration": 43,
    "start_time": "2024-09-17T19:52:04.101Z"
   },
   {
    "duration": 5,
    "start_time": "2024-09-17T19:52:04.145Z"
   },
   {
    "duration": 40,
    "start_time": "2024-09-17T19:52:04.151Z"
   },
   {
    "duration": 5,
    "start_time": "2024-09-17T19:52:04.192Z"
   },
   {
    "duration": 4,
    "start_time": "2024-09-17T19:52:04.199Z"
   },
   {
    "duration": 39,
    "start_time": "2024-09-17T19:52:04.204Z"
   },
   {
    "duration": 4,
    "start_time": "2024-09-17T19:52:04.244Z"
   },
   {
    "duration": 4,
    "start_time": "2024-09-17T19:52:04.249Z"
   },
   {
    "duration": 4,
    "start_time": "2024-09-17T19:52:04.255Z"
   },
   {
    "duration": 10,
    "start_time": "2024-09-17T19:52:04.261Z"
   },
   {
    "duration": 12,
    "start_time": "2024-09-17T19:52:04.273Z"
   },
   {
    "duration": 3,
    "start_time": "2024-09-17T19:52:04.287Z"
   },
   {
    "duration": 4,
    "start_time": "2024-09-17T19:52:04.292Z"
   },
   {
    "duration": 47,
    "start_time": "2024-09-17T19:52:04.297Z"
   },
   {
    "duration": 18,
    "start_time": "2024-09-17T19:52:04.345Z"
   },
   {
    "duration": 6,
    "start_time": "2024-09-17T19:52:04.365Z"
   },
   {
    "duration": 3,
    "start_time": "2024-09-17T19:52:04.374Z"
   },
   {
    "duration": 3,
    "start_time": "2024-09-17T19:52:04.378Z"
   },
   {
    "duration": 70,
    "start_time": "2024-09-17T19:52:04.383Z"
   },
   {
    "duration": 62,
    "start_time": "2024-09-17T19:52:38.530Z"
   },
   {
    "duration": 5,
    "start_time": "2024-09-17T19:52:41.338Z"
   },
   {
    "duration": 2,
    "start_time": "2024-09-17T19:52:43.795Z"
   },
   {
    "duration": 78,
    "start_time": "2024-09-17T19:55:19.038Z"
   },
   {
    "duration": 5,
    "start_time": "2024-09-17T19:55:19.393Z"
   },
   {
    "duration": 2,
    "start_time": "2024-09-17T19:55:55.745Z"
   },
   {
    "duration": 9,
    "start_time": "2024-09-17T19:55:56.411Z"
   },
   {
    "duration": 5,
    "start_time": "2024-09-17T19:56:43.078Z"
   },
   {
    "duration": 4,
    "start_time": "2024-09-17T19:56:51.948Z"
   },
   {
    "duration": 10,
    "start_time": "2024-09-17T19:56:52.766Z"
   },
   {
    "duration": 3,
    "start_time": "2024-09-17T19:57:11.484Z"
   },
   {
    "duration": 10,
    "start_time": "2024-09-17T19:57:13.951Z"
   },
   {
    "duration": 60,
    "start_time": "2024-09-17T19:58:44.424Z"
   },
   {
    "duration": 7,
    "start_time": "2024-09-17T19:58:45.147Z"
   },
   {
    "duration": 2,
    "start_time": "2024-09-17T19:58:58.517Z"
   },
   {
    "duration": 10,
    "start_time": "2024-09-17T19:58:58.906Z"
   },
   {
    "duration": 2,
    "start_time": "2024-09-17T19:59:01.537Z"
   },
   {
    "duration": 2,
    "start_time": "2024-09-17T19:59:15.228Z"
   },
   {
    "duration": 10,
    "start_time": "2024-09-17T19:59:15.817Z"
   },
   {
    "duration": 3,
    "start_time": "2024-09-17T20:00:24.536Z"
   },
   {
    "duration": 3,
    "start_time": "2024-09-17T20:00:43.024Z"
   },
   {
    "duration": 57,
    "start_time": "2024-09-17T20:00:43.619Z"
   },
   {
    "duration": 4,
    "start_time": "2024-09-17T20:00:44.052Z"
   },
   {
    "duration": 5,
    "start_time": "2024-09-17T20:00:44.579Z"
   },
   {
    "duration": 84,
    "start_time": "2024-09-17T20:07:19.315Z"
   },
   {
    "duration": 111,
    "start_time": "2024-09-17T20:07:49.919Z"
   },
   {
    "duration": 4,
    "start_time": "2024-09-17T20:09:12.080Z"
   },
   {
    "duration": 8,
    "start_time": "2024-09-17T20:09:21.785Z"
   },
   {
    "duration": 8,
    "start_time": "2024-09-17T20:09:26.675Z"
   },
   {
    "duration": 9,
    "start_time": "2024-09-17T20:09:54.367Z"
   },
   {
    "duration": 135,
    "start_time": "2024-09-17T20:10:03.680Z"
   },
   {
    "duration": 136,
    "start_time": "2024-09-17T20:10:12.001Z"
   },
   {
    "duration": 3,
    "start_time": "2024-09-17T20:11:33.062Z"
   },
   {
    "duration": 4,
    "start_time": "2024-09-17T20:11:49.097Z"
   },
   {
    "duration": 3,
    "start_time": "2024-09-17T20:14:25.370Z"
   },
   {
    "duration": 3,
    "start_time": "2024-09-17T20:15:10.594Z"
   },
   {
    "duration": 520,
    "start_time": "2024-09-17T20:15:10.961Z"
   },
   {
    "duration": 347,
    "start_time": "2024-09-17T20:17:53.786Z"
   },
   {
    "duration": 517,
    "start_time": "2024-09-17T20:18:35.838Z"
   },
   {
    "duration": 23,
    "start_time": "2024-09-17T20:20:46.809Z"
   },
   {
    "duration": 3,
    "start_time": "2024-09-17T20:20:59.208Z"
   },
   {
    "duration": 526,
    "start_time": "2024-09-17T20:21:47.502Z"
   },
   {
    "duration": 526,
    "start_time": "2024-09-17T20:22:21.537Z"
   },
   {
    "duration": 529,
    "start_time": "2024-09-17T20:22:38.106Z"
   },
   {
    "duration": 858,
    "start_time": "2024-09-17T21:18:42.310Z"
   },
   {
    "duration": 34,
    "start_time": "2024-09-17T21:18:43.170Z"
   },
   {
    "duration": 4,
    "start_time": "2024-09-17T21:18:43.205Z"
   },
   {
    "duration": 12,
    "start_time": "2024-09-17T21:18:43.213Z"
   },
   {
    "duration": 5,
    "start_time": "2024-09-17T21:18:43.227Z"
   },
   {
    "duration": 38,
    "start_time": "2024-09-17T21:18:43.234Z"
   },
   {
    "duration": 10,
    "start_time": "2024-09-17T21:18:43.273Z"
   },
   {
    "duration": 12,
    "start_time": "2024-09-17T21:18:43.284Z"
   },
   {
    "duration": 4,
    "start_time": "2024-09-17T21:18:43.298Z"
   },
   {
    "duration": 8,
    "start_time": "2024-09-17T21:18:43.305Z"
   },
   {
    "duration": 3,
    "start_time": "2024-09-17T21:18:43.315Z"
   },
   {
    "duration": 8,
    "start_time": "2024-09-17T21:18:43.320Z"
   },
   {
    "duration": 42,
    "start_time": "2024-09-17T21:18:43.330Z"
   },
   {
    "duration": 14,
    "start_time": "2024-09-17T21:18:43.374Z"
   },
   {
    "duration": 7,
    "start_time": "2024-09-17T21:18:43.390Z"
   },
   {
    "duration": 9,
    "start_time": "2024-09-17T21:18:43.399Z"
   },
   {
    "duration": 16,
    "start_time": "2024-09-17T21:18:43.410Z"
   },
   {
    "duration": 51,
    "start_time": "2024-09-17T21:18:43.427Z"
   },
   {
    "duration": 9,
    "start_time": "2024-09-17T21:18:43.480Z"
   },
   {
    "duration": 5,
    "start_time": "2024-09-17T21:18:43.490Z"
   },
   {
    "duration": 4,
    "start_time": "2024-09-17T21:18:43.497Z"
   },
   {
    "duration": 4,
    "start_time": "2024-09-17T21:18:43.502Z"
   },
   {
    "duration": 4,
    "start_time": "2024-09-17T21:18:44.696Z"
   },
   {
    "duration": 2,
    "start_time": "2024-09-17T21:18:45.826Z"
   },
   {
    "duration": 5,
    "start_time": "2024-09-17T21:18:46.466Z"
   },
   {
    "duration": 5,
    "start_time": "2024-09-17T21:18:46.808Z"
   },
   {
    "duration": 7,
    "start_time": "2024-09-17T21:18:47.365Z"
   },
   {
    "duration": 5,
    "start_time": "2024-09-17T21:18:47.902Z"
   },
   {
    "duration": 386,
    "start_time": "2024-09-17T21:18:48.343Z"
   },
   {
    "duration": 4,
    "start_time": "2024-09-17T21:18:49.518Z"
   },
   {
    "duration": 4,
    "start_time": "2024-09-17T21:18:49.967Z"
   },
   {
    "duration": 4,
    "start_time": "2024-09-17T21:18:50.535Z"
   },
   {
    "duration": 4,
    "start_time": "2024-09-17T21:18:50.930Z"
   },
   {
    "duration": 4,
    "start_time": "2024-09-17T21:18:51.315Z"
   },
   {
    "duration": 4,
    "start_time": "2024-09-17T21:18:51.665Z"
   },
   {
    "duration": 6,
    "start_time": "2024-09-17T21:18:52.914Z"
   },
   {
    "duration": 7,
    "start_time": "2024-09-17T21:18:54.476Z"
   },
   {
    "duration": 55,
    "start_time": "2024-09-17T21:18:54.813Z"
   },
   {
    "duration": 4,
    "start_time": "2024-09-17T21:18:55.312Z"
   },
   {
    "duration": 4,
    "start_time": "2024-09-17T21:18:55.823Z"
   },
   {
    "duration": 5,
    "start_time": "2024-09-17T21:18:56.239Z"
   },
   {
    "duration": 5,
    "start_time": "2024-09-17T21:18:57.869Z"
   },
   {
    "duration": 9,
    "start_time": "2024-09-17T21:18:59.528Z"
   },
   {
    "duration": 3,
    "start_time": "2024-09-17T21:18:59.981Z"
   },
   {
    "duration": 4,
    "start_time": "2024-09-17T21:19:00.501Z"
   },
   {
    "duration": 3,
    "start_time": "2024-09-17T21:19:01.054Z"
   },
   {
    "duration": 3,
    "start_time": "2024-09-17T21:19:01.427Z"
   },
   {
    "duration": 46,
    "start_time": "2024-09-17T21:19:02.248Z"
   },
   {
    "duration": 4,
    "start_time": "2024-09-17T21:19:08.459Z"
   },
   {
    "duration": 4,
    "start_time": "2024-09-17T21:19:08.988Z"
   },
   {
    "duration": 5,
    "start_time": "2024-09-17T21:19:09.656Z"
   },
   {
    "duration": 5,
    "start_time": "2024-09-17T21:19:10.117Z"
   },
   {
    "duration": 46,
    "start_time": "2024-09-17T21:19:10.774Z"
   },
   {
    "duration": 5,
    "start_time": "2024-09-17T21:19:12.164Z"
   },
   {
    "duration": 5,
    "start_time": "2024-09-17T21:19:12.640Z"
   },
   {
    "duration": 43,
    "start_time": "2024-09-17T21:19:13.063Z"
   },
   {
    "duration": 7,
    "start_time": "2024-09-17T21:19:15.587Z"
   },
   {
    "duration": 6,
    "start_time": "2024-09-17T21:19:18.861Z"
   },
   {
    "duration": 7,
    "start_time": "2024-09-17T21:19:20.165Z"
   },
   {
    "duration": 5,
    "start_time": "2024-09-17T21:19:20.875Z"
   },
   {
    "duration": 5,
    "start_time": "2024-09-17T21:19:23.041Z"
   },
   {
    "duration": 3,
    "start_time": "2024-09-17T21:19:23.460Z"
   },
   {
    "duration": 4,
    "start_time": "2024-09-17T21:19:23.939Z"
   },
   {
    "duration": 6,
    "start_time": "2024-09-17T21:19:25.014Z"
   },
   {
    "duration": 4,
    "start_time": "2024-09-17T21:19:25.524Z"
   },
   {
    "duration": 76,
    "start_time": "2024-09-17T21:19:25.973Z"
   },
   {
    "duration": 10,
    "start_time": "2024-09-17T21:20:59.120Z"
   },
   {
    "duration": 4,
    "start_time": "2024-09-17T21:20:59.648Z"
   },
   {
    "duration": 5,
    "start_time": "2024-09-17T21:21:00.347Z"
   },
   {
    "duration": 44,
    "start_time": "2024-09-17T21:21:00.913Z"
   },
   {
    "duration": 4,
    "start_time": "2024-09-17T21:21:01.920Z"
   },
   {
    "duration": 4,
    "start_time": "2024-09-17T21:21:02.487Z"
   },
   {
    "duration": 4,
    "start_time": "2024-09-17T21:21:02.939Z"
   },
   {
    "duration": 4,
    "start_time": "2024-09-17T21:21:03.453Z"
   },
   {
    "duration": 6,
    "start_time": "2024-09-17T21:21:04.439Z"
   },
   {
    "duration": 5,
    "start_time": "2024-09-17T21:21:04.935Z"
   },
   {
    "duration": 9,
    "start_time": "2024-09-17T21:21:06.524Z"
   },
   {
    "duration": 4,
    "start_time": "2024-09-17T21:21:06.939Z"
   },
   {
    "duration": 43,
    "start_time": "2024-09-17T21:21:07.514Z"
   },
   {
    "duration": 5,
    "start_time": "2024-09-17T21:21:08.124Z"
   },
   {
    "duration": 6,
    "start_time": "2024-09-17T21:21:08.745Z"
   },
   {
    "duration": 40,
    "start_time": "2024-09-17T21:21:08.940Z"
   },
   {
    "duration": 2,
    "start_time": "2024-09-17T21:21:09.457Z"
   },
   {
    "duration": 5,
    "start_time": "2024-09-17T21:21:10.619Z"
   },
   {
    "duration": 3,
    "start_time": "2024-09-17T21:21:10.817Z"
   },
   {
    "duration": 3,
    "start_time": "2024-09-17T21:21:11.442Z"
   },
   {
    "duration": 5,
    "start_time": "2024-09-17T21:21:11.617Z"
   },
   {
    "duration": 12,
    "start_time": "2024-09-17T21:21:11.820Z"
   },
   {
    "duration": 6,
    "start_time": "2024-09-17T21:21:12.046Z"
   },
   {
    "duration": 6,
    "start_time": "2024-09-17T21:21:12.761Z"
   },
   {
    "duration": 40,
    "start_time": "2024-09-17T21:21:12.770Z"
   },
   {
    "duration": 4,
    "start_time": "2024-09-17T21:21:12.969Z"
   },
   {
    "duration": 4,
    "start_time": "2024-09-17T21:21:13.238Z"
   },
   {
    "duration": 4,
    "start_time": "2024-09-17T21:21:13.782Z"
   },
   {
    "duration": 4,
    "start_time": "2024-09-17T21:21:14.087Z"
   },
   {
    "duration": 4,
    "start_time": "2024-09-17T21:21:14.270Z"
   },
   {
    "duration": 4,
    "start_time": "2024-09-17T21:21:14.439Z"
   },
   {
    "duration": 10,
    "start_time": "2024-09-17T21:21:17.337Z"
   },
   {
    "duration": 12,
    "start_time": "2024-09-17T21:21:18.661Z"
   },
   {
    "duration": 4,
    "start_time": "2024-09-17T21:21:21.841Z"
   },
   {
    "duration": 5,
    "start_time": "2024-09-17T21:21:22.275Z"
   },
   {
    "duration": 3,
    "start_time": "2024-09-17T21:21:23.567Z"
   },
   {
    "duration": 19,
    "start_time": "2024-09-17T21:21:23.773Z"
   },
   {
    "duration": 6,
    "start_time": "2024-09-17T21:21:23.968Z"
   },
   {
    "duration": 4,
    "start_time": "2024-09-17T21:21:24.623Z"
   },
   {
    "duration": 3,
    "start_time": "2024-09-17T21:21:25.437Z"
   },
   {
    "duration": 10,
    "start_time": "2024-09-17T21:21:26.077Z"
   },
   {
    "duration": 74,
    "start_time": "2024-09-17T21:21:32.244Z"
   },
   {
    "duration": 9,
    "start_time": "2024-09-17T21:21:32.695Z"
   },
   {
    "duration": 2,
    "start_time": "2024-09-17T21:21:35.124Z"
   },
   {
    "duration": 9,
    "start_time": "2024-09-17T21:21:36.102Z"
   },
   {
    "duration": 2,
    "start_time": "2024-09-17T21:21:42.946Z"
   },
   {
    "duration": 9,
    "start_time": "2024-09-17T21:21:43.339Z"
   },
   {
    "duration": 2,
    "start_time": "2024-09-17T21:21:48.640Z"
   },
   {
    "duration": 56,
    "start_time": "2024-09-17T21:21:48.978Z"
   },
   {
    "duration": 5,
    "start_time": "2024-09-17T21:21:49.371Z"
   },
   {
    "duration": 5,
    "start_time": "2024-09-17T21:21:49.980Z"
   },
   {
    "duration": 141,
    "start_time": "2024-09-17T21:21:56.407Z"
   },
   {
    "duration": 3,
    "start_time": "2024-09-17T21:22:00.807Z"
   },
   {
    "duration": 3,
    "start_time": "2024-09-17T21:22:13.762Z"
   },
   {
    "duration": 527,
    "start_time": "2024-09-17T21:22:14.205Z"
   },
   {
    "duration": 139,
    "start_time": "2024-09-17T21:27:33.573Z"
   },
   {
    "duration": 4,
    "start_time": "2024-09-17T21:27:37.914Z"
   },
   {
    "duration": 2,
    "start_time": "2024-09-17T21:27:39.669Z"
   },
   {
    "duration": 524,
    "start_time": "2024-09-17T21:27:40.342Z"
   },
   {
    "duration": 5,
    "start_time": "2024-09-17T21:45:26.564Z"
   },
   {
    "duration": 5,
    "start_time": "2024-09-17T21:45:38.106Z"
   },
   {
    "duration": 346,
    "start_time": "2024-09-17T22:01:55.135Z"
   },
   {
    "duration": 20,
    "start_time": "2024-09-17T22:02:23.510Z"
   },
   {
    "duration": 4,
    "start_time": "2024-09-17T22:03:11.253Z"
   },
   {
    "duration": 3,
    "start_time": "2024-09-17T22:07:56.595Z"
   },
   {
    "duration": 25,
    "start_time": "2024-09-17T22:07:56.602Z"
   },
   {
    "duration": 3,
    "start_time": "2024-09-17T22:07:56.629Z"
   },
   {
    "duration": 9,
    "start_time": "2024-09-17T22:07:56.634Z"
   },
   {
    "duration": 4,
    "start_time": "2024-09-17T22:07:56.645Z"
   },
   {
    "duration": 21,
    "start_time": "2024-09-17T22:07:56.652Z"
   },
   {
    "duration": 10,
    "start_time": "2024-09-17T22:07:56.675Z"
   },
   {
    "duration": 12,
    "start_time": "2024-09-17T22:07:56.687Z"
   },
   {
    "duration": 3,
    "start_time": "2024-09-17T22:07:56.701Z"
   },
   {
    "duration": 9,
    "start_time": "2024-09-17T22:07:56.706Z"
   },
   {
    "duration": 3,
    "start_time": "2024-09-17T22:07:56.717Z"
   },
   {
    "duration": 9,
    "start_time": "2024-09-17T22:07:56.721Z"
   },
   {
    "duration": 7,
    "start_time": "2024-09-17T22:07:56.771Z"
   },
   {
    "duration": 14,
    "start_time": "2024-09-17T22:07:56.779Z"
   },
   {
    "duration": 6,
    "start_time": "2024-09-17T22:07:56.798Z"
   },
   {
    "duration": 9,
    "start_time": "2024-09-17T22:07:56.806Z"
   },
   {
    "duration": 14,
    "start_time": "2024-09-17T22:07:56.817Z"
   },
   {
    "duration": 18,
    "start_time": "2024-09-17T22:07:56.871Z"
   },
   {
    "duration": 10,
    "start_time": "2024-09-17T22:07:56.891Z"
   },
   {
    "duration": 6,
    "start_time": "2024-09-17T22:07:56.902Z"
   },
   {
    "duration": 4,
    "start_time": "2024-09-17T22:07:56.909Z"
   },
   {
    "duration": 4,
    "start_time": "2024-09-17T22:07:56.914Z"
   },
   {
    "duration": 2,
    "start_time": "2024-09-17T22:07:56.920Z"
   },
   {
    "duration": 49,
    "start_time": "2024-09-17T22:07:56.924Z"
   },
   {
    "duration": 5,
    "start_time": "2024-09-17T22:07:56.975Z"
   },
   {
    "duration": 5,
    "start_time": "2024-09-17T22:07:56.982Z"
   },
   {
    "duration": 6,
    "start_time": "2024-09-17T22:07:56.988Z"
   },
   {
    "duration": 74,
    "start_time": "2024-09-17T22:07:56.996Z"
   },
   {
    "duration": 5,
    "start_time": "2024-09-17T22:07:57.072Z"
   },
   {
    "duration": 11,
    "start_time": "2024-09-17T22:07:57.079Z"
   },
   {
    "duration": 4,
    "start_time": "2024-09-17T22:07:57.091Z"
   },
   {
    "duration": 4,
    "start_time": "2024-09-17T22:07:57.097Z"
   },
   {
    "duration": 5,
    "start_time": "2024-09-17T22:07:57.102Z"
   },
   {
    "duration": 5,
    "start_time": "2024-09-17T22:07:57.108Z"
   },
   {
    "duration": 5,
    "start_time": "2024-09-17T22:07:57.119Z"
   },
   {
    "duration": 51,
    "start_time": "2024-09-17T22:07:57.126Z"
   },
   {
    "duration": 45,
    "start_time": "2024-09-17T22:07:57.179Z"
   },
   {
    "duration": 4,
    "start_time": "2024-09-17T22:07:57.226Z"
   },
   {
    "duration": 3,
    "start_time": "2024-09-17T22:07:57.232Z"
   },
   {
    "duration": 4,
    "start_time": "2024-09-17T22:07:57.237Z"
   },
   {
    "duration": 31,
    "start_time": "2024-09-17T22:07:57.243Z"
   },
   {
    "duration": 7,
    "start_time": "2024-09-17T22:07:57.276Z"
   },
   {
    "duration": 2,
    "start_time": "2024-09-17T22:07:57.285Z"
   },
   {
    "duration": 4,
    "start_time": "2024-09-17T22:07:57.289Z"
   },
   {
    "duration": 2,
    "start_time": "2024-09-17T22:07:57.295Z"
   },
   {
    "duration": 4,
    "start_time": "2024-09-17T22:07:57.300Z"
   },
   {
    "duration": 85,
    "start_time": "2024-09-17T22:07:57.305Z"
   },
   {
    "duration": 4,
    "start_time": "2024-09-17T22:07:57.391Z"
   },
   {
    "duration": 4,
    "start_time": "2024-09-17T22:07:57.396Z"
   },
   {
    "duration": 4,
    "start_time": "2024-09-17T22:07:57.403Z"
   },
   {
    "duration": 3,
    "start_time": "2024-09-17T22:07:57.409Z"
   },
   {
    "duration": 79,
    "start_time": "2024-09-17T22:07:57.414Z"
   },
   {
    "duration": 6,
    "start_time": "2024-09-17T22:07:57.495Z"
   },
   {
    "duration": 5,
    "start_time": "2024-09-17T22:07:57.504Z"
   },
   {
    "duration": 60,
    "start_time": "2024-09-17T22:07:57.511Z"
   },
   {
    "duration": 7,
    "start_time": "2024-09-17T22:07:57.573Z"
   },
   {
    "duration": 3,
    "start_time": "2024-09-17T22:07:57.581Z"
   },
   {
    "duration": 4,
    "start_time": "2024-09-17T22:07:57.586Z"
   },
   {
    "duration": 5,
    "start_time": "2024-09-17T22:07:57.591Z"
   },
   {
    "duration": 4,
    "start_time": "2024-09-17T22:07:57.598Z"
   },
   {
    "duration": 4,
    "start_time": "2024-09-17T22:07:57.603Z"
   },
   {
    "duration": 4,
    "start_time": "2024-09-17T22:07:57.609Z"
   },
   {
    "duration": 3,
    "start_time": "2024-09-17T22:07:57.615Z"
   },
   {
    "duration": 51,
    "start_time": "2024-09-17T22:07:57.620Z"
   },
   {
    "duration": 72,
    "start_time": "2024-09-17T22:07:57.672Z"
   },
   {
    "duration": 27,
    "start_time": "2024-09-17T22:07:57.745Z"
   },
   {
    "duration": 6,
    "start_time": "2024-09-17T22:07:57.774Z"
   },
   {
    "duration": 4,
    "start_time": "2024-09-17T22:07:57.782Z"
   },
   {
    "duration": 41,
    "start_time": "2024-09-17T22:07:57.788Z"
   },
   {
    "duration": 4,
    "start_time": "2024-09-17T22:07:57.831Z"
   },
   {
    "duration": 35,
    "start_time": "2024-09-17T22:07:57.837Z"
   },
   {
    "duration": 5,
    "start_time": "2024-09-17T22:07:57.874Z"
   },
   {
    "duration": 3,
    "start_time": "2024-09-17T22:07:57.881Z"
   },
   {
    "duration": 5,
    "start_time": "2024-09-17T22:07:57.887Z"
   },
   {
    "duration": 4,
    "start_time": "2024-09-17T22:07:57.893Z"
   },
   {
    "duration": 8,
    "start_time": "2024-09-17T22:07:57.899Z"
   },
   {
    "duration": 4,
    "start_time": "2024-09-17T22:07:57.908Z"
   },
   {
    "duration": 85,
    "start_time": "2024-09-17T22:07:57.914Z"
   },
   {
    "duration": 4,
    "start_time": "2024-09-17T22:07:58.001Z"
   },
   {
    "duration": 5,
    "start_time": "2024-09-17T22:07:58.008Z"
   },
   {
    "duration": 56,
    "start_time": "2024-09-17T22:07:58.015Z"
   },
   {
    "duration": 3,
    "start_time": "2024-09-17T22:07:58.073Z"
   },
   {
    "duration": 4,
    "start_time": "2024-09-17T22:07:58.078Z"
   },
   {
    "duration": 4,
    "start_time": "2024-09-17T22:07:58.084Z"
   },
   {
    "duration": 2,
    "start_time": "2024-09-17T22:07:58.090Z"
   },
   {
    "duration": 4,
    "start_time": "2024-09-17T22:07:58.095Z"
   },
   {
    "duration": 12,
    "start_time": "2024-09-17T22:07:58.100Z"
   },
   {
    "duration": 5,
    "start_time": "2024-09-17T22:07:58.114Z"
   },
   {
    "duration": 50,
    "start_time": "2024-09-17T22:07:58.121Z"
   },
   {
    "duration": 40,
    "start_time": "2024-09-17T22:07:58.172Z"
   },
   {
    "duration": 4,
    "start_time": "2024-09-17T22:07:58.214Z"
   },
   {
    "duration": 4,
    "start_time": "2024-09-17T22:07:58.220Z"
   },
   {
    "duration": 3,
    "start_time": "2024-09-17T22:07:58.230Z"
   },
   {
    "duration": 36,
    "start_time": "2024-09-17T22:07:58.235Z"
   },
   {
    "duration": 3,
    "start_time": "2024-09-17T22:07:58.273Z"
   },
   {
    "duration": 4,
    "start_time": "2024-09-17T22:07:58.278Z"
   },
   {
    "duration": 9,
    "start_time": "2024-09-17T22:07:58.284Z"
   },
   {
    "duration": 14,
    "start_time": "2024-09-17T22:07:58.294Z"
   },
   {
    "duration": 3,
    "start_time": "2024-09-17T22:07:58.310Z"
   },
   {
    "duration": 4,
    "start_time": "2024-09-17T22:07:58.315Z"
   },
   {
    "duration": 2,
    "start_time": "2024-09-17T22:08:06.068Z"
   },
   {
    "duration": 3,
    "start_time": "2024-09-17T22:08:22.112Z"
   },
   {
    "duration": 19,
    "start_time": "2024-09-17T22:08:22.741Z"
   },
   {
    "duration": 5,
    "start_time": "2024-09-17T22:08:23.405Z"
   },
   {
    "duration": 4,
    "start_time": "2024-09-17T22:08:24.026Z"
   },
   {
    "duration": 3,
    "start_time": "2024-09-17T22:08:30.775Z"
   },
   {
    "duration": 10,
    "start_time": "2024-09-17T22:08:32.284Z"
   },
   {
    "duration": 58,
    "start_time": "2024-09-17T22:09:44.350Z"
   },
   {
    "duration": 6,
    "start_time": "2024-09-17T22:09:54.152Z"
   },
   {
    "duration": 3,
    "start_time": "2024-09-17T22:09:59.976Z"
   },
   {
    "duration": 10,
    "start_time": "2024-09-17T22:10:02.139Z"
   },
   {
    "duration": 10,
    "start_time": "2024-09-17T22:10:09.728Z"
   },
   {
    "duration": 3,
    "start_time": "2024-09-17T22:10:11.339Z"
   },
   {
    "duration": 10,
    "start_time": "2024-09-17T22:10:11.872Z"
   },
   {
    "duration": 2,
    "start_time": "2024-09-17T22:10:23.088Z"
   },
   {
    "duration": 10,
    "start_time": "2024-09-17T22:10:25.806Z"
   },
   {
    "duration": 3,
    "start_time": "2024-09-17T22:10:38.292Z"
   },
   {
    "duration": 10,
    "start_time": "2024-09-17T22:10:39.531Z"
   },
   {
    "duration": 2,
    "start_time": "2024-09-17T22:10:48.997Z"
   },
   {
    "duration": 9,
    "start_time": "2024-09-17T22:10:49.345Z"
   },
   {
    "duration": 3,
    "start_time": "2024-09-17T22:10:56.593Z"
   },
   {
    "duration": 10,
    "start_time": "2024-09-17T22:10:57.202Z"
   },
   {
    "duration": 3,
    "start_time": "2024-09-17T22:11:05.735Z"
   },
   {
    "duration": 9,
    "start_time": "2024-09-17T22:11:06.507Z"
   },
   {
    "duration": 2,
    "start_time": "2024-09-17T22:11:18.168Z"
   },
   {
    "duration": 10,
    "start_time": "2024-09-17T22:11:18.535Z"
   },
   {
    "duration": 4,
    "start_time": "2024-09-17T22:11:27.704Z"
   },
   {
    "duration": 10,
    "start_time": "2024-09-17T22:11:28.275Z"
   },
   {
    "duration": 2,
    "start_time": "2024-09-17T22:11:36.993Z"
   },
   {
    "duration": 10,
    "start_time": "2024-09-17T22:11:37.760Z"
   },
   {
    "duration": 2,
    "start_time": "2024-09-17T22:11:45.026Z"
   },
   {
    "duration": 13,
    "start_time": "2024-09-17T22:11:46.342Z"
   },
   {
    "duration": 3,
    "start_time": "2024-09-17T22:11:57.567Z"
   },
   {
    "duration": 10,
    "start_time": "2024-09-17T22:11:58.156Z"
   },
   {
    "duration": 3,
    "start_time": "2024-09-17T22:12:06.867Z"
   },
   {
    "duration": 12,
    "start_time": "2024-09-17T22:12:07.652Z"
   },
   {
    "duration": 3,
    "start_time": "2024-09-17T22:12:15.958Z"
   },
   {
    "duration": 11,
    "start_time": "2024-09-17T22:12:16.389Z"
   },
   {
    "duration": 3,
    "start_time": "2024-09-17T22:12:27.223Z"
   },
   {
    "duration": 10,
    "start_time": "2024-09-17T22:12:31.322Z"
   },
   {
    "duration": 2,
    "start_time": "2024-09-17T22:12:46.242Z"
   },
   {
    "duration": 9,
    "start_time": "2024-09-17T22:12:46.654Z"
   },
   {
    "duration": 3,
    "start_time": "2024-09-17T22:12:54.115Z"
   },
   {
    "duration": 10,
    "start_time": "2024-09-17T22:12:56.164Z"
   },
   {
    "duration": 3,
    "start_time": "2024-09-17T22:13:05.120Z"
   },
   {
    "duration": 12,
    "start_time": "2024-09-17T22:13:07.245Z"
   },
   {
    "duration": 3,
    "start_time": "2024-09-17T22:13:15.458Z"
   },
   {
    "duration": 9,
    "start_time": "2024-09-17T22:13:15.899Z"
   },
   {
    "duration": 2,
    "start_time": "2024-09-17T22:13:22.056Z"
   },
   {
    "duration": 9,
    "start_time": "2024-09-17T22:13:22.436Z"
   },
   {
    "duration": 3,
    "start_time": "2024-09-17T22:13:29.630Z"
   },
   {
    "duration": 12,
    "start_time": "2024-09-17T22:13:31.488Z"
   },
   {
    "duration": 3,
    "start_time": "2024-09-17T22:13:37.170Z"
   },
   {
    "duration": 10,
    "start_time": "2024-09-17T22:13:38.982Z"
   },
   {
    "duration": 3,
    "start_time": "2024-09-17T22:13:44.370Z"
   },
   {
    "duration": 11,
    "start_time": "2024-09-17T22:13:45.080Z"
   },
   {
    "duration": 2,
    "start_time": "2024-09-17T22:13:50.209Z"
   },
   {
    "duration": 9,
    "start_time": "2024-09-17T22:13:50.825Z"
   },
   {
    "duration": 3,
    "start_time": "2024-09-17T22:13:55.641Z"
   },
   {
    "duration": 9,
    "start_time": "2024-09-17T22:13:56.230Z"
   },
   {
    "duration": 3,
    "start_time": "2024-09-17T22:14:07.163Z"
   },
   {
    "duration": 9,
    "start_time": "2024-09-17T22:14:07.632Z"
   },
   {
    "duration": 5,
    "start_time": "2024-09-17T22:14:14.980Z"
   },
   {
    "duration": 9,
    "start_time": "2024-09-17T22:14:15.510Z"
   },
   {
    "duration": 3,
    "start_time": "2024-09-17T22:14:48.185Z"
   },
   {
    "duration": 57,
    "start_time": "2024-09-17T22:14:49.590Z"
   },
   {
    "duration": 5,
    "start_time": "2024-09-17T22:14:50.996Z"
   },
   {
    "duration": 4,
    "start_time": "2024-09-17T22:14:51.868Z"
   },
   {
    "duration": 4,
    "start_time": "2024-09-17T22:15:04.717Z"
   },
   {
    "duration": 14,
    "start_time": "2024-09-17T22:15:16.909Z"
   },
   {
    "duration": 15,
    "start_time": "2024-09-17T22:40:22.836Z"
   },
   {
    "duration": 59,
    "start_time": "2024-09-17T22:43:16.050Z"
   },
   {
    "duration": 8,
    "start_time": "2024-09-17T22:43:17.157Z"
   },
   {
    "duration": 3,
    "start_time": "2024-09-17T22:43:18.923Z"
   },
   {
    "duration": 10,
    "start_time": "2024-09-17T22:43:19.523Z"
   },
   {
    "duration": 3,
    "start_time": "2024-09-17T22:43:36.941Z"
   },
   {
    "duration": 9,
    "start_time": "2024-09-17T22:43:40.823Z"
   },
   {
    "duration": 2,
    "start_time": "2024-09-17T22:44:12.617Z"
   },
   {
    "duration": 10,
    "start_time": "2024-09-17T22:44:12.958Z"
   },
   {
    "duration": 4,
    "start_time": "2024-09-17T22:44:33.705Z"
   },
   {
    "duration": 56,
    "start_time": "2024-09-17T22:44:37.900Z"
   },
   {
    "duration": 5,
    "start_time": "2024-09-17T22:44:38.372Z"
   },
   {
    "duration": 6,
    "start_time": "2024-09-17T22:44:38.761Z"
   },
   {
    "duration": 5,
    "start_time": "2024-09-17T22:44:42.656Z"
   },
   {
    "duration": 5,
    "start_time": "2024-09-17T23:05:10.011Z"
   },
   {
    "duration": 136,
    "start_time": "2024-09-17T23:05:10.977Z"
   },
   {
    "duration": 3,
    "start_time": "2024-09-17T23:05:12.883Z"
   },
   {
    "duration": 3,
    "start_time": "2024-09-17T23:05:30.891Z"
   },
   {
    "duration": 532,
    "start_time": "2024-09-17T23:05:31.237Z"
   },
   {
    "duration": 4,
    "start_time": "2024-09-17T23:05:41.591Z"
   },
   {
    "duration": 6,
    "start_time": "2024-09-17T23:06:05.425Z"
   },
   {
    "duration": 15,
    "start_time": "2024-09-17T23:06:43.490Z"
   },
   {
    "duration": 3,
    "start_time": "2024-09-17T23:07:28.057Z"
   },
   {
    "duration": 5,
    "start_time": "2024-09-17T23:07:34.206Z"
   },
   {
    "duration": 4,
    "start_time": "2024-09-17T23:07:34.635Z"
   },
   {
    "duration": 14,
    "start_time": "2024-09-17T23:07:35.729Z"
   },
   {
    "duration": 3,
    "start_time": "2024-09-17T23:09:54.930Z"
   },
   {
    "duration": 5,
    "start_time": "2024-09-17T23:10:03.080Z"
   },
   {
    "duration": 15,
    "start_time": "2024-09-17T23:10:04.944Z"
   },
   {
    "duration": 3,
    "start_time": "2024-09-17T23:14:44.363Z"
   },
   {
    "duration": 4,
    "start_time": "2024-09-17T23:18:23.152Z"
   },
   {
    "duration": 25,
    "start_time": "2024-09-17T23:18:23.162Z"
   },
   {
    "duration": 3,
    "start_time": "2024-09-17T23:18:23.190Z"
   },
   {
    "duration": 9,
    "start_time": "2024-09-17T23:18:23.195Z"
   },
   {
    "duration": 5,
    "start_time": "2024-09-17T23:18:23.206Z"
   },
   {
    "duration": 18,
    "start_time": "2024-09-17T23:18:23.213Z"
   },
   {
    "duration": 43,
    "start_time": "2024-09-17T23:18:23.232Z"
   },
   {
    "duration": 12,
    "start_time": "2024-09-17T23:18:23.277Z"
   },
   {
    "duration": 4,
    "start_time": "2024-09-17T23:18:23.290Z"
   },
   {
    "duration": 8,
    "start_time": "2024-09-17T23:18:23.297Z"
   },
   {
    "duration": 3,
    "start_time": "2024-09-17T23:18:23.307Z"
   },
   {
    "duration": 8,
    "start_time": "2024-09-17T23:18:23.311Z"
   },
   {
    "duration": 5,
    "start_time": "2024-09-17T23:18:23.321Z"
   },
   {
    "duration": 54,
    "start_time": "2024-09-17T23:18:23.328Z"
   },
   {
    "duration": 7,
    "start_time": "2024-09-17T23:18:23.384Z"
   },
   {
    "duration": 9,
    "start_time": "2024-09-17T23:18:23.392Z"
   },
   {
    "duration": 13,
    "start_time": "2024-09-17T23:18:23.403Z"
   },
   {
    "duration": 13,
    "start_time": "2024-09-17T23:18:23.417Z"
   },
   {
    "duration": 45,
    "start_time": "2024-09-17T23:18:23.432Z"
   },
   {
    "duration": 6,
    "start_time": "2024-09-17T23:18:23.479Z"
   },
   {
    "duration": 3,
    "start_time": "2024-09-17T23:18:23.490Z"
   },
   {
    "duration": 4,
    "start_time": "2024-09-17T23:18:23.494Z"
   },
   {
    "duration": 3,
    "start_time": "2024-09-17T23:18:23.500Z"
   },
   {
    "duration": 4,
    "start_time": "2024-09-17T23:18:23.505Z"
   },
   {
    "duration": 4,
    "start_time": "2024-09-17T23:18:23.511Z"
   },
   {
    "duration": 6,
    "start_time": "2024-09-17T23:18:23.518Z"
   },
   {
    "duration": 5,
    "start_time": "2024-09-17T23:18:23.570Z"
   },
   {
    "duration": 43,
    "start_time": "2024-09-17T23:18:23.578Z"
   },
   {
    "duration": 4,
    "start_time": "2024-09-17T23:18:23.623Z"
   },
   {
    "duration": 4,
    "start_time": "2024-09-17T23:18:23.628Z"
   },
   {
    "duration": 39,
    "start_time": "2024-09-17T23:18:23.634Z"
   },
   {
    "duration": 5,
    "start_time": "2024-09-17T23:18:23.674Z"
   },
   {
    "duration": 4,
    "start_time": "2024-09-17T23:18:23.680Z"
   },
   {
    "duration": 4,
    "start_time": "2024-09-17T23:18:23.687Z"
   },
   {
    "duration": 5,
    "start_time": "2024-09-17T23:18:23.692Z"
   },
   {
    "duration": 5,
    "start_time": "2024-09-17T23:18:23.699Z"
   },
   {
    "duration": 80,
    "start_time": "2024-09-17T23:18:23.705Z"
   },
   {
    "duration": 3,
    "start_time": "2024-09-17T23:18:23.787Z"
   },
   {
    "duration": 4,
    "start_time": "2024-09-17T23:18:23.793Z"
   },
   {
    "duration": 4,
    "start_time": "2024-09-17T23:18:23.799Z"
   },
   {
    "duration": 5,
    "start_time": "2024-09-17T23:18:23.805Z"
   },
   {
    "duration": 8,
    "start_time": "2024-09-17T23:18:23.812Z"
   },
   {
    "duration": 3,
    "start_time": "2024-09-17T23:18:23.821Z"
   },
   {
    "duration": 3,
    "start_time": "2024-09-17T23:18:23.870Z"
   },
   {
    "duration": 3,
    "start_time": "2024-09-17T23:18:23.875Z"
   },
   {
    "duration": 4,
    "start_time": "2024-09-17T23:18:23.879Z"
   },
   {
    "duration": 46,
    "start_time": "2024-09-17T23:18:23.885Z"
   },
   {
    "duration": 40,
    "start_time": "2024-09-17T23:18:23.933Z"
   },
   {
    "duration": 4,
    "start_time": "2024-09-17T23:18:23.974Z"
   },
   {
    "duration": 5,
    "start_time": "2024-09-17T23:18:23.980Z"
   },
   {
    "duration": 3,
    "start_time": "2024-09-17T23:18:23.991Z"
   },
   {
    "duration": 44,
    "start_time": "2024-09-17T23:18:23.996Z"
   },
   {
    "duration": 5,
    "start_time": "2024-09-17T23:18:24.069Z"
   },
   {
    "duration": 5,
    "start_time": "2024-09-17T23:18:24.077Z"
   },
   {
    "duration": 41,
    "start_time": "2024-09-17T23:18:24.084Z"
   },
   {
    "duration": 6,
    "start_time": "2024-09-17T23:18:24.127Z"
   },
   {
    "duration": 4,
    "start_time": "2024-09-17T23:18:24.134Z"
   },
   {
    "duration": 32,
    "start_time": "2024-09-17T23:18:24.140Z"
   },
   {
    "duration": 5,
    "start_time": "2024-09-17T23:18:24.173Z"
   },
   {
    "duration": 4,
    "start_time": "2024-09-17T23:18:24.179Z"
   },
   {
    "duration": 5,
    "start_time": "2024-09-17T23:18:24.184Z"
   },
   {
    "duration": 4,
    "start_time": "2024-09-17T23:18:24.190Z"
   },
   {
    "duration": 2,
    "start_time": "2024-09-17T23:18:24.196Z"
   },
   {
    "duration": 4,
    "start_time": "2024-09-17T23:18:24.200Z"
   },
   {
    "duration": 110,
    "start_time": "2024-09-17T23:18:24.205Z"
   },
   {
    "duration": 12,
    "start_time": "2024-09-17T23:18:24.317Z"
   },
   {
    "duration": 5,
    "start_time": "2024-09-17T23:18:24.331Z"
   },
   {
    "duration": 35,
    "start_time": "2024-09-17T23:18:24.337Z"
   },
   {
    "duration": 42,
    "start_time": "2024-09-17T23:18:24.373Z"
   },
   {
    "duration": 4,
    "start_time": "2024-09-17T23:18:24.417Z"
   },
   {
    "duration": 4,
    "start_time": "2024-09-17T23:18:24.422Z"
   },
   {
    "duration": 4,
    "start_time": "2024-09-17T23:18:24.428Z"
   },
   {
    "duration": 37,
    "start_time": "2024-09-17T23:18:24.434Z"
   },
   {
    "duration": 5,
    "start_time": "2024-09-17T23:18:24.473Z"
   },
   {
    "duration": 5,
    "start_time": "2024-09-17T23:18:24.479Z"
   },
   {
    "duration": 7,
    "start_time": "2024-09-17T23:18:24.486Z"
   },
   {
    "duration": 3,
    "start_time": "2024-09-17T23:18:24.495Z"
   },
   {
    "duration": 71,
    "start_time": "2024-09-17T23:18:24.500Z"
   },
   {
    "duration": 6,
    "start_time": "2024-09-17T23:18:24.573Z"
   },
   {
    "duration": 5,
    "start_time": "2024-09-17T23:18:24.580Z"
   },
   {
    "duration": 41,
    "start_time": "2024-09-17T23:18:24.586Z"
   },
   {
    "duration": 3,
    "start_time": "2024-09-17T23:18:24.628Z"
   },
   {
    "duration": 5,
    "start_time": "2024-09-17T23:18:24.633Z"
   },
   {
    "duration": 5,
    "start_time": "2024-09-17T23:18:24.670Z"
   },
   {
    "duration": 3,
    "start_time": "2024-09-17T23:18:24.676Z"
   },
   {
    "duration": 5,
    "start_time": "2024-09-17T23:18:24.681Z"
   },
   {
    "duration": 12,
    "start_time": "2024-09-17T23:18:24.687Z"
   },
   {
    "duration": 6,
    "start_time": "2024-09-17T23:18:24.701Z"
   },
   {
    "duration": 5,
    "start_time": "2024-09-17T23:18:24.708Z"
   },
   {
    "duration": 76,
    "start_time": "2024-09-17T23:18:24.715Z"
   },
   {
    "duration": 4,
    "start_time": "2024-09-17T23:18:24.792Z"
   },
   {
    "duration": 4,
    "start_time": "2024-09-17T23:18:24.798Z"
   },
   {
    "duration": 4,
    "start_time": "2024-09-17T23:18:24.803Z"
   },
   {
    "duration": 4,
    "start_time": "2024-09-17T23:18:24.808Z"
   },
   {
    "duration": 4,
    "start_time": "2024-09-17T23:18:24.814Z"
   },
   {
    "duration": 4,
    "start_time": "2024-09-17T23:18:24.820Z"
   },
   {
    "duration": 50,
    "start_time": "2024-09-17T23:18:24.826Z"
   },
   {
    "duration": 13,
    "start_time": "2024-09-17T23:18:24.877Z"
   },
   {
    "duration": 3,
    "start_time": "2024-09-17T23:18:24.892Z"
   },
   {
    "duration": 4,
    "start_time": "2024-09-17T23:18:24.897Z"
   },
   {
    "duration": 2,
    "start_time": "2024-09-17T23:18:24.903Z"
   },
   {
    "duration": 17,
    "start_time": "2024-09-17T23:18:24.908Z"
   },
   {
    "duration": 44,
    "start_time": "2024-09-17T23:18:24.926Z"
   },
   {
    "duration": 8,
    "start_time": "2024-09-17T23:18:24.972Z"
   },
   {
    "duration": 6,
    "start_time": "2024-09-17T23:18:24.981Z"
   },
   {
    "duration": 88,
    "start_time": "2024-09-17T23:18:24.988Z"
   },
   {
    "duration": 63,
    "start_time": "2024-09-17T23:18:25.078Z"
   },
   {
    "duration": 7,
    "start_time": "2024-09-17T23:18:25.172Z"
   },
   {
    "duration": 4,
    "start_time": "2024-09-17T23:18:25.183Z"
   },
   {
    "duration": 89,
    "start_time": "2024-09-17T23:18:25.191Z"
   },
   {
    "duration": 2,
    "start_time": "2024-09-17T23:18:25.282Z"
   },
   {
    "duration": 16,
    "start_time": "2024-09-17T23:18:25.285Z"
   },
   {
    "duration": 3,
    "start_time": "2024-09-17T23:18:25.304Z"
   },
   {
    "duration": 96,
    "start_time": "2024-09-17T23:18:25.309Z"
   },
   {
    "duration": 4,
    "start_time": "2024-09-17T23:18:25.406Z"
   },
   {
    "duration": 4,
    "start_time": "2024-09-17T23:18:25.413Z"
   },
   {
    "duration": 4,
    "start_time": "2024-09-17T23:18:25.419Z"
   },
   {
    "duration": 4,
    "start_time": "2024-09-17T23:18:25.424Z"
   },
   {
    "duration": 0,
    "start_time": "2024-09-17T23:18:25.430Z"
   },
   {
    "duration": 0,
    "start_time": "2024-09-17T23:18:25.431Z"
   },
   {
    "duration": 0,
    "start_time": "2024-09-17T23:18:25.433Z"
   },
   {
    "duration": 0,
    "start_time": "2024-09-17T23:18:25.434Z"
   },
   {
    "duration": 527,
    "start_time": "2024-09-17T23:18:30.989Z"
   },
   {
    "duration": 4,
    "start_time": "2024-09-17T23:18:35.141Z"
   },
   {
    "duration": 5,
    "start_time": "2024-09-17T23:18:36.151Z"
   },
   {
    "duration": 5,
    "start_time": "2024-09-17T23:18:39.196Z"
   },
   {
    "duration": 6,
    "start_time": "2024-09-17T23:18:40.019Z"
   },
   {
    "duration": 4,
    "start_time": "2024-09-17T23:18:41.155Z"
   },
   {
    "duration": 3,
    "start_time": "2024-09-17T23:19:00.184Z"
   },
   {
    "duration": 349,
    "start_time": "2024-09-17T23:19:00.543Z"
   },
   {
    "duration": 37,
    "start_time": "2024-09-17T23:19:01.800Z"
   },
   {
    "duration": 3,
    "start_time": "2024-09-17T23:19:02.877Z"
   },
   {
    "duration": 10,
    "start_time": "2024-09-17T23:19:03.895Z"
   },
   {
    "duration": 3,
    "start_time": "2024-09-17T23:20:13.605Z"
   },
   {
    "duration": 10,
    "start_time": "2024-09-17T23:20:17.270Z"
   },
   {
    "duration": 3,
    "start_time": "2024-09-17T23:20:26.433Z"
   },
   {
    "duration": 13,
    "start_time": "2024-09-17T23:20:26.767Z"
   },
   {
    "duration": 2,
    "start_time": "2024-09-17T23:20:43.306Z"
   },
   {
    "duration": 9,
    "start_time": "2024-09-17T23:20:44.989Z"
   },
   {
    "duration": 2,
    "start_time": "2024-09-17T23:20:49.890Z"
   },
   {
    "duration": 12,
    "start_time": "2024-09-17T23:20:50.168Z"
   },
   {
    "duration": 3,
    "start_time": "2024-09-17T23:20:57.519Z"
   },
   {
    "duration": 9,
    "start_time": "2024-09-17T23:20:58.287Z"
   },
   {
    "duration": 3,
    "start_time": "2024-09-17T23:21:05.825Z"
   },
   {
    "duration": 9,
    "start_time": "2024-09-17T23:21:06.224Z"
   },
   {
    "duration": 2,
    "start_time": "2024-09-17T23:21:12.600Z"
   },
   {
    "duration": 9,
    "start_time": "2024-09-17T23:21:12.909Z"
   },
   {
    "duration": 3,
    "start_time": "2024-09-17T23:21:17.676Z"
   },
   {
    "duration": 10,
    "start_time": "2024-09-17T23:21:17.992Z"
   },
   {
    "duration": 2,
    "start_time": "2024-09-17T23:21:26.652Z"
   },
   {
    "duration": 10,
    "start_time": "2024-09-17T23:21:27.639Z"
   },
   {
    "duration": 3,
    "start_time": "2024-09-17T23:25:36.638Z"
   },
   {
    "duration": 356,
    "start_time": "2024-09-17T23:25:36.936Z"
   },
   {
    "duration": 36,
    "start_time": "2024-09-17T23:25:37.294Z"
   },
   {
    "duration": 3,
    "start_time": "2024-09-17T23:25:55.417Z"
   },
   {
    "duration": 10,
    "start_time": "2024-09-17T23:25:55.960Z"
   },
   {
    "duration": 3,
    "start_time": "2024-09-17T23:26:54.194Z"
   },
   {
    "duration": 5,
    "start_time": "2024-09-17T23:28:20.793Z"
   },
   {
    "duration": 16,
    "start_time": "2024-09-17T23:29:12.946Z"
   },
   {
    "duration": 14,
    "start_time": "2024-09-17T23:31:58.749Z"
   },
   {
    "duration": 16,
    "start_time": "2024-09-17T23:31:59.662Z"
   },
   {
    "duration": 17,
    "start_time": "2024-09-17T23:32:35.768Z"
   },
   {
    "duration": 17,
    "start_time": "2024-09-17T23:33:32.587Z"
   },
   {
    "duration": 50,
    "start_time": "2024-09-17T23:34:26.519Z"
   },
   {
    "duration": 38,
    "start_time": "2024-09-17T23:37:57.101Z"
   },
   {
    "duration": 137,
    "start_time": "2024-09-17T23:41:39.560Z"
   },
   {
    "duration": 4,
    "start_time": "2024-09-17T23:41:43.040Z"
   },
   {
    "duration": 3,
    "start_time": "2024-09-17T23:41:52.673Z"
   },
   {
    "duration": 525,
    "start_time": "2024-09-17T23:41:53.148Z"
   },
   {
    "duration": 5,
    "start_time": "2024-09-17T23:41:55.229Z"
   },
   {
    "duration": 6,
    "start_time": "2024-09-17T23:41:56.120Z"
   },
   {
    "duration": 5,
    "start_time": "2024-09-17T23:42:12.983Z"
   },
   {
    "duration": 4,
    "start_time": "2024-09-17T23:42:13.470Z"
   },
   {
    "duration": 3,
    "start_time": "2024-09-17T23:42:14.077Z"
   },
   {
    "duration": 3,
    "start_time": "2024-09-17T23:42:18.571Z"
   },
   {
    "duration": 353,
    "start_time": "2024-09-17T23:42:19.503Z"
   },
   {
    "duration": 38,
    "start_time": "2024-09-17T23:42:20.050Z"
   },
   {
    "duration": 3,
    "start_time": "2024-09-17T23:42:22.353Z"
   },
   {
    "duration": 10,
    "start_time": "2024-09-17T23:42:23.055Z"
   },
   {
    "duration": 5,
    "start_time": "2024-09-17T23:42:25.708Z"
   },
   {
    "duration": 122,
    "start_time": "2024-09-17T23:42:27.893Z"
   },
   {
    "duration": 5,
    "start_time": "2024-09-18T00:31:36.537Z"
   },
   {
    "duration": 38,
    "start_time": "2024-09-18T00:31:36.545Z"
   },
   {
    "duration": 3,
    "start_time": "2024-09-18T00:31:36.585Z"
   },
   {
    "duration": 8,
    "start_time": "2024-09-18T00:31:36.591Z"
   },
   {
    "duration": 5,
    "start_time": "2024-09-18T00:31:36.601Z"
   },
   {
    "duration": 19,
    "start_time": "2024-09-18T00:31:36.607Z"
   },
   {
    "duration": 44,
    "start_time": "2024-09-18T00:31:36.627Z"
   },
   {
    "duration": 15,
    "start_time": "2024-09-18T00:31:36.673Z"
   },
   {
    "duration": 4,
    "start_time": "2024-09-18T00:31:36.691Z"
   },
   {
    "duration": 10,
    "start_time": "2024-09-18T00:31:36.696Z"
   },
   {
    "duration": 3,
    "start_time": "2024-09-18T00:31:36.707Z"
   },
   {
    "duration": 9,
    "start_time": "2024-09-18T00:31:36.711Z"
   },
   {
    "duration": 5,
    "start_time": "2024-09-18T00:31:36.721Z"
   },
   {
    "duration": 54,
    "start_time": "2024-09-18T00:31:36.728Z"
   },
   {
    "duration": 7,
    "start_time": "2024-09-18T00:31:36.784Z"
   },
   {
    "duration": 9,
    "start_time": "2024-09-18T00:31:36.793Z"
   },
   {
    "duration": 13,
    "start_time": "2024-09-18T00:31:36.804Z"
   },
   {
    "duration": 52,
    "start_time": "2024-09-18T00:31:36.818Z"
   },
   {
    "duration": 12,
    "start_time": "2024-09-18T00:31:36.873Z"
   },
   {
    "duration": 5,
    "start_time": "2024-09-18T00:31:36.887Z"
   },
   {
    "duration": 3,
    "start_time": "2024-09-18T00:31:36.895Z"
   },
   {
    "duration": 4,
    "start_time": "2024-09-18T00:31:36.900Z"
   },
   {
    "duration": 3,
    "start_time": "2024-09-18T00:31:36.906Z"
   },
   {
    "duration": 4,
    "start_time": "2024-09-18T00:31:36.914Z"
   },
   {
    "duration": 52,
    "start_time": "2024-09-18T00:31:36.920Z"
   },
   {
    "duration": 9,
    "start_time": "2024-09-18T00:31:36.974Z"
   },
   {
    "duration": 5,
    "start_time": "2024-09-18T00:31:36.985Z"
   },
   {
    "duration": 42,
    "start_time": "2024-09-18T00:31:36.992Z"
   },
   {
    "duration": 4,
    "start_time": "2024-09-18T00:31:37.036Z"
   },
   {
    "duration": 4,
    "start_time": "2024-09-18T00:31:37.071Z"
   },
   {
    "duration": 3,
    "start_time": "2024-09-18T00:31:37.078Z"
   },
   {
    "duration": 4,
    "start_time": "2024-09-18T00:31:37.084Z"
   },
   {
    "duration": 5,
    "start_time": "2024-09-18T00:31:37.089Z"
   },
   {
    "duration": 5,
    "start_time": "2024-09-18T00:31:37.095Z"
   },
   {
    "duration": 5,
    "start_time": "2024-09-18T00:31:37.102Z"
   },
   {
    "duration": 6,
    "start_time": "2024-09-18T00:31:37.109Z"
   },
   {
    "duration": 104,
    "start_time": "2024-09-18T00:31:37.116Z"
   },
   {
    "duration": 5,
    "start_time": "2024-09-18T00:31:37.222Z"
   },
   {
    "duration": 4,
    "start_time": "2024-09-18T00:31:37.229Z"
   },
   {
    "duration": 5,
    "start_time": "2024-09-18T00:31:37.234Z"
   },
   {
    "duration": 30,
    "start_time": "2024-09-18T00:31:37.241Z"
   },
   {
    "duration": 7,
    "start_time": "2024-09-18T00:31:37.273Z"
   },
   {
    "duration": 2,
    "start_time": "2024-09-18T00:31:37.282Z"
   },
   {
    "duration": 6,
    "start_time": "2024-09-18T00:31:37.286Z"
   },
   {
    "duration": 3,
    "start_time": "2024-09-18T00:31:37.294Z"
   },
   {
    "duration": 4,
    "start_time": "2024-09-18T00:31:37.298Z"
   },
   {
    "duration": 75,
    "start_time": "2024-09-18T00:31:37.303Z"
   },
   {
    "duration": 4,
    "start_time": "2024-09-18T00:31:37.380Z"
   },
   {
    "duration": 4,
    "start_time": "2024-09-18T00:31:37.387Z"
   },
   {
    "duration": 5,
    "start_time": "2024-09-18T00:31:37.393Z"
   },
   {
    "duration": 3,
    "start_time": "2024-09-18T00:31:37.399Z"
   },
   {
    "duration": 74,
    "start_time": "2024-09-18T00:31:37.404Z"
   },
   {
    "duration": 5,
    "start_time": "2024-09-18T00:31:37.480Z"
   },
   {
    "duration": 4,
    "start_time": "2024-09-18T00:31:37.487Z"
   },
   {
    "duration": 42,
    "start_time": "2024-09-18T00:31:37.494Z"
   },
   {
    "duration": 32,
    "start_time": "2024-09-18T00:31:37.538Z"
   },
   {
    "duration": 4,
    "start_time": "2024-09-18T00:31:37.572Z"
   },
   {
    "duration": 5,
    "start_time": "2024-09-18T00:31:37.578Z"
   },
   {
    "duration": 5,
    "start_time": "2024-09-18T00:31:37.586Z"
   },
   {
    "duration": 4,
    "start_time": "2024-09-18T00:31:37.593Z"
   },
   {
    "duration": 4,
    "start_time": "2024-09-18T00:31:37.599Z"
   },
   {
    "duration": 4,
    "start_time": "2024-09-18T00:31:37.604Z"
   },
   {
    "duration": 3,
    "start_time": "2024-09-18T00:31:37.610Z"
   },
   {
    "duration": 3,
    "start_time": "2024-09-18T00:31:37.615Z"
   },
   {
    "duration": 118,
    "start_time": "2024-09-18T00:31:37.620Z"
   },
   {
    "duration": 10,
    "start_time": "2024-09-18T00:31:37.740Z"
   },
   {
    "duration": 5,
    "start_time": "2024-09-18T00:31:37.771Z"
   },
   {
    "duration": 5,
    "start_time": "2024-09-18T00:31:37.777Z"
   },
   {
    "duration": 43,
    "start_time": "2024-09-18T00:31:37.789Z"
   },
   {
    "duration": 4,
    "start_time": "2024-09-18T00:31:37.833Z"
   },
   {
    "duration": 31,
    "start_time": "2024-09-18T00:31:37.839Z"
   },
   {
    "duration": 4,
    "start_time": "2024-09-18T00:31:37.872Z"
   },
   {
    "duration": 3,
    "start_time": "2024-09-18T00:31:37.878Z"
   },
   {
    "duration": 5,
    "start_time": "2024-09-18T00:31:37.883Z"
   },
   {
    "duration": 4,
    "start_time": "2024-09-18T00:31:37.889Z"
   },
   {
    "duration": 7,
    "start_time": "2024-09-18T00:31:37.895Z"
   },
   {
    "duration": 4,
    "start_time": "2024-09-18T00:31:37.903Z"
   },
   {
    "duration": 87,
    "start_time": "2024-09-18T00:31:37.909Z"
   },
   {
    "duration": 4,
    "start_time": "2024-09-18T00:31:37.998Z"
   },
   {
    "duration": 5,
    "start_time": "2024-09-18T00:31:38.004Z"
   },
   {
    "duration": 59,
    "start_time": "2024-09-18T00:31:38.011Z"
   },
   {
    "duration": 3,
    "start_time": "2024-09-18T00:31:38.071Z"
   },
   {
    "duration": 4,
    "start_time": "2024-09-18T00:31:38.076Z"
   },
   {
    "duration": 3,
    "start_time": "2024-09-18T00:31:38.082Z"
   },
   {
    "duration": 2,
    "start_time": "2024-09-18T00:31:38.087Z"
   },
   {
    "duration": 4,
    "start_time": "2024-09-18T00:31:38.091Z"
   },
   {
    "duration": 12,
    "start_time": "2024-09-18T00:31:38.098Z"
   },
   {
    "duration": 6,
    "start_time": "2024-09-18T00:31:38.112Z"
   },
   {
    "duration": 4,
    "start_time": "2024-09-18T00:31:38.119Z"
   },
   {
    "duration": 42,
    "start_time": "2024-09-18T00:31:38.169Z"
   },
   {
    "duration": 4,
    "start_time": "2024-09-18T00:31:38.213Z"
   },
   {
    "duration": 5,
    "start_time": "2024-09-18T00:31:38.219Z"
   },
   {
    "duration": 4,
    "start_time": "2024-09-18T00:31:38.226Z"
   },
   {
    "duration": 3,
    "start_time": "2024-09-18T00:31:38.232Z"
   },
   {
    "duration": 37,
    "start_time": "2024-09-18T00:31:38.237Z"
   },
   {
    "duration": 5,
    "start_time": "2024-09-18T00:31:38.275Z"
   },
   {
    "duration": 9,
    "start_time": "2024-09-18T00:31:38.282Z"
   },
   {
    "duration": 12,
    "start_time": "2024-09-18T00:31:38.294Z"
   },
   {
    "duration": 4,
    "start_time": "2024-09-18T00:31:38.308Z"
   },
   {
    "duration": 5,
    "start_time": "2024-09-18T00:31:38.314Z"
   },
   {
    "duration": 2,
    "start_time": "2024-09-18T00:31:38.321Z"
   },
   {
    "duration": 53,
    "start_time": "2024-09-18T00:31:38.325Z"
   },
   {
    "duration": 6,
    "start_time": "2024-09-18T00:31:38.380Z"
   },
   {
    "duration": 7,
    "start_time": "2024-09-18T00:31:38.387Z"
   },
   {
    "duration": 3,
    "start_time": "2024-09-18T00:31:38.398Z"
   },
   {
    "duration": 11,
    "start_time": "2024-09-18T00:31:38.471Z"
   },
   {
    "duration": 111,
    "start_time": "2024-09-18T00:31:38.485Z"
   },
   {
    "duration": 7,
    "start_time": "2024-09-18T00:31:38.598Z"
   },
   {
    "duration": 3,
    "start_time": "2024-09-18T00:31:38.607Z"
   },
   {
    "duration": 69,
    "start_time": "2024-09-18T00:31:38.612Z"
   },
   {
    "duration": 3,
    "start_time": "2024-09-18T00:31:38.682Z"
   },
   {
    "duration": 83,
    "start_time": "2024-09-18T00:31:38.687Z"
   },
   {
    "duration": 3,
    "start_time": "2024-09-18T00:31:38.772Z"
   },
   {
    "duration": 55,
    "start_time": "2024-09-18T00:31:38.777Z"
   },
   {
    "duration": 4,
    "start_time": "2024-09-18T00:31:38.834Z"
   },
   {
    "duration": 5,
    "start_time": "2024-09-18T00:31:38.840Z"
   },
   {
    "duration": 4,
    "start_time": "2024-09-18T00:31:38.871Z"
   },
   {
    "duration": 148,
    "start_time": "2024-09-18T00:31:38.877Z"
   },
   {
    "duration": 4,
    "start_time": "2024-09-18T00:31:39.026Z"
   },
   {
    "duration": 2,
    "start_time": "2024-09-18T00:31:39.032Z"
   },
   {
    "duration": 545,
    "start_time": "2024-09-18T00:31:39.036Z"
   },
   {
    "duration": 4,
    "start_time": "2024-09-18T00:31:39.583Z"
   },
   {
    "duration": 5,
    "start_time": "2024-09-18T00:31:39.589Z"
   },
   {
    "duration": 5,
    "start_time": "2024-09-18T00:31:39.595Z"
   },
   {
    "duration": 4,
    "start_time": "2024-09-18T00:31:39.602Z"
   },
   {
    "duration": 3,
    "start_time": "2024-09-18T00:31:39.608Z"
   },
   {
    "duration": 2,
    "start_time": "2024-09-18T00:31:39.613Z"
   },
   {
    "duration": 384,
    "start_time": "2024-09-18T00:31:39.617Z"
   },
   {
    "duration": 37,
    "start_time": "2024-09-18T00:31:40.003Z"
   },
   {
    "duration": 3,
    "start_time": "2024-09-18T00:31:40.041Z"
   },
   {
    "duration": 29,
    "start_time": "2024-09-18T00:31:40.045Z"
   },
   {
    "duration": 5,
    "start_time": "2024-09-18T00:31:57.639Z"
   },
   {
    "duration": 40,
    "start_time": "2024-09-18T00:31:59.110Z"
   },
   {
    "duration": 60,
    "start_time": "2024-09-18T00:39:02.080Z"
   },
   {
    "duration": 7,
    "start_time": "2024-09-18T00:39:02.534Z"
   },
   {
    "duration": 2,
    "start_time": "2024-09-18T00:41:46.560Z"
   },
   {
    "duration": 373,
    "start_time": "2024-09-18T00:41:46.959Z"
   },
   {
    "duration": 41,
    "start_time": "2024-09-18T00:41:47.334Z"
   },
   {
    "duration": 3,
    "start_time": "2024-09-18T00:41:49.067Z"
   },
   {
    "duration": 8,
    "start_time": "2024-09-18T00:41:49.907Z"
   },
   {
    "duration": 2,
    "start_time": "2024-09-18T00:42:05.167Z"
   },
   {
    "duration": 283,
    "start_time": "2024-09-18T00:42:05.588Z"
   },
   {
    "duration": 30,
    "start_time": "2024-09-18T00:42:05.995Z"
   },
   {
    "duration": 3,
    "start_time": "2024-09-18T00:42:06.936Z"
   },
   {
    "duration": 10,
    "start_time": "2024-09-18T00:42:07.376Z"
   },
   {
    "duration": 3,
    "start_time": "2024-09-18T00:42:16.021Z"
   },
   {
    "duration": 344,
    "start_time": "2024-09-18T00:42:16.358Z"
   },
   {
    "duration": 38,
    "start_time": "2024-09-18T00:42:16.704Z"
   },
   {
    "duration": 3,
    "start_time": "2024-09-18T00:42:17.449Z"
   },
   {
    "duration": 10,
    "start_time": "2024-09-18T00:42:17.904Z"
   },
   {
    "duration": 3,
    "start_time": "2024-09-18T00:42:26.376Z"
   },
   {
    "duration": 376,
    "start_time": "2024-09-18T00:42:26.674Z"
   },
   {
    "duration": 44,
    "start_time": "2024-09-18T00:42:27.052Z"
   },
   {
    "duration": 5,
    "start_time": "2024-09-18T00:42:27.717Z"
   },
   {
    "duration": 10,
    "start_time": "2024-09-18T00:42:28.066Z"
   },
   {
    "duration": 2,
    "start_time": "2024-09-18T00:42:41.503Z"
   },
   {
    "duration": 348,
    "start_time": "2024-09-18T00:42:41.939Z"
   },
   {
    "duration": 36,
    "start_time": "2024-09-18T00:42:42.289Z"
   },
   {
    "duration": 3,
    "start_time": "2024-09-18T00:42:42.841Z"
   },
   {
    "duration": 11,
    "start_time": "2024-09-18T00:42:43.154Z"
   },
   {
    "duration": 3,
    "start_time": "2024-09-18T00:48:30.972Z"
   },
   {
    "duration": 3,
    "start_time": "2024-09-18T00:48:48.110Z"
   },
   {
    "duration": 4,
    "start_time": "2024-09-18T00:48:59.628Z"
   },
   {
    "duration": 3,
    "start_time": "2024-09-18T00:52:42.318Z"
   },
   {
    "duration": 3,
    "start_time": "2024-09-18T00:56:47.274Z"
   },
   {
    "duration": 4,
    "start_time": "2024-09-18T00:57:42.673Z"
   },
   {
    "duration": 3,
    "start_time": "2024-09-18T00:58:14.369Z"
   },
   {
    "duration": 25,
    "start_time": "2024-09-18T00:58:14.376Z"
   },
   {
    "duration": 3,
    "start_time": "2024-09-18T00:58:14.404Z"
   },
   {
    "duration": 9,
    "start_time": "2024-09-18T00:58:14.408Z"
   },
   {
    "duration": 5,
    "start_time": "2024-09-18T00:58:14.418Z"
   },
   {
    "duration": 51,
    "start_time": "2024-09-18T00:58:14.425Z"
   },
   {
    "duration": 9,
    "start_time": "2024-09-18T00:58:14.478Z"
   },
   {
    "duration": 11,
    "start_time": "2024-09-18T00:58:14.489Z"
   },
   {
    "duration": 3,
    "start_time": "2024-09-18T00:58:14.501Z"
   },
   {
    "duration": 8,
    "start_time": "2024-09-18T00:58:14.506Z"
   },
   {
    "duration": 2,
    "start_time": "2024-09-18T00:58:14.516Z"
   },
   {
    "duration": 9,
    "start_time": "2024-09-18T00:58:14.520Z"
   },
   {
    "duration": 42,
    "start_time": "2024-09-18T00:58:14.531Z"
   },
   {
    "duration": 14,
    "start_time": "2024-09-18T00:58:14.574Z"
   },
   {
    "duration": 6,
    "start_time": "2024-09-18T00:58:14.591Z"
   },
   {
    "duration": 9,
    "start_time": "2024-09-18T00:58:14.598Z"
   },
   {
    "duration": 14,
    "start_time": "2024-09-18T00:58:14.609Z"
   },
   {
    "duration": 50,
    "start_time": "2024-09-18T00:58:14.624Z"
   },
   {
    "duration": 9,
    "start_time": "2024-09-18T00:58:14.676Z"
   },
   {
    "duration": 4,
    "start_time": "2024-09-18T00:58:14.687Z"
   },
   {
    "duration": 3,
    "start_time": "2024-09-18T00:58:14.694Z"
   },
   {
    "duration": 3,
    "start_time": "2024-09-18T00:58:14.700Z"
   },
   {
    "duration": 3,
    "start_time": "2024-09-18T00:58:14.704Z"
   },
   {
    "duration": 4,
    "start_time": "2024-09-18T00:58:14.709Z"
   },
   {
    "duration": 5,
    "start_time": "2024-09-18T00:58:14.715Z"
   },
   {
    "duration": 51,
    "start_time": "2024-09-18T00:58:14.722Z"
   },
   {
    "duration": 5,
    "start_time": "2024-09-18T00:58:14.774Z"
   },
   {
    "duration": 52,
    "start_time": "2024-09-18T00:58:14.781Z"
   },
   {
    "duration": 4,
    "start_time": "2024-09-18T00:58:14.835Z"
   },
   {
    "duration": 4,
    "start_time": "2024-09-18T00:58:14.841Z"
   },
   {
    "duration": 3,
    "start_time": "2024-09-18T00:58:14.870Z"
   },
   {
    "duration": 4,
    "start_time": "2024-09-18T00:58:14.875Z"
   },
   {
    "duration": 4,
    "start_time": "2024-09-18T00:58:14.881Z"
   },
   {
    "duration": 3,
    "start_time": "2024-09-18T00:58:14.887Z"
   },
   {
    "duration": 5,
    "start_time": "2024-09-18T00:58:14.892Z"
   },
   {
    "duration": 7,
    "start_time": "2024-09-18T00:58:14.898Z"
   },
   {
    "duration": 83,
    "start_time": "2024-09-18T00:58:14.906Z"
   },
   {
    "duration": 4,
    "start_time": "2024-09-18T00:58:14.991Z"
   },
   {
    "duration": 4,
    "start_time": "2024-09-18T00:58:14.997Z"
   },
   {
    "duration": 4,
    "start_time": "2024-09-18T00:58:15.003Z"
   },
   {
    "duration": 5,
    "start_time": "2024-09-18T00:58:15.008Z"
   },
   {
    "duration": 8,
    "start_time": "2024-09-18T00:58:15.017Z"
   },
   {
    "duration": 3,
    "start_time": "2024-09-18T00:58:15.026Z"
   },
   {
    "duration": 3,
    "start_time": "2024-09-18T00:58:16.948Z"
   },
   {
    "duration": 4,
    "start_time": "2024-09-18T00:58:18.197Z"
   },
   {
    "duration": 3,
    "start_time": "2024-09-18T00:58:19.417Z"
   },
   {
    "duration": 6,
    "start_time": "2024-09-18T00:58:21.129Z"
   },
   {
    "duration": 45,
    "start_time": "2024-09-18T00:58:24.789Z"
   },
   {
    "duration": 4,
    "start_time": "2024-09-18T00:58:30.293Z"
   },
   {
    "duration": 4,
    "start_time": "2024-09-18T00:58:44.834Z"
   },
   {
    "duration": 6,
    "start_time": "2024-09-18T00:58:45.227Z"
   },
   {
    "duration": 5,
    "start_time": "2024-09-18T00:58:45.850Z"
   },
   {
    "duration": 50,
    "start_time": "2024-09-18T00:58:46.555Z"
   },
   {
    "duration": 6,
    "start_time": "2024-09-18T00:59:29.992Z"
   },
   {
    "duration": 6,
    "start_time": "2024-09-18T00:59:30.215Z"
   },
   {
    "duration": 43,
    "start_time": "2024-09-18T00:59:30.726Z"
   },
   {
    "duration": 7,
    "start_time": "2024-09-18T00:59:54.220Z"
   },
   {
    "duration": 4,
    "start_time": "2024-09-18T00:59:54.965Z"
   },
   {
    "duration": 4,
    "start_time": "2024-09-18T00:59:55.664Z"
   },
   {
    "duration": 5,
    "start_time": "2024-09-18T00:59:56.009Z"
   },
   {
    "duration": 6,
    "start_time": "2024-09-18T01:00:54.865Z"
   },
   {
    "duration": 4,
    "start_time": "2024-09-18T01:00:56.443Z"
   },
   {
    "duration": 5,
    "start_time": "2024-09-18T01:00:57.264Z"
   },
   {
    "duration": 4,
    "start_time": "2024-09-18T01:00:58.212Z"
   },
   {
    "duration": 4,
    "start_time": "2024-09-18T01:01:30.470Z"
   },
   {
    "duration": 4,
    "start_time": "2024-09-18T01:01:31.416Z"
   },
   {
    "duration": 3,
    "start_time": "2024-09-18T01:01:54.067Z"
   },
   {
    "duration": 4,
    "start_time": "2024-09-18T01:01:55.197Z"
   },
   {
    "duration": 71,
    "start_time": "2024-09-18T01:01:56.157Z"
   },
   {
    "duration": 10,
    "start_time": "2024-09-18T01:02:42.264Z"
   },
   {
    "duration": 5,
    "start_time": "2024-09-18T01:02:43.339Z"
   },
   {
    "duration": 6,
    "start_time": "2024-09-18T01:02:44.794Z"
   },
   {
    "duration": 43,
    "start_time": "2024-09-18T01:02:45.561Z"
   },
   {
    "duration": 4,
    "start_time": "2024-09-18T01:03:07.785Z"
   },
   {
    "duration": 4,
    "start_time": "2024-09-18T01:03:08.784Z"
   },
   {
    "duration": 5,
    "start_time": "2024-09-18T01:03:12.714Z"
   },
   {
    "duration": 4,
    "start_time": "2024-09-18T01:03:56.519Z"
   },
   {
    "duration": 4,
    "start_time": "2024-09-18T01:04:21.825Z"
   },
   {
    "duration": 5,
    "start_time": "2024-09-18T01:04:22.715Z"
   },
   {
    "duration": 7,
    "start_time": "2024-09-18T01:04:32.703Z"
   },
   {
    "duration": 8,
    "start_time": "2024-09-18T01:05:07.730Z"
   },
   {
    "duration": 6,
    "start_time": "2024-09-18T01:05:08.736Z"
   },
   {
    "duration": 44,
    "start_time": "2024-09-18T01:05:10.122Z"
   },
   {
    "duration": 5,
    "start_time": "2024-09-18T01:05:45.410Z"
   },
   {
    "duration": 5,
    "start_time": "2024-09-18T01:06:07.474Z"
   },
   {
    "duration": 6,
    "start_time": "2024-09-18T01:06:12.771Z"
   },
   {
    "duration": 41,
    "start_time": "2024-09-18T01:06:13.474Z"
   },
   {
    "duration": 3,
    "start_time": "2024-09-18T01:06:44.932Z"
   },
   {
    "duration": 5,
    "start_time": "2024-09-18T01:07:14.139Z"
   },
   {
    "duration": 4,
    "start_time": "2024-09-18T01:07:36.617Z"
   },
   {
    "duration": 3,
    "start_time": "2024-09-18T01:07:37.178Z"
   },
   {
    "duration": 5,
    "start_time": "2024-09-18T01:07:37.854Z"
   },
   {
    "duration": 13,
    "start_time": "2024-09-18T01:07:38.295Z"
   },
   {
    "duration": 8,
    "start_time": "2024-09-18T01:07:39.238Z"
   },
   {
    "duration": 6,
    "start_time": "2024-09-18T01:07:40.491Z"
   },
   {
    "duration": 40,
    "start_time": "2024-09-18T01:07:41.742Z"
   },
   {
    "duration": 4,
    "start_time": "2024-09-18T01:08:27.995Z"
   },
   {
    "duration": 4,
    "start_time": "2024-09-18T01:08:28.253Z"
   },
   {
    "duration": 4,
    "start_time": "2024-09-18T01:08:29.499Z"
   },
   {
    "duration": 5,
    "start_time": "2024-09-18T01:08:31.738Z"
   },
   {
    "duration": 4,
    "start_time": "2024-09-18T01:08:32.591Z"
   },
   {
    "duration": 4,
    "start_time": "2024-09-18T01:08:33.407Z"
   },
   {
    "duration": 12,
    "start_time": "2024-09-18T01:10:24.932Z"
   },
   {
    "duration": 13,
    "start_time": "2024-09-18T01:10:26.555Z"
   },
   {
    "duration": 5,
    "start_time": "2024-09-18T01:10:30.739Z"
   },
   {
    "duration": 7,
    "start_time": "2024-09-18T01:10:30.837Z"
   },
   {
    "duration": 2,
    "start_time": "2024-09-18T01:10:32.594Z"
   },
   {
    "duration": 18,
    "start_time": "2024-09-18T01:10:33.132Z"
   },
   {
    "duration": 8,
    "start_time": "2024-09-18T01:10:33.669Z"
   },
   {
    "duration": 3,
    "start_time": "2024-09-18T01:10:34.144Z"
   },
   {
    "duration": 3,
    "start_time": "2024-09-18T01:10:35.735Z"
   },
   {
    "duration": 10,
    "start_time": "2024-09-18T01:10:36.212Z"
   },
   {
    "duration": 60,
    "start_time": "2024-09-18T01:10:38.812Z"
   },
   {
    "duration": 5,
    "start_time": "2024-09-18T01:10:39.094Z"
   },
   {
    "duration": 3,
    "start_time": "2024-09-18T01:10:39.936Z"
   },
   {
    "duration": 11,
    "start_time": "2024-09-18T01:10:40.395Z"
   },
   {
    "duration": 2,
    "start_time": "2024-09-18T01:10:40.732Z"
   },
   {
    "duration": 10,
    "start_time": "2024-09-18T01:10:41.337Z"
   },
   {
    "duration": 3,
    "start_time": "2024-09-18T01:10:41.966Z"
   },
   {
    "duration": 56,
    "start_time": "2024-09-18T01:10:42.692Z"
   },
   {
    "duration": 6,
    "start_time": "2024-09-18T01:10:42.936Z"
   },
   {
    "duration": 5,
    "start_time": "2024-09-18T01:10:42.944Z"
   },
   {
    "duration": 5,
    "start_time": "2024-09-18T01:10:44.324Z"
   },
   {
    "duration": 136,
    "start_time": "2024-09-18T01:10:45.933Z"
   },
   {
    "duration": 3,
    "start_time": "2024-09-18T01:10:46.074Z"
   },
   {
    "duration": 2,
    "start_time": "2024-09-18T01:10:47.373Z"
   },
   {
    "duration": 522,
    "start_time": "2024-09-18T01:10:47.910Z"
   },
   {
    "duration": 5,
    "start_time": "2024-09-18T01:10:49.266Z"
   },
   {
    "duration": 6,
    "start_time": "2024-09-18T01:10:50.008Z"
   },
   {
    "duration": 5,
    "start_time": "2024-09-18T01:10:50.427Z"
   },
   {
    "duration": 5,
    "start_time": "2024-09-18T01:10:51.348Z"
   },
   {
    "duration": 5,
    "start_time": "2024-09-18T01:10:52.024Z"
   },
   {
    "duration": 3,
    "start_time": "2024-09-18T01:10:54.040Z"
   },
   {
    "duration": 351,
    "start_time": "2024-09-18T01:10:54.800Z"
   },
   {
    "duration": 41,
    "start_time": "2024-09-18T01:10:55.153Z"
   },
   {
    "duration": 3,
    "start_time": "2024-09-18T01:10:56.074Z"
   },
   {
    "duration": 11,
    "start_time": "2024-09-18T01:10:56.563Z"
   },
   {
    "duration": 5,
    "start_time": "2024-09-18T01:10:58.134Z"
   },
   {
    "duration": 40,
    "start_time": "2024-09-18T01:10:59.756Z"
   },
   {
    "duration": 3,
    "start_time": "2024-09-18T01:29:44.711Z"
   },
   {
    "duration": 27,
    "start_time": "2024-09-18T01:29:44.716Z"
   },
   {
    "duration": 3,
    "start_time": "2024-09-18T01:29:44.745Z"
   },
   {
    "duration": 11,
    "start_time": "2024-09-18T01:29:44.750Z"
   },
   {
    "duration": 4,
    "start_time": "2024-09-18T01:29:44.763Z"
   },
   {
    "duration": 16,
    "start_time": "2024-09-18T01:29:44.769Z"
   },
   {
    "duration": 10,
    "start_time": "2024-09-18T01:29:44.787Z"
   },
   {
    "duration": 11,
    "start_time": "2024-09-18T01:29:44.799Z"
   },
   {
    "duration": 4,
    "start_time": "2024-09-18T01:29:44.812Z"
   },
   {
    "duration": 9,
    "start_time": "2024-09-18T01:29:44.817Z"
   },
   {
    "duration": 3,
    "start_time": "2024-09-18T01:29:44.828Z"
   },
   {
    "duration": 46,
    "start_time": "2024-09-18T01:29:44.833Z"
   },
   {
    "duration": 5,
    "start_time": "2024-09-18T01:29:44.880Z"
   },
   {
    "duration": 12,
    "start_time": "2024-09-18T01:29:44.889Z"
   },
   {
    "duration": 7,
    "start_time": "2024-09-18T01:29:44.903Z"
   },
   {
    "duration": 9,
    "start_time": "2024-09-18T01:29:44.912Z"
   },
   {
    "duration": 14,
    "start_time": "2024-09-18T01:29:44.970Z"
   },
   {
    "duration": 13,
    "start_time": "2024-09-18T01:29:44.986Z"
   },
   {
    "duration": 9,
    "start_time": "2024-09-18T01:29:45.001Z"
   },
   {
    "duration": 5,
    "start_time": "2024-09-18T01:29:45.012Z"
   },
   {
    "duration": 3,
    "start_time": "2024-09-18T01:29:45.019Z"
   },
   {
    "duration": 4,
    "start_time": "2024-09-18T01:29:45.024Z"
   },
   {
    "duration": 2,
    "start_time": "2024-09-18T01:29:45.070Z"
   },
   {
    "duration": 5,
    "start_time": "2024-09-18T01:29:45.074Z"
   },
   {
    "duration": 4,
    "start_time": "2024-09-18T01:29:45.081Z"
   },
   {
    "duration": 6,
    "start_time": "2024-09-18T01:29:45.087Z"
   },
   {
    "duration": 7,
    "start_time": "2024-09-18T01:29:45.094Z"
   },
   {
    "duration": 72,
    "start_time": "2024-09-18T01:29:45.102Z"
   },
   {
    "duration": 4,
    "start_time": "2024-09-18T01:29:45.175Z"
   },
   {
    "duration": 4,
    "start_time": "2024-09-18T01:29:45.181Z"
   },
   {
    "duration": 4,
    "start_time": "2024-09-18T01:29:45.187Z"
   },
   {
    "duration": 4,
    "start_time": "2024-09-18T01:29:45.194Z"
   },
   {
    "duration": 4,
    "start_time": "2024-09-18T01:29:45.200Z"
   },
   {
    "duration": 4,
    "start_time": "2024-09-18T01:29:45.206Z"
   },
   {
    "duration": 6,
    "start_time": "2024-09-18T01:29:45.211Z"
   },
   {
    "duration": 6,
    "start_time": "2024-09-18T01:29:45.269Z"
   },
   {
    "duration": 116,
    "start_time": "2024-09-18T01:29:45.276Z"
   },
   {
    "duration": 5,
    "start_time": "2024-09-18T01:29:45.394Z"
   },
   {
    "duration": 4,
    "start_time": "2024-09-18T01:29:45.401Z"
   },
   {
    "duration": 4,
    "start_time": "2024-09-18T01:29:45.406Z"
   },
   {
    "duration": 4,
    "start_time": "2024-09-18T01:29:45.419Z"
   },
   {
    "duration": 45,
    "start_time": "2024-09-18T01:29:45.425Z"
   },
   {
    "duration": 4,
    "start_time": "2024-09-18T01:29:45.472Z"
   },
   {
    "duration": 4,
    "start_time": "2024-09-18T01:29:45.478Z"
   },
   {
    "duration": 3,
    "start_time": "2024-09-18T01:29:45.483Z"
   },
   {
    "duration": 5,
    "start_time": "2024-09-18T01:29:45.488Z"
   },
   {
    "duration": 77,
    "start_time": "2024-09-18T01:29:45.495Z"
   },
   {
    "duration": 5,
    "start_time": "2024-09-18T01:29:45.573Z"
   },
   {
    "duration": 4,
    "start_time": "2024-09-18T01:29:45.579Z"
   },
   {
    "duration": 5,
    "start_time": "2024-09-18T01:29:45.585Z"
   },
   {
    "duration": 3,
    "start_time": "2024-09-18T01:29:45.592Z"
   },
   {
    "duration": 74,
    "start_time": "2024-09-18T01:29:45.596Z"
   },
   {
    "duration": 4,
    "start_time": "2024-09-18T01:29:45.672Z"
   },
   {
    "duration": 5,
    "start_time": "2024-09-18T01:29:45.678Z"
   },
   {
    "duration": 44,
    "start_time": "2024-09-18T01:29:45.685Z"
   },
   {
    "duration": 7,
    "start_time": "2024-09-18T01:29:45.730Z"
   },
   {
    "duration": 3,
    "start_time": "2024-09-18T01:29:45.739Z"
   },
   {
    "duration": 3,
    "start_time": "2024-09-18T01:29:45.771Z"
   },
   {
    "duration": 5,
    "start_time": "2024-09-18T01:29:45.776Z"
   },
   {
    "duration": 4,
    "start_time": "2024-09-18T01:29:45.782Z"
   },
   {
    "duration": 4,
    "start_time": "2024-09-18T01:29:45.788Z"
   },
   {
    "duration": 4,
    "start_time": "2024-09-18T01:29:45.793Z"
   },
   {
    "duration": 3,
    "start_time": "2024-09-18T01:29:45.799Z"
   },
   {
    "duration": 4,
    "start_time": "2024-09-18T01:29:45.803Z"
   },
   {
    "duration": 113,
    "start_time": "2024-09-18T01:29:45.808Z"
   },
   {
    "duration": 11,
    "start_time": "2024-09-18T01:29:45.923Z"
   },
   {
    "duration": 5,
    "start_time": "2024-09-18T01:29:45.936Z"
   },
   {
    "duration": 5,
    "start_time": "2024-09-18T01:29:45.971Z"
   },
   {
    "duration": 44,
    "start_time": "2024-09-18T01:29:45.978Z"
   },
   {
    "duration": 4,
    "start_time": "2024-09-18T01:29:46.024Z"
   },
   {
    "duration": 4,
    "start_time": "2024-09-18T01:29:46.030Z"
   },
   {
    "duration": 35,
    "start_time": "2024-09-18T01:29:46.035Z"
   },
   {
    "duration": 4,
    "start_time": "2024-09-18T01:29:46.071Z"
   },
   {
    "duration": 5,
    "start_time": "2024-09-18T01:29:46.077Z"
   },
   {
    "duration": 4,
    "start_time": "2024-09-18T01:29:46.084Z"
   },
   {
    "duration": 25,
    "start_time": "2024-09-18T01:29:46.090Z"
   },
   {
    "duration": 4,
    "start_time": "2024-09-18T01:29:46.117Z"
   },
   {
    "duration": 58,
    "start_time": "2024-09-18T01:29:46.123Z"
   },
   {
    "duration": 5,
    "start_time": "2024-09-18T01:29:46.183Z"
   },
   {
    "duration": 5,
    "start_time": "2024-09-18T01:29:46.189Z"
   },
   {
    "duration": 39,
    "start_time": "2024-09-18T01:29:46.196Z"
   },
   {
    "duration": 3,
    "start_time": "2024-09-18T01:29:46.237Z"
   },
   {
    "duration": 4,
    "start_time": "2024-09-18T01:29:46.270Z"
   },
   {
    "duration": 4,
    "start_time": "2024-09-18T01:29:46.276Z"
   },
   {
    "duration": 3,
    "start_time": "2024-09-18T01:29:46.281Z"
   },
   {
    "duration": 4,
    "start_time": "2024-09-18T01:29:46.286Z"
   },
   {
    "duration": 12,
    "start_time": "2024-09-18T01:29:46.292Z"
   },
   {
    "duration": 5,
    "start_time": "2024-09-18T01:29:46.307Z"
   },
   {
    "duration": 4,
    "start_time": "2024-09-18T01:29:46.314Z"
   },
   {
    "duration": 84,
    "start_time": "2024-09-18T01:29:46.320Z"
   },
   {
    "duration": 4,
    "start_time": "2024-09-18T01:29:46.406Z"
   },
   {
    "duration": 4,
    "start_time": "2024-09-18T01:29:46.412Z"
   },
   {
    "duration": 4,
    "start_time": "2024-09-18T01:29:46.417Z"
   },
   {
    "duration": 4,
    "start_time": "2024-09-18T01:29:46.424Z"
   },
   {
    "duration": 4,
    "start_time": "2024-09-18T01:29:46.430Z"
   },
   {
    "duration": 4,
    "start_time": "2024-09-18T01:29:46.470Z"
   },
   {
    "duration": 10,
    "start_time": "2024-09-18T01:29:46.476Z"
   },
   {
    "duration": 13,
    "start_time": "2024-09-18T01:29:46.488Z"
   },
   {
    "duration": 4,
    "start_time": "2024-09-18T01:29:46.503Z"
   },
   {
    "duration": 5,
    "start_time": "2024-09-18T01:29:46.508Z"
   },
   {
    "duration": 2,
    "start_time": "2024-09-18T01:29:46.514Z"
   },
   {
    "duration": 57,
    "start_time": "2024-09-18T01:29:46.518Z"
   },
   {
    "duration": 15,
    "start_time": "2024-09-18T01:29:46.579Z"
   },
   {
    "duration": 4,
    "start_time": "2024-09-18T01:29:46.596Z"
   },
   {
    "duration": 2,
    "start_time": "2024-09-18T01:29:46.602Z"
   },
   {
    "duration": 66,
    "start_time": "2024-09-18T01:29:46.606Z"
   },
   {
    "duration": 115,
    "start_time": "2024-09-18T01:29:46.674Z"
   },
   {
    "duration": 5,
    "start_time": "2024-09-18T01:29:46.791Z"
   },
   {
    "duration": 3,
    "start_time": "2024-09-18T01:29:46.797Z"
   },
   {
    "duration": 78,
    "start_time": "2024-09-18T01:29:46.803Z"
   },
   {
    "duration": 4,
    "start_time": "2024-09-18T01:29:46.893Z"
   },
   {
    "duration": 83,
    "start_time": "2024-09-18T01:29:46.899Z"
   },
   {
    "duration": 2,
    "start_time": "2024-09-18T01:29:46.984Z"
   },
   {
    "duration": 55,
    "start_time": "2024-09-18T01:29:46.988Z"
   },
   {
    "duration": 4,
    "start_time": "2024-09-18T01:29:47.044Z"
   },
   {
    "duration": 26,
    "start_time": "2024-09-18T01:29:47.050Z"
   },
   {
    "duration": 5,
    "start_time": "2024-09-18T01:29:47.078Z"
   },
   {
    "duration": 153,
    "start_time": "2024-09-18T01:29:47.085Z"
   },
   {
    "duration": 4,
    "start_time": "2024-09-18T01:29:47.240Z"
   },
   {
    "duration": 2,
    "start_time": "2024-09-18T01:29:47.246Z"
   },
   {
    "duration": 562,
    "start_time": "2024-09-18T01:29:47.250Z"
   },
   {
    "duration": 4,
    "start_time": "2024-09-18T01:29:47.821Z"
   },
   {
    "duration": 5,
    "start_time": "2024-09-18T01:29:47.827Z"
   },
   {
    "duration": 4,
    "start_time": "2024-09-18T01:29:47.833Z"
   },
   {
    "duration": 4,
    "start_time": "2024-09-18T01:29:47.839Z"
   },
   {
    "duration": 28,
    "start_time": "2024-09-18T01:29:47.844Z"
   },
   {
    "duration": 3,
    "start_time": "2024-09-18T01:29:47.874Z"
   },
   {
    "duration": 361,
    "start_time": "2024-09-18T01:29:47.878Z"
   },
   {
    "duration": 46,
    "start_time": "2024-09-18T01:29:48.240Z"
   },
   {
    "duration": 3,
    "start_time": "2024-09-18T01:29:48.287Z"
   },
   {
    "duration": 9,
    "start_time": "2024-09-18T01:29:48.292Z"
   },
   {
    "duration": 5,
    "start_time": "2024-09-18T01:29:48.302Z"
   },
   {
    "duration": 61,
    "start_time": "2024-09-18T01:29:48.309Z"
   },
   {
    "duration": 3,
    "start_time": "2024-09-18T02:01:02.894Z"
   },
   {
    "duration": 26,
    "start_time": "2024-09-18T02:01:03.742Z"
   },
   {
    "duration": 3,
    "start_time": "2024-09-18T02:01:04.945Z"
   },
   {
    "duration": 11,
    "start_time": "2024-09-18T02:01:05.341Z"
   },
   {
    "duration": 5,
    "start_time": "2024-09-18T02:01:06.100Z"
   },
   {
    "duration": 18,
    "start_time": "2024-09-18T02:01:07.242Z"
   },
   {
    "duration": 11,
    "start_time": "2024-09-18T02:01:08.041Z"
   },
   {
    "duration": 13,
    "start_time": "2024-09-18T02:01:11.314Z"
   },
   {
    "duration": 4,
    "start_time": "2024-09-18T02:01:11.703Z"
   },
   {
    "duration": 10,
    "start_time": "2024-09-18T02:01:12.552Z"
   },
   {
    "duration": 4,
    "start_time": "2024-09-18T02:01:13.752Z"
   },
   {
    "duration": 11,
    "start_time": "2024-09-18T02:01:14.110Z"
   },
   {
    "duration": 6,
    "start_time": "2024-09-18T02:01:15.278Z"
   },
   {
    "duration": 15,
    "start_time": "2024-09-18T02:01:15.667Z"
   },
   {
    "duration": 15,
    "start_time": "2024-09-18T02:01:16.359Z"
   },
   {
    "duration": 10,
    "start_time": "2024-09-18T02:01:16.728Z"
   },
   {
    "duration": 14,
    "start_time": "2024-09-18T02:01:17.495Z"
   },
   {
    "duration": 14,
    "start_time": "2024-09-18T02:01:18.219Z"
   },
   {
    "duration": 11,
    "start_time": "2024-09-18T02:01:18.552Z"
   },
   {
    "duration": 6,
    "start_time": "2024-09-18T02:01:20.304Z"
   },
   {
    "duration": 3,
    "start_time": "2024-09-18T02:01:21.002Z"
   },
   {
    "duration": 4,
    "start_time": "2024-09-18T02:01:21.358Z"
   },
   {
    "duration": 3,
    "start_time": "2024-09-18T02:01:21.681Z"
   },
   {
    "duration": 5,
    "start_time": "2024-09-18T02:01:22.032Z"
   },
   {
    "duration": 5,
    "start_time": "2024-09-18T02:01:22.348Z"
   },
   {
    "duration": 7,
    "start_time": "2024-09-18T02:01:22.721Z"
   },
   {
    "duration": 6,
    "start_time": "2024-09-18T02:01:23.051Z"
   },
   {
    "duration": 43,
    "start_time": "2024-09-18T02:01:23.407Z"
   },
   {
    "duration": 4,
    "start_time": "2024-09-18T02:01:24.090Z"
   },
   {
    "duration": 4,
    "start_time": "2024-09-18T02:01:24.822Z"
   },
   {
    "duration": 4,
    "start_time": "2024-09-18T02:01:25.118Z"
   },
   {
    "duration": 4,
    "start_time": "2024-09-18T02:01:25.376Z"
   },
   {
    "duration": 4,
    "start_time": "2024-09-18T02:01:25.951Z"
   },
   {
    "duration": 4,
    "start_time": "2024-09-18T02:01:26.187Z"
   },
   {
    "duration": 6,
    "start_time": "2024-09-18T02:01:27.134Z"
   },
   {
    "duration": 6,
    "start_time": "2024-09-18T02:01:28.147Z"
   },
   {
    "duration": 43,
    "start_time": "2024-09-18T02:01:28.492Z"
   },
   {
    "duration": 4,
    "start_time": "2024-09-18T02:01:29.100Z"
   },
   {
    "duration": 4,
    "start_time": "2024-09-18T02:01:29.648Z"
   },
   {
    "duration": 4,
    "start_time": "2024-09-18T02:01:29.839Z"
   },
   {
    "duration": 6,
    "start_time": "2024-09-18T02:01:30.537Z"
   },
   {
    "duration": 8,
    "start_time": "2024-09-18T02:01:31.236Z"
   },
   {
    "duration": 3,
    "start_time": "2024-09-18T02:01:31.436Z"
   },
   {
    "duration": 4,
    "start_time": "2024-09-18T02:01:31.635Z"
   },
   {
    "duration": 3,
    "start_time": "2024-09-18T02:01:31.851Z"
   },
   {
    "duration": 4,
    "start_time": "2024-09-18T02:01:32.051Z"
   },
   {
    "duration": 47,
    "start_time": "2024-09-18T02:01:32.899Z"
   },
   {
    "duration": 4,
    "start_time": "2024-09-18T02:01:33.887Z"
   },
   {
    "duration": 4,
    "start_time": "2024-09-18T02:01:34.102Z"
   },
   {
    "duration": 7,
    "start_time": "2024-09-18T02:01:34.292Z"
   },
   {
    "duration": 4,
    "start_time": "2024-09-18T02:01:34.503Z"
   },
   {
    "duration": 46,
    "start_time": "2024-09-18T02:01:34.696Z"
   },
   {
    "duration": 6,
    "start_time": "2024-09-18T02:01:35.318Z"
   },
   {
    "duration": 5,
    "start_time": "2024-09-18T02:01:35.493Z"
   },
   {
    "duration": 47,
    "start_time": "2024-09-18T02:01:35.693Z"
   },
   {
    "duration": 8,
    "start_time": "2024-09-18T02:01:36.347Z"
   },
   {
    "duration": 4,
    "start_time": "2024-09-18T02:01:36.531Z"
   },
   {
    "duration": 5,
    "start_time": "2024-09-18T02:01:36.772Z"
   },
   {
    "duration": 5,
    "start_time": "2024-09-18T02:01:36.943Z"
   },
   {
    "duration": 6,
    "start_time": "2024-09-18T02:01:37.559Z"
   },
   {
    "duration": 4,
    "start_time": "2024-09-18T02:01:37.782Z"
   },
   {
    "duration": 4,
    "start_time": "2024-09-18T02:01:37.976Z"
   },
   {
    "duration": 3,
    "start_time": "2024-09-18T02:01:38.408Z"
   },
   {
    "duration": 5,
    "start_time": "2024-09-18T02:01:38.641Z"
   },
   {
    "duration": 70,
    "start_time": "2024-09-18T02:01:38.825Z"
   },
   {
    "duration": 10,
    "start_time": "2024-09-18T02:01:39.438Z"
   },
   {
    "duration": 4,
    "start_time": "2024-09-18T02:01:41.007Z"
   },
   {
    "duration": 5,
    "start_time": "2024-09-18T02:01:41.173Z"
   },
   {
    "duration": 43,
    "start_time": "2024-09-18T02:01:41.385Z"
   },
   {
    "duration": 4,
    "start_time": "2024-09-18T02:01:41.546Z"
   },
   {
    "duration": 5,
    "start_time": "2024-09-18T02:01:41.778Z"
   },
   {
    "duration": 4,
    "start_time": "2024-09-18T02:01:42.704Z"
   },
   {
    "duration": 4,
    "start_time": "2024-09-18T02:01:43.147Z"
   },
   {
    "duration": 5,
    "start_time": "2024-09-18T02:01:43.739Z"
   },
   {
    "duration": 5,
    "start_time": "2024-09-18T02:01:44.047Z"
   },
   {
    "duration": 8,
    "start_time": "2024-09-18T02:01:45.733Z"
   },
   {
    "duration": 4,
    "start_time": "2024-09-18T02:01:46.106Z"
   },
   {
    "duration": 47,
    "start_time": "2024-09-18T02:01:46.749Z"
   },
   {
    "duration": 5,
    "start_time": "2024-09-18T02:01:48.295Z"
   },
   {
    "duration": 5,
    "start_time": "2024-09-18T02:01:48.463Z"
   },
   {
    "duration": 43,
    "start_time": "2024-09-18T02:01:48.652Z"
   },
   {
    "duration": 4,
    "start_time": "2024-09-18T02:01:49.037Z"
   },
   {
    "duration": 5,
    "start_time": "2024-09-18T02:01:49.828Z"
   },
   {
    "duration": 4,
    "start_time": "2024-09-18T02:01:50.155Z"
   },
   {
    "duration": 3,
    "start_time": "2024-09-18T02:01:50.545Z"
   },
   {
    "duration": 5,
    "start_time": "2024-09-18T02:01:50.785Z"
   },
   {
    "duration": 12,
    "start_time": "2024-09-18T02:01:50.969Z"
   },
   {
    "duration": 7,
    "start_time": "2024-09-18T02:01:51.302Z"
   },
   {
    "duration": 6,
    "start_time": "2024-09-18T02:01:51.663Z"
   },
   {
    "duration": 41,
    "start_time": "2024-09-18T02:01:51.977Z"
   },
   {
    "duration": 7,
    "start_time": "2024-09-18T02:01:52.416Z"
   },
   {
    "duration": 5,
    "start_time": "2024-09-18T02:01:52.722Z"
   },
   {
    "duration": 4,
    "start_time": "2024-09-18T02:01:53.036Z"
   },
   {
    "duration": 4,
    "start_time": "2024-09-18T02:01:53.427Z"
   },
   {
    "duration": 5,
    "start_time": "2024-09-18T02:01:53.838Z"
   },
   {
    "duration": 5,
    "start_time": "2024-09-18T02:01:54.167Z"
   },
   {
    "duration": 11,
    "start_time": "2024-09-18T02:01:56.734Z"
   },
   {
    "duration": 12,
    "start_time": "2024-09-18T02:01:58.039Z"
   },
   {
    "duration": 5,
    "start_time": "2024-09-18T02:01:59.656Z"
   },
   {
    "duration": 6,
    "start_time": "2024-09-18T02:02:00.066Z"
   },
   {
    "duration": 2,
    "start_time": "2024-09-18T02:02:01.901Z"
   },
   {
    "duration": 16,
    "start_time": "2024-09-18T02:02:02.378Z"
   },
   {
    "duration": 9,
    "start_time": "2024-09-18T02:02:03.326Z"
   },
   {
    "duration": 3,
    "start_time": "2024-09-18T02:02:03.783Z"
   },
   {
    "duration": 3,
    "start_time": "2024-09-18T02:02:05.225Z"
   },
   {
    "duration": 12,
    "start_time": "2024-09-18T02:02:05.738Z"
   },
   {
    "duration": 63,
    "start_time": "2024-09-18T02:02:08.422Z"
   },
   {
    "duration": 7,
    "start_time": "2024-09-18T02:02:08.849Z"
   },
   {
    "duration": 2,
    "start_time": "2024-09-18T02:02:10.028Z"
   },
   {
    "duration": 11,
    "start_time": "2024-09-18T02:02:10.571Z"
   },
   {
    "duration": 2,
    "start_time": "2024-09-18T02:02:11.107Z"
   },
   {
    "duration": 10,
    "start_time": "2024-09-18T02:02:11.749Z"
   },
   {
    "duration": 3,
    "start_time": "2024-09-18T02:02:13.445Z"
   },
   {
    "duration": 55,
    "start_time": "2024-09-18T02:02:14.046Z"
   },
   {
    "duration": 4,
    "start_time": "2024-09-18T02:02:14.464Z"
   },
   {
    "duration": 4,
    "start_time": "2024-09-18T02:02:15.102Z"
   },
   {
    "duration": 5,
    "start_time": "2024-09-18T02:02:17.391Z"
   },
   {
    "duration": 136,
    "start_time": "2024-09-18T02:02:19.361Z"
   },
   {
    "duration": 4,
    "start_time": "2024-09-18T02:02:19.962Z"
   },
   {
    "duration": 2,
    "start_time": "2024-09-18T02:02:21.854Z"
   },
   {
    "duration": 529,
    "start_time": "2024-09-18T02:02:22.533Z"
   },
   {
    "duration": 5,
    "start_time": "2024-09-18T02:02:24.109Z"
   },
   {
    "duration": 6,
    "start_time": "2024-09-18T02:02:24.258Z"
   },
   {
    "duration": 5,
    "start_time": "2024-09-18T02:02:24.542Z"
   },
   {
    "duration": 4,
    "start_time": "2024-09-18T02:02:25.479Z"
   },
   {
    "duration": 4,
    "start_time": "2024-09-18T02:02:26.037Z"
   },
   {
    "duration": 2,
    "start_time": "2024-09-18T02:02:28.397Z"
   },
   {
    "duration": 347,
    "start_time": "2024-09-18T02:02:29.096Z"
   },
   {
    "duration": 45,
    "start_time": "2024-09-18T02:02:29.445Z"
   },
   {
    "duration": 2,
    "start_time": "2024-09-18T02:02:30.305Z"
   },
   {
    "duration": 10,
    "start_time": "2024-09-18T02:02:30.843Z"
   },
   {
    "duration": 5,
    "start_time": "2024-09-18T02:02:32.109Z"
   },
   {
    "duration": 45,
    "start_time": "2024-09-18T02:02:33.907Z"
   },
   {
    "duration": 869,
    "start_time": "2024-09-18T07:59:08.042Z"
   },
   {
    "duration": 34,
    "start_time": "2024-09-18T07:59:08.913Z"
   },
   {
    "duration": 3,
    "start_time": "2024-09-18T07:59:08.949Z"
   },
   {
    "duration": 9,
    "start_time": "2024-09-18T07:59:08.954Z"
   },
   {
    "duration": 4,
    "start_time": "2024-09-18T07:59:08.964Z"
   },
   {
    "duration": 17,
    "start_time": "2024-09-18T07:59:08.970Z"
   },
   {
    "duration": 37,
    "start_time": "2024-09-18T07:59:08.988Z"
   },
   {
    "duration": 12,
    "start_time": "2024-09-18T07:59:09.027Z"
   },
   {
    "duration": 4,
    "start_time": "2024-09-18T07:59:09.040Z"
   },
   {
    "duration": 8,
    "start_time": "2024-09-18T07:59:09.047Z"
   },
   {
    "duration": 3,
    "start_time": "2024-09-18T07:59:09.057Z"
   },
   {
    "duration": 8,
    "start_time": "2024-09-18T07:59:09.062Z"
   },
   {
    "duration": 5,
    "start_time": "2024-09-18T07:59:09.071Z"
   },
   {
    "duration": 50,
    "start_time": "2024-09-18T07:59:09.077Z"
   },
   {
    "duration": 7,
    "start_time": "2024-09-18T07:59:09.129Z"
   },
   {
    "duration": 9,
    "start_time": "2024-09-18T07:59:09.137Z"
   },
   {
    "duration": 13,
    "start_time": "2024-09-18T07:59:09.148Z"
   },
   {
    "duration": 14,
    "start_time": "2024-09-18T07:59:09.162Z"
   },
   {
    "duration": 10,
    "start_time": "2024-09-18T07:59:09.177Z"
   },
   {
    "duration": 5,
    "start_time": "2024-09-18T07:59:09.224Z"
   },
   {
    "duration": 3,
    "start_time": "2024-09-18T07:59:09.231Z"
   },
   {
    "duration": 4,
    "start_time": "2024-09-18T07:59:09.236Z"
   },
   {
    "duration": 2,
    "start_time": "2024-09-18T07:59:09.242Z"
   },
   {
    "duration": 4,
    "start_time": "2024-09-18T07:59:09.246Z"
   },
   {
    "duration": 5,
    "start_time": "2024-09-18T07:59:09.251Z"
   },
   {
    "duration": 6,
    "start_time": "2024-09-18T07:59:09.258Z"
   },
   {
    "duration": 5,
    "start_time": "2024-09-18T07:59:09.265Z"
   },
   {
    "duration": 399,
    "start_time": "2024-09-18T07:59:09.276Z"
   },
   {
    "duration": 3,
    "start_time": "2024-09-18T07:59:09.677Z"
   },
   {
    "duration": 4,
    "start_time": "2024-09-18T07:59:09.682Z"
   },
   {
    "duration": 4,
    "start_time": "2024-09-18T07:59:09.687Z"
   },
   {
    "duration": 4,
    "start_time": "2024-09-18T07:59:09.692Z"
   },
   {
    "duration": 28,
    "start_time": "2024-09-18T07:59:09.697Z"
   },
   {
    "duration": 4,
    "start_time": "2024-09-18T07:59:09.726Z"
   },
   {
    "duration": 6,
    "start_time": "2024-09-18T07:59:09.732Z"
   },
   {
    "duration": 5,
    "start_time": "2024-09-18T07:59:09.740Z"
   },
   {
    "duration": 97,
    "start_time": "2024-09-18T07:59:09.747Z"
   },
   {
    "duration": 3,
    "start_time": "2024-09-18T07:59:09.846Z"
   },
   {
    "duration": 4,
    "start_time": "2024-09-18T07:59:09.851Z"
   },
   {
    "duration": 4,
    "start_time": "2024-09-18T07:59:09.857Z"
   },
   {
    "duration": 5,
    "start_time": "2024-09-18T07:59:09.863Z"
   },
   {
    "duration": 8,
    "start_time": "2024-09-18T07:59:09.869Z"
   },
   {
    "duration": 2,
    "start_time": "2024-09-18T07:59:09.879Z"
   },
   {
    "duration": 4,
    "start_time": "2024-09-18T07:59:09.924Z"
   },
   {
    "duration": 3,
    "start_time": "2024-09-18T07:59:09.929Z"
   },
   {
    "duration": 4,
    "start_time": "2024-09-18T07:59:09.933Z"
   },
   {
    "duration": 46,
    "start_time": "2024-09-18T07:59:09.938Z"
   },
   {
    "duration": 4,
    "start_time": "2024-09-18T07:59:09.985Z"
   },
   {
    "duration": 4,
    "start_time": "2024-09-18T07:59:09.990Z"
   },
   {
    "duration": 34,
    "start_time": "2024-09-18T07:59:09.995Z"
   },
   {
    "duration": 4,
    "start_time": "2024-09-18T07:59:10.031Z"
   },
   {
    "duration": 49,
    "start_time": "2024-09-18T07:59:10.037Z"
   },
   {
    "duration": 5,
    "start_time": "2024-09-18T07:59:10.088Z"
   },
   {
    "duration": 33,
    "start_time": "2024-09-18T07:59:10.094Z"
   },
   {
    "duration": 42,
    "start_time": "2024-09-18T07:59:10.128Z"
   },
   {
    "duration": 6,
    "start_time": "2024-09-18T07:59:10.172Z"
   },
   {
    "duration": 3,
    "start_time": "2024-09-18T07:59:10.180Z"
   },
   {
    "duration": 4,
    "start_time": "2024-09-18T07:59:10.184Z"
   },
   {
    "duration": 5,
    "start_time": "2024-09-18T07:59:10.189Z"
   },
   {
    "duration": 4,
    "start_time": "2024-09-18T07:59:10.224Z"
   },
   {
    "duration": 4,
    "start_time": "2024-09-18T07:59:10.230Z"
   },
   {
    "duration": 4,
    "start_time": "2024-09-18T07:59:10.235Z"
   },
   {
    "duration": 2,
    "start_time": "2024-09-18T07:59:10.241Z"
   },
   {
    "duration": 4,
    "start_time": "2024-09-18T07:59:10.245Z"
   },
   {
    "duration": 99,
    "start_time": "2024-09-18T07:59:10.251Z"
   },
   {
    "duration": 12,
    "start_time": "2024-09-18T07:59:10.352Z"
   },
   {
    "duration": 5,
    "start_time": "2024-09-18T07:59:10.368Z"
   },
   {
    "duration": 4,
    "start_time": "2024-09-18T07:59:10.374Z"
   },
   {
    "duration": 73,
    "start_time": "2024-09-18T07:59:10.380Z"
   },
   {
    "duration": 4,
    "start_time": "2024-09-18T07:59:10.454Z"
   },
   {
    "duration": 4,
    "start_time": "2024-09-18T07:59:10.460Z"
   },
   {
    "duration": 4,
    "start_time": "2024-09-18T07:59:10.465Z"
   },
   {
    "duration": 4,
    "start_time": "2024-09-18T07:59:10.471Z"
   },
   {
    "duration": 4,
    "start_time": "2024-09-18T07:59:10.477Z"
   },
   {
    "duration": 43,
    "start_time": "2024-09-18T07:59:10.483Z"
   },
   {
    "duration": 7,
    "start_time": "2024-09-18T07:59:10.528Z"
   },
   {
    "duration": 4,
    "start_time": "2024-09-18T07:59:10.536Z"
   },
   {
    "duration": 41,
    "start_time": "2024-09-18T07:59:10.542Z"
   },
   {
    "duration": 4,
    "start_time": "2024-09-18T07:59:10.585Z"
   },
   {
    "duration": 35,
    "start_time": "2024-09-18T07:59:10.591Z"
   },
   {
    "duration": 40,
    "start_time": "2024-09-18T07:59:10.628Z"
   },
   {
    "duration": 3,
    "start_time": "2024-09-18T07:59:10.675Z"
   },
   {
    "duration": 4,
    "start_time": "2024-09-18T07:59:10.680Z"
   },
   {
    "duration": 4,
    "start_time": "2024-09-18T07:59:10.685Z"
   },
   {
    "duration": 3,
    "start_time": "2024-09-18T07:59:10.691Z"
   },
   {
    "duration": 31,
    "start_time": "2024-09-18T07:59:10.696Z"
   },
   {
    "duration": 12,
    "start_time": "2024-09-18T07:59:10.728Z"
   },
   {
    "duration": 6,
    "start_time": "2024-09-18T07:59:10.742Z"
   },
   {
    "duration": 5,
    "start_time": "2024-09-18T07:59:10.750Z"
   },
   {
    "duration": 40,
    "start_time": "2024-09-18T07:59:10.757Z"
   },
   {
    "duration": 3,
    "start_time": "2024-09-18T07:59:10.824Z"
   },
   {
    "duration": 4,
    "start_time": "2024-09-18T07:59:10.829Z"
   },
   {
    "duration": 4,
    "start_time": "2024-09-18T07:59:10.835Z"
   },
   {
    "duration": 4,
    "start_time": "2024-09-18T07:59:10.840Z"
   },
   {
    "duration": 4,
    "start_time": "2024-09-18T07:59:10.846Z"
   },
   {
    "duration": 4,
    "start_time": "2024-09-18T07:59:10.852Z"
   },
   {
    "duration": 10,
    "start_time": "2024-09-18T07:59:10.858Z"
   },
   {
    "duration": 61,
    "start_time": "2024-09-18T07:59:10.869Z"
   },
   {
    "duration": 4,
    "start_time": "2024-09-18T07:59:10.932Z"
   },
   {
    "duration": 4,
    "start_time": "2024-09-18T07:59:10.938Z"
   },
   {
    "duration": 3,
    "start_time": "2024-09-18T07:59:10.944Z"
   },
   {
    "duration": 17,
    "start_time": "2024-09-18T07:59:10.950Z"
   },
   {
    "duration": 56,
    "start_time": "2024-09-18T07:59:10.969Z"
   },
   {
    "duration": 5,
    "start_time": "2024-09-18T07:59:11.027Z"
   },
   {
    "duration": 3,
    "start_time": "2024-09-18T07:59:11.035Z"
   },
   {
    "duration": 84,
    "start_time": "2024-09-18T07:59:11.040Z"
   },
   {
    "duration": 66,
    "start_time": "2024-09-18T07:59:11.126Z"
   },
   {
    "duration": 36,
    "start_time": "2024-09-18T07:59:11.194Z"
   },
   {
    "duration": 3,
    "start_time": "2024-09-18T07:59:11.231Z"
   },
   {
    "duration": 11,
    "start_time": "2024-09-18T07:59:11.235Z"
   },
   {
    "duration": 78,
    "start_time": "2024-09-18T07:59:11.248Z"
   },
   {
    "duration": 9,
    "start_time": "2024-09-18T07:59:11.328Z"
   },
   {
    "duration": 3,
    "start_time": "2024-09-18T07:59:11.338Z"
   },
   {
    "duration": 82,
    "start_time": "2024-09-18T07:59:11.343Z"
   },
   {
    "duration": 5,
    "start_time": "2024-09-18T07:59:11.427Z"
   },
   {
    "duration": 5,
    "start_time": "2024-09-18T07:59:11.434Z"
   },
   {
    "duration": 5,
    "start_time": "2024-09-18T07:59:11.441Z"
   },
   {
    "duration": 164,
    "start_time": "2024-09-18T07:59:11.447Z"
   },
   {
    "duration": 12,
    "start_time": "2024-09-18T07:59:11.613Z"
   },
   {
    "duration": 3,
    "start_time": "2024-09-18T07:59:11.627Z"
   },
   {
    "duration": 531,
    "start_time": "2024-09-18T07:59:11.632Z"
   },
   {
    "duration": 4,
    "start_time": "2024-09-18T07:59:12.165Z"
   },
   {
    "duration": 5,
    "start_time": "2024-09-18T07:59:12.171Z"
   },
   {
    "duration": 351,
    "start_time": "2024-09-18T07:59:12.177Z"
   },
   {
    "duration": 0,
    "start_time": "2024-09-18T07:59:12.529Z"
   },
   {
    "duration": 0,
    "start_time": "2024-09-18T07:59:12.531Z"
   },
   {
    "duration": 0,
    "start_time": "2024-09-18T07:59:12.532Z"
   },
   {
    "duration": 0,
    "start_time": "2024-09-18T07:59:12.533Z"
   },
   {
    "duration": 0,
    "start_time": "2024-09-18T07:59:12.534Z"
   },
   {
    "duration": 0,
    "start_time": "2024-09-18T07:59:12.535Z"
   },
   {
    "duration": 0,
    "start_time": "2024-09-18T07:59:12.536Z"
   },
   {
    "duration": 0,
    "start_time": "2024-09-18T07:59:12.537Z"
   },
   {
    "duration": 0,
    "start_time": "2024-09-18T07:59:12.538Z"
   },
   {
    "duration": 871,
    "start_time": "2024-09-18T20:28:12.747Z"
   },
   {
    "duration": 38,
    "start_time": "2024-09-18T20:28:14.169Z"
   },
   {
    "duration": 4,
    "start_time": "2024-09-18T20:28:16.349Z"
   },
   {
    "duration": 10,
    "start_time": "2024-09-18T20:28:16.886Z"
   },
   {
    "duration": 5,
    "start_time": "2024-09-18T20:28:18.546Z"
   },
   {
    "duration": 18,
    "start_time": "2024-09-18T20:28:20.146Z"
   },
   {
    "duration": 10,
    "start_time": "2024-09-18T20:28:21.220Z"
   },
   {
    "duration": 12,
    "start_time": "2024-09-18T20:28:23.035Z"
   },
   {
    "duration": 7,
    "start_time": "2024-09-18T20:28:23.822Z"
   },
   {
    "duration": 11,
    "start_time": "2024-09-18T20:28:24.851Z"
   },
   {
    "duration": 4,
    "start_time": "2024-09-18T20:28:26.418Z"
   },
   {
    "duration": 10,
    "start_time": "2024-09-18T20:28:26.645Z"
   },
   {
    "duration": 6,
    "start_time": "2024-09-18T20:28:27.904Z"
   },
   {
    "duration": 15,
    "start_time": "2024-09-18T20:28:28.157Z"
   },
   {
    "duration": 8,
    "start_time": "2024-09-18T20:28:29.115Z"
   },
   {
    "duration": 11,
    "start_time": "2024-09-18T20:28:29.724Z"
   },
   {
    "duration": 14,
    "start_time": "2024-09-18T20:28:30.588Z"
   },
   {
    "duration": 15,
    "start_time": "2024-09-18T20:28:31.583Z"
   },
   {
    "duration": 13,
    "start_time": "2024-09-18T20:28:32.037Z"
   },
   {
    "duration": 6,
    "start_time": "2024-09-18T20:31:36.798Z"
   },
   {
    "duration": 4,
    "start_time": "2024-09-18T20:31:38.217Z"
   },
   {
    "duration": 4,
    "start_time": "2024-09-18T20:31:38.595Z"
   },
   {
    "duration": 3,
    "start_time": "2024-09-18T20:31:39.339Z"
   },
   {
    "duration": 5,
    "start_time": "2024-09-18T20:31:39.684Z"
   },
   {
    "duration": 6,
    "start_time": "2024-09-18T20:31:39.998Z"
   },
   {
    "duration": 6,
    "start_time": "2024-09-18T20:31:40.503Z"
   },
   {
    "duration": 5,
    "start_time": "2024-09-18T20:31:41.315Z"
   },
   {
    "duration": 386,
    "start_time": "2024-09-18T20:31:41.667Z"
   },
   {
    "duration": 4,
    "start_time": "2024-09-18T20:31:42.420Z"
   },
   {
    "duration": 4,
    "start_time": "2024-09-18T20:31:42.927Z"
   },
   {
    "duration": 4,
    "start_time": "2024-09-18T20:31:43.314Z"
   },
   {
    "duration": 4,
    "start_time": "2024-09-18T20:31:43.631Z"
   },
   {
    "duration": 4,
    "start_time": "2024-09-18T20:31:43.850Z"
   },
   {
    "duration": 5,
    "start_time": "2024-09-18T20:31:44.165Z"
   },
   {
    "duration": 6,
    "start_time": "2024-09-18T20:31:45.338Z"
   },
   {
    "duration": 6,
    "start_time": "2024-09-18T20:31:46.742Z"
   },
   {
    "duration": 64,
    "start_time": "2024-09-18T20:31:47.195Z"
   },
   {
    "duration": 4,
    "start_time": "2024-09-18T20:31:47.531Z"
   },
   {
    "duration": 4,
    "start_time": "2024-09-18T20:31:48.356Z"
   },
   {
    "duration": 4,
    "start_time": "2024-09-18T20:31:48.685Z"
   },
   {
    "duration": 5,
    "start_time": "2024-09-18T20:31:49.961Z"
   },
   {
    "duration": 11,
    "start_time": "2024-09-18T20:31:51.602Z"
   },
   {
    "duration": 3,
    "start_time": "2024-09-18T20:31:52.072Z"
   },
   {
    "duration": 4,
    "start_time": "2024-09-18T20:31:52.481Z"
   },
   {
    "duration": 2,
    "start_time": "2024-09-18T20:31:53.170Z"
   },
   {
    "duration": 4,
    "start_time": "2024-09-18T20:31:54.625Z"
   },
   {
    "duration": 48,
    "start_time": "2024-09-18T20:31:55.606Z"
   },
   {
    "duration": 4,
    "start_time": "2024-09-18T20:31:56.978Z"
   },
   {
    "duration": 5,
    "start_time": "2024-09-18T20:31:57.530Z"
   },
   {
    "duration": 5,
    "start_time": "2024-09-18T20:31:58.260Z"
   },
   {
    "duration": 4,
    "start_time": "2024-09-18T20:31:58.807Z"
   },
   {
    "duration": 51,
    "start_time": "2024-09-18T20:31:59.797Z"
   },
   {
    "duration": 7,
    "start_time": "2024-09-18T20:32:01.157Z"
   },
   {
    "duration": 6,
    "start_time": "2024-09-18T20:32:01.858Z"
   },
   {
    "duration": 47,
    "start_time": "2024-09-18T20:32:02.122Z"
   },
   {
    "duration": 7,
    "start_time": "2024-09-18T20:32:03.818Z"
   },
   {
    "duration": 4,
    "start_time": "2024-09-18T20:32:04.314Z"
   },
   {
    "duration": 4,
    "start_time": "2024-09-18T20:32:04.842Z"
   },
   {
    "duration": 5,
    "start_time": "2024-09-18T20:32:05.349Z"
   },
   {
    "duration": 4,
    "start_time": "2024-09-18T20:32:07.258Z"
   },
   {
    "duration": 5,
    "start_time": "2024-09-18T20:32:07.608Z"
   },
   {
    "duration": 4,
    "start_time": "2024-09-18T20:32:08.221Z"
   },
   {
    "duration": 4,
    "start_time": "2024-09-18T20:32:15.548Z"
   },
   {
    "duration": 4,
    "start_time": "2024-09-18T20:32:16.091Z"
   },
   {
    "duration": 75,
    "start_time": "2024-09-18T20:32:16.651Z"
   },
   {
    "duration": 10,
    "start_time": "2024-09-18T20:32:21.649Z"
   },
   {
    "duration": 5,
    "start_time": "2024-09-18T20:32:21.978Z"
   },
   {
    "duration": 6,
    "start_time": "2024-09-18T20:32:22.421Z"
   },
   {
    "duration": 43,
    "start_time": "2024-09-18T20:32:22.910Z"
   },
   {
    "duration": 4,
    "start_time": "2024-09-18T20:32:23.605Z"
   },
   {
    "duration": 4,
    "start_time": "2024-09-18T20:32:24.325Z"
   },
   {
    "duration": 4,
    "start_time": "2024-09-18T20:32:24.533Z"
   },
   {
    "duration": 4,
    "start_time": "2024-09-18T20:32:24.788Z"
   },
   {
    "duration": 5,
    "start_time": "2024-09-18T20:32:25.698Z"
   },
   {
    "duration": 5,
    "start_time": "2024-09-18T20:32:27.577Z"
   },
   {
    "duration": 9,
    "start_time": "2024-09-18T20:32:40.867Z"
   },
   {
    "duration": 5,
    "start_time": "2024-09-18T20:32:41.324Z"
   },
   {
    "duration": 46,
    "start_time": "2024-09-18T20:32:41.701Z"
   },
   {
    "duration": 5,
    "start_time": "2024-09-18T20:32:43.479Z"
   },
   {
    "duration": 7,
    "start_time": "2024-09-18T20:32:43.880Z"
   },
   {
    "duration": 42,
    "start_time": "2024-09-18T20:32:44.447Z"
   },
   {
    "duration": 3,
    "start_time": "2024-09-18T20:32:45.522Z"
   },
   {
    "duration": 6,
    "start_time": "2024-09-18T20:32:47.510Z"
   },
   {
    "duration": 5,
    "start_time": "2024-09-18T20:32:48.195Z"
   },
   {
    "duration": 3,
    "start_time": "2024-09-18T20:32:48.788Z"
   },
   {
    "duration": 5,
    "start_time": "2024-09-18T20:32:49.346Z"
   },
   {
    "duration": 13,
    "start_time": "2024-09-18T20:32:49.874Z"
   },
   {
    "duration": 7,
    "start_time": "2024-09-18T20:32:50.503Z"
   },
   {
    "duration": 6,
    "start_time": "2024-09-18T20:32:51.087Z"
   },
   {
    "duration": 42,
    "start_time": "2024-09-18T20:32:51.695Z"
   },
   {
    "duration": 4,
    "start_time": "2024-09-18T20:32:52.407Z"
   },
   {
    "duration": 4,
    "start_time": "2024-09-18T20:32:53.200Z"
   },
   {
    "duration": 4,
    "start_time": "2024-09-18T20:32:53.636Z"
   },
   {
    "duration": 4,
    "start_time": "2024-09-18T20:32:54.514Z"
   },
   {
    "duration": 4,
    "start_time": "2024-09-18T20:32:56.027Z"
   },
   {
    "duration": 4,
    "start_time": "2024-09-18T20:32:56.564Z"
   },
   {
    "duration": 11,
    "start_time": "2024-09-18T20:33:17.802Z"
   },
   {
    "duration": 13,
    "start_time": "2024-09-18T20:33:21.240Z"
   },
   {
    "duration": 9,
    "start_time": "2024-09-18T20:34:56.163Z"
   },
   {
    "duration": 13,
    "start_time": "2024-09-18T20:36:25.243Z"
   },
   {
    "duration": 4,
    "start_time": "2024-09-18T20:36:44.808Z"
   },
   {
    "duration": 7,
    "start_time": "2024-09-18T20:36:45.359Z"
   },
   {
    "duration": 2,
    "start_time": "2024-09-18T20:44:54.211Z"
   },
   {
    "duration": 6,
    "start_time": "2024-09-18T20:47:28.060Z"
   },
   {
    "duration": 6,
    "start_time": "2024-09-18T20:51:05.342Z"
   },
   {
    "duration": 6,
    "start_time": "2024-09-18T20:51:05.861Z"
   },
   {
    "duration": 4,
    "start_time": "2024-09-18T20:51:26.306Z"
   },
   {
    "duration": 839,
    "start_time": "2024-09-19T20:26:31.887Z"
   },
   {
    "duration": 44,
    "start_time": "2024-09-19T20:26:32.728Z"
   },
   {
    "duration": 3,
    "start_time": "2024-09-19T20:26:32.774Z"
   },
   {
    "duration": 10,
    "start_time": "2024-09-19T20:26:32.780Z"
   },
   {
    "duration": 4,
    "start_time": "2024-09-19T20:26:32.792Z"
   },
   {
    "duration": 16,
    "start_time": "2024-09-19T20:26:32.798Z"
   },
   {
    "duration": 23,
    "start_time": "2024-09-19T20:26:32.816Z"
   },
   {
    "duration": 11,
    "start_time": "2024-09-19T20:26:32.841Z"
   },
   {
    "duration": 4,
    "start_time": "2024-09-19T20:26:32.853Z"
   },
   {
    "duration": 8,
    "start_time": "2024-09-19T20:26:32.860Z"
   },
   {
    "duration": 2,
    "start_time": "2024-09-19T20:26:32.870Z"
   },
   {
    "duration": 9,
    "start_time": "2024-09-19T20:26:32.874Z"
   },
   {
    "duration": 5,
    "start_time": "2024-09-19T20:26:32.885Z"
   },
   {
    "duration": 15,
    "start_time": "2024-09-19T20:26:32.932Z"
   },
   {
    "duration": 7,
    "start_time": "2024-09-19T20:26:32.949Z"
   },
   {
    "duration": 10,
    "start_time": "2024-09-19T20:26:32.958Z"
   },
   {
    "duration": 15,
    "start_time": "2024-09-19T20:26:32.970Z"
   },
   {
    "duration": 47,
    "start_time": "2024-09-19T20:26:32.987Z"
   },
   {
    "duration": 10,
    "start_time": "2024-09-19T20:26:33.036Z"
   },
   {
    "duration": 5,
    "start_time": "2024-09-19T20:26:33.048Z"
   },
   {
    "duration": 4,
    "start_time": "2024-09-19T20:26:33.054Z"
   },
   {
    "duration": 3,
    "start_time": "2024-09-19T20:26:33.060Z"
   },
   {
    "duration": 3,
    "start_time": "2024-09-19T20:26:33.065Z"
   },
   {
    "duration": 4,
    "start_time": "2024-09-19T20:26:33.069Z"
   },
   {
    "duration": 5,
    "start_time": "2024-09-19T20:26:33.075Z"
   },
   {
    "duration": 6,
    "start_time": "2024-09-19T20:26:33.081Z"
   },
   {
    "duration": 5,
    "start_time": "2024-09-19T20:26:33.132Z"
   },
   {
    "duration": 378,
    "start_time": "2024-09-19T20:26:33.143Z"
   },
   {
    "duration": 4,
    "start_time": "2024-09-19T20:26:33.523Z"
   },
   {
    "duration": 3,
    "start_time": "2024-09-19T20:26:33.531Z"
   },
   {
    "duration": 4,
    "start_time": "2024-09-19T20:26:33.535Z"
   },
   {
    "duration": 4,
    "start_time": "2024-09-19T20:26:33.541Z"
   },
   {
    "duration": 4,
    "start_time": "2024-09-19T20:26:33.546Z"
   },
   {
    "duration": 4,
    "start_time": "2024-09-19T20:26:33.552Z"
   },
   {
    "duration": 5,
    "start_time": "2024-09-19T20:26:33.558Z"
   },
   {
    "duration": 5,
    "start_time": "2024-09-19T20:26:33.565Z"
   },
   {
    "duration": 103,
    "start_time": "2024-09-19T20:26:33.572Z"
   },
   {
    "duration": 4,
    "start_time": "2024-09-19T20:26:33.677Z"
   },
   {
    "duration": 3,
    "start_time": "2024-09-19T20:26:33.683Z"
   },
   {
    "duration": 43,
    "start_time": "2024-09-19T20:26:33.689Z"
   },
   {
    "duration": 5,
    "start_time": "2024-09-19T20:26:33.734Z"
   },
   {
    "duration": 8,
    "start_time": "2024-09-19T20:26:33.741Z"
   },
   {
    "duration": 3,
    "start_time": "2024-09-19T20:26:33.750Z"
   },
   {
    "duration": 4,
    "start_time": "2024-09-19T20:26:33.754Z"
   },
   {
    "duration": 3,
    "start_time": "2024-09-19T20:26:33.760Z"
   },
   {
    "duration": 3,
    "start_time": "2024-09-19T20:26:33.765Z"
   },
   {
    "duration": 87,
    "start_time": "2024-09-19T20:26:33.770Z"
   },
   {
    "duration": 4,
    "start_time": "2024-09-19T20:26:33.859Z"
   },
   {
    "duration": 4,
    "start_time": "2024-09-19T20:26:33.865Z"
   },
   {
    "duration": 5,
    "start_time": "2024-09-19T20:26:33.870Z"
   },
   {
    "duration": 3,
    "start_time": "2024-09-19T20:26:33.877Z"
   },
   {
    "duration": 71,
    "start_time": "2024-09-19T20:26:33.881Z"
   },
   {
    "duration": 5,
    "start_time": "2024-09-19T20:26:33.953Z"
   },
   {
    "duration": 5,
    "start_time": "2024-09-19T20:26:33.959Z"
   },
   {
    "duration": 41,
    "start_time": "2024-09-19T20:26:33.965Z"
   },
   {
    "duration": 6,
    "start_time": "2024-09-19T20:26:34.031Z"
   },
   {
    "duration": 3,
    "start_time": "2024-09-19T20:26:34.038Z"
   },
   {
    "duration": 4,
    "start_time": "2024-09-19T20:26:34.043Z"
   },
   {
    "duration": 4,
    "start_time": "2024-09-19T20:26:34.049Z"
   },
   {
    "duration": 4,
    "start_time": "2024-09-19T20:26:34.055Z"
   },
   {
    "duration": 4,
    "start_time": "2024-09-19T20:26:34.061Z"
   },
   {
    "duration": 4,
    "start_time": "2024-09-19T20:26:34.066Z"
   },
   {
    "duration": 3,
    "start_time": "2024-09-19T20:26:34.071Z"
   },
   {
    "duration": 4,
    "start_time": "2024-09-19T20:26:34.076Z"
   },
   {
    "duration": 121,
    "start_time": "2024-09-19T20:26:34.081Z"
   },
   {
    "duration": 27,
    "start_time": "2024-09-19T20:26:34.204Z"
   },
   {
    "duration": 5,
    "start_time": "2024-09-19T20:26:34.233Z"
   },
   {
    "duration": 6,
    "start_time": "2024-09-19T20:26:34.239Z"
   },
   {
    "duration": 44,
    "start_time": "2024-09-19T20:26:34.248Z"
   },
   {
    "duration": 4,
    "start_time": "2024-09-19T20:26:34.294Z"
   },
   {
    "duration": 4,
    "start_time": "2024-09-19T20:26:34.299Z"
   },
   {
    "duration": 5,
    "start_time": "2024-09-19T20:26:34.331Z"
   },
   {
    "duration": 4,
    "start_time": "2024-09-19T20:26:34.337Z"
   },
   {
    "duration": 5,
    "start_time": "2024-09-19T20:26:34.343Z"
   },
   {
    "duration": 4,
    "start_time": "2024-09-19T20:26:34.349Z"
   },
   {
    "duration": 7,
    "start_time": "2024-09-19T20:26:34.355Z"
   },
   {
    "duration": 5,
    "start_time": "2024-09-19T20:26:34.365Z"
   },
   {
    "duration": 84,
    "start_time": "2024-09-19T20:26:34.372Z"
   },
   {
    "duration": 5,
    "start_time": "2024-09-19T20:26:34.457Z"
   },
   {
    "duration": 6,
    "start_time": "2024-09-19T20:26:34.463Z"
   },
   {
    "duration": 61,
    "start_time": "2024-09-19T20:26:34.470Z"
   },
   {
    "duration": 4,
    "start_time": "2024-09-19T20:26:34.538Z"
   },
   {
    "duration": 8,
    "start_time": "2024-09-19T20:26:34.544Z"
   },
   {
    "duration": 4,
    "start_time": "2024-09-19T20:26:34.554Z"
   },
   {
    "duration": 3,
    "start_time": "2024-09-19T20:26:34.559Z"
   },
   {
    "duration": 4,
    "start_time": "2024-09-19T20:26:34.564Z"
   },
   {
    "duration": 15,
    "start_time": "2024-09-19T20:26:34.570Z"
   },
   {
    "duration": 6,
    "start_time": "2024-09-19T20:26:34.587Z"
   },
   {
    "duration": 5,
    "start_time": "2024-09-19T20:26:34.630Z"
   },
   {
    "duration": 41,
    "start_time": "2024-09-19T20:26:34.636Z"
   },
   {
    "duration": 6,
    "start_time": "2024-09-19T20:26:34.678Z"
   },
   {
    "duration": 3,
    "start_time": "2024-09-19T20:26:34.687Z"
   },
   {
    "duration": 4,
    "start_time": "2024-09-19T20:26:34.692Z"
   },
   {
    "duration": 4,
    "start_time": "2024-09-19T20:26:34.698Z"
   },
   {
    "duration": 4,
    "start_time": "2024-09-19T20:26:34.731Z"
   },
   {
    "duration": 4,
    "start_time": "2024-09-19T20:26:34.737Z"
   },
   {
    "duration": 11,
    "start_time": "2024-09-19T20:26:36.040Z"
   },
   {
    "duration": 13,
    "start_time": "2024-09-19T20:26:36.678Z"
   },
   {
    "duration": 5,
    "start_time": "2024-09-19T20:26:38.796Z"
   },
   {
    "duration": 2,
    "start_time": "2024-09-19T20:26:43.236Z"
   },
   {
    "duration": 7,
    "start_time": "2024-09-19T20:26:47.255Z"
   },
   {
    "duration": 5,
    "start_time": "2024-09-19T20:26:49.415Z"
   },
   {
    "duration": 3,
    "start_time": "2024-09-19T20:27:00.408Z"
   },
   {
    "duration": 15,
    "start_time": "2024-09-19T20:27:00.843Z"
   },
   {
    "duration": 6,
    "start_time": "2024-09-19T20:27:01.145Z"
   },
   {
    "duration": 3,
    "start_time": "2024-09-19T20:27:01.521Z"
   },
   {
    "duration": 3,
    "start_time": "2024-09-19T20:27:12.006Z"
   },
   {
    "duration": 9,
    "start_time": "2024-09-19T20:27:12.313Z"
   },
   {
    "duration": 34,
    "start_time": "2024-09-19T20:27:21.972Z"
   },
   {
    "duration": 7,
    "start_time": "2024-09-19T20:27:22.445Z"
   },
   {
    "duration": 3,
    "start_time": "2024-09-19T20:27:23.244Z"
   },
   {
    "duration": 9,
    "start_time": "2024-09-19T20:27:23.595Z"
   },
   {
    "duration": 3,
    "start_time": "2024-09-19T20:27:24.086Z"
   },
   {
    "duration": 8,
    "start_time": "2024-09-19T20:27:24.751Z"
   },
   {
    "duration": 2,
    "start_time": "2024-09-19T20:27:40.681Z"
   },
   {
    "duration": 46,
    "start_time": "2024-09-19T20:27:40.931Z"
   },
   {
    "duration": 4,
    "start_time": "2024-09-19T20:27:41.210Z"
   },
   {
    "duration": 5,
    "start_time": "2024-09-19T20:27:41.593Z"
   },
   {
    "duration": 4,
    "start_time": "2024-09-19T20:27:43.820Z"
   },
   {
    "duration": 115,
    "start_time": "2024-09-19T20:27:46.095Z"
   },
   {
    "duration": 3,
    "start_time": "2024-09-19T20:27:46.668Z"
   },
   {
    "duration": 3,
    "start_time": "2024-09-19T20:27:47.850Z"
   },
   {
    "duration": 431,
    "start_time": "2024-09-19T20:27:48.314Z"
   },
   {
    "duration": 4,
    "start_time": "2024-09-19T20:27:54.394Z"
   },
   {
    "duration": 5,
    "start_time": "2024-09-19T20:27:54.575Z"
   },
   {
    "duration": 338,
    "start_time": "2024-09-19T20:27:54.942Z"
   },
   {
    "duration": 3,
    "start_time": "2024-09-19T20:34:41.898Z"
   },
   {
    "duration": 24,
    "start_time": "2024-09-19T20:34:42.652Z"
   },
   {
    "duration": 3,
    "start_time": "2024-09-19T20:34:44.087Z"
   },
   {
    "duration": 9,
    "start_time": "2024-09-19T20:34:44.454Z"
   },
   {
    "duration": 5,
    "start_time": "2024-09-19T20:34:45.206Z"
   },
   {
    "duration": 19,
    "start_time": "2024-09-19T20:34:46.773Z"
   },
   {
    "duration": 10,
    "start_time": "2024-09-19T20:34:47.456Z"
   },
   {
    "duration": 12,
    "start_time": "2024-09-19T20:34:48.588Z"
   },
   {
    "duration": 4,
    "start_time": "2024-09-19T20:34:48.970Z"
   },
   {
    "duration": 11,
    "start_time": "2024-09-19T20:34:49.999Z"
   },
   {
    "duration": 3,
    "start_time": "2024-09-19T20:34:51.046Z"
   },
   {
    "duration": 12,
    "start_time": "2024-09-19T20:34:51.382Z"
   },
   {
    "duration": 6,
    "start_time": "2024-09-19T20:34:52.342Z"
   },
   {
    "duration": 15,
    "start_time": "2024-09-19T20:34:52.647Z"
   },
   {
    "duration": 8,
    "start_time": "2024-09-19T20:34:53.310Z"
   },
   {
    "duration": 10,
    "start_time": "2024-09-19T20:34:53.609Z"
   },
   {
    "duration": 14,
    "start_time": "2024-09-19T20:34:54.219Z"
   },
   {
    "duration": 14,
    "start_time": "2024-09-19T20:34:54.860Z"
   },
   {
    "duration": 10,
    "start_time": "2024-09-19T20:34:55.161Z"
   },
   {
    "duration": 6,
    "start_time": "2024-09-19T20:34:57.309Z"
   },
   {
    "duration": 4,
    "start_time": "2024-09-19T20:34:58.702Z"
   },
   {
    "duration": 4,
    "start_time": "2024-09-19T20:34:59.010Z"
   },
   {
    "duration": 3,
    "start_time": "2024-09-19T20:34:59.331Z"
   },
   {
    "duration": 6,
    "start_time": "2024-09-19T20:34:59.614Z"
   },
   {
    "duration": 5,
    "start_time": "2024-09-19T20:34:59.914Z"
   },
   {
    "duration": 8,
    "start_time": "2024-09-19T20:35:00.205Z"
   },
   {
    "duration": 6,
    "start_time": "2024-09-19T20:35:00.512Z"
   },
   {
    "duration": 43,
    "start_time": "2024-09-19T20:35:00.829Z"
   },
   {
    "duration": 4,
    "start_time": "2024-09-19T20:35:01.404Z"
   },
   {
    "duration": 4,
    "start_time": "2024-09-19T20:35:01.770Z"
   },
   {
    "duration": 4,
    "start_time": "2024-09-19T20:35:02.184Z"
   },
   {
    "duration": 5,
    "start_time": "2024-09-19T20:35:02.427Z"
   },
   {
    "duration": 4,
    "start_time": "2024-09-19T20:35:02.732Z"
   },
   {
    "duration": 3,
    "start_time": "2024-09-19T20:35:03.028Z"
   },
   {
    "duration": 5,
    "start_time": "2024-09-19T20:35:04.004Z"
   },
   {
    "duration": 4,
    "start_time": "2024-09-19T20:37:56.332Z"
   },
   {
    "duration": 24,
    "start_time": "2024-09-19T20:37:56.726Z"
   },
   {
    "duration": 3,
    "start_time": "2024-09-19T20:37:57.313Z"
   },
   {
    "duration": 9,
    "start_time": "2024-09-19T20:37:57.496Z"
   },
   {
    "duration": 5,
    "start_time": "2024-09-19T20:37:57.882Z"
   },
   {
    "duration": 18,
    "start_time": "2024-09-19T20:37:58.523Z"
   },
   {
    "duration": 10,
    "start_time": "2024-09-19T20:37:58.872Z"
   },
   {
    "duration": 12,
    "start_time": "2024-09-19T20:37:59.489Z"
   },
   {
    "duration": 3,
    "start_time": "2024-09-19T20:37:59.706Z"
   },
   {
    "duration": 10,
    "start_time": "2024-09-19T20:38:00.377Z"
   },
   {
    "duration": 3,
    "start_time": "2024-09-19T20:38:00.994Z"
   },
   {
    "duration": 9,
    "start_time": "2024-09-19T20:38:00.999Z"
   },
   {
    "duration": 5,
    "start_time": "2024-09-19T20:38:01.390Z"
   },
   {
    "duration": 15,
    "start_time": "2024-09-19T20:38:01.747Z"
   },
   {
    "duration": 8,
    "start_time": "2024-09-19T20:38:02.002Z"
   },
   {
    "duration": 13,
    "start_time": "2024-09-19T20:38:02.226Z"
   },
   {
    "duration": 15,
    "start_time": "2024-09-19T20:38:02.615Z"
   },
   {
    "duration": 14,
    "start_time": "2024-09-19T20:38:03.016Z"
   },
   {
    "duration": 11,
    "start_time": "2024-09-19T20:38:03.203Z"
   },
   {
    "duration": 5,
    "start_time": "2024-09-19T20:38:09.825Z"
   },
   {
    "duration": 4,
    "start_time": "2024-09-19T20:38:10.537Z"
   },
   {
    "duration": 4,
    "start_time": "2024-09-19T20:38:10.731Z"
   },
   {
    "duration": 2,
    "start_time": "2024-09-19T20:38:10.917Z"
   },
   {
    "duration": 5,
    "start_time": "2024-09-19T20:38:11.089Z"
   },
   {
    "duration": 5,
    "start_time": "2024-09-19T20:38:11.307Z"
   },
   {
    "duration": 5,
    "start_time": "2024-09-19T20:38:11.453Z"
   },
   {
    "duration": 6,
    "start_time": "2024-09-19T20:38:11.641Z"
   },
   {
    "duration": 42,
    "start_time": "2024-09-19T20:38:11.882Z"
   },
   {
    "duration": 4,
    "start_time": "2024-09-19T20:38:12.206Z"
   },
   {
    "duration": 4,
    "start_time": "2024-09-19T20:38:12.386Z"
   },
   {
    "duration": 4,
    "start_time": "2024-09-19T20:38:12.587Z"
   },
   {
    "duration": 3,
    "start_time": "2024-09-19T20:38:12.775Z"
   },
   {
    "duration": 4,
    "start_time": "2024-09-19T20:38:12.951Z"
   },
   {
    "duration": 4,
    "start_time": "2024-09-19T20:38:13.136Z"
   },
   {
    "duration": 6,
    "start_time": "2024-09-19T20:38:13.717Z"
   },
   {
    "duration": 7,
    "start_time": "2024-09-19T20:38:14.608Z"
   },
   {
    "duration": 42,
    "start_time": "2024-09-19T20:38:14.820Z"
   },
   {
    "duration": 4,
    "start_time": "2024-09-19T20:38:14.990Z"
   },
   {
    "duration": 4,
    "start_time": "2024-09-19T20:38:15.177Z"
   },
   {
    "duration": 3,
    "start_time": "2024-09-19T20:38:15.382Z"
   },
   {
    "duration": 6,
    "start_time": "2024-09-19T20:38:16.341Z"
   },
   {
    "duration": 9,
    "start_time": "2024-09-19T20:38:16.874Z"
   },
   {
    "duration": 3,
    "start_time": "2024-09-19T20:38:17.270Z"
   },
   {
    "duration": 4,
    "start_time": "2024-09-19T20:38:17.598Z"
   },
   {
    "duration": 3,
    "start_time": "2024-09-19T20:38:17.771Z"
   },
   {
    "duration": 4,
    "start_time": "2024-09-19T20:38:17.963Z"
   },
   {
    "duration": 46,
    "start_time": "2024-09-19T20:38:18.372Z"
   },
   {
    "duration": 4,
    "start_time": "2024-09-19T20:38:18.933Z"
   },
   {
    "duration": 4,
    "start_time": "2024-09-19T20:38:19.106Z"
   },
   {
    "duration": 5,
    "start_time": "2024-09-19T20:38:19.573Z"
   },
   {
    "duration": 3,
    "start_time": "2024-09-19T20:38:19.922Z"
   },
   {
    "duration": 45,
    "start_time": "2024-09-19T20:38:20.317Z"
   },
   {
    "duration": 6,
    "start_time": "2024-09-19T20:38:21.037Z"
   },
   {
    "duration": 6,
    "start_time": "2024-09-19T20:38:21.310Z"
   },
   {
    "duration": 41,
    "start_time": "2024-09-19T20:38:21.621Z"
   },
   {
    "duration": 8,
    "start_time": "2024-09-19T20:38:22.688Z"
   },
   {
    "duration": 4,
    "start_time": "2024-09-19T20:38:22.857Z"
   },
   {
    "duration": 5,
    "start_time": "2024-09-19T20:38:23.037Z"
   },
   {
    "duration": 5,
    "start_time": "2024-09-19T20:38:23.243Z"
   },
   {
    "duration": 4,
    "start_time": "2024-09-19T20:38:24.131Z"
   },
   {
    "duration": 4,
    "start_time": "2024-09-19T20:38:24.519Z"
   },
   {
    "duration": 4,
    "start_time": "2024-09-19T20:38:24.850Z"
   },
   {
    "duration": 3,
    "start_time": "2024-09-19T20:38:25.526Z"
   },
   {
    "duration": 5,
    "start_time": "2024-09-19T20:38:25.677Z"
   },
   {
    "duration": 72,
    "start_time": "2024-09-19T20:38:25.876Z"
   },
   {
    "duration": 10,
    "start_time": "2024-09-19T20:38:26.594Z"
   },
   {
    "duration": 6,
    "start_time": "2024-09-19T20:38:27.234Z"
   },
   {
    "duration": 6,
    "start_time": "2024-09-19T20:38:27.636Z"
   },
   {
    "duration": 43,
    "start_time": "2024-09-19T20:38:28.083Z"
   },
   {
    "duration": 5,
    "start_time": "2024-09-19T20:38:28.427Z"
   },
   {
    "duration": 4,
    "start_time": "2024-09-19T20:38:28.804Z"
   },
   {
    "duration": 4,
    "start_time": "2024-09-19T20:38:29.128Z"
   },
   {
    "duration": 4,
    "start_time": "2024-09-19T20:38:29.447Z"
   },
   {
    "duration": 5,
    "start_time": "2024-09-19T20:38:29.892Z"
   },
   {
    "duration": 4,
    "start_time": "2024-09-19T20:38:29.972Z"
   },
   {
    "duration": 8,
    "start_time": "2024-09-19T20:38:31.296Z"
   },
   {
    "duration": 4,
    "start_time": "2024-09-19T20:38:31.619Z"
   },
   {
    "duration": 42,
    "start_time": "2024-09-19T20:38:32.065Z"
   },
   {
    "duration": 5,
    "start_time": "2024-09-19T20:38:33.235Z"
   },
   {
    "duration": 5,
    "start_time": "2024-09-19T20:38:33.363Z"
   },
   {
    "duration": 41,
    "start_time": "2024-09-19T20:38:33.546Z"
   },
   {
    "duration": 2,
    "start_time": "2024-09-19T20:38:34.288Z"
   },
   {
    "duration": 4,
    "start_time": "2024-09-19T20:38:35.050Z"
   },
   {
    "duration": 4,
    "start_time": "2024-09-19T20:38:35.196Z"
   },
   {
    "duration": 3,
    "start_time": "2024-09-19T20:38:35.353Z"
   },
   {
    "duration": 5,
    "start_time": "2024-09-19T20:38:35.566Z"
   },
   {
    "duration": 13,
    "start_time": "2024-09-19T20:38:35.721Z"
   },
   {
    "duration": 7,
    "start_time": "2024-09-19T20:38:35.903Z"
   },
   {
    "duration": 6,
    "start_time": "2024-09-19T20:38:36.071Z"
   },
   {
    "duration": 44,
    "start_time": "2024-09-19T20:38:36.523Z"
   },
   {
    "duration": 4,
    "start_time": "2024-09-19T20:38:36.837Z"
   },
   {
    "duration": 4,
    "start_time": "2024-09-19T20:38:37.509Z"
   },
   {
    "duration": 5,
    "start_time": "2024-09-19T20:38:37.692Z"
   },
   {
    "duration": 4,
    "start_time": "2024-09-19T20:38:37.889Z"
   },
   {
    "duration": 5,
    "start_time": "2024-09-19T20:38:38.227Z"
   },
   {
    "duration": 4,
    "start_time": "2024-09-19T20:38:38.402Z"
   },
   {
    "duration": 10,
    "start_time": "2024-09-19T20:38:56.848Z"
   },
   {
    "duration": 13,
    "start_time": "2024-09-19T20:38:57.404Z"
   },
   {
    "duration": 5,
    "start_time": "2024-09-19T20:39:12.882Z"
   },
   {
    "duration": 2,
    "start_time": "2024-09-19T20:39:13.586Z"
   },
   {
    "duration": 6,
    "start_time": "2024-09-19T20:39:14.765Z"
   },
   {
    "duration": 5,
    "start_time": "2024-09-19T20:39:59.428Z"
   },
   {
    "duration": 2,
    "start_time": "2024-09-19T20:40:25.443Z"
   },
   {
    "duration": 13,
    "start_time": "2024-09-19T20:40:25.854Z"
   },
   {
    "duration": 11,
    "start_time": "2024-09-19T20:41:30.411Z"
   },
   {
    "duration": 3,
    "start_time": "2024-09-19T20:41:31.389Z"
   },
   {
    "duration": 4,
    "start_time": "2024-09-19T20:42:07.949Z"
   },
   {
    "duration": 3,
    "start_time": "2024-09-19T20:43:07.094Z"
   },
   {
    "duration": 12,
    "start_time": "2024-09-19T20:43:08.055Z"
   },
   {
    "duration": 120,
    "start_time": "2024-09-19T20:43:26.573Z"
   },
   {
    "duration": 4,
    "start_time": "2024-09-19T20:43:46.104Z"
   },
   {
    "duration": 10,
    "start_time": "2024-09-19T20:43:46.822Z"
   },
   {
    "duration": 961,
    "start_time": "2024-09-19T22:20:57.380Z"
   },
   {
    "duration": 46,
    "start_time": "2024-09-19T22:20:58.343Z"
   },
   {
    "duration": 3,
    "start_time": "2024-09-19T22:20:58.390Z"
   },
   {
    "duration": 18,
    "start_time": "2024-09-19T22:20:58.395Z"
   },
   {
    "duration": 6,
    "start_time": "2024-09-19T22:20:58.415Z"
   },
   {
    "duration": 17,
    "start_time": "2024-09-19T22:20:58.423Z"
   },
   {
    "duration": 10,
    "start_time": "2024-09-19T22:20:58.442Z"
   },
   {
    "duration": 14,
    "start_time": "2024-09-19T22:20:58.454Z"
   },
   {
    "duration": 39,
    "start_time": "2024-09-19T22:20:58.469Z"
   },
   {
    "duration": 10,
    "start_time": "2024-09-19T22:20:58.510Z"
   },
   {
    "duration": 3,
    "start_time": "2024-09-19T22:20:58.523Z"
   },
   {
    "duration": 10,
    "start_time": "2024-09-19T22:20:58.528Z"
   },
   {
    "duration": 5,
    "start_time": "2024-09-19T22:20:58.540Z"
   },
   {
    "duration": 14,
    "start_time": "2024-09-19T22:20:58.549Z"
   },
   {
    "duration": 10,
    "start_time": "2024-09-19T22:20:58.565Z"
   },
   {
    "duration": 40,
    "start_time": "2024-09-19T22:20:58.577Z"
   },
   {
    "duration": 14,
    "start_time": "2024-09-19T22:20:58.619Z"
   },
   {
    "duration": 15,
    "start_time": "2024-09-19T22:20:58.635Z"
   },
   {
    "duration": 12,
    "start_time": "2024-09-19T22:20:58.651Z"
   },
   {
    "duration": 6,
    "start_time": "2024-09-19T22:20:58.665Z"
   },
   {
    "duration": 37,
    "start_time": "2024-09-19T22:20:58.673Z"
   },
   {
    "duration": 4,
    "start_time": "2024-09-19T22:20:58.712Z"
   },
   {
    "duration": 3,
    "start_time": "2024-09-19T22:20:58.718Z"
   },
   {
    "duration": 4,
    "start_time": "2024-09-19T22:20:58.724Z"
   },
   {
    "duration": 5,
    "start_time": "2024-09-19T22:20:58.730Z"
   },
   {
    "duration": 7,
    "start_time": "2024-09-19T22:20:58.736Z"
   },
   {
    "duration": 5,
    "start_time": "2024-09-19T22:20:58.744Z"
   },
   {
    "duration": 432,
    "start_time": "2024-09-19T22:20:58.751Z"
   },
   {
    "duration": 4,
    "start_time": "2024-09-19T22:20:59.185Z"
   },
   {
    "duration": 4,
    "start_time": "2024-09-19T22:20:59.191Z"
   },
   {
    "duration": 4,
    "start_time": "2024-09-19T22:20:59.196Z"
   },
   {
    "duration": 4,
    "start_time": "2024-09-19T22:20:59.209Z"
   },
   {
    "duration": 4,
    "start_time": "2024-09-19T22:20:59.214Z"
   },
   {
    "duration": 6,
    "start_time": "2024-09-19T22:20:59.220Z"
   },
   {
    "duration": 7,
    "start_time": "2024-09-19T22:20:59.228Z"
   },
   {
    "duration": 7,
    "start_time": "2024-09-19T22:20:59.238Z"
   },
   {
    "duration": 102,
    "start_time": "2024-09-19T22:20:59.247Z"
   },
   {
    "duration": 5,
    "start_time": "2024-09-19T22:20:59.350Z"
   },
   {
    "duration": 5,
    "start_time": "2024-09-19T22:20:59.357Z"
   },
   {
    "duration": 4,
    "start_time": "2024-09-19T22:20:59.366Z"
   },
   {
    "duration": 6,
    "start_time": "2024-09-19T22:20:59.411Z"
   },
   {
    "duration": 10,
    "start_time": "2024-09-19T22:20:59.419Z"
   },
   {
    "duration": 2,
    "start_time": "2024-09-19T22:20:59.431Z"
   },
   {
    "duration": 4,
    "start_time": "2024-09-19T22:20:59.436Z"
   },
   {
    "duration": 3,
    "start_time": "2024-09-19T22:20:59.441Z"
   },
   {
    "duration": 3,
    "start_time": "2024-09-19T22:20:59.446Z"
   },
   {
    "duration": 85,
    "start_time": "2024-09-19T22:20:59.451Z"
   },
   {
    "duration": 4,
    "start_time": "2024-09-19T22:20:59.538Z"
   },
   {
    "duration": 4,
    "start_time": "2024-09-19T22:20:59.543Z"
   },
   {
    "duration": 5,
    "start_time": "2024-09-19T22:20:59.549Z"
   },
   {
    "duration": 3,
    "start_time": "2024-09-19T22:20:59.556Z"
   },
   {
    "duration": 76,
    "start_time": "2024-09-19T22:20:59.561Z"
   },
   {
    "duration": 6,
    "start_time": "2024-09-19T22:20:59.640Z"
   },
   {
    "duration": 6,
    "start_time": "2024-09-19T22:20:59.647Z"
   },
   {
    "duration": 67,
    "start_time": "2024-09-19T22:20:59.654Z"
   },
   {
    "duration": 6,
    "start_time": "2024-09-19T22:20:59.723Z"
   },
   {
    "duration": 3,
    "start_time": "2024-09-19T22:20:59.731Z"
   },
   {
    "duration": 4,
    "start_time": "2024-09-19T22:20:59.736Z"
   },
   {
    "duration": 6,
    "start_time": "2024-09-19T22:20:59.742Z"
   },
   {
    "duration": 6,
    "start_time": "2024-09-19T22:20:59.750Z"
   },
   {
    "duration": 7,
    "start_time": "2024-09-19T22:20:59.758Z"
   },
   {
    "duration": 5,
    "start_time": "2024-09-19T22:20:59.767Z"
   },
   {
    "duration": 35,
    "start_time": "2024-09-19T22:20:59.775Z"
   },
   {
    "duration": 4,
    "start_time": "2024-09-19T22:20:59.813Z"
   },
   {
    "duration": 96,
    "start_time": "2024-09-19T22:20:59.819Z"
   },
   {
    "duration": 11,
    "start_time": "2024-09-19T22:20:59.917Z"
   },
   {
    "duration": 5,
    "start_time": "2024-09-19T22:20:59.930Z"
   },
   {
    "duration": 4,
    "start_time": "2024-09-19T22:20:59.940Z"
   },
   {
    "duration": 82,
    "start_time": "2024-09-19T22:20:59.947Z"
   },
   {
    "duration": 6,
    "start_time": "2024-09-19T22:21:00.031Z"
   },
   {
    "duration": 4,
    "start_time": "2024-09-19T22:21:00.039Z"
   },
   {
    "duration": 5,
    "start_time": "2024-09-19T22:21:00.044Z"
   },
   {
    "duration": 4,
    "start_time": "2024-09-19T22:21:00.051Z"
   },
   {
    "duration": 5,
    "start_time": "2024-09-19T22:21:00.057Z"
   },
   {
    "duration": 43,
    "start_time": "2024-09-19T22:21:00.065Z"
   },
   {
    "duration": 8,
    "start_time": "2024-09-19T22:21:00.111Z"
   },
   {
    "duration": 6,
    "start_time": "2024-09-19T22:21:00.121Z"
   },
   {
    "duration": 58,
    "start_time": "2024-09-19T22:21:00.129Z"
   },
   {
    "duration": 23,
    "start_time": "2024-09-19T22:21:00.188Z"
   },
   {
    "duration": 10,
    "start_time": "2024-09-19T22:21:00.213Z"
   },
   {
    "duration": 42,
    "start_time": "2024-09-19T22:21:00.225Z"
   },
   {
    "duration": 3,
    "start_time": "2024-09-19T22:21:00.269Z"
   },
   {
    "duration": 7,
    "start_time": "2024-09-19T22:21:00.273Z"
   },
   {
    "duration": 5,
    "start_time": "2024-09-19T22:21:00.308Z"
   },
   {
    "duration": 5,
    "start_time": "2024-09-19T22:21:00.315Z"
   },
   {
    "duration": 6,
    "start_time": "2024-09-19T22:21:00.321Z"
   },
   {
    "duration": 17,
    "start_time": "2024-09-19T22:21:00.328Z"
   },
   {
    "duration": 8,
    "start_time": "2024-09-19T22:21:00.347Z"
   },
   {
    "duration": 5,
    "start_time": "2024-09-19T22:21:00.356Z"
   },
   {
    "duration": 81,
    "start_time": "2024-09-19T22:21:00.363Z"
   },
   {
    "duration": 4,
    "start_time": "2024-09-19T22:21:00.446Z"
   },
   {
    "duration": 4,
    "start_time": "2024-09-19T22:21:00.452Z"
   },
   {
    "duration": 4,
    "start_time": "2024-09-19T22:21:00.457Z"
   },
   {
    "duration": 4,
    "start_time": "2024-09-19T22:21:00.463Z"
   },
   {
    "duration": 4,
    "start_time": "2024-09-19T22:21:00.471Z"
   },
   {
    "duration": 36,
    "start_time": "2024-09-19T22:21:00.477Z"
   },
   {
    "duration": 11,
    "start_time": "2024-09-19T22:21:00.515Z"
   },
   {
    "duration": 13,
    "start_time": "2024-09-19T22:21:00.528Z"
   },
   {
    "duration": 5,
    "start_time": "2024-09-19T22:21:00.543Z"
   },
   {
    "duration": 2,
    "start_time": "2024-09-19T22:21:00.550Z"
   },
   {
    "duration": 6,
    "start_time": "2024-09-19T22:21:00.553Z"
   },
   {
    "duration": 5,
    "start_time": "2024-09-19T22:21:00.561Z"
   },
   {
    "duration": 2,
    "start_time": "2024-09-19T22:21:00.570Z"
   },
   {
    "duration": 15,
    "start_time": "2024-09-19T22:21:00.610Z"
   },
   {
    "duration": 6,
    "start_time": "2024-09-19T22:21:00.627Z"
   },
   {
    "duration": 3,
    "start_time": "2024-09-19T22:21:00.635Z"
   },
   {
    "duration": 4,
    "start_time": "2024-09-19T22:21:00.641Z"
   },
   {
    "duration": 487,
    "start_time": "2024-09-19T22:21:00.647Z"
   },
   {
    "duration": 0,
    "start_time": "2024-09-19T22:21:01.136Z"
   },
   {
    "duration": 0,
    "start_time": "2024-09-19T22:21:01.137Z"
   },
   {
    "duration": 0,
    "start_time": "2024-09-19T22:21:01.138Z"
   },
   {
    "duration": 0,
    "start_time": "2024-09-19T22:21:01.139Z"
   },
   {
    "duration": 0,
    "start_time": "2024-09-19T22:21:01.140Z"
   },
   {
    "duration": 0,
    "start_time": "2024-09-19T22:21:01.141Z"
   },
   {
    "duration": 0,
    "start_time": "2024-09-19T22:21:01.144Z"
   },
   {
    "duration": 0,
    "start_time": "2024-09-19T22:21:01.145Z"
   },
   {
    "duration": 0,
    "start_time": "2024-09-19T22:21:01.146Z"
   },
   {
    "duration": 0,
    "start_time": "2024-09-19T22:21:01.147Z"
   },
   {
    "duration": 0,
    "start_time": "2024-09-19T22:21:01.148Z"
   },
   {
    "duration": 0,
    "start_time": "2024-09-19T22:21:01.149Z"
   },
   {
    "duration": 0,
    "start_time": "2024-09-19T22:21:01.150Z"
   },
   {
    "duration": 0,
    "start_time": "2024-09-19T22:21:01.151Z"
   },
   {
    "duration": 0,
    "start_time": "2024-09-19T22:21:01.153Z"
   },
   {
    "duration": 0,
    "start_time": "2024-09-19T22:21:01.154Z"
   },
   {
    "duration": 0,
    "start_time": "2024-09-19T22:21:01.155Z"
   },
   {
    "duration": 0,
    "start_time": "2024-09-19T22:21:01.156Z"
   },
   {
    "duration": 0,
    "start_time": "2024-09-19T22:21:01.158Z"
   },
   {
    "duration": 0,
    "start_time": "2024-09-19T22:21:01.159Z"
   },
   {
    "duration": 0,
    "start_time": "2024-09-19T22:21:01.160Z"
   },
   {
    "duration": 0,
    "start_time": "2024-09-19T22:21:01.161Z"
   },
   {
    "duration": 0,
    "start_time": "2024-09-19T22:21:01.162Z"
   },
   {
    "duration": 0,
    "start_time": "2024-09-19T22:21:01.163Z"
   },
   {
    "duration": 0,
    "start_time": "2024-09-19T22:21:01.208Z"
   },
   {
    "duration": 0,
    "start_time": "2024-09-19T22:21:01.210Z"
   },
   {
    "duration": 0,
    "start_time": "2024-09-19T22:21:01.212Z"
   },
   {
    "duration": 0,
    "start_time": "2024-09-19T22:21:01.213Z"
   },
   {
    "duration": 885,
    "start_time": "2024-09-20T01:34:09.333Z"
   },
   {
    "duration": 42,
    "start_time": "2024-09-20T01:34:10.301Z"
   },
   {
    "duration": 3,
    "start_time": "2024-09-20T01:34:11.503Z"
   },
   {
    "duration": 10,
    "start_time": "2024-09-20T01:34:11.838Z"
   },
   {
    "duration": 5,
    "start_time": "2024-09-20T01:34:12.510Z"
   },
   {
    "duration": 18,
    "start_time": "2024-09-20T01:34:13.421Z"
   },
   {
    "duration": 11,
    "start_time": "2024-09-20T01:34:14.165Z"
   },
   {
    "duration": 13,
    "start_time": "2024-09-20T01:34:15.006Z"
   },
   {
    "duration": 4,
    "start_time": "2024-09-20T01:34:15.293Z"
   },
   {
    "duration": 9,
    "start_time": "2024-09-20T01:34:16.086Z"
   },
   {
    "duration": 3,
    "start_time": "2024-09-20T01:34:17.027Z"
   },
   {
    "duration": 10,
    "start_time": "2024-09-20T01:34:17.273Z"
   },
   {
    "duration": 5,
    "start_time": "2024-09-20T01:34:18.236Z"
   },
   {
    "duration": 15,
    "start_time": "2024-09-20T01:34:18.576Z"
   },
   {
    "duration": 9,
    "start_time": "2024-09-20T01:34:19.311Z"
   },
   {
    "duration": 12,
    "start_time": "2024-09-20T01:34:19.661Z"
   },
   {
    "duration": 18,
    "start_time": "2024-09-20T01:34:20.613Z"
   },
   {
    "duration": 18,
    "start_time": "2024-09-20T01:34:21.093Z"
   },
   {
    "duration": 11,
    "start_time": "2024-09-20T01:34:21.272Z"
   },
   {
    "duration": 6,
    "start_time": "2024-09-20T01:34:22.676Z"
   },
   {
    "duration": 3,
    "start_time": "2024-09-20T01:34:23.550Z"
   },
   {
    "duration": 4,
    "start_time": "2024-09-20T01:34:23.755Z"
   },
   {
    "duration": 3,
    "start_time": "2024-09-20T01:34:23.974Z"
   },
   {
    "duration": 5,
    "start_time": "2024-09-20T01:34:24.244Z"
   },
   {
    "duration": 5,
    "start_time": "2024-09-20T01:34:24.434Z"
   },
   {
    "duration": 7,
    "start_time": "2024-09-20T01:34:24.616Z"
   },
   {
    "duration": 6,
    "start_time": "2024-09-20T01:34:24.856Z"
   },
   {
    "duration": 402,
    "start_time": "2024-09-20T01:34:25.081Z"
   },
   {
    "duration": 5,
    "start_time": "2024-09-20T01:34:26.007Z"
   },
   {
    "duration": 5,
    "start_time": "2024-09-20T01:34:26.780Z"
   },
   {
    "duration": 5,
    "start_time": "2024-09-20T01:34:26.787Z"
   },
   {
    "duration": 4,
    "start_time": "2024-09-20T01:34:26.794Z"
   },
   {
    "duration": 5,
    "start_time": "2024-09-20T01:34:27.225Z"
   },
   {
    "duration": 5,
    "start_time": "2024-09-20T01:34:27.233Z"
   },
   {
    "duration": 6,
    "start_time": "2024-09-20T01:34:28.664Z"
   },
   {
    "duration": 6,
    "start_time": "2024-09-20T01:34:28.673Z"
   },
   {
    "duration": 45,
    "start_time": "2024-09-20T01:34:28.963Z"
   },
   {
    "duration": 6,
    "start_time": "2024-09-20T01:34:29.172Z"
   },
   {
    "duration": 5,
    "start_time": "2024-09-20T01:34:29.487Z"
   },
   {
    "duration": 4,
    "start_time": "2024-09-20T01:34:29.563Z"
   },
   {
    "duration": 5,
    "start_time": "2024-09-20T01:34:30.588Z"
   },
   {
    "duration": 11,
    "start_time": "2024-09-20T01:34:31.219Z"
   },
   {
    "duration": 3,
    "start_time": "2024-09-20T01:34:31.412Z"
   },
   {
    "duration": 4,
    "start_time": "2024-09-20T01:34:31.623Z"
   },
   {
    "duration": 3,
    "start_time": "2024-09-20T01:34:31.887Z"
   },
   {
    "duration": 5,
    "start_time": "2024-09-20T01:34:32.101Z"
   },
   {
    "duration": 48,
    "start_time": "2024-09-20T01:34:32.475Z"
   },
   {
    "duration": 4,
    "start_time": "2024-09-20T01:34:34.380Z"
   },
   {
    "duration": 4,
    "start_time": "2024-09-20T01:34:34.736Z"
   },
   {
    "duration": 6,
    "start_time": "2024-09-20T01:34:34.954Z"
   },
   {
    "duration": 3,
    "start_time": "2024-09-20T01:34:35.287Z"
   },
   {
    "duration": 47,
    "start_time": "2024-09-20T01:34:35.614Z"
   },
   {
    "duration": 5,
    "start_time": "2024-09-20T01:34:37.346Z"
   },
   {
    "duration": 8,
    "start_time": "2024-09-20T01:34:38.015Z"
   },
   {
    "duration": 45,
    "start_time": "2024-09-20T01:34:38.730Z"
   },
   {
    "duration": 8,
    "start_time": "2024-09-20T01:34:39.966Z"
   },
   {
    "duration": 4,
    "start_time": "2024-09-20T01:34:40.128Z"
   },
   {
    "duration": 4,
    "start_time": "2024-09-20T01:34:40.325Z"
   },
   {
    "duration": 6,
    "start_time": "2024-09-20T01:34:40.509Z"
   },
   {
    "duration": 4,
    "start_time": "2024-09-20T01:34:41.063Z"
   },
   {
    "duration": 4,
    "start_time": "2024-09-20T01:34:41.581Z"
   },
   {
    "duration": 4,
    "start_time": "2024-09-20T01:34:41.754Z"
   },
   {
    "duration": 2,
    "start_time": "2024-09-20T01:34:42.106Z"
   },
   {
    "duration": 4,
    "start_time": "2024-09-20T01:34:42.308Z"
   },
   {
    "duration": 76,
    "start_time": "2024-09-20T01:34:42.491Z"
   },
   {
    "duration": 10,
    "start_time": "2024-09-20T01:34:43.115Z"
   },
   {
    "duration": 5,
    "start_time": "2024-09-20T01:34:43.265Z"
   },
   {
    "duration": 7,
    "start_time": "2024-09-20T01:34:43.437Z"
   },
   {
    "duration": 44,
    "start_time": "2024-09-20T01:34:43.641Z"
   },
   {
    "duration": 4,
    "start_time": "2024-09-20T01:34:43.846Z"
   },
   {
    "duration": 4,
    "start_time": "2024-09-20T01:34:44.164Z"
   },
   {
    "duration": 5,
    "start_time": "2024-09-20T01:34:44.259Z"
   },
   {
    "duration": 4,
    "start_time": "2024-09-20T01:34:44.456Z"
   },
   {
    "duration": 4,
    "start_time": "2024-09-20T01:34:44.862Z"
   },
   {
    "duration": 5,
    "start_time": "2024-09-20T01:34:45.029Z"
   },
   {
    "duration": 8,
    "start_time": "2024-09-20T01:34:46.898Z"
   },
   {
    "duration": 4,
    "start_time": "2024-09-20T01:34:47.511Z"
   },
   {
    "duration": 44,
    "start_time": "2024-09-20T01:34:48.027Z"
   },
   {
    "duration": 5,
    "start_time": "2024-09-20T01:34:49.560Z"
   },
   {
    "duration": 4,
    "start_time": "2024-09-20T01:34:50.049Z"
   },
   {
    "duration": 42,
    "start_time": "2024-09-20T01:34:50.721Z"
   },
   {
    "duration": 2,
    "start_time": "2024-09-20T01:34:56.477Z"
   },
   {
    "duration": 4,
    "start_time": "2024-09-20T01:34:56.995Z"
   },
   {
    "duration": 4,
    "start_time": "2024-09-20T01:34:57.166Z"
   },
   {
    "duration": 2,
    "start_time": "2024-09-20T01:34:57.331Z"
   },
   {
    "duration": 5,
    "start_time": "2024-09-20T01:34:57.513Z"
   },
   {
    "duration": 14,
    "start_time": "2024-09-20T01:34:57.697Z"
   },
   {
    "duration": 6,
    "start_time": "2024-09-20T01:34:57.987Z"
   },
   {
    "duration": 5,
    "start_time": "2024-09-20T01:34:58.144Z"
   },
   {
    "duration": 40,
    "start_time": "2024-09-20T01:34:59.833Z"
   },
   {
    "duration": 5,
    "start_time": "2024-09-20T01:35:00.042Z"
   },
   {
    "duration": 4,
    "start_time": "2024-09-20T01:35:00.118Z"
   },
   {
    "duration": 4,
    "start_time": "2024-09-20T01:35:02.740Z"
   },
   {
    "duration": 6,
    "start_time": "2024-09-20T01:35:02.926Z"
   },
   {
    "duration": 4,
    "start_time": "2024-09-20T01:35:03.219Z"
   },
   {
    "duration": 4,
    "start_time": "2024-09-20T01:35:03.478Z"
   },
   {
    "duration": 10,
    "start_time": "2024-09-20T01:35:08.613Z"
   },
   {
    "duration": 12,
    "start_time": "2024-09-20T01:35:08.965Z"
   },
   {
    "duration": 5,
    "start_time": "2024-09-20T01:35:16.828Z"
   },
   {
    "duration": 2,
    "start_time": "2024-09-20T01:35:17.661Z"
   },
   {
    "duration": 6,
    "start_time": "2024-09-20T01:35:18.479Z"
   },
   {
    "duration": 5,
    "start_time": "2024-09-20T01:35:23.096Z"
   },
   {
    "duration": 3,
    "start_time": "2024-09-20T01:35:38.835Z"
   },
   {
    "duration": 15,
    "start_time": "2024-09-20T01:35:39.366Z"
   },
   {
    "duration": 11,
    "start_time": "2024-09-20T01:35:44.998Z"
   },
   {
    "duration": 4,
    "start_time": "2024-09-20T01:35:45.639Z"
   },
   {
    "duration": 4,
    "start_time": "2024-09-20T01:39:24.807Z"
   },
   {
    "duration": 349,
    "start_time": "2024-09-20T01:39:38.277Z"
   },
   {
    "duration": 3,
    "start_time": "2024-09-20T01:43:33.625Z"
   },
   {
    "duration": 3,
    "start_time": "2024-09-20T01:44:15.704Z"
   },
   {
    "duration": 9,
    "start_time": "2024-09-20T01:44:16.302Z"
   },
   {
    "duration": 4,
    "start_time": "2024-09-20T01:47:19.343Z"
   },
   {
    "duration": 25,
    "start_time": "2024-09-20T01:47:19.542Z"
   },
   {
    "duration": 3,
    "start_time": "2024-09-20T01:47:19.569Z"
   },
   {
    "duration": 10,
    "start_time": "2024-09-20T01:47:19.575Z"
   },
   {
    "duration": 5,
    "start_time": "2024-09-20T01:47:19.586Z"
   },
   {
    "duration": 24,
    "start_time": "2024-09-20T01:47:19.594Z"
   },
   {
    "duration": 10,
    "start_time": "2024-09-20T01:47:19.620Z"
   },
   {
    "duration": 14,
    "start_time": "2024-09-20T01:47:19.632Z"
   },
   {
    "duration": 4,
    "start_time": "2024-09-20T01:47:19.647Z"
   },
   {
    "duration": 9,
    "start_time": "2024-09-20T01:47:19.653Z"
   },
   {
    "duration": 3,
    "start_time": "2024-09-20T01:47:19.663Z"
   },
   {
    "duration": 11,
    "start_time": "2024-09-20T01:47:19.713Z"
   },
   {
    "duration": 5,
    "start_time": "2024-09-20T01:47:19.726Z"
   },
   {
    "duration": 14,
    "start_time": "2024-09-20T01:47:19.733Z"
   },
   {
    "duration": 7,
    "start_time": "2024-09-20T01:47:19.751Z"
   },
   {
    "duration": 9,
    "start_time": "2024-09-20T01:47:19.760Z"
   },
   {
    "duration": 54,
    "start_time": "2024-09-20T01:47:19.771Z"
   },
   {
    "duration": 14,
    "start_time": "2024-09-20T01:47:19.827Z"
   },
   {
    "duration": 10,
    "start_time": "2024-09-20T01:47:19.843Z"
   },
   {
    "duration": 5,
    "start_time": "2024-09-20T01:47:19.854Z"
   },
   {
    "duration": 4,
    "start_time": "2024-09-20T01:47:19.861Z"
   },
   {
    "duration": 4,
    "start_time": "2024-09-20T01:47:19.866Z"
   },
   {
    "duration": 41,
    "start_time": "2024-09-20T01:47:19.872Z"
   },
   {
    "duration": 5,
    "start_time": "2024-09-20T01:47:19.915Z"
   },
   {
    "duration": 5,
    "start_time": "2024-09-20T01:47:19.922Z"
   },
   {
    "duration": 6,
    "start_time": "2024-09-20T01:47:19.929Z"
   },
   {
    "duration": 5,
    "start_time": "2024-09-20T01:47:19.937Z"
   },
   {
    "duration": 78,
    "start_time": "2024-09-20T01:47:19.944Z"
   },
   {
    "duration": 4,
    "start_time": "2024-09-20T01:47:20.024Z"
   },
   {
    "duration": 4,
    "start_time": "2024-09-20T01:47:20.030Z"
   },
   {
    "duration": 4,
    "start_time": "2024-09-20T01:47:20.035Z"
   },
   {
    "duration": 5,
    "start_time": "2024-09-20T01:47:20.041Z"
   },
   {
    "duration": 4,
    "start_time": "2024-09-20T01:47:20.048Z"
   },
   {
    "duration": 4,
    "start_time": "2024-09-20T01:47:20.054Z"
   },
   {
    "duration": 54,
    "start_time": "2024-09-20T01:47:20.060Z"
   },
   {
    "duration": 6,
    "start_time": "2024-09-20T01:47:20.116Z"
   },
   {
    "duration": 43,
    "start_time": "2024-09-20T01:47:20.125Z"
   },
   {
    "duration": 4,
    "start_time": "2024-09-20T01:47:20.170Z"
   },
   {
    "duration": 5,
    "start_time": "2024-09-20T01:47:20.176Z"
   },
   {
    "duration": 4,
    "start_time": "2024-09-20T01:47:20.212Z"
   },
   {
    "duration": 6,
    "start_time": "2024-09-20T01:47:20.218Z"
   },
   {
    "duration": 8,
    "start_time": "2024-09-20T01:47:20.231Z"
   },
   {
    "duration": 3,
    "start_time": "2024-09-20T01:47:20.241Z"
   },
   {
    "duration": 4,
    "start_time": "2024-09-20T01:47:20.245Z"
   },
   {
    "duration": 3,
    "start_time": "2024-09-20T01:47:20.251Z"
   },
   {
    "duration": 3,
    "start_time": "2024-09-20T01:47:20.257Z"
   },
   {
    "duration": 90,
    "start_time": "2024-09-20T01:47:20.262Z"
   },
   {
    "duration": 6,
    "start_time": "2024-09-20T01:47:20.355Z"
   },
   {
    "duration": 5,
    "start_time": "2024-09-20T01:47:20.363Z"
   },
   {
    "duration": 5,
    "start_time": "2024-09-20T01:47:20.370Z"
   },
   {
    "duration": 3,
    "start_time": "2024-09-20T01:47:20.377Z"
   },
   {
    "duration": 71,
    "start_time": "2024-09-20T01:47:20.381Z"
   },
   {
    "duration": 4,
    "start_time": "2024-09-20T01:47:20.454Z"
   },
   {
    "duration": 5,
    "start_time": "2024-09-20T01:47:20.460Z"
   },
   {
    "duration": 60,
    "start_time": "2024-09-20T01:47:20.467Z"
   },
   {
    "duration": 6,
    "start_time": "2024-09-20T01:47:20.529Z"
   },
   {
    "duration": 3,
    "start_time": "2024-09-20T01:47:20.537Z"
   },
   {
    "duration": 3,
    "start_time": "2024-09-20T01:47:20.542Z"
   },
   {
    "duration": 5,
    "start_time": "2024-09-20T01:47:20.547Z"
   },
   {
    "duration": 4,
    "start_time": "2024-09-20T01:47:20.553Z"
   },
   {
    "duration": 4,
    "start_time": "2024-09-20T01:47:20.559Z"
   },
   {
    "duration": 4,
    "start_time": "2024-09-20T01:47:20.564Z"
   },
   {
    "duration": 44,
    "start_time": "2024-09-20T01:47:20.569Z"
   },
   {
    "duration": 5,
    "start_time": "2024-09-20T01:47:20.615Z"
   },
   {
    "duration": 71,
    "start_time": "2024-09-20T01:47:20.622Z"
   },
   {
    "duration": 11,
    "start_time": "2024-09-20T01:47:20.711Z"
   },
   {
    "duration": 5,
    "start_time": "2024-09-20T01:47:20.724Z"
   },
   {
    "duration": 5,
    "start_time": "2024-09-20T01:47:20.730Z"
   },
   {
    "duration": 43,
    "start_time": "2024-09-20T01:47:20.736Z"
   },
   {
    "duration": 33,
    "start_time": "2024-09-20T01:47:20.781Z"
   },
   {
    "duration": 5,
    "start_time": "2024-09-20T01:47:20.816Z"
   },
   {
    "duration": 3,
    "start_time": "2024-09-20T01:47:20.823Z"
   },
   {
    "duration": 4,
    "start_time": "2024-09-20T01:47:20.828Z"
   },
   {
    "duration": 4,
    "start_time": "2024-09-20T01:47:20.834Z"
   },
   {
    "duration": 6,
    "start_time": "2024-09-20T01:47:20.840Z"
   },
   {
    "duration": 11,
    "start_time": "2024-09-20T01:47:20.848Z"
   },
   {
    "duration": 51,
    "start_time": "2024-09-20T01:47:20.863Z"
   },
   {
    "duration": 42,
    "start_time": "2024-09-20T01:47:20.916Z"
   },
   {
    "duration": 5,
    "start_time": "2024-09-20T01:47:20.960Z"
   },
   {
    "duration": 6,
    "start_time": "2024-09-20T01:47:20.966Z"
   },
   {
    "duration": 61,
    "start_time": "2024-09-20T01:47:20.973Z"
   },
   {
    "duration": 4,
    "start_time": "2024-09-20T01:47:21.035Z"
   },
   {
    "duration": 5,
    "start_time": "2024-09-20T01:47:21.040Z"
   },
   {
    "duration": 4,
    "start_time": "2024-09-20T01:47:21.046Z"
   },
   {
    "duration": 3,
    "start_time": "2024-09-20T01:47:21.052Z"
   },
   {
    "duration": 4,
    "start_time": "2024-09-20T01:47:21.056Z"
   },
   {
    "duration": 13,
    "start_time": "2024-09-20T01:47:21.062Z"
   },
   {
    "duration": 39,
    "start_time": "2024-09-20T01:47:21.076Z"
   },
   {
    "duration": 5,
    "start_time": "2024-09-20T01:47:21.116Z"
   },
   {
    "duration": 40,
    "start_time": "2024-09-20T01:47:21.122Z"
   },
   {
    "duration": 4,
    "start_time": "2024-09-20T01:47:21.163Z"
   },
   {
    "duration": 4,
    "start_time": "2024-09-20T01:47:21.169Z"
   },
   {
    "duration": 39,
    "start_time": "2024-09-20T01:47:21.175Z"
   },
   {
    "duration": 4,
    "start_time": "2024-09-20T01:47:21.215Z"
   },
   {
    "duration": 4,
    "start_time": "2024-09-20T01:47:21.221Z"
   },
   {
    "duration": 4,
    "start_time": "2024-09-20T01:47:21.227Z"
   },
   {
    "duration": 10,
    "start_time": "2024-09-20T01:47:21.233Z"
   },
   {
    "duration": 12,
    "start_time": "2024-09-20T01:47:21.244Z"
   },
   {
    "duration": 4,
    "start_time": "2024-09-20T01:47:21.258Z"
   },
   {
    "duration": 3,
    "start_time": "2024-09-20T01:47:21.263Z"
   },
   {
    "duration": 48,
    "start_time": "2024-09-20T01:47:21.267Z"
   },
   {
    "duration": 5,
    "start_time": "2024-09-20T01:47:21.317Z"
   },
   {
    "duration": 2,
    "start_time": "2024-09-20T01:47:21.324Z"
   },
   {
    "duration": 14,
    "start_time": "2024-09-20T01:47:21.328Z"
   },
   {
    "duration": 6,
    "start_time": "2024-09-20T01:47:21.343Z"
   },
   {
    "duration": 7,
    "start_time": "2024-09-20T01:47:21.350Z"
   },
   {
    "duration": 6,
    "start_time": "2024-09-20T01:47:21.412Z"
   },
   {
    "duration": 4,
    "start_time": "2024-09-20T01:47:21.420Z"
   },
   {
    "duration": 3,
    "start_time": "2024-09-20T01:47:21.426Z"
   },
   {
    "duration": 82,
    "start_time": "2024-09-20T01:47:21.431Z"
   },
   {
    "duration": 35,
    "start_time": "2024-09-20T01:48:59.845Z"
   },
   {
    "duration": 7,
    "start_time": "2024-09-20T01:49:00.558Z"
   },
   {
    "duration": 3,
    "start_time": "2024-09-20T01:49:01.561Z"
   },
   {
    "duration": 9,
    "start_time": "2024-09-20T01:49:02.650Z"
   },
   {
    "duration": 3,
    "start_time": "2024-09-20T01:49:02.879Z"
   },
   {
    "duration": 892,
    "start_time": "2024-09-20T01:50:30.593Z"
   },
   {
    "duration": 34,
    "start_time": "2024-09-20T01:50:31.487Z"
   },
   {
    "duration": 3,
    "start_time": "2024-09-20T01:50:31.522Z"
   },
   {
    "duration": 9,
    "start_time": "2024-09-20T01:50:31.528Z"
   },
   {
    "duration": 5,
    "start_time": "2024-09-20T01:50:31.538Z"
   },
   {
    "duration": 17,
    "start_time": "2024-09-20T01:50:31.544Z"
   },
   {
    "duration": 9,
    "start_time": "2024-09-20T01:50:31.563Z"
   },
   {
    "duration": 45,
    "start_time": "2024-09-20T01:50:31.573Z"
   },
   {
    "duration": 4,
    "start_time": "2024-09-20T01:50:31.619Z"
   },
   {
    "duration": 9,
    "start_time": "2024-09-20T01:50:31.627Z"
   },
   {
    "duration": 3,
    "start_time": "2024-09-20T01:50:31.637Z"
   },
   {
    "duration": 9,
    "start_time": "2024-09-20T01:50:31.642Z"
   },
   {
    "duration": 6,
    "start_time": "2024-09-20T01:50:31.652Z"
   },
   {
    "duration": 14,
    "start_time": "2024-09-20T01:50:31.659Z"
   },
   {
    "duration": 8,
    "start_time": "2024-09-20T01:50:31.711Z"
   },
   {
    "duration": 10,
    "start_time": "2024-09-20T01:50:31.721Z"
   },
   {
    "duration": 14,
    "start_time": "2024-09-20T01:50:31.732Z"
   },
   {
    "duration": 20,
    "start_time": "2024-09-20T01:50:31.748Z"
   },
   {
    "duration": 48,
    "start_time": "2024-09-20T01:50:31.770Z"
   },
   {
    "duration": 7,
    "start_time": "2024-09-20T01:50:31.819Z"
   },
   {
    "duration": 5,
    "start_time": "2024-09-20T01:50:31.828Z"
   },
   {
    "duration": 4,
    "start_time": "2024-09-20T01:50:31.835Z"
   },
   {
    "duration": 3,
    "start_time": "2024-09-20T01:50:31.841Z"
   },
   {
    "duration": 6,
    "start_time": "2024-09-20T01:50:31.845Z"
   },
   {
    "duration": 4,
    "start_time": "2024-09-20T01:50:31.853Z"
   },
   {
    "duration": 7,
    "start_time": "2024-09-20T01:50:31.860Z"
   },
   {
    "duration": 48,
    "start_time": "2024-09-20T01:50:31.868Z"
   },
   {
    "duration": 392,
    "start_time": "2024-09-20T01:50:31.923Z"
   },
   {
    "duration": 3,
    "start_time": "2024-09-20T01:50:32.317Z"
   },
   {
    "duration": 4,
    "start_time": "2024-09-20T01:50:32.322Z"
   },
   {
    "duration": 4,
    "start_time": "2024-09-20T01:50:32.327Z"
   },
   {
    "duration": 4,
    "start_time": "2024-09-20T01:50:32.333Z"
   },
   {
    "duration": 5,
    "start_time": "2024-09-20T01:50:32.339Z"
   },
   {
    "duration": 4,
    "start_time": "2024-09-20T01:50:32.346Z"
   },
   {
    "duration": 61,
    "start_time": "2024-09-20T01:50:32.352Z"
   },
   {
    "duration": 8,
    "start_time": "2024-09-20T01:50:32.415Z"
   },
   {
    "duration": 52,
    "start_time": "2024-09-20T01:50:32.424Z"
   },
   {
    "duration": 37,
    "start_time": "2024-09-20T01:50:32.478Z"
   },
   {
    "duration": 5,
    "start_time": "2024-09-20T01:50:32.517Z"
   },
   {
    "duration": 4,
    "start_time": "2024-09-20T01:50:32.524Z"
   },
   {
    "duration": 5,
    "start_time": "2024-09-20T01:50:32.530Z"
   },
   {
    "duration": 8,
    "start_time": "2024-09-20T01:50:32.537Z"
   },
   {
    "duration": 3,
    "start_time": "2024-09-20T01:50:32.547Z"
   },
   {
    "duration": 4,
    "start_time": "2024-09-20T01:50:32.551Z"
   },
   {
    "duration": 3,
    "start_time": "2024-09-20T01:50:32.556Z"
   },
   {
    "duration": 53,
    "start_time": "2024-09-20T01:50:32.560Z"
   },
   {
    "duration": 47,
    "start_time": "2024-09-20T01:50:32.614Z"
   },
   {
    "duration": 4,
    "start_time": "2024-09-20T01:50:32.662Z"
   },
   {
    "duration": 3,
    "start_time": "2024-09-20T01:50:32.669Z"
   },
   {
    "duration": 5,
    "start_time": "2024-09-20T01:50:32.674Z"
   },
   {
    "duration": 30,
    "start_time": "2024-09-20T01:50:32.682Z"
   },
   {
    "duration": 47,
    "start_time": "2024-09-20T01:50:32.713Z"
   },
   {
    "duration": 4,
    "start_time": "2024-09-20T01:50:32.762Z"
   },
   {
    "duration": 5,
    "start_time": "2024-09-20T01:50:32.768Z"
   },
   {
    "duration": 71,
    "start_time": "2024-09-20T01:50:32.775Z"
   },
   {
    "duration": 7,
    "start_time": "2024-09-20T01:50:32.847Z"
   },
   {
    "duration": 4,
    "start_time": "2024-09-20T01:50:32.855Z"
   },
   {
    "duration": 4,
    "start_time": "2024-09-20T01:50:32.861Z"
   },
   {
    "duration": 5,
    "start_time": "2024-09-20T01:50:32.867Z"
   },
   {
    "duration": 5,
    "start_time": "2024-09-20T01:50:32.873Z"
   },
   {
    "duration": 34,
    "start_time": "2024-09-20T01:50:32.879Z"
   },
   {
    "duration": 4,
    "start_time": "2024-09-20T01:50:32.914Z"
   },
   {
    "duration": 3,
    "start_time": "2024-09-20T01:50:32.920Z"
   },
   {
    "duration": 4,
    "start_time": "2024-09-20T01:50:32.925Z"
   },
   {
    "duration": 99,
    "start_time": "2024-09-20T01:50:32.930Z"
   },
   {
    "duration": 11,
    "start_time": "2024-09-20T01:50:33.030Z"
   },
   {
    "duration": 4,
    "start_time": "2024-09-20T01:50:33.042Z"
   },
   {
    "duration": 5,
    "start_time": "2024-09-20T01:50:33.048Z"
   },
   {
    "duration": 73,
    "start_time": "2024-09-20T01:50:33.054Z"
   },
   {
    "duration": 5,
    "start_time": "2024-09-20T01:50:33.128Z"
   },
   {
    "duration": 4,
    "start_time": "2024-09-20T01:50:33.134Z"
   },
   {
    "duration": 4,
    "start_time": "2024-09-20T01:50:33.140Z"
   },
   {
    "duration": 4,
    "start_time": "2024-09-20T01:50:33.145Z"
   },
   {
    "duration": 4,
    "start_time": "2024-09-20T01:50:33.151Z"
   },
   {
    "duration": 4,
    "start_time": "2024-09-20T01:50:33.157Z"
   },
   {
    "duration": 50,
    "start_time": "2024-09-20T01:50:33.162Z"
   },
   {
    "duration": 5,
    "start_time": "2024-09-20T01:50:33.214Z"
   },
   {
    "duration": 45,
    "start_time": "2024-09-20T01:50:33.220Z"
   },
   {
    "duration": 6,
    "start_time": "2024-09-20T01:50:33.266Z"
   },
   {
    "duration": 5,
    "start_time": "2024-09-20T01:50:33.274Z"
   },
   {
    "duration": 68,
    "start_time": "2024-09-20T01:50:33.280Z"
   },
   {
    "duration": 3,
    "start_time": "2024-09-20T01:50:33.355Z"
   },
   {
    "duration": 5,
    "start_time": "2024-09-20T01:50:33.359Z"
   },
   {
    "duration": 6,
    "start_time": "2024-09-20T01:50:33.366Z"
   },
   {
    "duration": 3,
    "start_time": "2024-09-20T01:50:33.373Z"
   },
   {
    "duration": 4,
    "start_time": "2024-09-20T01:50:33.378Z"
   },
   {
    "duration": 38,
    "start_time": "2024-09-20T01:50:33.384Z"
   },
   {
    "duration": 5,
    "start_time": "2024-09-20T01:50:33.424Z"
   },
   {
    "duration": 5,
    "start_time": "2024-09-20T01:50:33.431Z"
   },
   {
    "duration": 41,
    "start_time": "2024-09-20T01:50:33.438Z"
   },
   {
    "duration": 33,
    "start_time": "2024-09-20T01:50:33.481Z"
   },
   {
    "duration": 5,
    "start_time": "2024-09-20T01:50:33.515Z"
   },
   {
    "duration": 4,
    "start_time": "2024-09-20T01:50:33.521Z"
   },
   {
    "duration": 3,
    "start_time": "2024-09-20T01:50:33.527Z"
   },
   {
    "duration": 4,
    "start_time": "2024-09-20T01:50:33.532Z"
   },
   {
    "duration": 3,
    "start_time": "2024-09-20T01:50:33.538Z"
   },
   {
    "duration": 9,
    "start_time": "2024-09-20T01:50:33.543Z"
   },
   {
    "duration": 13,
    "start_time": "2024-09-20T01:50:33.553Z"
   },
   {
    "duration": 5,
    "start_time": "2024-09-20T01:50:33.612Z"
   },
   {
    "duration": 2,
    "start_time": "2024-09-20T01:50:33.618Z"
   },
   {
    "duration": 6,
    "start_time": "2024-09-20T01:50:33.622Z"
   },
   {
    "duration": 4,
    "start_time": "2024-09-20T01:50:33.629Z"
   },
   {
    "duration": 2,
    "start_time": "2024-09-20T01:50:33.635Z"
   },
   {
    "duration": 15,
    "start_time": "2024-09-20T01:50:33.639Z"
   },
   {
    "duration": 11,
    "start_time": "2024-09-20T01:50:33.656Z"
   },
   {
    "duration": 7,
    "start_time": "2024-09-20T01:50:33.713Z"
   },
   {
    "duration": 5,
    "start_time": "2024-09-20T01:50:33.722Z"
   },
   {
    "duration": 4,
    "start_time": "2024-09-20T01:50:33.729Z"
   },
   {
    "duration": 4,
    "start_time": "2024-09-20T01:50:33.734Z"
   },
   {
    "duration": 76,
    "start_time": "2024-09-20T01:50:33.740Z"
   },
   {
    "duration": 41,
    "start_time": "2024-09-20T01:50:33.818Z"
   },
   {
    "duration": 53,
    "start_time": "2024-09-20T01:50:33.863Z"
   },
   {
    "duration": 6,
    "start_time": "2024-09-20T01:50:33.918Z"
   },
   {
    "duration": 18,
    "start_time": "2024-09-20T01:50:33.927Z"
   },
   {
    "duration": 8,
    "start_time": "2024-09-20T01:50:34.015Z"
   },
   {
    "duration": 3,
    "start_time": "2024-09-20T01:51:19.026Z"
   },
   {
    "duration": 10,
    "start_time": "2024-09-20T01:51:22.708Z"
   },
   {
    "duration": 355,
    "start_time": "2024-09-20T01:51:49.624Z"
   },
   {
    "duration": 20,
    "start_time": "2024-09-20T01:52:04.505Z"
   },
   {
    "duration": 4,
    "start_time": "2024-09-20T01:52:23.418Z"
   },
   {
    "duration": 2,
    "start_time": "2024-09-20T01:52:43.066Z"
   },
   {
    "duration": 37,
    "start_time": "2024-09-20T01:52:44.188Z"
   },
   {
    "duration": 3,
    "start_time": "2024-09-20T01:55:51.892Z"
   },
   {
    "duration": 47,
    "start_time": "2024-09-20T01:55:52.394Z"
   },
   {
    "duration": 4,
    "start_time": "2024-09-20T01:55:52.826Z"
   },
   {
    "duration": 5,
    "start_time": "2024-09-20T01:55:53.616Z"
   },
   {
    "duration": 5,
    "start_time": "2024-09-20T01:55:57.895Z"
   },
   {
    "duration": 112,
    "start_time": "2024-09-20T01:56:01.114Z"
   },
   {
    "duration": 4,
    "start_time": "2024-09-20T01:56:02.571Z"
   },
   {
    "duration": 29,
    "start_time": "2024-09-20T01:57:34.184Z"
   },
   {
    "duration": 2,
    "start_time": "2024-09-20T01:57:38.546Z"
   },
   {
    "duration": 434,
    "start_time": "2024-09-20T01:57:39.124Z"
   },
   {
    "duration": 3,
    "start_time": "2024-09-20T01:59:54.656Z"
   },
   {
    "duration": 4,
    "start_time": "2024-09-20T02:00:31.839Z"
   },
   {
    "duration": 6,
    "start_time": "2024-09-20T02:00:36.729Z"
   },
   {
    "duration": 15,
    "start_time": "2024-09-20T02:00:37.414Z"
   },
   {
    "duration": 4,
    "start_time": "2024-09-20T02:00:56.424Z"
   },
   {
    "duration": 6,
    "start_time": "2024-09-20T02:01:05.234Z"
   },
   {
    "duration": 5,
    "start_time": "2024-09-20T02:01:19.182Z"
   },
   {
    "duration": 4,
    "start_time": "2024-09-20T02:01:21.717Z"
   },
   {
    "duration": 4,
    "start_time": "2024-09-20T02:02:08.261Z"
   },
   {
    "duration": 4,
    "start_time": "2024-09-20T02:02:08.780Z"
   },
   {
    "duration": 2,
    "start_time": "2024-09-20T02:02:15.809Z"
   },
   {
    "duration": 288,
    "start_time": "2024-09-20T02:02:16.220Z"
   },
   {
    "duration": 31,
    "start_time": "2024-09-20T02:02:16.872Z"
   },
   {
    "duration": 3,
    "start_time": "2024-09-20T02:02:18.356Z"
   },
   {
    "duration": 8,
    "start_time": "2024-09-20T02:02:20.858Z"
   },
   {
    "duration": 2,
    "start_time": "2024-09-20T02:03:29.531Z"
   },
   {
    "duration": 5,
    "start_time": "2024-09-20T02:03:32.231Z"
   },
   {
    "duration": 45,
    "start_time": "2024-09-20T02:03:34.249Z"
   },
   {
    "duration": 4,
    "start_time": "2024-09-20T02:05:00.819Z"
   },
   {
    "duration": 32,
    "start_time": "2024-09-20T02:05:00.826Z"
   },
   {
    "duration": 3,
    "start_time": "2024-09-20T02:05:00.860Z"
   },
   {
    "duration": 9,
    "start_time": "2024-09-20T02:05:00.865Z"
   },
   {
    "duration": 4,
    "start_time": "2024-09-20T02:05:00.877Z"
   },
   {
    "duration": 41,
    "start_time": "2024-09-20T02:05:00.882Z"
   },
   {
    "duration": 10,
    "start_time": "2024-09-20T02:05:00.925Z"
   },
   {
    "duration": 12,
    "start_time": "2024-09-20T02:05:00.936Z"
   },
   {
    "duration": 3,
    "start_time": "2024-09-20T02:05:00.949Z"
   },
   {
    "duration": 10,
    "start_time": "2024-09-20T02:05:00.954Z"
   },
   {
    "duration": 3,
    "start_time": "2024-09-20T02:05:00.966Z"
   },
   {
    "duration": 47,
    "start_time": "2024-09-20T02:05:00.970Z"
   },
   {
    "duration": 5,
    "start_time": "2024-09-20T02:05:01.019Z"
   },
   {
    "duration": 14,
    "start_time": "2024-09-20T02:05:01.025Z"
   },
   {
    "duration": 6,
    "start_time": "2024-09-20T02:05:01.040Z"
   },
   {
    "duration": 9,
    "start_time": "2024-09-20T02:05:01.048Z"
   },
   {
    "duration": 14,
    "start_time": "2024-09-20T02:05:01.059Z"
   },
   {
    "duration": 50,
    "start_time": "2024-09-20T02:05:01.074Z"
   },
   {
    "duration": 10,
    "start_time": "2024-09-20T02:05:01.125Z"
   },
   {
    "duration": 4,
    "start_time": "2024-09-20T02:05:01.137Z"
   },
   {
    "duration": 3,
    "start_time": "2024-09-20T02:05:01.143Z"
   },
   {
    "duration": 3,
    "start_time": "2024-09-20T02:05:01.148Z"
   },
   {
    "duration": 3,
    "start_time": "2024-09-20T02:05:01.153Z"
   },
   {
    "duration": 4,
    "start_time": "2024-09-20T02:05:01.158Z"
   },
   {
    "duration": 6,
    "start_time": "2024-09-20T02:05:01.211Z"
   },
   {
    "duration": 8,
    "start_time": "2024-09-20T02:05:01.219Z"
   },
   {
    "duration": 5,
    "start_time": "2024-09-20T02:05:01.229Z"
   },
   {
    "duration": 75,
    "start_time": "2024-09-20T02:05:01.237Z"
   },
   {
    "duration": 4,
    "start_time": "2024-09-20T02:05:01.314Z"
   },
   {
    "duration": 4,
    "start_time": "2024-09-20T02:05:01.320Z"
   },
   {
    "duration": 4,
    "start_time": "2024-09-20T02:05:01.326Z"
   },
   {
    "duration": 4,
    "start_time": "2024-09-20T02:05:01.331Z"
   },
   {
    "duration": 5,
    "start_time": "2024-09-20T02:05:01.337Z"
   },
   {
    "duration": 4,
    "start_time": "2024-09-20T02:05:01.345Z"
   },
   {
    "duration": 7,
    "start_time": "2024-09-20T02:05:01.350Z"
   },
   {
    "duration": 5,
    "start_time": "2024-09-20T02:05:01.358Z"
   },
   {
    "duration": 47,
    "start_time": "2024-09-20T02:05:01.412Z"
   },
   {
    "duration": 4,
    "start_time": "2024-09-20T02:05:01.461Z"
   },
   {
    "duration": 4,
    "start_time": "2024-09-20T02:05:01.467Z"
   },
   {
    "duration": 39,
    "start_time": "2024-09-20T02:05:01.473Z"
   },
   {
    "duration": 6,
    "start_time": "2024-09-20T02:05:01.513Z"
   },
   {
    "duration": 8,
    "start_time": "2024-09-20T02:05:01.521Z"
   },
   {
    "duration": 3,
    "start_time": "2024-09-20T02:05:01.530Z"
   },
   {
    "duration": 3,
    "start_time": "2024-09-20T02:05:01.535Z"
   },
   {
    "duration": 2,
    "start_time": "2024-09-20T02:05:01.540Z"
   },
   {
    "duration": 5,
    "start_time": "2024-09-20T02:05:01.544Z"
   },
   {
    "duration": 89,
    "start_time": "2024-09-20T02:05:01.551Z"
   },
   {
    "duration": 5,
    "start_time": "2024-09-20T02:05:01.642Z"
   },
   {
    "duration": 4,
    "start_time": "2024-09-20T02:05:01.648Z"
   },
   {
    "duration": 5,
    "start_time": "2024-09-20T02:05:01.654Z"
   },
   {
    "duration": 3,
    "start_time": "2024-09-20T02:05:01.661Z"
   },
   {
    "duration": 79,
    "start_time": "2024-09-20T02:05:01.666Z"
   },
   {
    "duration": 5,
    "start_time": "2024-09-20T02:05:01.747Z"
   },
   {
    "duration": 5,
    "start_time": "2024-09-20T02:05:01.755Z"
   },
   {
    "duration": 64,
    "start_time": "2024-09-20T02:05:01.761Z"
   },
   {
    "duration": 7,
    "start_time": "2024-09-20T02:05:01.827Z"
   },
   {
    "duration": 3,
    "start_time": "2024-09-20T02:05:01.835Z"
   },
   {
    "duration": 4,
    "start_time": "2024-09-20T02:05:01.840Z"
   },
   {
    "duration": 5,
    "start_time": "2024-09-20T02:05:01.846Z"
   },
   {
    "duration": 6,
    "start_time": "2024-09-20T02:05:01.853Z"
   },
   {
    "duration": 4,
    "start_time": "2024-09-20T02:05:01.862Z"
   },
   {
    "duration": 4,
    "start_time": "2024-09-20T02:05:01.867Z"
   },
   {
    "duration": 39,
    "start_time": "2024-09-20T02:05:01.873Z"
   },
   {
    "duration": 4,
    "start_time": "2024-09-20T02:05:01.914Z"
   },
   {
    "duration": 73,
    "start_time": "2024-09-20T02:05:01.926Z"
   },
   {
    "duration": 11,
    "start_time": "2024-09-20T02:05:02.012Z"
   },
   {
    "duration": 5,
    "start_time": "2024-09-20T02:05:02.024Z"
   },
   {
    "duration": 5,
    "start_time": "2024-09-20T02:05:02.031Z"
   },
   {
    "duration": 42,
    "start_time": "2024-09-20T02:05:02.037Z"
   },
   {
    "duration": 5,
    "start_time": "2024-09-20T02:05:02.111Z"
   },
   {
    "duration": 4,
    "start_time": "2024-09-20T02:05:02.118Z"
   },
   {
    "duration": 4,
    "start_time": "2024-09-20T02:05:02.124Z"
   },
   {
    "duration": 4,
    "start_time": "2024-09-20T02:05:02.129Z"
   },
   {
    "duration": 5,
    "start_time": "2024-09-20T02:05:02.134Z"
   },
   {
    "duration": 4,
    "start_time": "2024-09-20T02:05:02.140Z"
   },
   {
    "duration": 7,
    "start_time": "2024-09-20T02:05:02.146Z"
   },
   {
    "duration": 5,
    "start_time": "2024-09-20T02:05:02.154Z"
   },
   {
    "duration": 91,
    "start_time": "2024-09-20T02:05:02.160Z"
   },
   {
    "duration": 5,
    "start_time": "2024-09-20T02:05:02.253Z"
   },
   {
    "duration": 6,
    "start_time": "2024-09-20T02:05:02.260Z"
   },
   {
    "duration": 67,
    "start_time": "2024-09-20T02:05:02.267Z"
   },
   {
    "duration": 3,
    "start_time": "2024-09-20T02:05:02.335Z"
   },
   {
    "duration": 4,
    "start_time": "2024-09-20T02:05:02.340Z"
   },
   {
    "duration": 4,
    "start_time": "2024-09-20T02:05:02.346Z"
   },
   {
    "duration": 3,
    "start_time": "2024-09-20T02:05:02.351Z"
   },
   {
    "duration": 5,
    "start_time": "2024-09-20T02:05:02.355Z"
   },
   {
    "duration": 12,
    "start_time": "2024-09-20T02:05:02.361Z"
   },
   {
    "duration": 39,
    "start_time": "2024-09-20T02:05:02.375Z"
   },
   {
    "duration": 5,
    "start_time": "2024-09-20T02:05:02.416Z"
   },
   {
    "duration": 40,
    "start_time": "2024-09-20T02:05:02.423Z"
   },
   {
    "duration": 5,
    "start_time": "2024-09-20T02:05:02.464Z"
   },
   {
    "duration": 4,
    "start_time": "2024-09-20T02:05:02.471Z"
   },
   {
    "duration": 37,
    "start_time": "2024-09-20T02:05:02.476Z"
   },
   {
    "duration": 4,
    "start_time": "2024-09-20T02:05:02.515Z"
   },
   {
    "duration": 4,
    "start_time": "2024-09-20T02:05:02.521Z"
   },
   {
    "duration": 4,
    "start_time": "2024-09-20T02:05:02.527Z"
   },
   {
    "duration": 10,
    "start_time": "2024-09-20T02:05:02.532Z"
   },
   {
    "duration": 12,
    "start_time": "2024-09-20T02:05:02.544Z"
   },
   {
    "duration": 4,
    "start_time": "2024-09-20T02:05:02.557Z"
   },
   {
    "duration": 3,
    "start_time": "2024-09-20T02:05:02.562Z"
   },
   {
    "duration": 6,
    "start_time": "2024-09-20T02:05:02.612Z"
   },
   {
    "duration": 4,
    "start_time": "2024-09-20T02:05:02.620Z"
   },
   {
    "duration": 2,
    "start_time": "2024-09-20T02:05:02.627Z"
   },
   {
    "duration": 14,
    "start_time": "2024-09-20T02:05:02.631Z"
   },
   {
    "duration": 4,
    "start_time": "2024-09-20T02:05:02.646Z"
   },
   {
    "duration": 62,
    "start_time": "2024-09-20T02:05:02.651Z"
   },
   {
    "duration": 7,
    "start_time": "2024-09-20T02:05:02.716Z"
   },
   {
    "duration": 5,
    "start_time": "2024-09-20T02:05:02.726Z"
   },
   {
    "duration": 79,
    "start_time": "2024-09-20T02:05:02.734Z"
   },
   {
    "duration": 9,
    "start_time": "2024-09-20T02:05:02.814Z"
   },
   {
    "duration": 33,
    "start_time": "2024-09-20T02:05:02.824Z"
   },
   {
    "duration": 5,
    "start_time": "2024-09-20T02:05:02.859Z"
   },
   {
    "duration": 46,
    "start_time": "2024-09-20T02:05:02.866Z"
   },
   {
    "duration": 122,
    "start_time": "2024-09-20T02:05:02.914Z"
   },
   {
    "duration": 2,
    "start_time": "2024-09-20T02:05:03.038Z"
   },
   {
    "duration": 46,
    "start_time": "2024-09-20T02:05:03.041Z"
   },
   {
    "duration": 4,
    "start_time": "2024-09-20T02:05:03.089Z"
   },
   {
    "duration": 5,
    "start_time": "2024-09-20T02:05:03.113Z"
   },
   {
    "duration": 5,
    "start_time": "2024-09-20T02:05:03.119Z"
   },
   {
    "duration": 134,
    "start_time": "2024-09-20T02:05:03.125Z"
   },
   {
    "duration": 4,
    "start_time": "2024-09-20T02:05:03.261Z"
   },
   {
    "duration": 3,
    "start_time": "2024-09-20T02:05:03.267Z"
   },
   {
    "duration": 450,
    "start_time": "2024-09-20T02:05:03.272Z"
   },
   {
    "duration": 3,
    "start_time": "2024-09-20T02:05:03.723Z"
   },
   {
    "duration": 4,
    "start_time": "2024-09-20T02:05:03.728Z"
   },
   {
    "duration": 5,
    "start_time": "2024-09-20T02:05:03.734Z"
   },
   {
    "duration": 4,
    "start_time": "2024-09-20T02:05:03.741Z"
   },
   {
    "duration": 4,
    "start_time": "2024-09-20T02:05:03.746Z"
   },
   {
    "duration": 4,
    "start_time": "2024-09-20T02:05:03.752Z"
   },
   {
    "duration": 4,
    "start_time": "2024-09-20T02:05:03.757Z"
   },
   {
    "duration": 3,
    "start_time": "2024-09-20T02:05:03.763Z"
   },
   {
    "duration": 327,
    "start_time": "2024-09-20T02:05:03.767Z"
   },
   {
    "duration": 35,
    "start_time": "2024-09-20T02:05:04.096Z"
   },
   {
    "duration": 3,
    "start_time": "2024-09-20T02:05:04.133Z"
   },
   {
    "duration": 9,
    "start_time": "2024-09-20T02:05:04.138Z"
   },
   {
    "duration": 3,
    "start_time": "2024-09-20T02:05:04.148Z"
   },
   {
    "duration": 5,
    "start_time": "2024-09-20T02:05:04.152Z"
   },
   {
    "duration": 74,
    "start_time": "2024-09-20T02:05:04.158Z"
   },
   {
    "duration": 4,
    "start_time": "2024-09-20T02:05:11.385Z"
   },
   {
    "duration": 24,
    "start_time": "2024-09-20T02:05:11.391Z"
   },
   {
    "duration": 3,
    "start_time": "2024-09-20T02:05:11.417Z"
   },
   {
    "duration": 8,
    "start_time": "2024-09-20T02:05:11.435Z"
   },
   {
    "duration": 5,
    "start_time": "2024-09-20T02:05:11.445Z"
   },
   {
    "duration": 17,
    "start_time": "2024-09-20T02:05:11.452Z"
   },
   {
    "duration": 8,
    "start_time": "2024-09-20T02:05:11.471Z"
   },
   {
    "duration": 32,
    "start_time": "2024-09-20T02:05:11.481Z"
   },
   {
    "duration": 3,
    "start_time": "2024-09-20T02:05:11.515Z"
   },
   {
    "duration": 14,
    "start_time": "2024-09-20T02:05:11.520Z"
   },
   {
    "duration": 3,
    "start_time": "2024-09-20T02:05:11.535Z"
   },
   {
    "duration": 10,
    "start_time": "2024-09-20T02:05:11.540Z"
   },
   {
    "duration": 4,
    "start_time": "2024-09-20T02:05:11.552Z"
   },
   {
    "duration": 13,
    "start_time": "2024-09-20T02:05:11.558Z"
   },
   {
    "duration": 44,
    "start_time": "2024-09-20T02:05:11.573Z"
   },
   {
    "duration": 10,
    "start_time": "2024-09-20T02:05:11.619Z"
   },
   {
    "duration": 16,
    "start_time": "2024-09-20T02:05:11.687Z"
   },
   {
    "duration": 17,
    "start_time": "2024-09-20T02:05:11.706Z"
   },
   {
    "duration": 11,
    "start_time": "2024-09-20T02:05:11.725Z"
   },
   {
    "duration": 5,
    "start_time": "2024-09-20T02:05:11.738Z"
   },
   {
    "duration": 4,
    "start_time": "2024-09-20T02:05:11.745Z"
   },
   {
    "duration": 4,
    "start_time": "2024-09-20T02:05:11.750Z"
   },
   {
    "duration": 3,
    "start_time": "2024-09-20T02:05:11.756Z"
   },
   {
    "duration": 5,
    "start_time": "2024-09-20T02:05:11.760Z"
   },
   {
    "duration": 4,
    "start_time": "2024-09-20T02:05:11.769Z"
   },
   {
    "duration": 7,
    "start_time": "2024-09-20T02:05:11.811Z"
   },
   {
    "duration": 5,
    "start_time": "2024-09-20T02:05:11.819Z"
   },
   {
    "duration": 45,
    "start_time": "2024-09-20T02:05:11.826Z"
   },
   {
    "duration": 8,
    "start_time": "2024-09-20T02:05:11.874Z"
   },
   {
    "duration": 4,
    "start_time": "2024-09-20T02:05:11.883Z"
   },
   {
    "duration": 4,
    "start_time": "2024-09-20T02:05:11.913Z"
   },
   {
    "duration": 4,
    "start_time": "2024-09-20T02:05:11.919Z"
   },
   {
    "duration": 4,
    "start_time": "2024-09-20T02:05:11.925Z"
   },
   {
    "duration": 4,
    "start_time": "2024-09-20T02:05:11.932Z"
   },
   {
    "duration": 6,
    "start_time": "2024-09-20T02:05:11.938Z"
   },
   {
    "duration": 6,
    "start_time": "2024-09-20T02:05:11.945Z"
   },
   {
    "duration": 90,
    "start_time": "2024-09-20T02:05:11.953Z"
   },
   {
    "duration": 4,
    "start_time": "2024-09-20T02:05:12.045Z"
   },
   {
    "duration": 4,
    "start_time": "2024-09-20T02:05:12.051Z"
   },
   {
    "duration": 5,
    "start_time": "2024-09-20T02:05:12.057Z"
   },
   {
    "duration": 6,
    "start_time": "2024-09-20T02:05:12.063Z"
   },
   {
    "duration": 45,
    "start_time": "2024-09-20T02:05:12.071Z"
   },
   {
    "duration": 3,
    "start_time": "2024-09-20T02:05:12.118Z"
   },
   {
    "duration": 4,
    "start_time": "2024-09-20T02:05:12.123Z"
   },
   {
    "duration": 3,
    "start_time": "2024-09-20T02:05:12.128Z"
   },
   {
    "duration": 5,
    "start_time": "2024-09-20T02:05:12.132Z"
   },
   {
    "duration": 45,
    "start_time": "2024-09-20T02:05:12.138Z"
   },
   {
    "duration": 4,
    "start_time": "2024-09-20T02:05:12.212Z"
   },
   {
    "duration": 4,
    "start_time": "2024-09-20T02:05:12.218Z"
   },
   {
    "duration": 5,
    "start_time": "2024-09-20T02:05:12.224Z"
   },
   {
    "duration": 4,
    "start_time": "2024-09-20T02:05:12.231Z"
   },
   {
    "duration": 78,
    "start_time": "2024-09-20T02:05:12.238Z"
   },
   {
    "duration": 4,
    "start_time": "2024-09-20T02:05:12.318Z"
   },
   {
    "duration": 5,
    "start_time": "2024-09-20T02:05:12.324Z"
   },
   {
    "duration": 41,
    "start_time": "2024-09-20T02:05:12.332Z"
   },
   {
    "duration": 6,
    "start_time": "2024-09-20T02:05:12.375Z"
   },
   {
    "duration": 29,
    "start_time": "2024-09-20T02:05:12.383Z"
   },
   {
    "duration": 5,
    "start_time": "2024-09-20T02:05:12.414Z"
   },
   {
    "duration": 5,
    "start_time": "2024-09-20T02:05:12.421Z"
   },
   {
    "duration": 4,
    "start_time": "2024-09-20T02:05:12.427Z"
   },
   {
    "duration": 4,
    "start_time": "2024-09-20T02:05:12.433Z"
   },
   {
    "duration": 4,
    "start_time": "2024-09-20T02:05:12.438Z"
   },
   {
    "duration": 3,
    "start_time": "2024-09-20T02:05:12.443Z"
   },
   {
    "duration": 5,
    "start_time": "2024-09-20T02:05:12.447Z"
   },
   {
    "duration": 120,
    "start_time": "2024-09-20T02:05:12.457Z"
   },
   {
    "duration": 35,
    "start_time": "2024-09-20T02:05:12.578Z"
   },
   {
    "duration": 5,
    "start_time": "2024-09-20T02:05:12.615Z"
   },
   {
    "duration": 5,
    "start_time": "2024-09-20T02:05:12.622Z"
   },
   {
    "duration": 42,
    "start_time": "2024-09-20T02:05:12.629Z"
   },
   {
    "duration": 38,
    "start_time": "2024-09-20T02:05:12.673Z"
   },
   {
    "duration": 4,
    "start_time": "2024-09-20T02:05:12.713Z"
   },
   {
    "duration": 5,
    "start_time": "2024-09-20T02:05:12.719Z"
   },
   {
    "duration": 5,
    "start_time": "2024-09-20T02:05:12.726Z"
   },
   {
    "duration": 5,
    "start_time": "2024-09-20T02:05:12.733Z"
   },
   {
    "duration": 5,
    "start_time": "2024-09-20T02:05:12.739Z"
   },
   {
    "duration": 7,
    "start_time": "2024-09-20T02:05:12.746Z"
   },
   {
    "duration": 4,
    "start_time": "2024-09-20T02:05:12.755Z"
   },
   {
    "duration": 90,
    "start_time": "2024-09-20T02:05:12.760Z"
   },
   {
    "duration": 5,
    "start_time": "2024-09-20T02:05:12.852Z"
   },
   {
    "duration": 5,
    "start_time": "2024-09-20T02:05:12.858Z"
   },
   {
    "duration": 69,
    "start_time": "2024-09-20T02:05:12.865Z"
   },
   {
    "duration": 3,
    "start_time": "2024-09-20T02:05:12.936Z"
   },
   {
    "duration": 5,
    "start_time": "2024-09-20T02:05:12.941Z"
   },
   {
    "duration": 4,
    "start_time": "2024-09-20T02:05:12.947Z"
   },
   {
    "duration": 3,
    "start_time": "2024-09-20T02:05:12.952Z"
   },
   {
    "duration": 4,
    "start_time": "2024-09-20T02:05:12.957Z"
   },
   {
    "duration": 13,
    "start_time": "2024-09-20T02:05:12.963Z"
   },
   {
    "duration": 7,
    "start_time": "2024-09-20T02:05:13.012Z"
   },
   {
    "duration": 5,
    "start_time": "2024-09-20T02:05:13.020Z"
   },
   {
    "duration": 42,
    "start_time": "2024-09-20T02:05:13.031Z"
   },
   {
    "duration": 4,
    "start_time": "2024-09-20T02:05:13.075Z"
   },
   {
    "duration": 4,
    "start_time": "2024-09-20T02:05:13.111Z"
   },
   {
    "duration": 5,
    "start_time": "2024-09-20T02:05:13.116Z"
   },
   {
    "duration": 4,
    "start_time": "2024-09-20T02:05:13.122Z"
   },
   {
    "duration": 4,
    "start_time": "2024-09-20T02:05:13.128Z"
   },
   {
    "duration": 4,
    "start_time": "2024-09-20T02:05:13.134Z"
   },
   {
    "duration": 9,
    "start_time": "2024-09-20T02:05:13.140Z"
   },
   {
    "duration": 12,
    "start_time": "2024-09-20T02:05:13.151Z"
   },
   {
    "duration": 49,
    "start_time": "2024-09-20T02:05:13.165Z"
   },
   {
    "duration": 2,
    "start_time": "2024-09-20T02:05:13.216Z"
   },
   {
    "duration": 5,
    "start_time": "2024-09-20T02:05:13.220Z"
   },
   {
    "duration": 5,
    "start_time": "2024-09-20T02:05:13.227Z"
   },
   {
    "duration": 2,
    "start_time": "2024-09-20T02:05:13.233Z"
   },
   {
    "duration": 14,
    "start_time": "2024-09-20T02:05:13.238Z"
   },
   {
    "duration": 6,
    "start_time": "2024-09-20T02:05:13.254Z"
   },
   {
    "duration": 52,
    "start_time": "2024-09-20T02:05:13.261Z"
   },
   {
    "duration": 4,
    "start_time": "2024-09-20T02:05:13.315Z"
   },
   {
    "duration": 2,
    "start_time": "2024-09-20T02:05:13.321Z"
   },
   {
    "duration": 6,
    "start_time": "2024-09-20T02:05:13.325Z"
   },
   {
    "duration": 82,
    "start_time": "2024-09-20T02:05:13.333Z"
   },
   {
    "duration": 33,
    "start_time": "2024-09-20T02:05:13.417Z"
   },
   {
    "duration": 4,
    "start_time": "2024-09-20T02:05:13.452Z"
   },
   {
    "duration": 2,
    "start_time": "2024-09-20T02:05:13.458Z"
   },
   {
    "duration": 120,
    "start_time": "2024-09-20T02:05:13.512Z"
   },
   {
    "duration": 3,
    "start_time": "2024-09-20T02:05:13.634Z"
   },
   {
    "duration": 49,
    "start_time": "2024-09-20T02:05:13.638Z"
   },
   {
    "duration": 4,
    "start_time": "2024-09-20T02:05:13.689Z"
   },
   {
    "duration": 4,
    "start_time": "2024-09-20T02:05:13.714Z"
   },
   {
    "duration": 4,
    "start_time": "2024-09-20T02:05:13.720Z"
   },
   {
    "duration": 130,
    "start_time": "2024-09-20T02:05:13.726Z"
   },
   {
    "duration": 3,
    "start_time": "2024-09-20T02:05:13.858Z"
   },
   {
    "duration": 3,
    "start_time": "2024-09-20T02:05:13.863Z"
   },
   {
    "duration": 444,
    "start_time": "2024-09-20T02:05:13.867Z"
   },
   {
    "duration": 3,
    "start_time": "2024-09-20T02:05:14.313Z"
   },
   {
    "duration": 5,
    "start_time": "2024-09-20T02:05:14.318Z"
   },
   {
    "duration": 5,
    "start_time": "2024-09-20T02:05:14.325Z"
   },
   {
    "duration": 3,
    "start_time": "2024-09-20T02:05:14.331Z"
   },
   {
    "duration": 4,
    "start_time": "2024-09-20T02:05:14.336Z"
   },
   {
    "duration": 4,
    "start_time": "2024-09-20T02:05:14.341Z"
   },
   {
    "duration": 4,
    "start_time": "2024-09-20T02:05:14.347Z"
   },
   {
    "duration": 3,
    "start_time": "2024-09-20T02:05:14.352Z"
   },
   {
    "duration": 320,
    "start_time": "2024-09-20T02:05:14.357Z"
   },
   {
    "duration": 42,
    "start_time": "2024-09-20T02:05:14.679Z"
   },
   {
    "duration": 4,
    "start_time": "2024-09-20T02:05:14.723Z"
   },
   {
    "duration": 9,
    "start_time": "2024-09-20T02:05:14.728Z"
   },
   {
    "duration": 2,
    "start_time": "2024-09-20T02:05:14.738Z"
   },
   {
    "duration": 5,
    "start_time": "2024-09-20T02:05:14.742Z"
   },
   {
    "duration": 63,
    "start_time": "2024-09-20T02:05:14.748Z"
   }
  ],
  "kernelspec": {
   "display_name": "Python 3 (ipykernel)",
   "language": "python",
   "name": "python3"
  },
  "language_info": {
   "codemirror_mode": {
    "name": "ipython",
    "version": 3
   },
   "file_extension": ".py",
   "mimetype": "text/x-python",
   "name": "python",
   "nbconvert_exporter": "python",
   "pygments_lexer": "ipython3",
   "version": "3.11.7"
  },
  "toc": {
   "base_numbering": 1,
   "nav_menu": {},
   "number_sections": true,
   "sideBar": true,
   "skip_h1_title": true,
   "title_cell": "Table of Contents",
   "title_sidebar": "Contents",
   "toc_cell": false,
   "toc_position": {},
   "toc_section_display": true,
   "toc_window_display": false
  }
 },
 "nbformat": 4,
 "nbformat_minor": 4
}
